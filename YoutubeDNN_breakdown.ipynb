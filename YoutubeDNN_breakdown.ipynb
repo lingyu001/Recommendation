{
  "nbformat": 4,
  "nbformat_minor": 0,
  "metadata": {
    "colab": {
      "provenance": [],
      "collapsed_sections": [],
      "authorship_tag": "ABX9TyNxgoZQI/PcLBL+plXp/Mmf",
      "include_colab_link": true
    },
    "kernelspec": {
      "name": "python3",
      "display_name": "Python 3"
    },
    "language_info": {
      "name": "python"
    }
  },
  "cells": [
    {
      "cell_type": "markdown",
      "metadata": {
        "id": "view-in-github",
        "colab_type": "text"
      },
      "source": [
        "<a href=\"https://colab.research.google.com/github/lingyu001/Recommendation/blob/master/YoutubeDNN_breakdown.ipynb\" target=\"_parent\"><img src=\"https://colab.research.google.com/assets/colab-badge.svg\" alt=\"Open In Colab\"/></a>"
      ]
    },
    {
      "cell_type": "code",
      "execution_count": 1,
      "metadata": {
        "colab": {
          "base_uri": "https://localhost:8080/"
        },
        "id": "8qgIPmHNLkS-",
        "outputId": "3deeb19b-2d34-4f7e-a073-1d00aaa20644"
      },
      "outputs": [
        {
          "output_type": "stream",
          "name": "stdout",
          "text": [
            "--2022-10-12 20:25:14--  http://files.grouplens.org/datasets/movielens/ml-1m.zip\n",
            "Resolving files.grouplens.org (files.grouplens.org)... 128.101.65.152\n",
            "Connecting to files.grouplens.org (files.grouplens.org)|128.101.65.152|:80... connected.\n",
            "HTTP request sent, awaiting response... 200 OK\n",
            "Length: 5917549 (5.6M) [application/zip]\n",
            "Saving to: ‘./ml-1m.zip’\n",
            "\n",
            "./ml-1m.zip         100%[===================>]   5.64M  31.6MB/s    in 0.2s    \n",
            "\n",
            "2022-10-12 20:25:14 (31.6 MB/s) - ‘./ml-1m.zip’ saved [5917549/5917549]\n",
            "\n",
            "--2022-10-12 20:25:15--  https://raw.githubusercontent.com/lingyu001/Recommendation/master/preprocess.py\n",
            "Resolving raw.githubusercontent.com (raw.githubusercontent.com)... 185.199.108.133, 185.199.109.133, 185.199.110.133, ...\n",
            "Connecting to raw.githubusercontent.com (raw.githubusercontent.com)|185.199.108.133|:443... connected.\n",
            "HTTP request sent, awaiting response... 200 OK\n",
            "Length: 6687 (6.5K) [text/plain]\n",
            "Saving to: ‘preprocess.py’\n",
            "\n",
            "preprocess.py       100%[===================>]   6.53K  --.-KB/s    in 0s      \n",
            "\n",
            "2022-10-12 20:25:15 (53.1 MB/s) - ‘preprocess.py’ saved [6687/6687]\n",
            "\n",
            "--2022-10-12 20:25:15--  https://raw.githubusercontent.com/lingyu001/Recommendation/master/model_utils.py\n",
            "Resolving raw.githubusercontent.com (raw.githubusercontent.com)... 185.199.108.133, 185.199.109.133, 185.199.110.133, ...\n",
            "Connecting to raw.githubusercontent.com (raw.githubusercontent.com)|185.199.108.133|:443... connected.\n",
            "HTTP request sent, awaiting response... 200 OK\n",
            "Length: 17409 (17K) [text/plain]\n",
            "Saving to: ‘model_utils.py’\n",
            "\n",
            "model_utils.py      100%[===================>]  17.00K  --.-KB/s    in 0.001s  \n",
            "\n",
            "2022-10-12 20:25:15 (24.5 MB/s) - ‘model_utils.py’ saved [17409/17409]\n",
            "\n",
            "Archive:  ml-1m.zip\n",
            "  inflating: ml-1m/movies.dat        \n",
            "  inflating: ml-1m/ratings.dat       \n",
            "  inflating: ml-1m/README            \n",
            "  inflating: ml-1m/users.dat         \n"
          ]
        }
      ],
      "source": [
        "! wget http://files.grouplens.org/datasets/movielens/ml-1m.zip -O ./ml-1m.zip\n",
        "! wget https://raw.githubusercontent.com/lingyu001/Recommendation/master/preprocess.py -O preprocess.py\n",
        "! wget https://raw.githubusercontent.com/lingyu001/Recommendation/master/model_utils.py -O model_utils.py\n",
        "! unzip -o ml-1m.zip "
      ]
    },
    {
      "cell_type": "code",
      "source": [
        "!pip install ipython-autotime\n",
        "%load_ext autotime"
      ],
      "metadata": {
        "colab": {
          "base_uri": "https://localhost:8080/"
        },
        "id": "xbiiR3KkFDix",
        "outputId": "1f322200-5144-4207-c358-5a56143d58cc"
      },
      "execution_count": 2,
      "outputs": [
        {
          "output_type": "stream",
          "name": "stdout",
          "text": [
            "Looking in indexes: https://pypi.org/simple, https://us-python.pkg.dev/colab-wheels/public/simple/\n",
            "Requirement already satisfied: ipython-autotime in /usr/local/lib/python3.7/dist-packages (0.3.1)\n",
            "Requirement already satisfied: ipython in /usr/local/lib/python3.7/dist-packages (from ipython-autotime) (7.9.0)\n",
            "Requirement already satisfied: prompt-toolkit<2.1.0,>=2.0.0 in /usr/local/lib/python3.7/dist-packages (from ipython->ipython-autotime) (2.0.10)\n",
            "Requirement already satisfied: pickleshare in /usr/local/lib/python3.7/dist-packages (from ipython->ipython-autotime) (0.7.5)\n",
            "Requirement already satisfied: pygments in /usr/local/lib/python3.7/dist-packages (from ipython->ipython-autotime) (2.6.1)\n",
            "Requirement already satisfied: setuptools>=18.5 in /usr/local/lib/python3.7/dist-packages (from ipython->ipython-autotime) (57.4.0)\n",
            "Requirement already satisfied: traitlets>=4.2 in /usr/local/lib/python3.7/dist-packages (from ipython->ipython-autotime) (5.1.1)\n",
            "Requirement already satisfied: pexpect in /usr/local/lib/python3.7/dist-packages (from ipython->ipython-autotime) (4.8.0)\n",
            "Requirement already satisfied: jedi>=0.10 in /usr/local/lib/python3.7/dist-packages (from ipython->ipython-autotime) (0.18.1)\n",
            "Requirement already satisfied: decorator in /usr/local/lib/python3.7/dist-packages (from ipython->ipython-autotime) (4.4.2)\n",
            "Requirement already satisfied: backcall in /usr/local/lib/python3.7/dist-packages (from ipython->ipython-autotime) (0.2.0)\n",
            "Requirement already satisfied: parso<0.9.0,>=0.8.0 in /usr/local/lib/python3.7/dist-packages (from jedi>=0.10->ipython->ipython-autotime) (0.8.3)\n",
            "Requirement already satisfied: six>=1.9.0 in /usr/local/lib/python3.7/dist-packages (from prompt-toolkit<2.1.0,>=2.0.0->ipython->ipython-autotime) (1.15.0)\n",
            "Requirement already satisfied: wcwidth in /usr/local/lib/python3.7/dist-packages (from prompt-toolkit<2.1.0,>=2.0.0->ipython->ipython-autotime) (0.2.5)\n",
            "Requirement already satisfied: ptyprocess>=0.5 in /usr/local/lib/python3.7/dist-packages (from pexpect->ipython->ipython-autotime) (0.7.0)\n",
            "time: 1.23 ms (started: 2022-10-12 20:25:22 +00:00)\n"
          ]
        }
      ]
    },
    {
      "cell_type": "code",
      "source": [
        "! pip install -q deepmatch"
      ],
      "metadata": {
        "id": "1MMP7wa9N4t6",
        "colab": {
          "base_uri": "https://localhost:8080/"
        },
        "outputId": "31e39323-b2b8-46a9-99cd-abf4c433f94f"
      },
      "execution_count": 3,
      "outputs": [
        {
          "output_type": "stream",
          "name": "stdout",
          "text": [
            "time: 6.29 s (started: 2022-10-12 20:25:22 +00:00)\n"
          ]
        }
      ]
    },
    {
      "cell_type": "code",
      "source": [
        "import pandas as pd\n",
        "from preprocess import gen_data_set, gen_model_input\n",
        "from sklearn.preprocessing import LabelEncoder\n",
        "from tensorflow.python.keras import backend as K\n",
        "from tensorflow.python.keras.models import Model\n",
        "from model_utils import DNN, EmbeddingIndex, NoMask, PoolingLayer, l2_normalize,\\\n",
        " reduce_mean, SampledSoftmaxLayer, get_item_embedding, sampledsoftmaxloss"
      ],
      "metadata": {
        "id": "gABip0B7LsHJ",
        "colab": {
          "base_uri": "https://localhost:8080/"
        },
        "outputId": "4cda198d-2e2b-456b-c331-cf5003ef62ab"
      },
      "execution_count": 4,
      "outputs": [
        {
          "output_type": "stream",
          "name": "stdout",
          "text": [
            "time: 8.08 s (started: 2022-10-12 20:25:28 +00:00)\n"
          ]
        }
      ]
    },
    {
      "cell_type": "code",
      "source": [
        "%load_ext autoreload\n",
        "%autoreload 2"
      ],
      "metadata": {
        "id": "DDQ87v8WA94s",
        "colab": {
          "base_uri": "https://localhost:8080/"
        },
        "outputId": "f359ce2a-31cc-49b3-bfd6-2ae753b0693f"
      },
      "execution_count": 5,
      "outputs": [
        {
          "output_type": "stream",
          "name": "stdout",
          "text": [
            "time: 104 ms (started: 2022-10-12 20:25:36 +00:00)\n"
          ]
        }
      ]
    },
    {
      "cell_type": "markdown",
      "source": [
        "# Data"
      ],
      "metadata": {
        "id": "xCJLpR8EQoBm"
      }
    },
    {
      "cell_type": "code",
      "source": [
        "data_path = \"./\"\n",
        "\n",
        "unames = ['user_id','gender','age','occupation','zip']\n",
        "user = pd.read_csv(data_path+'ml-1m/users.dat',sep='::',header=None,names=unames)\n"
      ],
      "metadata": {
        "colab": {
          "base_uri": "https://localhost:8080/"
        },
        "id": "OK705XlgQmHX",
        "outputId": "569df480-bfc3-441a-af94-bd6014e7efab"
      },
      "execution_count": 6,
      "outputs": [
        {
          "output_type": "stream",
          "name": "stdout",
          "text": [
            "time: 291 ms (started: 2022-10-12 20:25:36 +00:00)\n"
          ]
        },
        {
          "output_type": "stream",
          "name": "stderr",
          "text": [
            "/usr/local/lib/python3.7/dist-packages/pandas/util/_decorators.py:311: ParserWarning: Falling back to the 'python' engine because the 'c' engine does not support regex separators (separators > 1 char and different from '\\s+' are interpreted as regex); you can avoid this warning by specifying engine='python'.\n",
            "  return func(*args, **kwargs)\n"
          ]
        }
      ]
    },
    {
      "cell_type": "code",
      "source": [
        "user = user.sample(50, random_state=2022)"
      ],
      "metadata": {
        "colab": {
          "base_uri": "https://localhost:8080/"
        },
        "id": "QZdbnWcG3dTM",
        "outputId": "ce7d2114-1b77-4c6e-91fc-e1e3f793e05a"
      },
      "execution_count": 7,
      "outputs": [
        {
          "output_type": "stream",
          "name": "stdout",
          "text": [
            "time: 96 ms (started: 2022-10-12 20:25:36 +00:00)\n"
          ]
        }
      ]
    },
    {
      "cell_type": "code",
      "source": [
        "rnames = ['user_id','movie_id','rating','timestamp']\n",
        "ratings = pd.read_csv(data_path+'ml-1m/ratings.dat',sep='::',header=None,names=rnames)\n",
        "mnames = ['movie_id','title','genres']\n",
        "movies = pd.read_csv(data_path+'ml-1m/movies.dat',sep='::',header=None,names=mnames,encoding=\"unicode_escape\")\n",
        "movies['genres'] = list(map(lambda x: x.split('|')[0], movies['genres'].values))\n",
        "\n",
        "data = pd.merge(pd.merge(ratings,movies),user)#.iloc[:10000] # taking 1w\n",
        "print(data.shape)\n",
        "print(data.user_id.nunique())\n",
        "print(data.movie_id.nunique())\n",
        "data.head(2)"
      ],
      "metadata": {
        "colab": {
          "base_uri": "https://localhost:8080/",
          "height": 182
        },
        "id": "cHQJE6_G3bor",
        "outputId": "eb0f1fe9-05e2-4054-f946-86430f321eb7"
      },
      "execution_count": 8,
      "outputs": [
        {
          "output_type": "stream",
          "name": "stdout",
          "text": [
            "(8767, 10)\n",
            "50\n",
            "2088\n"
          ]
        },
        {
          "output_type": "execute_result",
          "data": {
            "text/plain": [
              "   user_id  movie_id  rating  timestamp  \\\n",
              "0     1204      1193       4  974843566   \n",
              "1     1204       661       3  974846590   \n",
              "\n",
              "                                    title     genres gender  age  occupation  \\\n",
              "0  One Flew Over the Cuckoo's Nest (1975)      Drama      M   25           7   \n",
              "1        James and the Giant Peach (1996)  Animation      M   25           7   \n",
              "\n",
              "     zip  \n",
              "0  95076  \n",
              "1  95076  "
            ],
            "text/html": [
              "\n",
              "  <div id=\"df-23795d0c-216b-4548-ac33-f207a1ea077c\">\n",
              "    <div class=\"colab-df-container\">\n",
              "      <div>\n",
              "<style scoped>\n",
              "    .dataframe tbody tr th:only-of-type {\n",
              "        vertical-align: middle;\n",
              "    }\n",
              "\n",
              "    .dataframe tbody tr th {\n",
              "        vertical-align: top;\n",
              "    }\n",
              "\n",
              "    .dataframe thead th {\n",
              "        text-align: right;\n",
              "    }\n",
              "</style>\n",
              "<table border=\"1\" class=\"dataframe\">\n",
              "  <thead>\n",
              "    <tr style=\"text-align: right;\">\n",
              "      <th></th>\n",
              "      <th>user_id</th>\n",
              "      <th>movie_id</th>\n",
              "      <th>rating</th>\n",
              "      <th>timestamp</th>\n",
              "      <th>title</th>\n",
              "      <th>genres</th>\n",
              "      <th>gender</th>\n",
              "      <th>age</th>\n",
              "      <th>occupation</th>\n",
              "      <th>zip</th>\n",
              "    </tr>\n",
              "  </thead>\n",
              "  <tbody>\n",
              "    <tr>\n",
              "      <th>0</th>\n",
              "      <td>1204</td>\n",
              "      <td>1193</td>\n",
              "      <td>4</td>\n",
              "      <td>974843566</td>\n",
              "      <td>One Flew Over the Cuckoo's Nest (1975)</td>\n",
              "      <td>Drama</td>\n",
              "      <td>M</td>\n",
              "      <td>25</td>\n",
              "      <td>7</td>\n",
              "      <td>95076</td>\n",
              "    </tr>\n",
              "    <tr>\n",
              "      <th>1</th>\n",
              "      <td>1204</td>\n",
              "      <td>661</td>\n",
              "      <td>3</td>\n",
              "      <td>974846590</td>\n",
              "      <td>James and the Giant Peach (1996)</td>\n",
              "      <td>Animation</td>\n",
              "      <td>M</td>\n",
              "      <td>25</td>\n",
              "      <td>7</td>\n",
              "      <td>95076</td>\n",
              "    </tr>\n",
              "  </tbody>\n",
              "</table>\n",
              "</div>\n",
              "      <button class=\"colab-df-convert\" onclick=\"convertToInteractive('df-23795d0c-216b-4548-ac33-f207a1ea077c')\"\n",
              "              title=\"Convert this dataframe to an interactive table.\"\n",
              "              style=\"display:none;\">\n",
              "        \n",
              "  <svg xmlns=\"http://www.w3.org/2000/svg\" height=\"24px\"viewBox=\"0 0 24 24\"\n",
              "       width=\"24px\">\n",
              "    <path d=\"M0 0h24v24H0V0z\" fill=\"none\"/>\n",
              "    <path d=\"M18.56 5.44l.94 2.06.94-2.06 2.06-.94-2.06-.94-.94-2.06-.94 2.06-2.06.94zm-11 1L8.5 8.5l.94-2.06 2.06-.94-2.06-.94L8.5 2.5l-.94 2.06-2.06.94zm10 10l.94 2.06.94-2.06 2.06-.94-2.06-.94-.94-2.06-.94 2.06-2.06.94z\"/><path d=\"M17.41 7.96l-1.37-1.37c-.4-.4-.92-.59-1.43-.59-.52 0-1.04.2-1.43.59L10.3 9.45l-7.72 7.72c-.78.78-.78 2.05 0 2.83L4 21.41c.39.39.9.59 1.41.59.51 0 1.02-.2 1.41-.59l7.78-7.78 2.81-2.81c.8-.78.8-2.07 0-2.86zM5.41 20L4 18.59l7.72-7.72 1.47 1.35L5.41 20z\"/>\n",
              "  </svg>\n",
              "      </button>\n",
              "      \n",
              "  <style>\n",
              "    .colab-df-container {\n",
              "      display:flex;\n",
              "      flex-wrap:wrap;\n",
              "      gap: 12px;\n",
              "    }\n",
              "\n",
              "    .colab-df-convert {\n",
              "      background-color: #E8F0FE;\n",
              "      border: none;\n",
              "      border-radius: 50%;\n",
              "      cursor: pointer;\n",
              "      display: none;\n",
              "      fill: #1967D2;\n",
              "      height: 32px;\n",
              "      padding: 0 0 0 0;\n",
              "      width: 32px;\n",
              "    }\n",
              "\n",
              "    .colab-df-convert:hover {\n",
              "      background-color: #E2EBFA;\n",
              "      box-shadow: 0px 1px 2px rgba(60, 64, 67, 0.3), 0px 1px 3px 1px rgba(60, 64, 67, 0.15);\n",
              "      fill: #174EA6;\n",
              "    }\n",
              "\n",
              "    [theme=dark] .colab-df-convert {\n",
              "      background-color: #3B4455;\n",
              "      fill: #D2E3FC;\n",
              "    }\n",
              "\n",
              "    [theme=dark] .colab-df-convert:hover {\n",
              "      background-color: #434B5C;\n",
              "      box-shadow: 0px 1px 3px 1px rgba(0, 0, 0, 0.15);\n",
              "      filter: drop-shadow(0px 1px 2px rgba(0, 0, 0, 0.3));\n",
              "      fill: #FFFFFF;\n",
              "    }\n",
              "  </style>\n",
              "\n",
              "      <script>\n",
              "        const buttonEl =\n",
              "          document.querySelector('#df-23795d0c-216b-4548-ac33-f207a1ea077c button.colab-df-convert');\n",
              "        buttonEl.style.display =\n",
              "          google.colab.kernel.accessAllowed ? 'block' : 'none';\n",
              "\n",
              "        async function convertToInteractive(key) {\n",
              "          const element = document.querySelector('#df-23795d0c-216b-4548-ac33-f207a1ea077c');\n",
              "          const dataTable =\n",
              "            await google.colab.kernel.invokeFunction('convertToInteractive',\n",
              "                                                     [key], {});\n",
              "          if (!dataTable) return;\n",
              "\n",
              "          const docLinkHtml = 'Like what you see? Visit the ' +\n",
              "            '<a target=\"_blank\" href=https://colab.research.google.com/notebooks/data_table.ipynb>data table notebook</a>'\n",
              "            + ' to learn more about interactive tables.';\n",
              "          element.innerHTML = '';\n",
              "          dataTable['output_type'] = 'display_data';\n",
              "          await google.colab.output.renderOutput(dataTable, element);\n",
              "          const docLink = document.createElement('div');\n",
              "          docLink.innerHTML = docLinkHtml;\n",
              "          element.appendChild(docLink);\n",
              "        }\n",
              "      </script>\n",
              "    </div>\n",
              "  </div>\n",
              "  "
            ]
          },
          "metadata": {},
          "execution_count": 8
        },
        {
          "output_type": "stream",
          "name": "stdout",
          "text": [
            "time: 12.1 s (started: 2022-10-12 20:25:37 +00:00)\n"
          ]
        }
      ]
    },
    {
      "cell_type": "markdown",
      "source": [
        "# Feature Engineering"
      ],
      "metadata": {
        "id": "9oeGJOW4REfl"
      }
    },
    {
      "cell_type": "code",
      "source": [
        "sparse_features = [\"movie_id\", \"user_id\",\n",
        "                    \"gender\", \"age\", \"occupation\", \"zip\", \"genres\"]\n",
        "\n",
        "SEQ_LEN = 50\n",
        "NUMBER_NEG_SAMPLE = 1 # used for generate 1:1 positive:negative samples\n"
      ],
      "metadata": {
        "id": "YX0vSmbeQv4i",
        "colab": {
          "base_uri": "https://localhost:8080/"
        },
        "outputId": "ce6049a2-2293-4869-f66c-8e61662789d7"
      },
      "execution_count": 16,
      "outputs": [
        {
          "output_type": "stream",
          "name": "stdout",
          "text": [
            "time: 46 ms (started: 2022-10-12 20:28:09 +00:00)\n"
          ]
        }
      ]
    },
    {
      "cell_type": "code",
      "source": [
        "feature_max_idx = {}\n",
        "for feature in sparse_features:\n",
        "    lbe = LabelEncoder()\n",
        "    data[feature] = lbe.fit_transform(data[feature]) + 1 # add one to all the encoded categories labels\n",
        "    feature_max_idx[feature] = data[feature].max() + 1"
      ],
      "metadata": {
        "id": "XV-0GzPzRIgO",
        "colab": {
          "base_uri": "https://localhost:8080/"
        },
        "outputId": "ccc03f2a-22f3-47db-b643-b31cdcb5cb8a"
      },
      "execution_count": 17,
      "outputs": [
        {
          "output_type": "stream",
          "name": "stdout",
          "text": [
            "time: 104 ms (started: 2022-10-12 20:28:09 +00:00)\n"
          ]
        }
      ]
    },
    {
      "cell_type": "code",
      "source": [
        "feature_max_idx"
      ],
      "metadata": {
        "colab": {
          "base_uri": "https://localhost:8080/"
        },
        "id": "gwa-Qg4BRQcG",
        "outputId": "26806e8b-63b0-4717-fa5d-59f8489df149"
      },
      "execution_count": 18,
      "outputs": [
        {
          "output_type": "execute_result",
          "data": {
            "text/plain": [
              "{'movie_id': 2089,\n",
              " 'user_id': 51,\n",
              " 'gender': 3,\n",
              " 'age': 7,\n",
              " 'occupation': 14,\n",
              " 'zip': 49,\n",
              " 'genres': 19}"
            ]
          },
          "metadata": {},
          "execution_count": 18
        },
        {
          "output_type": "stream",
          "name": "stdout",
          "text": [
            "time: 71.8 ms (started: 2022-10-12 20:28:09 +00:00)\n"
          ]
        }
      ]
    },
    {
      "cell_type": "code",
      "source": [
        "data.head(2)"
      ],
      "metadata": {
        "colab": {
          "base_uri": "https://localhost:8080/",
          "height": 129
        },
        "id": "swhinBDMRWiX",
        "outputId": "ef9283e7-4a98-456c-90ab-ff3d02adf205"
      },
      "execution_count": 19,
      "outputs": [
        {
          "output_type": "execute_result",
          "data": {
            "text/plain": [
              "   user_id  movie_id  rating  timestamp  \\\n",
              "0        8       610       4  974843566   \n",
              "1        8       368       3  974846590   \n",
              "\n",
              "                                    title  genres  gender  age  occupation  \\\n",
              "0  One Flew Over the Cuckoo's Nest (1975)       8       2    2           8   \n",
              "1        James and the Giant Peach (1996)       3       2    2           8   \n",
              "\n",
              "   zip  \n",
              "0   43  \n",
              "1   43  "
            ],
            "text/html": [
              "\n",
              "  <div id=\"df-679288da-701f-435d-8024-f86582c590d2\">\n",
              "    <div class=\"colab-df-container\">\n",
              "      <div>\n",
              "<style scoped>\n",
              "    .dataframe tbody tr th:only-of-type {\n",
              "        vertical-align: middle;\n",
              "    }\n",
              "\n",
              "    .dataframe tbody tr th {\n",
              "        vertical-align: top;\n",
              "    }\n",
              "\n",
              "    .dataframe thead th {\n",
              "        text-align: right;\n",
              "    }\n",
              "</style>\n",
              "<table border=\"1\" class=\"dataframe\">\n",
              "  <thead>\n",
              "    <tr style=\"text-align: right;\">\n",
              "      <th></th>\n",
              "      <th>user_id</th>\n",
              "      <th>movie_id</th>\n",
              "      <th>rating</th>\n",
              "      <th>timestamp</th>\n",
              "      <th>title</th>\n",
              "      <th>genres</th>\n",
              "      <th>gender</th>\n",
              "      <th>age</th>\n",
              "      <th>occupation</th>\n",
              "      <th>zip</th>\n",
              "    </tr>\n",
              "  </thead>\n",
              "  <tbody>\n",
              "    <tr>\n",
              "      <th>0</th>\n",
              "      <td>8</td>\n",
              "      <td>610</td>\n",
              "      <td>4</td>\n",
              "      <td>974843566</td>\n",
              "      <td>One Flew Over the Cuckoo's Nest (1975)</td>\n",
              "      <td>8</td>\n",
              "      <td>2</td>\n",
              "      <td>2</td>\n",
              "      <td>8</td>\n",
              "      <td>43</td>\n",
              "    </tr>\n",
              "    <tr>\n",
              "      <th>1</th>\n",
              "      <td>8</td>\n",
              "      <td>368</td>\n",
              "      <td>3</td>\n",
              "      <td>974846590</td>\n",
              "      <td>James and the Giant Peach (1996)</td>\n",
              "      <td>3</td>\n",
              "      <td>2</td>\n",
              "      <td>2</td>\n",
              "      <td>8</td>\n",
              "      <td>43</td>\n",
              "    </tr>\n",
              "  </tbody>\n",
              "</table>\n",
              "</div>\n",
              "      <button class=\"colab-df-convert\" onclick=\"convertToInteractive('df-679288da-701f-435d-8024-f86582c590d2')\"\n",
              "              title=\"Convert this dataframe to an interactive table.\"\n",
              "              style=\"display:none;\">\n",
              "        \n",
              "  <svg xmlns=\"http://www.w3.org/2000/svg\" height=\"24px\"viewBox=\"0 0 24 24\"\n",
              "       width=\"24px\">\n",
              "    <path d=\"M0 0h24v24H0V0z\" fill=\"none\"/>\n",
              "    <path d=\"M18.56 5.44l.94 2.06.94-2.06 2.06-.94-2.06-.94-.94-2.06-.94 2.06-2.06.94zm-11 1L8.5 8.5l.94-2.06 2.06-.94-2.06-.94L8.5 2.5l-.94 2.06-2.06.94zm10 10l.94 2.06.94-2.06 2.06-.94-2.06-.94-.94-2.06-.94 2.06-2.06.94z\"/><path d=\"M17.41 7.96l-1.37-1.37c-.4-.4-.92-.59-1.43-.59-.52 0-1.04.2-1.43.59L10.3 9.45l-7.72 7.72c-.78.78-.78 2.05 0 2.83L4 21.41c.39.39.9.59 1.41.59.51 0 1.02-.2 1.41-.59l7.78-7.78 2.81-2.81c.8-.78.8-2.07 0-2.86zM5.41 20L4 18.59l7.72-7.72 1.47 1.35L5.41 20z\"/>\n",
              "  </svg>\n",
              "      </button>\n",
              "      \n",
              "  <style>\n",
              "    .colab-df-container {\n",
              "      display:flex;\n",
              "      flex-wrap:wrap;\n",
              "      gap: 12px;\n",
              "    }\n",
              "\n",
              "    .colab-df-convert {\n",
              "      background-color: #E8F0FE;\n",
              "      border: none;\n",
              "      border-radius: 50%;\n",
              "      cursor: pointer;\n",
              "      display: none;\n",
              "      fill: #1967D2;\n",
              "      height: 32px;\n",
              "      padding: 0 0 0 0;\n",
              "      width: 32px;\n",
              "    }\n",
              "\n",
              "    .colab-df-convert:hover {\n",
              "      background-color: #E2EBFA;\n",
              "      box-shadow: 0px 1px 2px rgba(60, 64, 67, 0.3), 0px 1px 3px 1px rgba(60, 64, 67, 0.15);\n",
              "      fill: #174EA6;\n",
              "    }\n",
              "\n",
              "    [theme=dark] .colab-df-convert {\n",
              "      background-color: #3B4455;\n",
              "      fill: #D2E3FC;\n",
              "    }\n",
              "\n",
              "    [theme=dark] .colab-df-convert:hover {\n",
              "      background-color: #434B5C;\n",
              "      box-shadow: 0px 1px 3px 1px rgba(0, 0, 0, 0.15);\n",
              "      filter: drop-shadow(0px 1px 2px rgba(0, 0, 0, 0.3));\n",
              "      fill: #FFFFFF;\n",
              "    }\n",
              "  </style>\n",
              "\n",
              "      <script>\n",
              "        const buttonEl =\n",
              "          document.querySelector('#df-679288da-701f-435d-8024-f86582c590d2 button.colab-df-convert');\n",
              "        buttonEl.style.display =\n",
              "          google.colab.kernel.accessAllowed ? 'block' : 'none';\n",
              "\n",
              "        async function convertToInteractive(key) {\n",
              "          const element = document.querySelector('#df-679288da-701f-435d-8024-f86582c590d2');\n",
              "          const dataTable =\n",
              "            await google.colab.kernel.invokeFunction('convertToInteractive',\n",
              "                                                     [key], {});\n",
              "          if (!dataTable) return;\n",
              "\n",
              "          const docLinkHtml = 'Like what you see? Visit the ' +\n",
              "            '<a target=\"_blank\" href=https://colab.research.google.com/notebooks/data_table.ipynb>data table notebook</a>'\n",
              "            + ' to learn more about interactive tables.';\n",
              "          element.innerHTML = '';\n",
              "          dataTable['output_type'] = 'display_data';\n",
              "          await google.colab.output.renderOutput(dataTable, element);\n",
              "          const docLink = document.createElement('div');\n",
              "          docLink.innerHTML = docLinkHtml;\n",
              "          element.appendChild(docLink);\n",
              "        }\n",
              "      </script>\n",
              "    </div>\n",
              "  </div>\n",
              "  "
            ]
          },
          "metadata": {},
          "execution_count": 19
        },
        {
          "output_type": "stream",
          "name": "stdout",
          "text": [
            "time: 58.2 ms (started: 2022-10-12 20:28:10 +00:00)\n"
          ]
        }
      ]
    },
    {
      "cell_type": "code",
      "source": [
        "user_profile = data[[\"user_id\", \"gender\", \"age\", \"occupation\", \"zip\"]].drop_duplicates('user_id')\n",
        "user_profile.set_index(\"user_id\", inplace=True)\n",
        "item_profile = data[[\"movie_id\"]].drop_duplicates('movie_id')\n",
        "user_profile.shape, item_profile.shape"
      ],
      "metadata": {
        "colab": {
          "base_uri": "https://localhost:8080/"
        },
        "id": "a3bUcH_vRvRW",
        "outputId": "f6c2b069-c505-46f2-8948-e963d475e08e"
      },
      "execution_count": 20,
      "outputs": [
        {
          "output_type": "execute_result",
          "data": {
            "text/plain": [
              "((50, 4), (2088, 1))"
            ]
          },
          "metadata": {},
          "execution_count": 20
        },
        {
          "output_type": "stream",
          "name": "stdout",
          "text": [
            "time: 76.3 ms (started: 2022-10-12 20:28:10 +00:00)\n"
          ]
        }
      ]
    },
    {
      "cell_type": "code",
      "source": [
        "user_item_list = data.groupby(\"user_id\")['movie_id'].apply(list)\n",
        "user_item_list.head()"
      ],
      "metadata": {
        "colab": {
          "base_uri": "https://localhost:8080/"
        },
        "id": "ASZeh8yrR1Ld",
        "outputId": "a736fc1c-443c-4e32-c4ec-85945b81c650"
      },
      "execution_count": 21,
      "outputs": [
        {
          "output_type": "execute_result",
          "data": {
            "text/plain": [
              "user_id\n",
              "1    [613, 468, 1590, 1520, 1526, 1253, 679, 575, 8...\n",
              "2    [1832, 1275, 624, 1917, 826, 1558, 274, 1510, ...\n",
              "3    [679, 575, 148, 1080, 366, 1588, 624, 1917, 66...\n",
              "4    [307, 1558, 17, 574, 209, 1838, 763, 712, 593,...\n",
              "5    [1275, 613, 1531, 347, 1590, 1520, 1463, 1526,...\n",
              "Name: movie_id, dtype: object"
            ]
          },
          "metadata": {},
          "execution_count": 21
        },
        {
          "output_type": "stream",
          "name": "stdout",
          "text": [
            "time: 55.5 ms (started: 2022-10-12 20:28:10 +00:00)\n"
          ]
        }
      ]
    },
    {
      "cell_type": "code",
      "source": [
        "train_set, test_set = gen_data_set(data, SEQ_LEN, NUMBER_NEG_SAMPLE)"
      ],
      "metadata": {
        "colab": {
          "base_uri": "https://localhost:8080/"
        },
        "id": "DUsD59IHSR3d",
        "outputId": "7d72e1fb-df1a-4dcc-b4d6-160a916ae1e2"
      },
      "execution_count": 22,
      "outputs": [
        {
          "output_type": "stream",
          "name": "stderr",
          "text": [
            "100%|██████████| 50/50 [00:00<00:00, 326.50it/s]"
          ]
        },
        {
          "output_type": "stream",
          "name": "stdout",
          "text": [
            "8 8\n",
            "time: 242 ms (started: 2022-10-12 20:28:10 +00:00)\n"
          ]
        },
        {
          "output_type": "stream",
          "name": "stderr",
          "text": [
            "\n"
          ]
        }
      ]
    },
    {
      "cell_type": "code",
      "source": [
        "# reviewerID,  - user id\n",
        "# pos_list[i], - movie id\n",
        "# 1, - label y\n",
        "# hist[::-1][:seq_len], - most recent watched movie id list before watching this movie, up to 50\n",
        "# seq_len\n",
        "# genres_hist[::-1][:seq_len], - most recent watched movie's genres list before watching this movie, up to 50\n",
        "# genres_list[i], - this movie's genre\n",
        "# rating_list[i] - this movie's rating\n",
        "# train_set[12]"
      ],
      "metadata": {
        "id": "CwikHNU0Vyof",
        "colab": {
          "base_uri": "https://localhost:8080/"
        },
        "outputId": "23c160b6-2897-459a-f353-5d57cd76f191"
      },
      "execution_count": 23,
      "outputs": [
        {
          "output_type": "stream",
          "name": "stdout",
          "text": [
            "time: 54.4 ms (started: 2022-10-12 20:28:10 +00:00)\n"
          ]
        }
      ]
    },
    {
      "cell_type": "code",
      "source": [
        "train_model_input, train_label = gen_model_input(train_set, user_profile, SEQ_LEN)\n",
        "test_model_input, test_label = gen_model_input(test_set, user_profile, SEQ_LEN)\n",
        "train_label.shape, train_model_input['user_id'].shape, test_model_input['user_id'].shape, test_label.shape"
      ],
      "metadata": {
        "colab": {
          "base_uri": "https://localhost:8080/"
        },
        "id": "mMKXnWBnYtFE",
        "outputId": "d2ab8d85-3f42-4d2a-cdb5-16e7bfb4c87f"
      },
      "execution_count": 24,
      "outputs": [
        {
          "output_type": "stream",
          "name": "stderr",
          "text": [
            "/content/preprocess.py:86: VisibleDeprecationWarning: Creating an ndarray from ragged nested sequences (which is a list-or-tuple of lists-or-tuples-or ndarrays with different lengths or shapes) is deprecated. If you meant to do this, you must specify 'dtype=object' when creating the ndarray.\n",
            "  train_seq_genres = np.array([line[5] for line in train_set])\n"
          ]
        },
        {
          "output_type": "execute_result",
          "data": {
            "text/plain": [
              "((17334,), (17334,), (50,), (50,))"
            ]
          },
          "metadata": {},
          "execution_count": 24
        },
        {
          "output_type": "stream",
          "name": "stdout",
          "text": [
            "time: 386 ms (started: 2022-10-12 20:28:10 +00:00)\n"
          ]
        }
      ]
    },
    {
      "cell_type": "markdown",
      "source": [
        "# Create Embeddings"
      ],
      "metadata": {
        "id": "MmNE8kuEfXRE"
      }
    },
    {
      "cell_type": "code",
      "source": [
        "from collections import Counter\n",
        "train_counter = Counter(train_model_input['movie_id'])\n",
        "item_count = [train_counter.get(i,0) for i in range(feature_max_idx['movie_id'])]\n",
        "len(train_counter), type(train_counter), len(item_count)"
      ],
      "metadata": {
        "colab": {
          "base_uri": "https://localhost:8080/"
        },
        "id": "ljKC65_PzHRU",
        "outputId": "77bd85ce-41a0-4d43-ae86-e53153a5614e"
      },
      "execution_count": 25,
      "outputs": [
        {
          "output_type": "execute_result",
          "data": {
            "text/plain": [
              "(2088, collections.Counter, 2089)"
            ]
          },
          "metadata": {},
          "execution_count": 25
        },
        {
          "output_type": "stream",
          "name": "stdout",
          "text": [
            "time: 75.2 ms (started: 2022-10-12 20:28:11 +00:00)\n"
          ]
        }
      ]
    },
    {
      "cell_type": "code",
      "source": [
        "import tensorflow as tf\n",
        "from tensorflow.python.keras.initializers import RandomNormal, Zeros\n",
        "from tensorflow.python.keras.layers import Embedding, Input, Lambda\n",
        "from tensorflow.python.keras.regularizers import l2\n",
        "if tf.__version__ >= '2.0.0':\n",
        "    tf.compat.v1.disable_eager_execution()\n",
        "else:\n",
        "    K.set_learning_phase(True)"
      ],
      "metadata": {
        "id": "yV1mZ6yt6c0K",
        "colab": {
          "base_uri": "https://localhost:8080/"
        },
        "outputId": "e708ffdf-5453-4eaa-f1a4-75a301854a75"
      },
      "execution_count": 26,
      "outputs": [
        {
          "output_type": "stream",
          "name": "stdout",
          "text": [
            "time: 54 ms (started: 2022-10-12 20:28:11 +00:00)\n"
          ]
        }
      ]
    },
    {
      "cell_type": "markdown",
      "source": [
        "### Create Feature Embeddings\n",
        "\n"
      ],
      "metadata": {
        "id": "RFusDxnPixY4"
      }
    },
    {
      "cell_type": "code",
      "source": [
        "# item features\n",
        "item_feature_columns = ['movie_id']\n",
        "# User features\n",
        "user_feature_columns = ['user_id',\n",
        "                        \"gender\",\n",
        "                        \"age\",\n",
        "                        \"occupation\",\n",
        "                        \"zip\",\n",
        "                        'hist_movie_id',\n",
        "                        'hist_genres',\n",
        "                        'hist_len'\n",
        "                        ]\n"
      ],
      "metadata": {
        "id": "gVDJOjXTrNT-",
        "colab": {
          "base_uri": "https://localhost:8080/"
        },
        "outputId": "5d5a12e8-95ae-4025-a218-b6445f8e3b8d"
      },
      "execution_count": 27,
      "outputs": [
        {
          "output_type": "stream",
          "name": "stdout",
          "text": [
            "time: 57.2 ms (started: 2022-10-12 20:28:11 +00:00)\n"
          ]
        }
      ]
    },
    {
      "cell_type": "code",
      "source": [
        "feature_max_idx"
      ],
      "metadata": {
        "colab": {
          "base_uri": "https://localhost:8080/"
        },
        "id": "xUPZ56aqrWpa",
        "outputId": "3724ee8d-dcff-4bb9-818c-49e80244209b"
      },
      "execution_count": 28,
      "outputs": [
        {
          "output_type": "execute_result",
          "data": {
            "text/plain": [
              "{'movie_id': 2089,\n",
              " 'user_id': 51,\n",
              " 'gender': 3,\n",
              " 'age': 7,\n",
              " 'occupation': 14,\n",
              " 'zip': 49,\n",
              " 'genres': 19}"
            ]
          },
          "metadata": {},
          "execution_count": 28
        },
        {
          "output_type": "stream",
          "name": "stdout",
          "text": [
            "time: 62.5 ms (started: 2022-10-12 20:28:11 +00:00)\n"
          ]
        }
      ]
    },
    {
      "cell_type": "code",
      "source": [
        "user_sparse_feature_columns = user_feature_columns[0:5]\n",
        "user_sparse_feature_columns"
      ],
      "metadata": {
        "colab": {
          "base_uri": "https://localhost:8080/"
        },
        "id": "OdMHOjpeqvHT",
        "outputId": "8bb85090-6c79-4d3b-e865-be94c5346379"
      },
      "execution_count": 29,
      "outputs": [
        {
          "output_type": "execute_result",
          "data": {
            "text/plain": [
              "['user_id', 'gender', 'age', 'occupation', 'zip']"
            ]
          },
          "metadata": {},
          "execution_count": 29
        },
        {
          "output_type": "stream",
          "name": "stdout",
          "text": [
            "time: 60.2 ms (started: 2022-10-12 20:28:11 +00:00)\n"
          ]
        }
      ]
    },
    {
      "cell_type": "code",
      "source": [
        "user_seq_sparse_feature_columns = user_feature_columns[5:-1]\n",
        "user_seq_sparse_feature_columns "
      ],
      "metadata": {
        "colab": {
          "base_uri": "https://localhost:8080/"
        },
        "id": "6kvCDMmvrAOC",
        "outputId": "2e17b583-0460-4d63-b951-963181f514dc"
      },
      "execution_count": 30,
      "outputs": [
        {
          "output_type": "execute_result",
          "data": {
            "text/plain": [
              "['hist_movie_id', 'hist_genres']"
            ]
          },
          "metadata": {},
          "execution_count": 30
        },
        {
          "output_type": "stream",
          "name": "stdout",
          "text": [
            "time: 52.9 ms (started: 2022-10-12 20:28:11 +00:00)\n"
          ]
        }
      ]
    },
    {
      "cell_type": "code",
      "source": [
        "# embedding input and output specification\n",
        "embeddings_initializer = RandomNormal(mean=0.0, stddev=0.0001, seed=2020)\n",
        "embedding_dim = 32\n",
        "l2_reg = 1e-6\n",
        "# use a dict to collect embeddings\n",
        "sparse_embedding = {}"
      ],
      "metadata": {
        "id": "WzDyy6iNlYef",
        "colab": {
          "base_uri": "https://localhost:8080/"
        },
        "outputId": "c8eb6af1-d9cf-4a03-9427-84e659b0b180"
      },
      "execution_count": 31,
      "outputs": [
        {
          "output_type": "stream",
          "name": "stderr",
          "text": [
            "WARNING:tensorflow:From /usr/local/lib/python3.7/dist-packages/tensorflow/python/keras/initializers/initializers_v1.py:56: calling RandomNormal.__init__ (from tensorflow.python.ops.init_ops) with dtype is deprecated and will be removed in a future version.\n",
            "Instructions for updating:\n",
            "Call initializer instance with the dtype argument instead of passing it to the constructor\n"
          ]
        },
        {
          "output_type": "stream",
          "name": "stdout",
          "text": [
            "time: 60.7 ms (started: 2022-10-12 20:28:11 +00:00)\n"
          ]
        }
      ]
    },
    {
      "cell_type": "code",
      "source": [
        "# user embeddings\n",
        "for name in user_sparse_feature_columns: \n",
        "  emb = Embedding(\n",
        "      input_dim = feature_max_idx[name], \n",
        "      output_dim = 16,\n",
        "      embeddings_initializer=embeddings_initializer,\n",
        "      embeddings_regularizer=l2(l2_reg),\n",
        "      name='sparse_' + 'emb_' + name\n",
        "  )\n",
        "  emb.trainable = True\n",
        "  sparse_embedding[name] = emb\n",
        "for name in user_seq_sparse_feature_columns: \n",
        "   emb = Embedding(feature_max_idx[name[5:]], embedding_dim,\n",
        "                            embeddings_initializer=embeddings_initializer,\n",
        "                            embeddings_regularizer=l2(\n",
        "                                l2_reg),\n",
        "                            name='sparse_' + 'seq_emb_'  + name,\n",
        "                            mask_zero=False) # True\n",
        "   emb.trainable = True\n",
        "   sparse_embedding[name] = emb"
      ],
      "metadata": {
        "id": "zrIjOw2-lZ2P",
        "colab": {
          "base_uri": "https://localhost:8080/"
        },
        "outputId": "c64b487b-4185-4422-c0a1-0ab17b31db1b"
      },
      "execution_count": 32,
      "outputs": [
        {
          "output_type": "stream",
          "name": "stdout",
          "text": [
            "time: 59.3 ms (started: 2022-10-12 20:28:11 +00:00)\n"
          ]
        }
      ]
    },
    {
      "cell_type": "code",
      "source": [
        "# item embeddings\n",
        "item_feature_name = item_feature_columns[0] # only include item id \n",
        "emb = Embedding(\n",
        "      input_dim = feature_max_idx[item_feature_name], \n",
        "      output_dim = embedding_dim,\n",
        "      embeddings_initializer=embeddings_initializer,\n",
        "      embeddings_regularizer=l2(l2_reg),\n",
        "      name='sparse_' + 'emb_' + item_feature_name\n",
        "  )\n",
        "sparse_embedding[item_feature_name] = emb"
      ],
      "metadata": {
        "id": "5aJDL4b-r475",
        "colab": {
          "base_uri": "https://localhost:8080/"
        },
        "outputId": "1bfb01ed-f5fc-4a99-ccf0-96208988be54"
      },
      "execution_count": 33,
      "outputs": [
        {
          "output_type": "stream",
          "name": "stdout",
          "text": [
            "time: 50 ms (started: 2022-10-12 20:28:11 +00:00)\n"
          ]
        }
      ]
    },
    {
      "cell_type": "code",
      "source": [
        "sparse_embedding # include both user and item embedding layers"
      ],
      "metadata": {
        "colab": {
          "base_uri": "https://localhost:8080/"
        },
        "id": "9Ydd0xItnuZJ",
        "outputId": "fab0ff4c-76c8-4e65-97d4-7d4d1403e414"
      },
      "execution_count": 34,
      "outputs": [
        {
          "output_type": "execute_result",
          "data": {
            "text/plain": [
              "{'user_id': <tensorflow.python.keras.layers.embeddings.Embedding at 0x7f87c54a9310>,\n",
              " 'gender': <tensorflow.python.keras.layers.embeddings.Embedding at 0x7f87c52caad0>,\n",
              " 'age': <tensorflow.python.keras.layers.embeddings.Embedding at 0x7f87c5489c50>,\n",
              " 'occupation': <tensorflow.python.keras.layers.embeddings.Embedding at 0x7f87c5489e90>,\n",
              " 'zip': <tensorflow.python.keras.layers.embeddings.Embedding at 0x7f87c54df910>,\n",
              " 'hist_movie_id': <tensorflow.python.keras.layers.embeddings.Embedding at 0x7f87c54a9e90>,\n",
              " 'hist_genres': <tensorflow.python.keras.layers.embeddings.Embedding at 0x7f87c54876d0>,\n",
              " 'movie_id': <tensorflow.python.keras.layers.embeddings.Embedding at 0x7f87c54831d0>}"
            ]
          },
          "metadata": {},
          "execution_count": 34
        },
        {
          "output_type": "stream",
          "name": "stdout",
          "text": [
            "time: 58 ms (started: 2022-10-12 20:28:11 +00:00)\n"
          ]
        }
      ]
    },
    {
      "cell_type": "markdown",
      "source": [
        "# Create User Inputs\n"
      ],
      "metadata": {
        "id": "__RCtmE768yP"
      }
    },
    {
      "cell_type": "markdown",
      "source": [
        "## Create Inputs Tensor"
      ],
      "metadata": {
        "id": "yM6mg7fw-yZc"
      }
    },
    {
      "cell_type": "code",
      "source": [
        "# user features inputs\n",
        "from collections import OrderedDict\n",
        "user_features = OrderedDict()\n",
        "for name in user_sparse_feature_columns:\n",
        "  user_features[name] = Input(\n",
        "                shape=(1,), \n",
        "                name=name, \n",
        "                dtype=\"int32\"\n",
        "                )\n",
        "for name in user_seq_sparse_feature_columns:\n",
        "  user_features[name] = Input(\n",
        "                shape=(SEQ_LEN,), \n",
        "                name=name, \n",
        "                dtype=\"int32\"\n",
        "                )\n",
        "length_name = 'hist_len'\n",
        "if length_name in user_feature_columns:\n",
        "  user_features[length_name] = Input((1,), name=length_name, dtype='int32')"
      ],
      "metadata": {
        "id": "ntvMR9x5BtjF",
        "colab": {
          "base_uri": "https://localhost:8080/"
        },
        "outputId": "d3607421-122e-42f9-dbd5-f56485a4b585"
      },
      "execution_count": 35,
      "outputs": [
        {
          "output_type": "stream",
          "name": "stdout",
          "text": [
            "time: 82.9 ms (started: 2022-10-12 20:28:11 +00:00)\n"
          ]
        }
      ]
    },
    {
      "cell_type": "code",
      "source": [
        "user_inputs_list = list(user_features.values())\n",
        "user_inputs_list"
      ],
      "metadata": {
        "colab": {
          "base_uri": "https://localhost:8080/"
        },
        "id": "ZsM6mPDJkqVR",
        "outputId": "670c7b8e-8b7b-4bd9-a9aa-be28d5baa104"
      },
      "execution_count": 36,
      "outputs": [
        {
          "output_type": "execute_result",
          "data": {
            "text/plain": [
              "[<tf.Tensor 'user_id:0' shape=(None, 1) dtype=int32>,\n",
              " <tf.Tensor 'gender:0' shape=(None, 1) dtype=int32>,\n",
              " <tf.Tensor 'age:0' shape=(None, 1) dtype=int32>,\n",
              " <tf.Tensor 'occupation:0' shape=(None, 1) dtype=int32>,\n",
              " <tf.Tensor 'zip:0' shape=(None, 1) dtype=int32>,\n",
              " <tf.Tensor 'hist_movie_id:0' shape=(None, 50) dtype=int32>,\n",
              " <tf.Tensor 'hist_genres:0' shape=(None, 50) dtype=int32>,\n",
              " <tf.Tensor 'hist_len:0' shape=(None, 1) dtype=int32>]"
            ]
          },
          "metadata": {},
          "execution_count": 36
        },
        {
          "output_type": "stream",
          "name": "stdout",
          "text": [
            "time: 67.7 ms (started: 2022-10-12 20:28:11 +00:00)\n"
          ]
        }
      ]
    },
    {
      "cell_type": "code",
      "source": [
        "# item feature inputs\n",
        "item_features = OrderedDict()\n",
        "for name in item_feature_columns:\n",
        "  item_features[name] = Input(\n",
        "                shape=(1,), \n",
        "                name=name, \n",
        "                dtype=\"int32\"\n",
        "                )\n",
        "item_inputs_list = list(item_features.values())\n"
      ],
      "metadata": {
        "id": "at2VIiBv02WB",
        "colab": {
          "base_uri": "https://localhost:8080/"
        },
        "outputId": "6b68603b-6c72-4687-fa1a-660bd849576a"
      },
      "execution_count": 37,
      "outputs": [
        {
          "output_type": "stream",
          "name": "stdout",
          "text": [
            "time: 58.7 ms (started: 2022-10-12 20:28:11 +00:00)\n"
          ]
        }
      ]
    },
    {
      "cell_type": "code",
      "source": [
        "item_inputs_list"
      ],
      "metadata": {
        "colab": {
          "base_uri": "https://localhost:8080/"
        },
        "id": "w7BeQhIW1ZHB",
        "outputId": "a12dbd6e-97cb-4d39-cb9c-0bd2d3b30bc5"
      },
      "execution_count": 38,
      "outputs": [
        {
          "output_type": "execute_result",
          "data": {
            "text/plain": [
              "[<tf.Tensor 'movie_id:0' shape=(None, 1) dtype=int32>]"
            ]
          },
          "metadata": {},
          "execution_count": 38
        },
        {
          "output_type": "stream",
          "name": "stdout",
          "text": [
            "time: 57.5 ms (started: 2022-10-12 20:28:11 +00:00)\n"
          ]
        }
      ]
    },
    {
      "cell_type": "code",
      "source": [
        "item_inputs_list[0]"
      ],
      "metadata": {
        "colab": {
          "base_uri": "https://localhost:8080/"
        },
        "id": "PERMxe3MBJSI",
        "outputId": "f5967373-f09e-4d27-edf3-a02c723b632c"
      },
      "execution_count": 39,
      "outputs": [
        {
          "output_type": "execute_result",
          "data": {
            "text/plain": [
              "<tf.Tensor 'movie_id:0' shape=(None, 1) dtype=int32>"
            ]
          },
          "metadata": {},
          "execution_count": 39
        },
        {
          "output_type": "stream",
          "name": "stdout",
          "text": [
            "time: 74.7 ms (started: 2022-10-12 20:28:12 +00:00)\n"
          ]
        }
      ]
    },
    {
      "cell_type": "markdown",
      "source": [
        "## Embed Inputs"
      ],
      "metadata": {
        "id": "rkJg1GNFkJPD"
      }
    },
    {
      "cell_type": "code",
      "source": [
        "# Embed sparse inputs\n",
        "from collections import defaultdict\n",
        "user_sparse_embeded_input = defaultdict(list)\n",
        "\n",
        "for name in user_sparse_feature_columns:\n",
        "  user_sparse_embeded_input[name] = sparse_embedding[name](user_features[name])"
      ],
      "metadata": {
        "id": "gtkBZ6HLkHAf",
        "colab": {
          "base_uri": "https://localhost:8080/"
        },
        "outputId": "f505ad01-d10c-47a0-add1-2c7a7b14be75"
      },
      "execution_count": 40,
      "outputs": [
        {
          "output_type": "stream",
          "name": "stdout",
          "text": [
            "time: 113 ms (started: 2022-10-12 20:28:12 +00:00)\n"
          ]
        }
      ]
    },
    {
      "cell_type": "code",
      "source": [
        "# Embed the sequence sparse inputs, need to add pooling layer to it\n",
        "seq_embeded_dict = defaultdict(list)\n",
        "\n",
        "for name in user_seq_sparse_feature_columns:\n",
        "  seq_embeded_dict[name] = sparse_embedding[name](user_features[name])\n",
        "\n",
        "# from deepctr.layers.sequence import SequencePoolingLayer\n",
        "# for name in user_seq_sparse_feature_columns:\n",
        "#   user_seq_sparse_embeded_input[name] = SequencePoolingLayer('mean', supports_masking=False)([seq_embeded_dict[name], user_features[length_name]])\n",
        "\n",
        "from tensorflow.keras.layers import AveragePooling1D\n",
        "user_seq_sparse_embeded_input = defaultdict(list)\n",
        "for name in user_seq_sparse_feature_columns:\n",
        "  user_seq_sparse_embeded_input[name] = AveragePooling1D(pool_size=50, padding='valid')(seq_embeded_dict[name])"
      ],
      "metadata": {
        "id": "BgZyHLfAySUq",
        "colab": {
          "base_uri": "https://localhost:8080/"
        },
        "outputId": "4c4a1ab9-8b47-436e-d7c9-453675d24f49"
      },
      "execution_count": 41,
      "outputs": [
        {
          "output_type": "stream",
          "name": "stdout",
          "text": [
            "time: 93.8 ms (started: 2022-10-12 20:28:12 +00:00)\n"
          ]
        }
      ]
    },
    {
      "cell_type": "code",
      "source": [
        "# vec = AveragePooling1D(pool_size=50, strides = 50, padding='valid')\n",
        "# vec(seq_embeded_dict[name])"
      ],
      "metadata": {
        "id": "dGJ-aWJCeAyX",
        "colab": {
          "base_uri": "https://localhost:8080/"
        },
        "outputId": "7b874426-8cfa-4f12-fe78-630a2d6b7b13"
      },
      "execution_count": 42,
      "outputs": [
        {
          "output_type": "stream",
          "name": "stdout",
          "text": [
            "time: 59.2 ms (started: 2022-10-12 20:28:12 +00:00)\n"
          ]
        }
      ]
    },
    {
      "cell_type": "code",
      "source": [
        "# from deepctr.layers.sequence import SequencePoolingLayer\n",
        "# vec2 = SequencePoolingLayer('mean', supports_masking=False)\n",
        "# vec2([seq_embeded_dict[name], 35])"
      ],
      "metadata": {
        "id": "LAWoVKoueGNl",
        "colab": {
          "base_uri": "https://localhost:8080/"
        },
        "outputId": "49d417c7-46b7-4a67-c03c-faefd097ef0b"
      },
      "execution_count": 43,
      "outputs": [
        {
          "output_type": "stream",
          "name": "stdout",
          "text": [
            "time: 55.4 ms (started: 2022-10-12 20:28:12 +00:00)\n"
          ]
        }
      ]
    },
    {
      "cell_type": "code",
      "source": [
        "# combine embeded inputs into a list\n",
        "user_sparse_embedding_list = list(user_sparse_embeded_input.values()) + list(user_seq_sparse_embeded_input.values())\n",
        "user_sparse_embedding_list"
      ],
      "metadata": {
        "colab": {
          "base_uri": "https://localhost:8080/"
        },
        "id": "OIgRP5lyXbPZ",
        "outputId": "8070d3f6-c567-4259-dd3a-a2d83640af91"
      },
      "execution_count": 44,
      "outputs": [
        {
          "output_type": "execute_result",
          "data": {
            "text/plain": [
              "[<tf.Tensor 'sparse_emb_user_id/embedding_lookup/Identity_1:0' shape=(None, 1, 16) dtype=float32>,\n",
              " <tf.Tensor 'sparse_emb_gender/embedding_lookup/Identity_1:0' shape=(None, 1, 16) dtype=float32>,\n",
              " <tf.Tensor 'sparse_emb_age/embedding_lookup/Identity_1:0' shape=(None, 1, 16) dtype=float32>,\n",
              " <tf.Tensor 'sparse_emb_occupation/embedding_lookup/Identity_1:0' shape=(None, 1, 16) dtype=float32>,\n",
              " <tf.Tensor 'sparse_emb_zip/embedding_lookup/Identity_1:0' shape=(None, 1, 16) dtype=float32>,\n",
              " <tf.Tensor 'average_pooling1d/Squeeze:0' shape=(None, 1, 32) dtype=float32>,\n",
              " <tf.Tensor 'average_pooling1d_1/Squeeze:0' shape=(None, 1, 32) dtype=float32>]"
            ]
          },
          "metadata": {},
          "execution_count": 44
        },
        {
          "output_type": "stream",
          "name": "stdout",
          "text": [
            "time: 61 ms (started: 2022-10-12 20:28:12 +00:00)\n"
          ]
        }
      ]
    },
    {
      "cell_type": "markdown",
      "source": [
        "## Combine Embeded Input (User only)"
      ],
      "metadata": {
        "id": "6nIWKAyXpmRX"
      }
    },
    {
      "cell_type": "code",
      "source": [
        "from tensorflow.python.keras.layers import Flatten, Concatenate, Layer, Add"
      ],
      "metadata": {
        "id": "Gw7pkzWzppJ4",
        "colab": {
          "base_uri": "https://localhost:8080/"
        },
        "outputId": "dd1ebe3c-92d5-4a96-bc34-af0a4398912f"
      },
      "execution_count": 45,
      "outputs": [
        {
          "output_type": "stream",
          "name": "stdout",
          "text": [
            "time: 44.1 ms (started: 2022-10-12 20:28:12 +00:00)\n"
          ]
        }
      ]
    },
    {
      "cell_type": "code",
      "source": [
        "user_dnn_input = Flatten()(Concatenate(axis=2)(user_sparse_embedding_list))\n",
        "user_dnn_input"
      ],
      "metadata": {
        "id": "0ruiNeGZBOEy",
        "colab": {
          "base_uri": "https://localhost:8080/"
        },
        "outputId": "7141a69b-3986-49a0-da0f-af4b3e98b0b6"
      },
      "execution_count": 46,
      "outputs": [
        {
          "output_type": "execute_result",
          "data": {
            "text/plain": [
              "<tf.Tensor 'flatten/Reshape:0' shape=(None, 144) dtype=float32>"
            ]
          },
          "metadata": {},
          "execution_count": 46
        },
        {
          "output_type": "stream",
          "name": "stdout",
          "text": [
            "time: 70.1 ms (started: 2022-10-12 20:28:12 +00:00)\n"
          ]
        }
      ]
    },
    {
      "cell_type": "markdown",
      "source": [
        "# Sepecify Model Layers"
      ],
      "metadata": {
        "id": "00EvAK7d7v8H"
      }
    },
    {
      "cell_type": "markdown",
      "source": [
        "### User Layers"
      ],
      "metadata": {
        "id": "Nyz2GRXstx1u"
      }
    },
    {
      "cell_type": "code",
      "source": [
        "from tensorflow.keras import layers"
      ],
      "metadata": {
        "id": "5XEX8w1qfiWY",
        "colab": {
          "base_uri": "https://localhost:8080/"
        },
        "outputId": "bebf44b5-e177-4485-e00a-bbc091c6d973"
      },
      "execution_count": 47,
      "outputs": [
        {
          "output_type": "stream",
          "name": "stdout",
          "text": [
            "time: 55.8 ms (started: 2022-10-12 20:28:12 +00:00)\n"
          ]
        }
      ]
    },
    {
      "cell_type": "code",
      "source": [
        "user_dnn_hidden_units = (128,64, embedding_dim)\n",
        "dnn_activation='relu'\n",
        "dnn_use_bn=False\n",
        "l2_reg_dnn=0\n",
        "l2_reg_embedding=1e-6\n",
        "dnn_dropout=0\n",
        "output_activation='linear'\n",
        "temperature=0.05,\n",
        "# sampler_config=sampler_config\n",
        "seed=1024"
      ],
      "metadata": {
        "id": "jxUktp9cysj_",
        "colab": {
          "base_uri": "https://localhost:8080/"
        },
        "outputId": "9e04f139-ed39-4a6e-9ab7-05979175c217"
      },
      "execution_count": 48,
      "outputs": [
        {
          "output_type": "stream",
          "name": "stdout",
          "text": [
            "time: 57.5 ms (started: 2022-10-12 20:28:12 +00:00)\n"
          ]
        }
      ]
    },
    {
      "cell_type": "code",
      "source": [
        "from deepctr.layers import DNN"
      ],
      "metadata": {
        "id": "iLbtmoH17KAU",
        "colab": {
          "base_uri": "https://localhost:8080/"
        },
        "outputId": "c30f4020-7770-45e4-83cd-694185554aab"
      },
      "execution_count": 49,
      "outputs": [
        {
          "output_type": "stream",
          "name": "stdout",
          "text": [
            "time: 65.3 ms (started: 2022-10-12 20:28:12 +00:00)\n"
          ]
        }
      ]
    },
    {
      "cell_type": "code",
      "source": [
        "dnn_layers = DNN(hidden_units = user_dnn_hidden_units, \n",
        "                  activation='relu', \n",
        "                  l2_reg=0, \n",
        "                  dropout_rate=0, \n",
        "                  use_bn=False, \n",
        "                  output_activation='linear',\n",
        "                  seed=1024\n",
        "                  )\n",
        "\n"
      ],
      "metadata": {
        "id": "9S6JndR3KFx1",
        "colab": {
          "base_uri": "https://localhost:8080/"
        },
        "outputId": "d24feddc-a9e2-45fc-c3e0-fd0420b75ce2"
      },
      "execution_count": 50,
      "outputs": [
        {
          "output_type": "stream",
          "name": "stdout",
          "text": [
            "time: 72.5 ms (started: 2022-10-12 20:28:12 +00:00)\n"
          ]
        }
      ]
    },
    {
      "cell_type": "code",
      "source": [
        "user_dnn_output = dnn_layers(user_dnn_input)\n",
        "user_dnn_output = l2_normalize(user_dnn_output)\n",
        "user_dnn_output"
      ],
      "metadata": {
        "colab": {
          "base_uri": "https://localhost:8080/"
        },
        "id": "ZlEfVc4dLS0l",
        "outputId": "096ed577-0a4d-4545-e75d-0ae0f3682956"
      },
      "execution_count": 51,
      "outputs": [
        {
          "output_type": "execute_result",
          "data": {
            "text/plain": [
              "<tf.Tensor 'lambda/l2_normalize:0' shape=(None, 32) dtype=float32>"
            ]
          },
          "metadata": {},
          "execution_count": 51
        },
        {
          "output_type": "stream",
          "name": "stdout",
          "text": [
            "time: 676 ms (started: 2022-10-12 20:28:13 +00:00)\n"
          ]
        }
      ]
    },
    {
      "cell_type": "markdown",
      "source": [
        "### Item Layer"
      ],
      "metadata": {
        "id": "ae2bSV0TtnvG"
      }
    },
    {
      "cell_type": "code",
      "source": [
        "# Create item index tensor\n",
        "item_vocabulary_size = feature_max_idx[item_feature_name]\n",
        "item_index = EmbeddingIndex(list(range(item_vocabulary_size)))(item_features[item_feature_name])\n",
        "\n",
        "# embed the item index input\n",
        "item_embeding = sparse_embedding[item_feature_name]\n",
        "item_embedding_weight = NoMask()(item_embeding(item_index))\n",
        "pooling_item_embedding_weight = PoolingLayer()([item_embedding_weight])\n",
        "pooling_item_embedding_weight = l2_normalize(pooling_item_embedding_weight)\n",
        "pooling_item_embedding_weight\n"
      ],
      "metadata": {
        "id": "xdKJ9VEfCyXL",
        "colab": {
          "base_uri": "https://localhost:8080/"
        },
        "outputId": "3b9f1712-395c-410b-cd02-08832224e2eb"
      },
      "execution_count": 52,
      "outputs": [
        {
          "output_type": "execute_result",
          "data": {
            "text/plain": [
              "<tf.Tensor 'lambda_1/l2_normalize:0' shape=(2089, 32) dtype=float32>"
            ]
          },
          "metadata": {},
          "execution_count": 52
        },
        {
          "output_type": "stream",
          "name": "stdout",
          "text": [
            "time: 303 ms (started: 2022-10-12 20:28:13 +00:00)\n"
          ]
        }
      ]
    },
    {
      "cell_type": "code",
      "source": [
        "data[item_feature_name].min(), data[item_feature_name].max()"
      ],
      "metadata": {
        "colab": {
          "base_uri": "https://localhost:8080/"
        },
        "id": "FBzhLL_LKqRv",
        "outputId": "346cd81a-3a95-4563-d395-6f1a4dcc61fe"
      },
      "execution_count": 53,
      "outputs": [
        {
          "output_type": "execute_result",
          "data": {
            "text/plain": [
              "(1, 2088)"
            ]
          },
          "metadata": {},
          "execution_count": 53
        },
        {
          "output_type": "stream",
          "name": "stdout",
          "text": [
            "time: 73.7 ms (started: 2022-10-12 20:28:14 +00:00)\n"
          ]
        }
      ]
    },
    {
      "cell_type": "code",
      "source": [
        "item_vocabulary_size, item_index.eval(session=K.get_session()).shape"
      ],
      "metadata": {
        "colab": {
          "base_uri": "https://localhost:8080/"
        },
        "id": "17bOLUHUHOiQ",
        "outputId": "c2be170f-2ce4-4f5b-eab2-fc64ca6ff503"
      },
      "execution_count": 54,
      "outputs": [
        {
          "output_type": "execute_result",
          "data": {
            "text/plain": [
              "(2089, (2089,))"
            ]
          },
          "metadata": {},
          "execution_count": 54
        },
        {
          "output_type": "stream",
          "name": "stdout",
          "text": [
            "time: 139 ms (started: 2022-10-12 20:28:14 +00:00)\n"
          ]
        }
      ]
    },
    {
      "cell_type": "code",
      "source": [
        "item_embedding_weight.eval(session=K.get_session()).shape"
      ],
      "metadata": {
        "colab": {
          "base_uri": "https://localhost:8080/"
        },
        "id": "dK5T6qfxFmmr",
        "outputId": "c37440ba-e642-432b-a03c-fe61b78b6033"
      },
      "execution_count": 55,
      "outputs": [
        {
          "output_type": "execute_result",
          "data": {
            "text/plain": [
              "(2089, 32)"
            ]
          },
          "metadata": {},
          "execution_count": 55
        },
        {
          "output_type": "stream",
          "name": "stdout",
          "text": [
            "time: 62.5 ms (started: 2022-10-12 20:28:14 +00:00)\n"
          ]
        }
      ]
    },
    {
      "cell_type": "code",
      "source": [
        "pooling_item_embedding_weight.eval(session=K.get_session()).shape"
      ],
      "metadata": {
        "colab": {
          "base_uri": "https://localhost:8080/"
        },
        "id": "OjQ88lPaprh2",
        "outputId": "3fe14d88-c908-4cd1-8435-70d4763c408b"
      },
      "execution_count": 56,
      "outputs": [
        {
          "output_type": "execute_result",
          "data": {
            "text/plain": [
              "(2089, 32)"
            ]
          },
          "metadata": {},
          "execution_count": 56
        },
        {
          "output_type": "stream",
          "name": "stdout",
          "text": [
            "time: 75.4 ms (started: 2022-10-12 20:28:14 +00:00)\n"
          ]
        }
      ]
    },
    {
      "cell_type": "code",
      "source": [
        "# .eval(session=K.get_session())"
      ],
      "metadata": {
        "id": "dR7Lsgh0qy20",
        "colab": {
          "base_uri": "https://localhost:8080/"
        },
        "outputId": "77415b7d-d4db-4424-fa54-b097e1a6d678"
      },
      "execution_count": 57,
      "outputs": [
        {
          "output_type": "stream",
          "name": "stdout",
          "text": [
            "time: 62 ms (started: 2022-10-12 20:28:14 +00:00)\n"
          ]
        }
      ]
    },
    {
      "cell_type": "markdown",
      "source": [
        "### Output Layer"
      ],
      "metadata": {
        "id": "NaZ1ifdZ_LM5"
      }
    },
    {
      "cell_type": "code",
      "source": [
        "output = SampledSoftmaxLayer()(\n",
        "    [pooling_item_embedding_weight, user_dnn_output, item_features[item_feature_name]])\n",
        "output"
      ],
      "metadata": {
        "colab": {
          "base_uri": "https://localhost:8080/"
        },
        "id": "p_hbelWEowl8",
        "outputId": "d8192bb3-fdba-4d0a-cd00-3beb8e597c44"
      },
      "execution_count": 58,
      "outputs": [
        {
          "output_type": "execute_result",
          "data": {
            "text/plain": [
              "<tf.Tensor 'sampled_softmax_layer/ExpandDims:0' shape=(None, 1) dtype=float32>"
            ]
          },
          "metadata": {},
          "execution_count": 58
        },
        {
          "output_type": "stream",
          "name": "stdout",
          "text": [
            "time: 242 ms (started: 2022-10-12 20:28:14 +00:00)\n"
          ]
        }
      ]
    },
    {
      "cell_type": "code",
      "source": [
        "# from model_utils import SampledSoftmaxLayer\n",
        "# sf = SampledSoftmaxLayer()"
      ],
      "metadata": {
        "id": "4JSxRTWtFAnG",
        "colab": {
          "base_uri": "https://localhost:8080/"
        },
        "outputId": "1d4a92b3-80eb-4c4d-86b3-d9b5b8a45156"
      },
      "execution_count": 59,
      "outputs": [
        {
          "output_type": "stream",
          "name": "stdout",
          "text": [
            "time: 56 ms (started: 2022-10-12 20:28:14 +00:00)\n"
          ]
        }
      ]
    },
    {
      "cell_type": "code",
      "source": [
        "# from tensorflow.keras.layers import Softmax\n",
        "# sf2 = Softmax()\n",
        "# import numpy as np\n",
        "# x = np.asarray([[1., 2., 1.]])\n",
        "# x\n",
        "# sf2(x).eval(session=K.get_session())"
      ],
      "metadata": {
        "id": "5AFUGxVwFA--",
        "colab": {
          "base_uri": "https://localhost:8080/"
        },
        "outputId": "e5c59a60-eaa8-49cd-fafb-12f1bdcb02d2"
      },
      "execution_count": 60,
      "outputs": [
        {
          "output_type": "stream",
          "name": "stdout",
          "text": [
            "time: 54.1 ms (started: 2022-10-12 20:28:14 +00:00)\n"
          ]
        }
      ]
    },
    {
      "cell_type": "code",
      "source": [
        "pooling_item_embedding_weight"
      ],
      "metadata": {
        "colab": {
          "base_uri": "https://localhost:8080/"
        },
        "id": "sWLljvPiA8rI",
        "outputId": "b769713d-2e5e-47de-d370-d0509db66b3e"
      },
      "execution_count": 61,
      "outputs": [
        {
          "output_type": "execute_result",
          "data": {
            "text/plain": [
              "<tf.Tensor 'lambda_1/l2_normalize:0' shape=(2089, 32) dtype=float32>"
            ]
          },
          "metadata": {},
          "execution_count": 61
        },
        {
          "output_type": "stream",
          "name": "stdout",
          "text": [
            "time: 60.4 ms (started: 2022-10-12 20:28:14 +00:00)\n"
          ]
        }
      ]
    },
    {
      "cell_type": "code",
      "source": [
        "user_dnn_output"
      ],
      "metadata": {
        "colab": {
          "base_uri": "https://localhost:8080/"
        },
        "id": "uNGi4K9YAwcw",
        "outputId": "566773f9-16a7-4347-e1d8-1bb4ab796506"
      },
      "execution_count": 62,
      "outputs": [
        {
          "output_type": "execute_result",
          "data": {
            "text/plain": [
              "<tf.Tensor 'lambda/l2_normalize:0' shape=(None, 32) dtype=float32>"
            ]
          },
          "metadata": {},
          "execution_count": 62
        },
        {
          "output_type": "stream",
          "name": "stdout",
          "text": [
            "time: 64.3 ms (started: 2022-10-12 20:28:15 +00:00)\n"
          ]
        }
      ]
    },
    {
      "cell_type": "code",
      "source": [
        "item_features[item_feature_name]"
      ],
      "metadata": {
        "colab": {
          "base_uri": "https://localhost:8080/"
        },
        "id": "xZdpyC-JA-NH",
        "outputId": "e438830d-cd98-4ddd-a765-5d5b48387565"
      },
      "execution_count": 63,
      "outputs": [
        {
          "output_type": "execute_result",
          "data": {
            "text/plain": [
              "<tf.Tensor 'movie_id:0' shape=(None, 1) dtype=int32>"
            ]
          },
          "metadata": {},
          "execution_count": 63
        },
        {
          "output_type": "stream",
          "name": "stdout",
          "text": [
            "time: 69.3 ms (started: 2022-10-12 20:28:15 +00:00)\n"
          ]
        }
      ]
    },
    {
      "cell_type": "code",
      "source": [],
      "metadata": {
        "id": "N2TNc6sNBvbR",
        "colab": {
          "base_uri": "https://localhost:8080/"
        },
        "outputId": "82d0a536-4921-4943-e53a-eee102c04fc0"
      },
      "execution_count": 63,
      "outputs": [
        {
          "output_type": "stream",
          "name": "stdout",
          "text": [
            "time: 79.8 ms (started: 2022-10-12 20:28:15 +00:00)\n"
          ]
        }
      ]
    },
    {
      "cell_type": "markdown",
      "source": [
        "## Build Model"
      ],
      "metadata": {
        "id": "7pxt5AhhABQv"
      }
    },
    {
      "cell_type": "code",
      "source": [
        "from tensorflow.python.keras.models import Model"
      ],
      "metadata": {
        "id": "NxwwfP8M_c-X",
        "colab": {
          "base_uri": "https://localhost:8080/"
        },
        "outputId": "105ce4d4-2987-4e47-f7fe-1d7450f06772"
      },
      "execution_count": 64,
      "outputs": [
        {
          "output_type": "stream",
          "name": "stdout",
          "text": [
            "time: 63.9 ms (started: 2022-10-12 20:28:15 +00:00)\n"
          ]
        }
      ]
    },
    {
      "cell_type": "code",
      "source": [
        "model = Model(inputs=user_inputs_list + item_inputs_list, outputs=output)\n",
        "\n",
        "model.__setattr__(\"user_input\", user_inputs_list)\n",
        "model.__setattr__(\"user_embedding\", user_dnn_output)\n",
        "\n",
        "model.__setattr__(\"item_input\", item_inputs_list)\n",
        "model.__setattr__(\"item_embedding\",\n",
        "                  get_item_embedding(pooling_item_embedding_weight, item_features[item_feature_name]))\n"
      ],
      "metadata": {
        "id": "05qTGyqg_HYD",
        "colab": {
          "base_uri": "https://localhost:8080/"
        },
        "outputId": "66fc5b0d-0cec-495f-ea7c-6c6d1dc08177"
      },
      "execution_count": 65,
      "outputs": [
        {
          "output_type": "stream",
          "name": "stdout",
          "text": [
            "time: 67.3 ms (started: 2022-10-12 20:28:15 +00:00)\n"
          ]
        }
      ]
    },
    {
      "cell_type": "markdown",
      "source": [
        "# Model Compile and Training"
      ],
      "metadata": {
        "id": "iZTKXy9MsFGM"
      }
    },
    {
      "cell_type": "code",
      "source": [
        "model.compile(optimizer=\"adam\", loss=sampledsoftmaxloss)"
      ],
      "metadata": {
        "id": "LN4h_A0-BcE7",
        "colab": {
          "base_uri": "https://localhost:8080/"
        },
        "outputId": "b64fb213-e6f8-42bc-a62f-fff05b530bc3"
      },
      "execution_count": 66,
      "outputs": [
        {
          "output_type": "stream",
          "name": "stdout",
          "text": [
            "time: 224 ms (started: 2022-10-12 20:28:15 +00:00)\n"
          ]
        }
      ]
    },
    {
      "cell_type": "code",
      "source": [
        "history = model.fit(train_model_input, train_label,\n",
        "                    batch_size=512, epochs=100, verbose=1, validation_split=0.0, )"
      ],
      "metadata": {
        "colab": {
          "base_uri": "https://localhost:8080/"
        },
        "id": "UNzun5zFpqZi",
        "outputId": "7f709a09-659d-4782-e6fd-622bec5aa20e"
      },
      "execution_count": 67,
      "outputs": [
        {
          "output_type": "stream",
          "name": "stdout",
          "text": [
            "Train on 17334 samples\n",
            "Epoch 1/100\n",
            "17334/17334 [==============================] - 2s 87us/sample - loss: 5.1611\n",
            "Epoch 2/100\n",
            "17334/17334 [==============================] - 1s 58us/sample - loss: 5.1005\n",
            "Epoch 3/100\n",
            "17334/17334 [==============================] - 1s 56us/sample - loss: 5.0940\n",
            "Epoch 4/100\n",
            "17334/17334 [==============================] - 1s 56us/sample - loss: 5.0504\n",
            "Epoch 5/100\n",
            "17334/17334 [==============================] - 1s 57us/sample - loss: 5.0441\n",
            "Epoch 6/100\n",
            "17334/17334 [==============================] - 1s 56us/sample - loss: 5.0430\n",
            "Epoch 7/100\n",
            "17334/17334 [==============================] - 1s 58us/sample - loss: 5.0044\n",
            "Epoch 8/100\n",
            "17334/17334 [==============================] - 1s 57us/sample - loss: 4.9707\n",
            "Epoch 9/100\n",
            "17334/17334 [==============================] - 1s 55us/sample - loss: 4.9404\n",
            "Epoch 10/100\n",
            "17334/17334 [==============================] - 1s 53us/sample - loss: 4.9038\n",
            "Epoch 11/100\n",
            "17334/17334 [==============================] - 1s 56us/sample - loss: 4.9073\n",
            "Epoch 12/100\n",
            "17334/17334 [==============================] - 1s 55us/sample - loss: 4.9025\n",
            "Epoch 13/100\n",
            "17334/17334 [==============================] - 1s 53us/sample - loss: 4.8852\n",
            "Epoch 14/100\n",
            "17334/17334 [==============================] - 1s 53us/sample - loss: 4.8670\n",
            "Epoch 15/100\n",
            "17334/17334 [==============================] - 1s 53us/sample - loss: 4.8373\n",
            "Epoch 16/100\n",
            "17334/17334 [==============================] - 1s 54us/sample - loss: 4.8282\n",
            "Epoch 17/100\n",
            "17334/17334 [==============================] - 1s 54us/sample - loss: 4.8217\n",
            "Epoch 18/100\n",
            "17334/17334 [==============================] - 1s 54us/sample - loss: 4.8103\n",
            "Epoch 19/100\n",
            "17334/17334 [==============================] - 1s 53us/sample - loss: 4.7997\n",
            "Epoch 20/100\n",
            "17334/17334 [==============================] - 1s 52us/sample - loss: 4.7941\n",
            "Epoch 21/100\n",
            "17334/17334 [==============================] - 1s 52us/sample - loss: 4.7905\n",
            "Epoch 22/100\n",
            "17334/17334 [==============================] - 1s 51us/sample - loss: 4.8009\n",
            "Epoch 23/100\n",
            "17334/17334 [==============================] - 1s 54us/sample - loss: 4.7734\n",
            "Epoch 24/100\n",
            "17334/17334 [==============================] - 1s 51us/sample - loss: 4.7588\n",
            "Epoch 25/100\n",
            "17334/17334 [==============================] - 1s 51us/sample - loss: 4.7584\n",
            "Epoch 26/100\n",
            "17334/17334 [==============================] - 1s 53us/sample - loss: 4.7618\n",
            "Epoch 27/100\n",
            "17334/17334 [==============================] - 1s 51us/sample - loss: 4.7651\n",
            "Epoch 28/100\n",
            "17334/17334 [==============================] - 1s 53us/sample - loss: 4.7408\n",
            "Epoch 29/100\n",
            "17334/17334 [==============================] - 1s 53us/sample - loss: 4.7357\n",
            "Epoch 30/100\n",
            "17334/17334 [==============================] - 1s 55us/sample - loss: 4.7528\n",
            "Epoch 31/100\n",
            "17334/17334 [==============================] - 1s 52us/sample - loss: 4.7471\n",
            "Epoch 32/100\n",
            "17334/17334 [==============================] - 1s 55us/sample - loss: 4.7279\n",
            "Epoch 33/100\n",
            "17334/17334 [==============================] - 1s 52us/sample - loss: 4.7367\n",
            "Epoch 34/100\n",
            "17334/17334 [==============================] - 1s 51us/sample - loss: 4.7204\n",
            "Epoch 35/100\n",
            "17334/17334 [==============================] - 1s 53us/sample - loss: 4.7264\n",
            "Epoch 36/100\n",
            "17334/17334 [==============================] - 1s 53us/sample - loss: 4.7198\n",
            "Epoch 37/100\n",
            "17334/17334 [==============================] - 1s 55us/sample - loss: 4.7077\n",
            "Epoch 38/100\n",
            "17334/17334 [==============================] - 1s 54us/sample - loss: 4.7171\n",
            "Epoch 39/100\n",
            "17334/17334 [==============================] - 1s 54us/sample - loss: 4.6920\n",
            "Epoch 40/100\n",
            "17334/17334 [==============================] - 1s 55us/sample - loss: 4.6997\n",
            "Epoch 41/100\n",
            "17334/17334 [==============================] - 1s 53us/sample - loss: 4.7069\n",
            "Epoch 42/100\n",
            "17334/17334 [==============================] - 1s 54us/sample - loss: 4.6773\n",
            "Epoch 43/100\n",
            "17334/17334 [==============================] - 1s 55us/sample - loss: 4.7045\n",
            "Epoch 44/100\n",
            "17334/17334 [==============================] - 1s 52us/sample - loss: 4.6844\n",
            "Epoch 45/100\n",
            "17334/17334 [==============================] - 1s 51us/sample - loss: 4.6876\n",
            "Epoch 46/100\n",
            "17334/17334 [==============================] - 1s 50us/sample - loss: 4.6905\n",
            "Epoch 47/100\n",
            "17334/17334 [==============================] - 1s 53us/sample - loss: 4.6952\n",
            "Epoch 48/100\n",
            "17334/17334 [==============================] - 1s 48us/sample - loss: 4.6778\n",
            "Epoch 49/100\n",
            "17334/17334 [==============================] - 1s 50us/sample - loss: 4.6714\n",
            "Epoch 50/100\n",
            "17334/17334 [==============================] - 1s 52us/sample - loss: 4.6667\n",
            "Epoch 51/100\n",
            "17334/17334 [==============================] - 1s 52us/sample - loss: 4.6848\n",
            "Epoch 52/100\n",
            "17334/17334 [==============================] - 1s 52us/sample - loss: 4.6715\n",
            "Epoch 53/100\n",
            "17334/17334 [==============================] - 1s 50us/sample - loss: 4.6815\n",
            "Epoch 54/100\n",
            "17334/17334 [==============================] - 1s 54us/sample - loss: 4.6758\n",
            "Epoch 55/100\n",
            "17334/17334 [==============================] - 1s 52us/sample - loss: 4.6715\n",
            "Epoch 56/100\n",
            "17334/17334 [==============================] - 1s 52us/sample - loss: 4.6822\n",
            "Epoch 57/100\n",
            "17334/17334 [==============================] - 1s 53us/sample - loss: 4.6726\n",
            "Epoch 58/100\n",
            "17334/17334 [==============================] - 1s 52us/sample - loss: 4.6714\n",
            "Epoch 59/100\n",
            "17334/17334 [==============================] - 1s 50us/sample - loss: 4.6687\n",
            "Epoch 60/100\n",
            "17334/17334 [==============================] - 1s 51us/sample - loss: 4.6741\n",
            "Epoch 61/100\n",
            "17334/17334 [==============================] - 1s 54us/sample - loss: 4.6592\n",
            "Epoch 62/100\n",
            "17334/17334 [==============================] - 1s 50us/sample - loss: 4.6554\n",
            "Epoch 63/100\n",
            "17334/17334 [==============================] - 1s 52us/sample - loss: 4.6663\n",
            "Epoch 64/100\n",
            "17334/17334 [==============================] - 1s 53us/sample - loss: 4.6305\n",
            "Epoch 65/100\n",
            "17334/17334 [==============================] - 1s 52us/sample - loss: 4.6758\n",
            "Epoch 66/100\n",
            "17334/17334 [==============================] - 1s 51us/sample - loss: 4.6655\n",
            "Epoch 67/100\n",
            "17334/17334 [==============================] - 1s 50us/sample - loss: 4.6497\n",
            "Epoch 68/100\n",
            "17334/17334 [==============================] - 1s 52us/sample - loss: 4.6492\n",
            "Epoch 69/100\n",
            "17334/17334 [==============================] - 1s 53us/sample - loss: 4.6426\n",
            "Epoch 70/100\n",
            "17334/17334 [==============================] - 1s 51us/sample - loss: 4.6531\n",
            "Epoch 71/100\n",
            "17334/17334 [==============================] - 1s 55us/sample - loss: 4.6271\n",
            "Epoch 72/100\n",
            "17334/17334 [==============================] - 1s 54us/sample - loss: 4.6370\n",
            "Epoch 73/100\n",
            "17334/17334 [==============================] - 1s 51us/sample - loss: 4.6550\n",
            "Epoch 74/100\n",
            "17334/17334 [==============================] - 1s 55us/sample - loss: 4.6445\n",
            "Epoch 75/100\n",
            "17334/17334 [==============================] - 1s 51us/sample - loss: 4.6377\n",
            "Epoch 76/100\n",
            "17334/17334 [==============================] - 1s 52us/sample - loss: 4.6431\n",
            "Epoch 77/100\n",
            "17334/17334 [==============================] - 1s 53us/sample - loss: 4.6410\n",
            "Epoch 78/100\n",
            "17334/17334 [==============================] - 1s 53us/sample - loss: 4.6335\n",
            "Epoch 79/100\n",
            "17334/17334 [==============================] - 1s 52us/sample - loss: 4.6267\n",
            "Epoch 80/100\n",
            "17334/17334 [==============================] - 1s 50us/sample - loss: 4.6224\n",
            "Epoch 81/100\n",
            "17334/17334 [==============================] - 1s 51us/sample - loss: 4.6336\n",
            "Epoch 82/100\n",
            "17334/17334 [==============================] - 1s 50us/sample - loss: 4.6275\n",
            "Epoch 83/100\n",
            "17334/17334 [==============================] - 1s 51us/sample - loss: 4.6334\n",
            "Epoch 84/100\n",
            "17334/17334 [==============================] - 1s 53us/sample - loss: 4.6207\n",
            "Epoch 85/100\n",
            "17334/17334 [==============================] - 1s 51us/sample - loss: 4.6254\n",
            "Epoch 86/100\n",
            "17334/17334 [==============================] - 1s 51us/sample - loss: 4.6176\n",
            "Epoch 87/100\n",
            "17334/17334 [==============================] - 1s 51us/sample - loss: 4.6252\n",
            "Epoch 88/100\n",
            "17334/17334 [==============================] - 1s 53us/sample - loss: 4.6249\n",
            "Epoch 89/100\n",
            "17334/17334 [==============================] - 1s 55us/sample - loss: 4.6274\n",
            "Epoch 90/100\n",
            "17334/17334 [==============================] - 1s 52us/sample - loss: 4.6167\n",
            "Epoch 91/100\n",
            "17334/17334 [==============================] - 1s 53us/sample - loss: 4.6171\n",
            "Epoch 92/100\n",
            "17334/17334 [==============================] - 1s 52us/sample - loss: 4.6221\n",
            "Epoch 93/100\n",
            "17334/17334 [==============================] - 1s 51us/sample - loss: 4.6268\n",
            "Epoch 94/100\n",
            "17334/17334 [==============================] - 1s 50us/sample - loss: 4.6220\n",
            "Epoch 95/100\n",
            "17334/17334 [==============================] - 1s 49us/sample - loss: 4.6024\n",
            "Epoch 96/100\n",
            "17334/17334 [==============================] - 1s 50us/sample - loss: 4.6220\n",
            "Epoch 97/100\n",
            "17334/17334 [==============================] - 1s 50us/sample - loss: 4.6131\n",
            "Epoch 98/100\n",
            "17334/17334 [==============================] - 1s 51us/sample - loss: 4.5975\n",
            "Epoch 99/100\n",
            "17334/17334 [==============================] - 1s 52us/sample - loss: 4.6151\n",
            "Epoch 100/100\n",
            "17334/17334 [==============================] - 1s 50us/sample - loss: 4.6100\n",
            "time: 1min 33s (started: 2022-10-12 20:28:15 +00:00)\n"
          ]
        }
      ]
    },
    {
      "cell_type": "code",
      "source": [
        "res = model.predict(train_model_input)"
      ],
      "metadata": {
        "id": "OjNP2MhJB9l4",
        "colab": {
          "base_uri": "https://localhost:8080/"
        },
        "outputId": "33c99dfb-da88-4aea-94d7-6e693023dcf3"
      },
      "execution_count": 68,
      "outputs": [
        {
          "output_type": "stream",
          "name": "stderr",
          "text": [
            "/usr/local/lib/python3.7/dist-packages/tensorflow/python/keras/engine/training.py:2458: UserWarning: `Model.state_updates` will be removed in a future version. This property should not be used in TensorFlow 2.0, as `updates` are applied automatically.\n",
            "  warnings.warn('`Model.state_updates` will be removed in a future version. '\n"
          ]
        },
        {
          "output_type": "stream",
          "name": "stdout",
          "text": [
            "time: 2.88 s (started: 2022-10-12 20:29:49 +00:00)\n"
          ]
        }
      ]
    },
    {
      "cell_type": "markdown",
      "source": [
        "# Predict: Generate Item and User Embeddings"
      ],
      "metadata": {
        "id": "lMvl2SKUATXr"
      }
    },
    {
      "cell_type": "code",
      "source": [
        "# 4. Generate user features for testing and full item features for retrieval\n",
        "test_user_model_input = test_model_input\n",
        "all_item_model_input = {\"movie_id\": item_profile['movie_id'].values,}\n",
        "\n",
        "user_embedding_model = Model(inputs=model.user_input, outputs=model.user_embedding)\n",
        "item_embedding_model = Model(inputs=model.item_input, outputs=model.item_embedding)\n",
        "\n",
        "user_embs = user_embedding_model.predict(test_user_model_input, batch_size=2 ** 12)\n",
        "# user_embs = user_embs[:, i, :]  # i in [0,k_max) if MIND\n",
        "item_embs = item_embedding_model.predict(all_item_model_input, batch_size=2 ** 12)\n",
        "\n",
        "print(user_embs.shape)\n",
        "print(item_embs.shape)"
      ],
      "metadata": {
        "colab": {
          "base_uri": "https://localhost:8080/"
        },
        "id": "Xdc56egCskOs",
        "outputId": "83b86476-a776-4273-e8dd-683304b919ad"
      },
      "execution_count": 69,
      "outputs": [
        {
          "output_type": "stream",
          "name": "stdout",
          "text": [
            "(50, 32)\n",
            "(2088, 32)\n",
            "time: 231 ms (started: 2022-10-12 20:29:51 +00:00)\n"
          ]
        }
      ]
    },
    {
      "cell_type": "code",
      "source": [
        "item_profile['movie_id'].values.min(), item_profile['movie_id'].values.max()"
      ],
      "metadata": {
        "colab": {
          "base_uri": "https://localhost:8080/"
        },
        "id": "0KBrNf65-tU-",
        "outputId": "b9d60c4f-1444-4a79-d0d0-45223e2125e2"
      },
      "execution_count": 70,
      "outputs": [
        {
          "output_type": "execute_result",
          "data": {
            "text/plain": [
              "(1, 2088)"
            ]
          },
          "metadata": {},
          "execution_count": 70
        },
        {
          "output_type": "stream",
          "name": "stdout",
          "text": [
            "time: 58.8 ms (started: 2022-10-12 20:29:52 +00:00)\n"
          ]
        }
      ]
    },
    {
      "cell_type": "code",
      "source": [
        "item_embs.shape"
      ],
      "metadata": {
        "colab": {
          "base_uri": "https://localhost:8080/"
        },
        "id": "BreZQUBb-lgf",
        "outputId": "1cc4a777-3a4d-4031-a973-4b5fda64ecc4"
      },
      "execution_count": 71,
      "outputs": [
        {
          "output_type": "execute_result",
          "data": {
            "text/plain": [
              "(2088, 32)"
            ]
          },
          "metadata": {},
          "execution_count": 71
        },
        {
          "output_type": "stream",
          "name": "stdout",
          "text": [
            "time: 57.1 ms (started: 2022-10-12 20:29:52 +00:00)\n"
          ]
        }
      ]
    },
    {
      "cell_type": "code",
      "source": [
        "user_embs.shape, item_embs.shape"
      ],
      "metadata": {
        "colab": {
          "base_uri": "https://localhost:8080/"
        },
        "id": "vl-obJoXsHb_",
        "outputId": "71d2fc1b-8a01-468b-ab68-b4e321c736b6"
      },
      "execution_count": 72,
      "outputs": [
        {
          "output_type": "execute_result",
          "data": {
            "text/plain": [
              "((50, 32), (2088, 32))"
            ]
          },
          "metadata": {},
          "execution_count": 72
        },
        {
          "output_type": "stream",
          "name": "stdout",
          "text": [
            "time: 55.4 ms (started: 2022-10-12 20:29:52 +00:00)\n"
          ]
        }
      ]
    },
    {
      "cell_type": "code",
      "source": [
        "prob_matrix = user_embs.dot(item_embs.T)"
      ],
      "metadata": {
        "colab": {
          "base_uri": "https://localhost:8080/"
        },
        "id": "_oMTECJSvizM",
        "outputId": "491fe391-b6c1-4995-83bf-c5963d71faa6"
      },
      "execution_count": 73,
      "outputs": [
        {
          "output_type": "stream",
          "name": "stdout",
          "text": [
            "time: 54.8 ms (started: 2022-10-12 20:29:52 +00:00)\n"
          ]
        }
      ]
    },
    {
      "cell_type": "code",
      "source": [
        "prob_matrix.shape"
      ],
      "metadata": {
        "colab": {
          "base_uri": "https://localhost:8080/"
        },
        "id": "WYA4igbx5aOS",
        "outputId": "c71b050c-2808-4aa2-a169-a84d629a9aa9"
      },
      "execution_count": 74,
      "outputs": [
        {
          "output_type": "execute_result",
          "data": {
            "text/plain": [
              "(50, 2088)"
            ]
          },
          "metadata": {},
          "execution_count": 74
        },
        {
          "output_type": "stream",
          "name": "stdout",
          "text": [
            "time: 75.4 ms (started: 2022-10-12 20:29:52 +00:00)\n"
          ]
        }
      ]
    },
    {
      "cell_type": "markdown",
      "source": [
        "# Recommendation"
      ],
      "metadata": {
        "id": "hcFpqrtUDJGG"
      }
    },
    {
      "cell_type": "code",
      "source": [
        "! pip install faiss-cpu"
      ],
      "metadata": {
        "colab": {
          "base_uri": "https://localhost:8080/"
        },
        "id": "hIUxxGwUH-8N",
        "outputId": "184d1ebd-a210-49e4-db2b-dda61ed8b857"
      },
      "execution_count": 75,
      "outputs": [
        {
          "output_type": "stream",
          "name": "stdout",
          "text": [
            "Looking in indexes: https://pypi.org/simple, https://us-python.pkg.dev/colab-wheels/public/simple/\n",
            "Requirement already satisfied: faiss-cpu in /usr/local/lib/python3.7/dist-packages (1.7.2)\n",
            "time: 3.53 s (started: 2022-10-12 20:29:52 +00:00)\n"
          ]
        }
      ]
    },
    {
      "cell_type": "code",
      "source": [
        "import numpy as np\n",
        "import faiss\n",
        "from tqdm import tqdm\n",
        "from deepmatch.utils import recall_N"
      ],
      "metadata": {
        "colab": {
          "base_uri": "https://localhost:8080/"
        },
        "id": "YQH-9r3JGmTL",
        "outputId": "33143abe-d410-46e5-9d17-94370ae20789"
      },
      "execution_count": 76,
      "outputs": [
        {
          "output_type": "stream",
          "name": "stdout",
          "text": [
            "time: 95.1 ms (started: 2022-10-12 20:29:56 +00:00)\n"
          ]
        }
      ]
    },
    {
      "cell_type": "code",
      "source": [
        "test_true_label = {line[0]:[line[1]] for line in test_set}\n",
        "\n",
        "import numpy as np\n",
        "import faiss\n",
        "from tqdm import tqdm\n",
        "from deepmatch.utils import recall_N\n",
        "\n",
        "index = faiss.IndexFlatIP(embedding_dim)\n",
        "# faiss.normalize_L2(item_embs)\n",
        "index.add(item_embs)\n",
        "# faiss.normalize_L2(user_embs)\n",
        "D, I = index.search(np.ascontiguousarray(user_embs), 50)\n",
        "s = []\n",
        "hit = 0\n",
        "pred_label = {}\n",
        "for i, uid in tqdm(enumerate(test_user_model_input['user_id'])):\n",
        "    try:\n",
        "        pred = [item_profile['movie_id'].values[x] for x in I[i]]\n",
        "        filter_item = None\n",
        "        recall_score = recall_N(test_true_label[uid], pred, N=50)\n",
        "        s.append(recall_score)\n",
        "        pred_label[uid] = pred\n",
        "        if test_true_label[uid] in pred:\n",
        "            hit += 1\n",
        "    except:\n",
        "        print(i)\n",
        "print(\"\")\n",
        "print(\"recall\", np.mean(s))\n",
        "print(\"hit rate\", hit / len(test_user_model_input['user_id']))"
      ],
      "metadata": {
        "colab": {
          "base_uri": "https://localhost:8080/"
        },
        "id": "Yvek1sVPDMX6",
        "outputId": "67f2bec2-cc19-429c-c915-339a95bf1eca"
      },
      "execution_count": 77,
      "outputs": [
        {
          "output_type": "stream",
          "name": "stderr",
          "text": [
            "50it [00:00, 1776.49it/s]"
          ]
        },
        {
          "output_type": "stream",
          "name": "stdout",
          "text": [
            "\n",
            "recall 0.1\n",
            "hit rate 0.1\n",
            "time: 103 ms (started: 2022-10-12 20:29:56 +00:00)\n"
          ]
        },
        {
          "output_type": "stream",
          "name": "stderr",
          "text": [
            "\n"
          ]
        }
      ]
    },
    {
      "cell_type": "code",
      "source": [
        "test_user_model_input['user_id']"
      ],
      "metadata": {
        "colab": {
          "base_uri": "https://localhost:8080/"
        },
        "id": "MsPKgCCiM5k3",
        "outputId": "9e660202-d0c7-43d7-ab01-7e4f9acbb635"
      },
      "execution_count": 78,
      "outputs": [
        {
          "output_type": "execute_result",
          "data": {
            "text/plain": [
              "array([11, 29, 13, 23, 10, 27, 39, 24, 45, 21, 31, 41, 43,  2, 37, 34, 20,\n",
              "       38, 15,  5, 48, 19,  7, 47, 35, 36, 46, 26, 50, 49,  1, 28, 44, 14,\n",
              "       16,  4, 42, 18, 25, 22, 33,  6, 17, 32, 40, 12,  8, 30,  9,  3])"
            ]
          },
          "metadata": {},
          "execution_count": 78
        },
        {
          "output_type": "stream",
          "name": "stdout",
          "text": [
            "time: 203 ms (started: 2022-10-12 20:29:56 +00:00)\n"
          ]
        }
      ]
    },
    {
      "cell_type": "markdown",
      "source": [
        "# Validation"
      ],
      "metadata": {
        "id": "X-23_wOx4yjO"
      }
    },
    {
      "cell_type": "code",
      "source": [
        "df_train = pd.DataFrame(train_set)"
      ],
      "metadata": {
        "colab": {
          "base_uri": "https://localhost:8080/"
        },
        "id": "djITD5ZvAoFB",
        "outputId": "35f4eaa2-bc1a-4115-dc6d-cb3944dce331"
      },
      "execution_count": 79,
      "outputs": [
        {
          "output_type": "stream",
          "name": "stdout",
          "text": [
            "time: 200 ms (started: 2022-10-12 20:29:56 +00:00)\n"
          ]
        }
      ]
    },
    {
      "cell_type": "code",
      "source": [
        "df_train.head()"
      ],
      "metadata": {
        "colab": {
          "base_uri": "https://localhost:8080/",
          "height": 224
        },
        "id": "9ybcPGKvMVQu",
        "outputId": "7d5bf305-8de9-4293-c1e9-4e6112f34fc5"
      },
      "execution_count": 80,
      "outputs": [
        {
          "output_type": "execute_result",
          "data": {
            "text/plain": [
              "    0     1  2                                                  3   4  \\\n",
              "0   5  1134  1  [1393, 549, 816, 1417, 993, 1471, 674, 1633, 1...  50   \n",
              "1   1   568  0  [1305, 674, 1821, 1288, 569, 1179, 1108, 1361,...  50   \n",
              "2  37  1261  0  [496, 194, 1272, 1028, 1369, 710, 172, 618, 13...  50   \n",
              "3   7   344  1  [1613, 762, 1053, 251, 878, 1305, 1590, 324, 1...  50   \n",
              "4   9  1995  1  [329, 838, 1139, 610, 1944, 516, 1013, 411, 11...  50   \n",
              "\n",
              "                                                   5  6    7  \n",
              "0  [5, 5, 5, 5, 5, 3, 5, 5, 5, 5, 3, 8, 8, 8, 8, ...  5  4.0  \n",
              "1  [5, 5, 5, 5, 5, 5, 5, 5, 5, 5, 5, 5, 2, 3, 5, ...  8  NaN  \n",
              "2  [8, 8, 5, 5, 8, 8, 8, 8, 8, 8, 1, 8, 4, 8, 8, ...  1  NaN  \n",
              "3  [8, 8, 11, 5, 5, 5, 5, 4, 5, 5, 8, 8, 1, 5, 8,...  1  4.0  \n",
              "4  [1, 5, 8, 8, 1, 4, 12, 5, 8, 5, 1, 5, 1, 2, 2,...  8  4.0  "
            ],
            "text/html": [
              "\n",
              "  <div id=\"df-b36b6570-8b6a-485f-9458-07462b66e553\">\n",
              "    <div class=\"colab-df-container\">\n",
              "      <div>\n",
              "<style scoped>\n",
              "    .dataframe tbody tr th:only-of-type {\n",
              "        vertical-align: middle;\n",
              "    }\n",
              "\n",
              "    .dataframe tbody tr th {\n",
              "        vertical-align: top;\n",
              "    }\n",
              "\n",
              "    .dataframe thead th {\n",
              "        text-align: right;\n",
              "    }\n",
              "</style>\n",
              "<table border=\"1\" class=\"dataframe\">\n",
              "  <thead>\n",
              "    <tr style=\"text-align: right;\">\n",
              "      <th></th>\n",
              "      <th>0</th>\n",
              "      <th>1</th>\n",
              "      <th>2</th>\n",
              "      <th>3</th>\n",
              "      <th>4</th>\n",
              "      <th>5</th>\n",
              "      <th>6</th>\n",
              "      <th>7</th>\n",
              "    </tr>\n",
              "  </thead>\n",
              "  <tbody>\n",
              "    <tr>\n",
              "      <th>0</th>\n",
              "      <td>5</td>\n",
              "      <td>1134</td>\n",
              "      <td>1</td>\n",
              "      <td>[1393, 549, 816, 1417, 993, 1471, 674, 1633, 1...</td>\n",
              "      <td>50</td>\n",
              "      <td>[5, 5, 5, 5, 5, 3, 5, 5, 5, 5, 3, 8, 8, 8, 8, ...</td>\n",
              "      <td>5</td>\n",
              "      <td>4.0</td>\n",
              "    </tr>\n",
              "    <tr>\n",
              "      <th>1</th>\n",
              "      <td>1</td>\n",
              "      <td>568</td>\n",
              "      <td>0</td>\n",
              "      <td>[1305, 674, 1821, 1288, 569, 1179, 1108, 1361,...</td>\n",
              "      <td>50</td>\n",
              "      <td>[5, 5, 5, 5, 5, 5, 5, 5, 5, 5, 5, 5, 2, 3, 5, ...</td>\n",
              "      <td>8</td>\n",
              "      <td>NaN</td>\n",
              "    </tr>\n",
              "    <tr>\n",
              "      <th>2</th>\n",
              "      <td>37</td>\n",
              "      <td>1261</td>\n",
              "      <td>0</td>\n",
              "      <td>[496, 194, 1272, 1028, 1369, 710, 172, 618, 13...</td>\n",
              "      <td>50</td>\n",
              "      <td>[8, 8, 5, 5, 8, 8, 8, 8, 8, 8, 1, 8, 4, 8, 8, ...</td>\n",
              "      <td>1</td>\n",
              "      <td>NaN</td>\n",
              "    </tr>\n",
              "    <tr>\n",
              "      <th>3</th>\n",
              "      <td>7</td>\n",
              "      <td>344</td>\n",
              "      <td>1</td>\n",
              "      <td>[1613, 762, 1053, 251, 878, 1305, 1590, 324, 1...</td>\n",
              "      <td>50</td>\n",
              "      <td>[8, 8, 11, 5, 5, 5, 5, 4, 5, 5, 8, 8, 1, 5, 8,...</td>\n",
              "      <td>1</td>\n",
              "      <td>4.0</td>\n",
              "    </tr>\n",
              "    <tr>\n",
              "      <th>4</th>\n",
              "      <td>9</td>\n",
              "      <td>1995</td>\n",
              "      <td>1</td>\n",
              "      <td>[329, 838, 1139, 610, 1944, 516, 1013, 411, 11...</td>\n",
              "      <td>50</td>\n",
              "      <td>[1, 5, 8, 8, 1, 4, 12, 5, 8, 5, 1, 5, 1, 2, 2,...</td>\n",
              "      <td>8</td>\n",
              "      <td>4.0</td>\n",
              "    </tr>\n",
              "  </tbody>\n",
              "</table>\n",
              "</div>\n",
              "      <button class=\"colab-df-convert\" onclick=\"convertToInteractive('df-b36b6570-8b6a-485f-9458-07462b66e553')\"\n",
              "              title=\"Convert this dataframe to an interactive table.\"\n",
              "              style=\"display:none;\">\n",
              "        \n",
              "  <svg xmlns=\"http://www.w3.org/2000/svg\" height=\"24px\"viewBox=\"0 0 24 24\"\n",
              "       width=\"24px\">\n",
              "    <path d=\"M0 0h24v24H0V0z\" fill=\"none\"/>\n",
              "    <path d=\"M18.56 5.44l.94 2.06.94-2.06 2.06-.94-2.06-.94-.94-2.06-.94 2.06-2.06.94zm-11 1L8.5 8.5l.94-2.06 2.06-.94-2.06-.94L8.5 2.5l-.94 2.06-2.06.94zm10 10l.94 2.06.94-2.06 2.06-.94-2.06-.94-.94-2.06-.94 2.06-2.06.94z\"/><path d=\"M17.41 7.96l-1.37-1.37c-.4-.4-.92-.59-1.43-.59-.52 0-1.04.2-1.43.59L10.3 9.45l-7.72 7.72c-.78.78-.78 2.05 0 2.83L4 21.41c.39.39.9.59 1.41.59.51 0 1.02-.2 1.41-.59l7.78-7.78 2.81-2.81c.8-.78.8-2.07 0-2.86zM5.41 20L4 18.59l7.72-7.72 1.47 1.35L5.41 20z\"/>\n",
              "  </svg>\n",
              "      </button>\n",
              "      \n",
              "  <style>\n",
              "    .colab-df-container {\n",
              "      display:flex;\n",
              "      flex-wrap:wrap;\n",
              "      gap: 12px;\n",
              "    }\n",
              "\n",
              "    .colab-df-convert {\n",
              "      background-color: #E8F0FE;\n",
              "      border: none;\n",
              "      border-radius: 50%;\n",
              "      cursor: pointer;\n",
              "      display: none;\n",
              "      fill: #1967D2;\n",
              "      height: 32px;\n",
              "      padding: 0 0 0 0;\n",
              "      width: 32px;\n",
              "    }\n",
              "\n",
              "    .colab-df-convert:hover {\n",
              "      background-color: #E2EBFA;\n",
              "      box-shadow: 0px 1px 2px rgba(60, 64, 67, 0.3), 0px 1px 3px 1px rgba(60, 64, 67, 0.15);\n",
              "      fill: #174EA6;\n",
              "    }\n",
              "\n",
              "    [theme=dark] .colab-df-convert {\n",
              "      background-color: #3B4455;\n",
              "      fill: #D2E3FC;\n",
              "    }\n",
              "\n",
              "    [theme=dark] .colab-df-convert:hover {\n",
              "      background-color: #434B5C;\n",
              "      box-shadow: 0px 1px 3px 1px rgba(0, 0, 0, 0.15);\n",
              "      filter: drop-shadow(0px 1px 2px rgba(0, 0, 0, 0.3));\n",
              "      fill: #FFFFFF;\n",
              "    }\n",
              "  </style>\n",
              "\n",
              "      <script>\n",
              "        const buttonEl =\n",
              "          document.querySelector('#df-b36b6570-8b6a-485f-9458-07462b66e553 button.colab-df-convert');\n",
              "        buttonEl.style.display =\n",
              "          google.colab.kernel.accessAllowed ? 'block' : 'none';\n",
              "\n",
              "        async function convertToInteractive(key) {\n",
              "          const element = document.querySelector('#df-b36b6570-8b6a-485f-9458-07462b66e553');\n",
              "          const dataTable =\n",
              "            await google.colab.kernel.invokeFunction('convertToInteractive',\n",
              "                                                     [key], {});\n",
              "          if (!dataTable) return;\n",
              "\n",
              "          const docLinkHtml = 'Like what you see? Visit the ' +\n",
              "            '<a target=\"_blank\" href=https://colab.research.google.com/notebooks/data_table.ipynb>data table notebook</a>'\n",
              "            + ' to learn more about interactive tables.';\n",
              "          element.innerHTML = '';\n",
              "          dataTable['output_type'] = 'display_data';\n",
              "          await google.colab.output.renderOutput(dataTable, element);\n",
              "          const docLink = document.createElement('div');\n",
              "          docLink.innerHTML = docLinkHtml;\n",
              "          element.appendChild(docLink);\n",
              "        }\n",
              "      </script>\n",
              "    </div>\n",
              "  </div>\n",
              "  "
            ]
          },
          "metadata": {},
          "execution_count": 80
        },
        {
          "output_type": "stream",
          "name": "stdout",
          "text": [
            "time: 104 ms (started: 2022-10-12 20:29:56 +00:00)\n"
          ]
        }
      ]
    },
    {
      "cell_type": "code",
      "source": [
        "test_user_model_input['user_id']"
      ],
      "metadata": {
        "colab": {
          "base_uri": "https://localhost:8080/"
        },
        "id": "62Je8mJU6TFq",
        "outputId": "53d913bd-19b6-404d-da08-5687bbbd440d"
      },
      "execution_count": 90,
      "outputs": [
        {
          "output_type": "execute_result",
          "data": {
            "text/plain": [
              "array([11, 29, 13, 23, 10, 27, 39, 24, 45, 21, 31, 41, 43,  2, 37, 34, 20,\n",
              "       38, 15,  5, 48, 19,  7, 47, 35, 36, 46, 26, 50, 49,  1, 28, 44, 14,\n",
              "       16,  4, 42, 18, 25, 22, 33,  6, 17, 32, 40, 12,  8, 30,  9,  3])"
            ]
          },
          "metadata": {},
          "execution_count": 90
        },
        {
          "output_type": "stream",
          "name": "stdout",
          "text": [
            "time: 135 ms (started: 2022-10-12 20:36:05 +00:00)\n"
          ]
        }
      ]
    },
    {
      "cell_type": "code",
      "source": [
        "user_idx = 0\n",
        "uid = 11"
      ],
      "metadata": {
        "colab": {
          "base_uri": "https://localhost:8080/"
        },
        "id": "FI9eJIM9V0X-",
        "outputId": "96aacf0c-e632-47c9-c812-840c390a0a53"
      },
      "execution_count": 91,
      "outputs": [
        {
          "output_type": "stream",
          "name": "stdout",
          "text": [
            "time: 75.6 ms (started: 2022-10-12 20:36:14 +00:00)\n"
          ]
        }
      ]
    },
    {
      "cell_type": "markdown",
      "source": [
        "### Score match"
      ],
      "metadata": {
        "id": "eIzFL7gD1PYy"
      }
    },
    {
      "cell_type": "code",
      "source": [
        "D[user_idx]"
      ],
      "metadata": {
        "colab": {
          "base_uri": "https://localhost:8080/"
        },
        "id": "BRB4Apdp1JvF",
        "outputId": "0f3a40dd-52db-433b-ae2a-5fb536dc9fe2"
      },
      "execution_count": 92,
      "outputs": [
        {
          "output_type": "execute_result",
          "data": {
            "text/plain": [
              "array([0.7900038 , 0.77942777, 0.7558832 , 0.73660195, 0.7346535 ,\n",
              "       0.71701527, 0.7098384 , 0.7079486 , 0.70121956, 0.6957664 ,\n",
              "       0.6937254 , 0.69180423, 0.68864036, 0.6866999 , 0.68196756,\n",
              "       0.67856765, 0.6651815 , 0.6648223 , 0.658706  , 0.65683186,\n",
              "       0.65341485, 0.6526418 , 0.65239036, 0.6515457 , 0.6513677 ,\n",
              "       0.6462875 , 0.6453591 , 0.6451587 , 0.6441928 , 0.6437572 ,\n",
              "       0.6430403 , 0.6410727 , 0.6383361 , 0.63721925, 0.6245674 ,\n",
              "       0.62239975, 0.61863315, 0.60851276, 0.608477  , 0.6084454 ,\n",
              "       0.60816985, 0.60681784, 0.601196  , 0.6006198 , 0.6004869 ,\n",
              "       0.598561  , 0.59778094, 0.59627056, 0.5957043 , 0.5948411 ],\n",
              "      dtype=float32)"
            ]
          },
          "metadata": {},
          "execution_count": 92
        },
        {
          "output_type": "stream",
          "name": "stdout",
          "text": [
            "time: 52.6 ms (started: 2022-10-12 20:36:17 +00:00)\n"
          ]
        }
      ]
    },
    {
      "cell_type": "code",
      "source": [
        "sorted_index = prob_matrix.argsort()[:,-50:]\n",
        "-np.sort(-prob_matrix[user_idx][sorted_index[user_idx]])"
      ],
      "metadata": {
        "colab": {
          "base_uri": "https://localhost:8080/"
        },
        "id": "Mx5paLIH1N4t",
        "outputId": "976efd2b-c1e7-4f87-b7e2-b631595fea6c"
      },
      "execution_count": 93,
      "outputs": [
        {
          "output_type": "execute_result",
          "data": {
            "text/plain": [
              "array([0.7900038 , 0.77942777, 0.7558832 , 0.7366019 , 0.7346535 ,\n",
              "       0.71701527, 0.7098384 , 0.7079486 , 0.70121956, 0.6957664 ,\n",
              "       0.6937254 , 0.69180423, 0.68864036, 0.6866999 , 0.68196756,\n",
              "       0.67856765, 0.6651815 , 0.6648223 , 0.658706  , 0.65683186,\n",
              "       0.65341485, 0.6526418 , 0.65239036, 0.6515457 , 0.6513677 ,\n",
              "       0.6462875 , 0.6453591 , 0.6451587 , 0.6441929 , 0.6437572 ,\n",
              "       0.6430403 , 0.6410727 , 0.6383361 , 0.6372192 , 0.6245674 ,\n",
              "       0.62239975, 0.61863315, 0.60851276, 0.608477  , 0.6084454 ,\n",
              "       0.60816985, 0.60681784, 0.601196  , 0.6006198 , 0.6004869 ,\n",
              "       0.598561  , 0.59778094, 0.59627056, 0.5957043 , 0.5948411 ],\n",
              "      dtype=float32)"
            ]
          },
          "metadata": {},
          "execution_count": 93
        },
        {
          "output_type": "stream",
          "name": "stdout",
          "text": [
            "time: 59 ms (started: 2022-10-12 20:36:18 +00:00)\n"
          ]
        }
      ]
    },
    {
      "cell_type": "markdown",
      "source": [
        "### Index match"
      ],
      "metadata": {
        "id": "LkTPcuCz1UGx"
      }
    },
    {
      "cell_type": "code",
      "source": [
        "np.array([item_profile['movie_id'].values[x] for x in I[user_idx]])"
      ],
      "metadata": {
        "colab": {
          "base_uri": "https://localhost:8080/"
        },
        "id": "danghb5mUIYH",
        "outputId": "139a179d-d760-4a1e-a52d-e644f9888a13"
      },
      "execution_count": 94,
      "outputs": [
        {
          "output_type": "execute_result",
          "data": {
            "text/plain": [
              "array([1016, 1616, 1142, 1833,  692,  952,  471, 1603,  438,  619,  941,\n",
              "       1163,  458, 1109, 1087,   43, 1843,  660,  319, 1105, 1753,  627,\n",
              "        486, 1812,  634, 1963,    4,  489, 1652,  148, 1625,  602,  881,\n",
              "        561,  866,  282,  299,  614,  623, 1986,  474,  616,  152,  461,\n",
              "        612,  629, 1608, 2069, 1941,  320])"
            ]
          },
          "metadata": {},
          "execution_count": 94
        },
        {
          "output_type": "stream",
          "name": "stdout",
          "text": [
            "time: 49 ms (started: 2022-10-12 20:36:21 +00:00)\n"
          ]
        }
      ]
    },
    {
      "cell_type": "code",
      "source": [
        "I[user_idx]"
      ],
      "metadata": {
        "colab": {
          "base_uri": "https://localhost:8080/"
        },
        "id": "k93RLh6dXLcl",
        "outputId": "6b1a4be6-3c6c-42aa-f00a-cf01cdc77496"
      },
      "execution_count": 95,
      "outputs": [
        {
          "output_type": "execute_result",
          "data": {
            "text/plain": [
              "array([ 201,  797, 1671, 1049,  449, 1614, 1297, 1777,   67,  391,  252,\n",
              "       1548,   40, 1227,  129, 1462, 1280,  705,   71,  185,  300,  230,\n",
              "       1829, 1069,  282,  730, 1945,  938, 1689,  156, 1370,  867, 1239,\n",
              "       1358,  243, 1923,  183,  194,  558, 1623,  718,  389,   50, 1285,\n",
              "         17,  430,  549, 1094, 1051, 1651])"
            ]
          },
          "metadata": {},
          "execution_count": 95
        },
        {
          "output_type": "stream",
          "name": "stdout",
          "text": [
            "time: 48.7 ms (started: 2022-10-12 20:36:22 +00:00)\n"
          ]
        }
      ]
    },
    {
      "cell_type": "code",
      "source": [
        "(sorted_index[user_idx])[::-1]"
      ],
      "metadata": {
        "colab": {
          "base_uri": "https://localhost:8080/"
        },
        "id": "fEDvv7SpW_re",
        "outputId": "2d77d9f7-9b22-411f-e121-4391c1c69517"
      },
      "execution_count": 96,
      "outputs": [
        {
          "output_type": "execute_result",
          "data": {
            "text/plain": [
              "array([ 201,  797, 1671, 1049,  449, 1614, 1297, 1777,   67,  391,  252,\n",
              "       1548,   40, 1227,  129, 1462, 1280,  705,   71,  185,  300,  230,\n",
              "       1829, 1069,  282,  730, 1945,  938, 1689,  156, 1370,  867, 1239,\n",
              "       1358,  243, 1923,  183,  194,  558, 1623,  718,  389,   50, 1285,\n",
              "         17,  430,  549, 1094, 1051, 1651])"
            ]
          },
          "metadata": {},
          "execution_count": 96
        },
        {
          "output_type": "stream",
          "name": "stdout",
          "text": [
            "time: 53.3 ms (started: 2022-10-12 20:36:23 +00:00)\n"
          ]
        }
      ]
    },
    {
      "cell_type": "code",
      "source": [
        "res_idx_len = []\n",
        "res_org_len = []\n",
        "for i, uid in tqdm(enumerate(test_user_model_input['user_id'])):\n",
        "  res_idx_len.append(len(set(df_train[df_train[0]==uid][1].unique()) & set(sorted_index[user_idx])))\n",
        "  res_org_len.append(len(set(df_train[df_train[0]==uid][1].unique()) & set([item_profile['movie_id'].values[x] for x in I[user_idx]])))\n",
        "\n"
      ],
      "metadata": {
        "colab": {
          "base_uri": "https://localhost:8080/"
        },
        "id": "6o06qNTc6hLx",
        "outputId": "4825641b-dcac-4636-97fa-f2cc40f2d3c7"
      },
      "execution_count": 100,
      "outputs": [
        {
          "output_type": "stream",
          "name": "stderr",
          "text": [
            "50it [00:00, 520.39it/s]"
          ]
        },
        {
          "output_type": "stream",
          "name": "stdout",
          "text": [
            "time: 152 ms (started: 2022-10-12 20:40:39 +00:00)\n"
          ]
        },
        {
          "output_type": "stream",
          "name": "stderr",
          "text": [
            "\n"
          ]
        }
      ]
    },
    {
      "cell_type": "code",
      "source": [
        "pd.Series(res_idx_len).describe(), pd.Series(res_org_len).describe()"
      ],
      "metadata": {
        "colab": {
          "base_uri": "https://localhost:8080/"
        },
        "id": "mr-4TsF67bNq",
        "outputId": "ed4b4b3f-4688-49bc-ad64-2a3c23d5453b"
      },
      "execution_count": 103,
      "outputs": [
        {
          "output_type": "execute_result",
          "data": {
            "text/plain": [
              "(count    50.000000\n",
              " mean      7.780000\n",
              " std       9.205788\n",
              " min       0.000000\n",
              " 25%       2.000000\n",
              " 50%       3.500000\n",
              " 75%      12.000000\n",
              " max      31.000000\n",
              " dtype: float64, count    50.000000\n",
              " mean     10.040000\n",
              " std       8.973794\n",
              " min       0.000000\n",
              " 25%       3.000000\n",
              " 50%       7.000000\n",
              " 75%      15.000000\n",
              " max      32.000000\n",
              " dtype: float64)"
            ]
          },
          "metadata": {},
          "execution_count": 103
        },
        {
          "output_type": "stream",
          "name": "stdout",
          "text": [
            "time: 230 ms (started: 2022-10-12 20:41:18 +00:00)\n"
          ]
        }
      ]
    },
    {
      "cell_type": "code",
      "source": [
        "len(set(df_train[df_train[0]==uid][1].unique()) & set(sorted_index[user_idx]))"
      ],
      "metadata": {
        "colab": {
          "base_uri": "https://localhost:8080/"
        },
        "id": "0-Mier-9R1sx",
        "outputId": "a78b4e90-7523-45b0-9ed4-51bbd3e5188a"
      },
      "execution_count": 97,
      "outputs": [
        {
          "output_type": "execute_result",
          "data": {
            "text/plain": [
              "0"
            ]
          },
          "metadata": {},
          "execution_count": 97
        },
        {
          "output_type": "stream",
          "name": "stdout",
          "text": [
            "time: 53 ms (started: 2022-10-12 20:36:27 +00:00)\n"
          ]
        }
      ]
    },
    {
      "cell_type": "code",
      "source": [
        "len(set(df_train[df_train[0]==uid][1].unique()) & set([item_profile['movie_id'].values[x] for x in I[user_idx]]))"
      ],
      "metadata": {
        "colab": {
          "base_uri": "https://localhost:8080/"
        },
        "id": "FSMm6fkWVLle",
        "outputId": "2d9d11fb-e5d2-49a2-9449-8290eaafd22e"
      },
      "execution_count": 98,
      "outputs": [
        {
          "output_type": "execute_result",
          "data": {
            "text/plain": [
              "15"
            ]
          },
          "metadata": {},
          "execution_count": 98
        },
        {
          "output_type": "stream",
          "name": "stdout",
          "text": [
            "time: 60.3 ms (started: 2022-10-12 20:36:29 +00:00)\n"
          ]
        }
      ]
    },
    {
      "cell_type": "markdown",
      "source": [
        "## Reference: Logic of embedding index match to original label"
      ],
      "metadata": {
        "id": "SrD9_g6I17B6"
      }
    },
    {
      "cell_type": "code",
      "source": [
        "from keras.layers import Embedding, Input\n",
        "from keras.models import Sequential, Model\n",
        "\n",
        "inputs = Input(shape=(1,))\n",
        "embedding = Embedding(5, 3, input_length=1, name='cat_col')(inputs)\n",
        "model = Model(inputs, embedding)\n",
        "\n",
        "x = np.array([0,1,2,3,4]).reshape(5,1)\n",
        "# x = np.array([1,3,4,2,0]).reshape(5,1)\n",
        "\n",
        "# labels = np.zeros((5,1,3))\n",
        "\n",
        "print (model.predict(x))\n",
        "print (model.get_layer('cat_col').get_weights()[0])\n",
        "\n",
        "assert np.array_equal(model.predict(x).reshape(-1), model.get_layer('cat_col').get_weights()[0].reshape(-1))"
      ],
      "metadata": {
        "colab": {
          "base_uri": "https://localhost:8080/"
        },
        "id": "gTnxJGR116d0",
        "outputId": "48f6d4be-bc50-4ede-c0bc-a7731fb76a33"
      },
      "execution_count": 89,
      "outputs": [
        {
          "output_type": "stream",
          "name": "stdout",
          "text": [
            "[[[ 0.03897731  0.03492305 -0.03595017]]\n",
            "\n",
            " [[ 0.04051191  0.04440126 -0.02900038]]\n",
            "\n",
            " [[-0.01612986 -0.04406906  0.01908295]]\n",
            "\n",
            " [[ 0.00931183 -0.02604643 -0.00010148]]\n",
            "\n",
            " [[ 0.03751112  0.02173838 -0.01694157]]]\n",
            "[[ 0.03897731  0.03492305 -0.03595017]\n",
            " [ 0.04051191  0.04440126 -0.02900038]\n",
            " [-0.01612986 -0.04406906  0.01908295]\n",
            " [ 0.00931183 -0.02604643 -0.00010148]\n",
            " [ 0.03751112  0.02173838 -0.01694157]]\n",
            "time: 255 ms (started: 2022-10-12 20:29:57 +00:00)\n"
          ]
        },
        {
          "output_type": "stream",
          "name": "stderr",
          "text": [
            "/usr/local/lib/python3.7/dist-packages/keras/engine/training_v1.py:2079: UserWarning: `Model.state_updates` will be removed in a future version. This property should not be used in TensorFlow 2.0, as `updates` are applied automatically.\n",
            "  updates=self.state_updates,\n"
          ]
        }
      ]
    }
  ]
}