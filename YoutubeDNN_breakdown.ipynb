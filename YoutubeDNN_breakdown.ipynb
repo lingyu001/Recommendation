{
  "nbformat": 4,
  "nbformat_minor": 0,
  "metadata": {
    "colab": {
      "provenance": [],
      "collapsed_sections": [],
      "authorship_tag": "ABX9TyOzWDaMfhtukAW6IGJblk7F",
      "include_colab_link": true
    },
    "kernelspec": {
      "name": "python3",
      "display_name": "Python 3"
    },
    "language_info": {
      "name": "python"
    }
  },
  "cells": [
    {
      "cell_type": "markdown",
      "metadata": {
        "id": "view-in-github",
        "colab_type": "text"
      },
      "source": [
        "<a href=\"https://colab.research.google.com/github/lingyu001/Recommendation/blob/master/YoutubeDNN_breakdown.ipynb\" target=\"_parent\"><img src=\"https://colab.research.google.com/assets/colab-badge.svg\" alt=\"Open In Colab\"/></a>"
      ]
    },
    {
      "cell_type": "code",
      "execution_count": 1,
      "metadata": {
        "colab": {
          "base_uri": "https://localhost:8080/"
        },
        "id": "8qgIPmHNLkS-",
        "outputId": "d3ce9f5e-15e5-4456-b029-427df5cd6351"
      },
      "outputs": [
        {
          "output_type": "stream",
          "name": "stdout",
          "text": [
            "--2022-09-29 21:03:16--  http://files.grouplens.org/datasets/movielens/ml-1m.zip\n",
            "Resolving files.grouplens.org (files.grouplens.org)... 128.101.65.152\n",
            "Connecting to files.grouplens.org (files.grouplens.org)|128.101.65.152|:80... connected.\n",
            "HTTP request sent, awaiting response... 200 OK\n",
            "Length: 5917549 (5.6M) [application/zip]\n",
            "Saving to: ‘./ml-1m.zip’\n",
            "\n",
            "./ml-1m.zip         100%[===================>]   5.64M  17.8MB/s    in 0.3s    \n",
            "\n",
            "2022-09-29 21:03:17 (17.8 MB/s) - ‘./ml-1m.zip’ saved [5917549/5917549]\n",
            "\n",
            "--2022-09-29 21:03:17--  https://raw.githubusercontent.com/lingyu001/Recommendation/master/preprocess.py\n",
            "Resolving raw.githubusercontent.com (raw.githubusercontent.com)... 185.199.108.133, 185.199.109.133, 185.199.110.133, ...\n",
            "Connecting to raw.githubusercontent.com (raw.githubusercontent.com)|185.199.108.133|:443... connected.\n",
            "HTTP request sent, awaiting response... 200 OK\n",
            "Length: 6687 (6.5K) [text/plain]\n",
            "Saving to: ‘preprocess.py’\n",
            "\n",
            "preprocess.py       100%[===================>]   6.53K  --.-KB/s    in 0s      \n",
            "\n",
            "2022-09-29 21:03:17 (54.7 MB/s) - ‘preprocess.py’ saved [6687/6687]\n",
            "\n",
            "--2022-09-29 21:03:17--  https://raw.githubusercontent.com/lingyu001/Recommendation/master/model_utils.py\n",
            "Resolving raw.githubusercontent.com (raw.githubusercontent.com)... 185.199.110.133, 185.199.108.133, 185.199.109.133, ...\n",
            "Connecting to raw.githubusercontent.com (raw.githubusercontent.com)|185.199.110.133|:443... connected.\n",
            "HTTP request sent, awaiting response... 200 OK\n",
            "Length: 17409 (17K) [text/plain]\n",
            "Saving to: ‘model_utils.py’\n",
            "\n",
            "model_utils.py      100%[===================>]  17.00K  --.-KB/s    in 0.001s  \n",
            "\n",
            "2022-09-29 21:03:17 (21.9 MB/s) - ‘model_utils.py’ saved [17409/17409]\n",
            "\n",
            "Archive:  ml-1m.zip\n",
            "  inflating: ml-1m/movies.dat        \n",
            "  inflating: ml-1m/ratings.dat       \n",
            "  inflating: ml-1m/README            \n",
            "  inflating: ml-1m/users.dat         \n"
          ]
        }
      ],
      "source": [
        "! wget http://files.grouplens.org/datasets/movielens/ml-1m.zip -O ./ml-1m.zip\n",
        "! wget https://raw.githubusercontent.com/lingyu001/Recommendation/master/preprocess.py -O preprocess.py\n",
        "! wget https://raw.githubusercontent.com/lingyu001/Recommendation/master/model_utils.py -O model_utils.py\n",
        "! unzip -o ml-1m.zip "
      ]
    },
    {
      "cell_type": "code",
      "source": [
        "! pip install -q deepmatch"
      ],
      "metadata": {
        "id": "1MMP7wa9N4t6"
      },
      "execution_count": 2,
      "outputs": []
    },
    {
      "cell_type": "code",
      "source": [
        "import pandas as pd\n",
        "from preprocess import gen_data_set, gen_model_input\n",
        "from sklearn.preprocessing import LabelEncoder\n",
        "from tensorflow.python.keras import backend as K\n",
        "from tensorflow.python.keras.models import Model\n",
        "from model_utils import DNN, EmbeddingIndex, NoMask, PoolingLayer, l2_normalize,\\\n",
        " reduce_mean, SampledSoftmaxLayer, get_item_embedding, sampledsoftmaxloss"
      ],
      "metadata": {
        "id": "gABip0B7LsHJ"
      },
      "execution_count": 3,
      "outputs": []
    },
    {
      "cell_type": "code",
      "source": [
        "%load_ext autoreload\n",
        "%autoreload 2"
      ],
      "metadata": {
        "id": "DDQ87v8WA94s"
      },
      "execution_count": 4,
      "outputs": []
    },
    {
      "cell_type": "markdown",
      "source": [
        "# Data"
      ],
      "metadata": {
        "id": "xCJLpR8EQoBm"
      }
    },
    {
      "cell_type": "code",
      "source": [
        "data_path = \"./\"\n",
        "\n",
        "unames = ['user_id','gender','age','occupation','zip']\n",
        "user = pd.read_csv(data_path+'ml-1m/users.dat',sep='::',header=None,names=unames)\n",
        "rnames = ['user_id','movie_id','rating','timestamp']\n",
        "ratings = pd.read_csv(data_path+'ml-1m/ratings.dat',sep='::',header=None,names=rnames)\n",
        "mnames = ['movie_id','title','genres']\n",
        "movies = pd.read_csv(data_path+'ml-1m/movies.dat',sep='::',header=None,names=mnames,encoding=\"unicode_escape\")\n",
        "movies['genres'] = list(map(lambda x: x.split('|')[0], movies['genres'].values))\n",
        "\n",
        "data = pd.merge(pd.merge(ratings,movies),user).iloc[:10000] # taking 1w\n",
        "print(data.shape)\n",
        "print(data.user_id.nunique())\n",
        "print(data.movie_id.nunique())\n",
        "data.head(2)"
      ],
      "metadata": {
        "colab": {
          "base_uri": "https://localhost:8080/",
          "height": 219
        },
        "id": "OK705XlgQmHX",
        "outputId": "f37428df-2089-4581-92a6-65d7dff67f05"
      },
      "execution_count": 5,
      "outputs": [
        {
          "output_type": "stream",
          "name": "stderr",
          "text": [
            "/usr/local/lib/python3.7/dist-packages/pandas/util/_decorators.py:311: ParserWarning: Falling back to the 'python' engine because the 'c' engine does not support regex separators (separators > 1 char and different from '\\s+' are interpreted as regex); you can avoid this warning by specifying engine='python'.\n",
            "  return func(*args, **kwargs)\n"
          ]
        },
        {
          "output_type": "stream",
          "name": "stdout",
          "text": [
            "(10000, 10)\n",
            "46\n",
            "2175\n"
          ]
        },
        {
          "output_type": "execute_result",
          "data": {
            "text/plain": [
              "   user_id  movie_id  rating  timestamp  \\\n",
              "0        1      1193       5  978300760   \n",
              "1        1       661       3  978302109   \n",
              "\n",
              "                                    title     genres gender  age  occupation  \\\n",
              "0  One Flew Over the Cuckoo's Nest (1975)      Drama      F    1          10   \n",
              "1        James and the Giant Peach (1996)  Animation      F    1          10   \n",
              "\n",
              "     zip  \n",
              "0  48067  \n",
              "1  48067  "
            ],
            "text/html": [
              "\n",
              "  <div id=\"df-5a61990e-aa1c-4855-bfdb-4086a12a950d\">\n",
              "    <div class=\"colab-df-container\">\n",
              "      <div>\n",
              "<style scoped>\n",
              "    .dataframe tbody tr th:only-of-type {\n",
              "        vertical-align: middle;\n",
              "    }\n",
              "\n",
              "    .dataframe tbody tr th {\n",
              "        vertical-align: top;\n",
              "    }\n",
              "\n",
              "    .dataframe thead th {\n",
              "        text-align: right;\n",
              "    }\n",
              "</style>\n",
              "<table border=\"1\" class=\"dataframe\">\n",
              "  <thead>\n",
              "    <tr style=\"text-align: right;\">\n",
              "      <th></th>\n",
              "      <th>user_id</th>\n",
              "      <th>movie_id</th>\n",
              "      <th>rating</th>\n",
              "      <th>timestamp</th>\n",
              "      <th>title</th>\n",
              "      <th>genres</th>\n",
              "      <th>gender</th>\n",
              "      <th>age</th>\n",
              "      <th>occupation</th>\n",
              "      <th>zip</th>\n",
              "    </tr>\n",
              "  </thead>\n",
              "  <tbody>\n",
              "    <tr>\n",
              "      <th>0</th>\n",
              "      <td>1</td>\n",
              "      <td>1193</td>\n",
              "      <td>5</td>\n",
              "      <td>978300760</td>\n",
              "      <td>One Flew Over the Cuckoo's Nest (1975)</td>\n",
              "      <td>Drama</td>\n",
              "      <td>F</td>\n",
              "      <td>1</td>\n",
              "      <td>10</td>\n",
              "      <td>48067</td>\n",
              "    </tr>\n",
              "    <tr>\n",
              "      <th>1</th>\n",
              "      <td>1</td>\n",
              "      <td>661</td>\n",
              "      <td>3</td>\n",
              "      <td>978302109</td>\n",
              "      <td>James and the Giant Peach (1996)</td>\n",
              "      <td>Animation</td>\n",
              "      <td>F</td>\n",
              "      <td>1</td>\n",
              "      <td>10</td>\n",
              "      <td>48067</td>\n",
              "    </tr>\n",
              "  </tbody>\n",
              "</table>\n",
              "</div>\n",
              "      <button class=\"colab-df-convert\" onclick=\"convertToInteractive('df-5a61990e-aa1c-4855-bfdb-4086a12a950d')\"\n",
              "              title=\"Convert this dataframe to an interactive table.\"\n",
              "              style=\"display:none;\">\n",
              "        \n",
              "  <svg xmlns=\"http://www.w3.org/2000/svg\" height=\"24px\"viewBox=\"0 0 24 24\"\n",
              "       width=\"24px\">\n",
              "    <path d=\"M0 0h24v24H0V0z\" fill=\"none\"/>\n",
              "    <path d=\"M18.56 5.44l.94 2.06.94-2.06 2.06-.94-2.06-.94-.94-2.06-.94 2.06-2.06.94zm-11 1L8.5 8.5l.94-2.06 2.06-.94-2.06-.94L8.5 2.5l-.94 2.06-2.06.94zm10 10l.94 2.06.94-2.06 2.06-.94-2.06-.94-.94-2.06-.94 2.06-2.06.94z\"/><path d=\"M17.41 7.96l-1.37-1.37c-.4-.4-.92-.59-1.43-.59-.52 0-1.04.2-1.43.59L10.3 9.45l-7.72 7.72c-.78.78-.78 2.05 0 2.83L4 21.41c.39.39.9.59 1.41.59.51 0 1.02-.2 1.41-.59l7.78-7.78 2.81-2.81c.8-.78.8-2.07 0-2.86zM5.41 20L4 18.59l7.72-7.72 1.47 1.35L5.41 20z\"/>\n",
              "  </svg>\n",
              "      </button>\n",
              "      \n",
              "  <style>\n",
              "    .colab-df-container {\n",
              "      display:flex;\n",
              "      flex-wrap:wrap;\n",
              "      gap: 12px;\n",
              "    }\n",
              "\n",
              "    .colab-df-convert {\n",
              "      background-color: #E8F0FE;\n",
              "      border: none;\n",
              "      border-radius: 50%;\n",
              "      cursor: pointer;\n",
              "      display: none;\n",
              "      fill: #1967D2;\n",
              "      height: 32px;\n",
              "      padding: 0 0 0 0;\n",
              "      width: 32px;\n",
              "    }\n",
              "\n",
              "    .colab-df-convert:hover {\n",
              "      background-color: #E2EBFA;\n",
              "      box-shadow: 0px 1px 2px rgba(60, 64, 67, 0.3), 0px 1px 3px 1px rgba(60, 64, 67, 0.15);\n",
              "      fill: #174EA6;\n",
              "    }\n",
              "\n",
              "    [theme=dark] .colab-df-convert {\n",
              "      background-color: #3B4455;\n",
              "      fill: #D2E3FC;\n",
              "    }\n",
              "\n",
              "    [theme=dark] .colab-df-convert:hover {\n",
              "      background-color: #434B5C;\n",
              "      box-shadow: 0px 1px 3px 1px rgba(0, 0, 0, 0.15);\n",
              "      filter: drop-shadow(0px 1px 2px rgba(0, 0, 0, 0.3));\n",
              "      fill: #FFFFFF;\n",
              "    }\n",
              "  </style>\n",
              "\n",
              "      <script>\n",
              "        const buttonEl =\n",
              "          document.querySelector('#df-5a61990e-aa1c-4855-bfdb-4086a12a950d button.colab-df-convert');\n",
              "        buttonEl.style.display =\n",
              "          google.colab.kernel.accessAllowed ? 'block' : 'none';\n",
              "\n",
              "        async function convertToInteractive(key) {\n",
              "          const element = document.querySelector('#df-5a61990e-aa1c-4855-bfdb-4086a12a950d');\n",
              "          const dataTable =\n",
              "            await google.colab.kernel.invokeFunction('convertToInteractive',\n",
              "                                                     [key], {});\n",
              "          if (!dataTable) return;\n",
              "\n",
              "          const docLinkHtml = 'Like what you see? Visit the ' +\n",
              "            '<a target=\"_blank\" href=https://colab.research.google.com/notebooks/data_table.ipynb>data table notebook</a>'\n",
              "            + ' to learn more about interactive tables.';\n",
              "          element.innerHTML = '';\n",
              "          dataTable['output_type'] = 'display_data';\n",
              "          await google.colab.output.renderOutput(dataTable, element);\n",
              "          const docLink = document.createElement('div');\n",
              "          docLink.innerHTML = docLinkHtml;\n",
              "          element.appendChild(docLink);\n",
              "        }\n",
              "      </script>\n",
              "    </div>\n",
              "  </div>\n",
              "  "
            ]
          },
          "metadata": {},
          "execution_count": 5
        }
      ]
    },
    {
      "cell_type": "markdown",
      "source": [
        "# Feature Engineering"
      ],
      "metadata": {
        "id": "9oeGJOW4REfl"
      }
    },
    {
      "cell_type": "code",
      "source": [
        "sparse_features = [\"movie_id\", \"user_id\",\n",
        "                    \"gender\", \"age\", \"occupation\", \"zip\", \"genres\"]\n",
        "\n",
        "SEQ_LEN = 50\n",
        "NUMBER_NEG_SAMPLE = 1 # used for generate 1:1 positive:negative samples\n"
      ],
      "metadata": {
        "id": "YX0vSmbeQv4i"
      },
      "execution_count": 6,
      "outputs": []
    },
    {
      "cell_type": "code",
      "source": [
        "feature_max_idx = {}\n",
        "for feature in sparse_features:\n",
        "    lbe = LabelEncoder()\n",
        "    data[feature] = lbe.fit_transform(data[feature]) + 1 # add one to all the encoded categories labels\n",
        "    feature_max_idx[feature] = data[feature].max() + 1"
      ],
      "metadata": {
        "id": "XV-0GzPzRIgO"
      },
      "execution_count": 7,
      "outputs": []
    },
    {
      "cell_type": "code",
      "source": [
        "feature_max_idx"
      ],
      "metadata": {
        "colab": {
          "base_uri": "https://localhost:8080/"
        },
        "id": "gwa-Qg4BRQcG",
        "outputId": "a1ec085c-5c81-4db8-c885-3832373c21dd"
      },
      "execution_count": 8,
      "outputs": [
        {
          "output_type": "execute_result",
          "data": {
            "text/plain": [
              "{'movie_id': 2176,\n",
              " 'user_id': 47,\n",
              " 'gender': 3,\n",
              " 'age': 8,\n",
              " 'occupation': 18,\n",
              " 'zip': 47,\n",
              " 'genres': 19}"
            ]
          },
          "metadata": {},
          "execution_count": 8
        }
      ]
    },
    {
      "cell_type": "code",
      "source": [
        "data.head(2)"
      ],
      "metadata": {
        "colab": {
          "base_uri": "https://localhost:8080/",
          "height": 112
        },
        "id": "swhinBDMRWiX",
        "outputId": "851fc60e-8cd7-492e-c35b-9f4af8f81118"
      },
      "execution_count": 9,
      "outputs": [
        {
          "output_type": "execute_result",
          "data": {
            "text/plain": [
              "   user_id  movie_id  rating  timestamp  \\\n",
              "0        1       644       5  978300760   \n",
              "1        1       385       3  978302109   \n",
              "\n",
              "                                    title  genres  gender  age  occupation  \\\n",
              "0  One Flew Over the Cuckoo's Nest (1975)       8       1    1           9   \n",
              "1        James and the Giant Peach (1996)       3       1    1           9   \n",
              "\n",
              "   zip  \n",
              "0   18  \n",
              "1   18  "
            ],
            "text/html": [
              "\n",
              "  <div id=\"df-4c26cf65-75e4-42b7-ae42-5c1515f09a5d\">\n",
              "    <div class=\"colab-df-container\">\n",
              "      <div>\n",
              "<style scoped>\n",
              "    .dataframe tbody tr th:only-of-type {\n",
              "        vertical-align: middle;\n",
              "    }\n",
              "\n",
              "    .dataframe tbody tr th {\n",
              "        vertical-align: top;\n",
              "    }\n",
              "\n",
              "    .dataframe thead th {\n",
              "        text-align: right;\n",
              "    }\n",
              "</style>\n",
              "<table border=\"1\" class=\"dataframe\">\n",
              "  <thead>\n",
              "    <tr style=\"text-align: right;\">\n",
              "      <th></th>\n",
              "      <th>user_id</th>\n",
              "      <th>movie_id</th>\n",
              "      <th>rating</th>\n",
              "      <th>timestamp</th>\n",
              "      <th>title</th>\n",
              "      <th>genres</th>\n",
              "      <th>gender</th>\n",
              "      <th>age</th>\n",
              "      <th>occupation</th>\n",
              "      <th>zip</th>\n",
              "    </tr>\n",
              "  </thead>\n",
              "  <tbody>\n",
              "    <tr>\n",
              "      <th>0</th>\n",
              "      <td>1</td>\n",
              "      <td>644</td>\n",
              "      <td>5</td>\n",
              "      <td>978300760</td>\n",
              "      <td>One Flew Over the Cuckoo's Nest (1975)</td>\n",
              "      <td>8</td>\n",
              "      <td>1</td>\n",
              "      <td>1</td>\n",
              "      <td>9</td>\n",
              "      <td>18</td>\n",
              "    </tr>\n",
              "    <tr>\n",
              "      <th>1</th>\n",
              "      <td>1</td>\n",
              "      <td>385</td>\n",
              "      <td>3</td>\n",
              "      <td>978302109</td>\n",
              "      <td>James and the Giant Peach (1996)</td>\n",
              "      <td>3</td>\n",
              "      <td>1</td>\n",
              "      <td>1</td>\n",
              "      <td>9</td>\n",
              "      <td>18</td>\n",
              "    </tr>\n",
              "  </tbody>\n",
              "</table>\n",
              "</div>\n",
              "      <button class=\"colab-df-convert\" onclick=\"convertToInteractive('df-4c26cf65-75e4-42b7-ae42-5c1515f09a5d')\"\n",
              "              title=\"Convert this dataframe to an interactive table.\"\n",
              "              style=\"display:none;\">\n",
              "        \n",
              "  <svg xmlns=\"http://www.w3.org/2000/svg\" height=\"24px\"viewBox=\"0 0 24 24\"\n",
              "       width=\"24px\">\n",
              "    <path d=\"M0 0h24v24H0V0z\" fill=\"none\"/>\n",
              "    <path d=\"M18.56 5.44l.94 2.06.94-2.06 2.06-.94-2.06-.94-.94-2.06-.94 2.06-2.06.94zm-11 1L8.5 8.5l.94-2.06 2.06-.94-2.06-.94L8.5 2.5l-.94 2.06-2.06.94zm10 10l.94 2.06.94-2.06 2.06-.94-2.06-.94-.94-2.06-.94 2.06-2.06.94z\"/><path d=\"M17.41 7.96l-1.37-1.37c-.4-.4-.92-.59-1.43-.59-.52 0-1.04.2-1.43.59L10.3 9.45l-7.72 7.72c-.78.78-.78 2.05 0 2.83L4 21.41c.39.39.9.59 1.41.59.51 0 1.02-.2 1.41-.59l7.78-7.78 2.81-2.81c.8-.78.8-2.07 0-2.86zM5.41 20L4 18.59l7.72-7.72 1.47 1.35L5.41 20z\"/>\n",
              "  </svg>\n",
              "      </button>\n",
              "      \n",
              "  <style>\n",
              "    .colab-df-container {\n",
              "      display:flex;\n",
              "      flex-wrap:wrap;\n",
              "      gap: 12px;\n",
              "    }\n",
              "\n",
              "    .colab-df-convert {\n",
              "      background-color: #E8F0FE;\n",
              "      border: none;\n",
              "      border-radius: 50%;\n",
              "      cursor: pointer;\n",
              "      display: none;\n",
              "      fill: #1967D2;\n",
              "      height: 32px;\n",
              "      padding: 0 0 0 0;\n",
              "      width: 32px;\n",
              "    }\n",
              "\n",
              "    .colab-df-convert:hover {\n",
              "      background-color: #E2EBFA;\n",
              "      box-shadow: 0px 1px 2px rgba(60, 64, 67, 0.3), 0px 1px 3px 1px rgba(60, 64, 67, 0.15);\n",
              "      fill: #174EA6;\n",
              "    }\n",
              "\n",
              "    [theme=dark] .colab-df-convert {\n",
              "      background-color: #3B4455;\n",
              "      fill: #D2E3FC;\n",
              "    }\n",
              "\n",
              "    [theme=dark] .colab-df-convert:hover {\n",
              "      background-color: #434B5C;\n",
              "      box-shadow: 0px 1px 3px 1px rgba(0, 0, 0, 0.15);\n",
              "      filter: drop-shadow(0px 1px 2px rgba(0, 0, 0, 0.3));\n",
              "      fill: #FFFFFF;\n",
              "    }\n",
              "  </style>\n",
              "\n",
              "      <script>\n",
              "        const buttonEl =\n",
              "          document.querySelector('#df-4c26cf65-75e4-42b7-ae42-5c1515f09a5d button.colab-df-convert');\n",
              "        buttonEl.style.display =\n",
              "          google.colab.kernel.accessAllowed ? 'block' : 'none';\n",
              "\n",
              "        async function convertToInteractive(key) {\n",
              "          const element = document.querySelector('#df-4c26cf65-75e4-42b7-ae42-5c1515f09a5d');\n",
              "          const dataTable =\n",
              "            await google.colab.kernel.invokeFunction('convertToInteractive',\n",
              "                                                     [key], {});\n",
              "          if (!dataTable) return;\n",
              "\n",
              "          const docLinkHtml = 'Like what you see? Visit the ' +\n",
              "            '<a target=\"_blank\" href=https://colab.research.google.com/notebooks/data_table.ipynb>data table notebook</a>'\n",
              "            + ' to learn more about interactive tables.';\n",
              "          element.innerHTML = '';\n",
              "          dataTable['output_type'] = 'display_data';\n",
              "          await google.colab.output.renderOutput(dataTable, element);\n",
              "          const docLink = document.createElement('div');\n",
              "          docLink.innerHTML = docLinkHtml;\n",
              "          element.appendChild(docLink);\n",
              "        }\n",
              "      </script>\n",
              "    </div>\n",
              "  </div>\n",
              "  "
            ]
          },
          "metadata": {},
          "execution_count": 9
        }
      ]
    },
    {
      "cell_type": "code",
      "source": [
        "user_profile = data[[\"user_id\", \"gender\", \"age\", \"occupation\", \"zip\"]].drop_duplicates('user_id')\n",
        "user_profile.set_index(\"user_id\", inplace=True)\n",
        "item_profile = data[[\"movie_id\"]].drop_duplicates('movie_id')\n",
        "user_profile.shape, item_profile.shape"
      ],
      "metadata": {
        "colab": {
          "base_uri": "https://localhost:8080/"
        },
        "id": "a3bUcH_vRvRW",
        "outputId": "888a0112-7e2a-49f8-fd64-5c65fe6b0128"
      },
      "execution_count": 10,
      "outputs": [
        {
          "output_type": "execute_result",
          "data": {
            "text/plain": [
              "((46, 4), (2175, 1))"
            ]
          },
          "metadata": {},
          "execution_count": 10
        }
      ]
    },
    {
      "cell_type": "code",
      "source": [
        "user_item_list = data.groupby(\"user_id\")['movie_id'].apply(list)\n",
        "user_item_list.head()"
      ],
      "metadata": {
        "colab": {
          "base_uri": "https://localhost:8080/"
        },
        "id": "ASZeh8yrR1Ld",
        "outputId": "11a3d5c8-5788-420f-fb5c-5b8b7b1c543d"
      },
      "execution_count": 11,
      "outputs": [
        {
          "output_type": "execute_result",
          "data": {
            "text/plain": [
              "user_id\n",
              "1    [644, 385, 483, 1881, 1306, 646, 731, 1570, 35...\n",
              "2    [644, 1735, 1283, 1077, 656, 1121, 692, 773, 1...\n",
              "3    [644, 1570, 487, 647, 357, 693, 909, 670, 72, ...\n",
              "4    [644, 1881, 1735, 1283, 320, 1545, 152, 1121, ...\n",
              "5    [644, 1306, 359, 1283, 405, 715, 320, 604, 154...\n",
              "Name: movie_id, dtype: object"
            ]
          },
          "metadata": {},
          "execution_count": 11
        }
      ]
    },
    {
      "cell_type": "code",
      "source": [
        "train_set, test_set = gen_data_set(data, SEQ_LEN, NUMBER_NEG_SAMPLE)"
      ],
      "metadata": {
        "colab": {
          "base_uri": "https://localhost:8080/"
        },
        "id": "DUsD59IHSR3d",
        "outputId": "f2ef4c60-9ff4-4372-d958-b9a9863fab0f"
      },
      "execution_count": 12,
      "outputs": [
        {
          "output_type": "stream",
          "name": "stderr",
          "text": [
            "100%|██████████| 46/46 [00:00<00:00, 138.58it/s]"
          ]
        },
        {
          "output_type": "stream",
          "name": "stdout",
          "text": [
            "8 8\n"
          ]
        },
        {
          "output_type": "stream",
          "name": "stderr",
          "text": [
            "\n"
          ]
        }
      ]
    },
    {
      "cell_type": "code",
      "source": [
        "# reviewerID,  - user id\n",
        "# pos_list[i], - movie id\n",
        "# 1, - label y\n",
        "# hist[::-1][:seq_len], - most recent watched movie id list before watching this movie, up to 50\n",
        "# seq_len\n",
        "# genres_hist[::-1][:seq_len], - most recent watched movie's genres list before watching this movie, up to 50\n",
        "# genres_list[i], - this movie's genre\n",
        "# rating_list[i] - this movie's rating\n",
        "# train_set[12]"
      ],
      "metadata": {
        "id": "CwikHNU0Vyof"
      },
      "execution_count": 13,
      "outputs": []
    },
    {
      "cell_type": "code",
      "source": [
        "train_model_input, train_label = gen_model_input(train_set, user_profile, SEQ_LEN)\n",
        "test_model_input, test_label = gen_model_input(test_set, user_profile, SEQ_LEN)\n",
        "train_label.shape, train_model_input['user_id'].shape, test_model_input['user_id'].shape, test_label.shape"
      ],
      "metadata": {
        "colab": {
          "base_uri": "https://localhost:8080/"
        },
        "id": "mMKXnWBnYtFE",
        "outputId": "41e04424-3559-4bef-bab5-534784e9329d"
      },
      "execution_count": 14,
      "outputs": [
        {
          "output_type": "stream",
          "name": "stderr",
          "text": [
            "/content/preprocess.py:86: VisibleDeprecationWarning: Creating an ndarray from ragged nested sequences (which is a list-or-tuple of lists-or-tuples-or ndarrays with different lengths or shapes) is deprecated. If you meant to do this, you must specify 'dtype=object' when creating the ndarray.\n",
            "  train_seq_genres = np.array([line[5] for line in train_set])\n"
          ]
        },
        {
          "output_type": "execute_result",
          "data": {
            "text/plain": [
              "((19816,), (19816,), (46,), (46,))"
            ]
          },
          "metadata": {},
          "execution_count": 14
        }
      ]
    },
    {
      "cell_type": "code",
      "source": [
        "train_model_input"
      ],
      "metadata": {
        "colab": {
          "base_uri": "https://localhost:8080/"
        },
        "id": "IRscwi30emJV",
        "outputId": "94651244-ea1d-4211-9139-b61c0c13ab48"
      },
      "execution_count": 15,
      "outputs": [
        {
          "output_type": "execute_result",
          "data": {
            "text/plain": [
              "{'user_id': array([16, 21, 44, ..., 34, 32, 43]),\n",
              " 'movie_id': array([1500,   81, 1015, ..., 1694,  586, 1258]),\n",
              " 'hist_movie_id': array([[ 456,  645,  576, ...,    0,    0,    0],\n",
              "        [ 255, 1737, 1341, ...,    0,    0,    0],\n",
              "        [ 584, 1516,  751, ..., 2128, 2103, 1279],\n",
              "        ...,\n",
              "        [1069,  215, 1545, ...,    0,    0,    0],\n",
              "        [1559, 1560, 1109, ...,    0,    0,    0],\n",
              "        [ 357, 1921,  608, ...,  668,  645,  621]], dtype=int32),\n",
              " 'hist_genres': array([[ 1,  1,  8, ...,  0,  0,  0],\n",
              "        [ 8,  5,  5, ...,  0,  0,  0],\n",
              "        [ 2,  5,  5, ...,  8,  8,  8],\n",
              "        ...,\n",
              "        [ 1,  5, 16, ...,  0,  0,  0],\n",
              "        [ 5,  5,  4, ...,  0,  0,  0],\n",
              "        [ 8,  8,  8, ..., 11,  1,  7]], dtype=int32),\n",
              " 'hist_len': array([42, 40, 50, ...,  3, 23, 50]),\n",
              " 'genres': array([1, 5, 5, ..., 5, 5, 8]),\n",
              " 'gender': array([2, 1, 1, ..., 2, 2, 2]),\n",
              " 'age': array([2, 4, 3, ..., 4, 5, 3]),\n",
              " 'occupation': array([11,  4,  3, ...,  8, 12,  6]),\n",
              " 'zip': array([31, 44, 39, ..., 29, 35, 24])}"
            ]
          },
          "metadata": {},
          "execution_count": 15
        }
      ]
    },
    {
      "cell_type": "markdown",
      "source": [
        "# Create Embeddings"
      ],
      "metadata": {
        "id": "MmNE8kuEfXRE"
      }
    },
    {
      "cell_type": "code",
      "source": [
        "from collections import Counter\n",
        "train_counter = Counter(train_model_input['movie_id'])\n",
        "item_count = [train_counter.get(i,0) for i in range(feature_max_idx['movie_id'])]\n",
        "len(train_counter), type(train_counter), len(item_count)"
      ],
      "metadata": {
        "colab": {
          "base_uri": "https://localhost:8080/"
        },
        "id": "ljKC65_PzHRU",
        "outputId": "65357e3d-2ac9-4cbd-f9a1-cc1c7ace131d"
      },
      "execution_count": 16,
      "outputs": [
        {
          "output_type": "execute_result",
          "data": {
            "text/plain": [
              "(2175, collections.Counter, 2176)"
            ]
          },
          "metadata": {},
          "execution_count": 16
        }
      ]
    },
    {
      "cell_type": "code",
      "source": [
        "import tensorflow as tf\n",
        "from tensorflow.python.keras.initializers import RandomNormal, Zeros\n",
        "from tensorflow.python.keras.layers import Embedding, Input, Lambda\n",
        "from tensorflow.python.keras.regularizers import l2\n",
        "if tf.__version__ >= '2.0.0':\n",
        "    tf.compat.v1.disable_eager_execution()\n",
        "else:\n",
        "    K.set_learning_phase(True)"
      ],
      "metadata": {
        "id": "yV1mZ6yt6c0K"
      },
      "execution_count": 17,
      "outputs": []
    },
    {
      "cell_type": "markdown",
      "source": [
        "### Create Feature Embeddings\n",
        "\n"
      ],
      "metadata": {
        "id": "RFusDxnPixY4"
      }
    },
    {
      "cell_type": "code",
      "source": [
        "# item features\n",
        "item_feature_columns = ['movie_id']\n",
        "# User features\n",
        "user_feature_columns = ['user_id',\n",
        "                        \"gender\",\n",
        "                        \"age\",\n",
        "                        \"occupation\",\n",
        "                        \"zip\",\n",
        "                        'hist_movie_id',\n",
        "                        'hist_genres',\n",
        "                        'hist_len'\n",
        "                        ]\n"
      ],
      "metadata": {
        "id": "gVDJOjXTrNT-"
      },
      "execution_count": 18,
      "outputs": []
    },
    {
      "cell_type": "code",
      "source": [
        "feature_max_idx"
      ],
      "metadata": {
        "colab": {
          "base_uri": "https://localhost:8080/"
        },
        "id": "xUPZ56aqrWpa",
        "outputId": "6d19c45e-5790-4131-8c3e-2adeabc55bce"
      },
      "execution_count": 19,
      "outputs": [
        {
          "output_type": "execute_result",
          "data": {
            "text/plain": [
              "{'movie_id': 2176,\n",
              " 'user_id': 47,\n",
              " 'gender': 3,\n",
              " 'age': 8,\n",
              " 'occupation': 18,\n",
              " 'zip': 47,\n",
              " 'genres': 19}"
            ]
          },
          "metadata": {},
          "execution_count": 19
        }
      ]
    },
    {
      "cell_type": "code",
      "source": [
        "user_sparse_feature_columns = user_feature_columns[0:5]\n",
        "user_sparse_feature_columns"
      ],
      "metadata": {
        "colab": {
          "base_uri": "https://localhost:8080/"
        },
        "id": "OdMHOjpeqvHT",
        "outputId": "17e9138b-6533-4bd4-e1dd-adddc7283aea"
      },
      "execution_count": 20,
      "outputs": [
        {
          "output_type": "execute_result",
          "data": {
            "text/plain": [
              "['user_id', 'gender', 'age', 'occupation', 'zip']"
            ]
          },
          "metadata": {},
          "execution_count": 20
        }
      ]
    },
    {
      "cell_type": "code",
      "source": [
        "user_seq_sparse_feature_columns = user_feature_columns[5:-1]\n",
        "user_seq_sparse_feature_columns "
      ],
      "metadata": {
        "colab": {
          "base_uri": "https://localhost:8080/"
        },
        "id": "6kvCDMmvrAOC",
        "outputId": "cc06fc50-7472-40f0-d28f-6cedebd5aac3"
      },
      "execution_count": 21,
      "outputs": [
        {
          "output_type": "execute_result",
          "data": {
            "text/plain": [
              "['hist_movie_id', 'hist_genres']"
            ]
          },
          "metadata": {},
          "execution_count": 21
        }
      ]
    },
    {
      "cell_type": "code",
      "source": [
        "# embedding input and output specification\n",
        "embeddings_initializer = RandomNormal(mean=0.0, stddev=0.0001, seed=2020)\n",
        "embedding_dim = 32\n",
        "l2_reg = 1e-6\n",
        "# use a dict to collect embeddings\n",
        "sparse_embedding = {}"
      ],
      "metadata": {
        "id": "WzDyy6iNlYef",
        "colab": {
          "base_uri": "https://localhost:8080/"
        },
        "outputId": "cd193e21-a236-447c-fc5b-cee451bf7dd7"
      },
      "execution_count": 22,
      "outputs": [
        {
          "output_type": "stream",
          "name": "stderr",
          "text": [
            "WARNING:tensorflow:From /usr/local/lib/python3.7/dist-packages/tensorflow/python/keras/initializers/initializers_v1.py:56: calling RandomNormal.__init__ (from tensorflow.python.ops.init_ops) with dtype is deprecated and will be removed in a future version.\n",
            "Instructions for updating:\n",
            "Call initializer instance with the dtype argument instead of passing it to the constructor\n"
          ]
        }
      ]
    },
    {
      "cell_type": "code",
      "source": [
        "# user embeddings\n",
        "for name in user_sparse_feature_columns: \n",
        "  emb = Embedding(\n",
        "      input_dim = feature_max_idx[name], \n",
        "      output_dim = 16,\n",
        "      embeddings_initializer=embeddings_initializer,\n",
        "      embeddings_regularizer=l2(l2_reg),\n",
        "      name='sparse_' + 'emb_' + name\n",
        "  )\n",
        "  emb.trainable = True\n",
        "  sparse_embedding[name] = emb\n",
        "for name in user_seq_sparse_feature_columns: \n",
        "   emb = Embedding(feature_max_idx[name[5:]], embedding_dim,\n",
        "                            embeddings_initializer=embeddings_initializer,\n",
        "                            embeddings_regularizer=l2(\n",
        "                                l2_reg),\n",
        "                            name='sparse_' + 'seq_emb_'  + name,\n",
        "                            mask_zero=False) # True\n",
        "   emb.trainable = True\n",
        "   sparse_embedding[name] = emb"
      ],
      "metadata": {
        "id": "zrIjOw2-lZ2P"
      },
      "execution_count": 23,
      "outputs": []
    },
    {
      "cell_type": "code",
      "source": [
        "# item embeddings\n",
        "item_feature_name = item_feature_columns[0] # only include item id \n",
        "emb = Embedding(\n",
        "      input_dim = feature_max_idx[item_feature_name], \n",
        "      output_dim = embedding_dim,\n",
        "      embeddings_initializer=embeddings_initializer,\n",
        "      embeddings_regularizer=l2(l2_reg),\n",
        "      name='sparse_' + 'emb_' + item_feature_name\n",
        "  )\n",
        "sparse_embedding[item_feature_name] = emb"
      ],
      "metadata": {
        "id": "5aJDL4b-r475"
      },
      "execution_count": 24,
      "outputs": []
    },
    {
      "cell_type": "code",
      "source": [
        "sparse_embedding # include both user and item embedding layers"
      ],
      "metadata": {
        "colab": {
          "base_uri": "https://localhost:8080/"
        },
        "id": "9Ydd0xItnuZJ",
        "outputId": "1baa4eb1-c6ea-417e-a2bd-8345140a055b"
      },
      "execution_count": 25,
      "outputs": [
        {
          "output_type": "execute_result",
          "data": {
            "text/plain": [
              "{'user_id': <tensorflow.python.keras.layers.embeddings.Embedding at 0x7f369b2878d0>,\n",
              " 'gender': <tensorflow.python.keras.layers.embeddings.Embedding at 0x7f369b26fe50>,\n",
              " 'age': <tensorflow.python.keras.layers.embeddings.Embedding at 0x7f369b269e50>,\n",
              " 'occupation': <tensorflow.python.keras.layers.embeddings.Embedding at 0x7f369b269e90>,\n",
              " 'zip': <tensorflow.python.keras.layers.embeddings.Embedding at 0x7f369b269290>,\n",
              " 'hist_movie_id': <tensorflow.python.keras.layers.embeddings.Embedding at 0x7f369b273fd0>,\n",
              " 'hist_genres': <tensorflow.python.keras.layers.embeddings.Embedding at 0x7f369b2697d0>,\n",
              " 'movie_id': <tensorflow.python.keras.layers.embeddings.Embedding at 0x7f369b273b50>}"
            ]
          },
          "metadata": {},
          "execution_count": 25
        }
      ]
    },
    {
      "cell_type": "markdown",
      "source": [
        "# Create User Inputs\n"
      ],
      "metadata": {
        "id": "__RCtmE768yP"
      }
    },
    {
      "cell_type": "markdown",
      "source": [
        "## Create Inputs Tensor"
      ],
      "metadata": {
        "id": "yM6mg7fw-yZc"
      }
    },
    {
      "cell_type": "code",
      "source": [
        "# user features inputs\n",
        "from collections import OrderedDict\n",
        "user_features = OrderedDict()\n",
        "for name in user_sparse_feature_columns:\n",
        "  user_features[name] = Input(\n",
        "                shape=(1,), \n",
        "                name=name, \n",
        "                dtype=\"int32\"\n",
        "                )\n",
        "for name in user_seq_sparse_feature_columns:\n",
        "  user_features[name] = Input(\n",
        "                shape=(SEQ_LEN,), \n",
        "                name=name, \n",
        "                dtype=\"int32\"\n",
        "                )\n",
        "length_name = 'hist_len'\n",
        "if length_name in user_feature_columns:\n",
        "  user_features[length_name] = Input((1,), name=length_name, dtype='int32')"
      ],
      "metadata": {
        "id": "ntvMR9x5BtjF"
      },
      "execution_count": 26,
      "outputs": []
    },
    {
      "cell_type": "code",
      "source": [
        "user_inputs_list = list(user_features.values())\n",
        "user_inputs_list"
      ],
      "metadata": {
        "colab": {
          "base_uri": "https://localhost:8080/"
        },
        "id": "ZsM6mPDJkqVR",
        "outputId": "c3fa25cd-2dd0-4aee-a233-90523a207413"
      },
      "execution_count": 27,
      "outputs": [
        {
          "output_type": "execute_result",
          "data": {
            "text/plain": [
              "[<tf.Tensor 'user_id:0' shape=(None, 1) dtype=int32>,\n",
              " <tf.Tensor 'gender:0' shape=(None, 1) dtype=int32>,\n",
              " <tf.Tensor 'age:0' shape=(None, 1) dtype=int32>,\n",
              " <tf.Tensor 'occupation:0' shape=(None, 1) dtype=int32>,\n",
              " <tf.Tensor 'zip:0' shape=(None, 1) dtype=int32>,\n",
              " <tf.Tensor 'hist_movie_id:0' shape=(None, 50) dtype=int32>,\n",
              " <tf.Tensor 'hist_genres:0' shape=(None, 50) dtype=int32>,\n",
              " <tf.Tensor 'hist_len:0' shape=(None, 1) dtype=int32>]"
            ]
          },
          "metadata": {},
          "execution_count": 27
        }
      ]
    },
    {
      "cell_type": "code",
      "source": [
        "# item feature inputs\n",
        "item_features = OrderedDict()\n",
        "for name in item_feature_columns:\n",
        "  item_features[name] = Input(\n",
        "                shape=(1,), \n",
        "                name=name, \n",
        "                dtype=\"int32\"\n",
        "                )\n",
        "item_inputs_list = list(item_features.values())\n"
      ],
      "metadata": {
        "id": "at2VIiBv02WB"
      },
      "execution_count": 28,
      "outputs": []
    },
    {
      "cell_type": "code",
      "source": [
        "item_inputs_list"
      ],
      "metadata": {
        "colab": {
          "base_uri": "https://localhost:8080/"
        },
        "id": "w7BeQhIW1ZHB",
        "outputId": "ca16137e-4681-4911-db00-fafca5c6ba50"
      },
      "execution_count": 29,
      "outputs": [
        {
          "output_type": "execute_result",
          "data": {
            "text/plain": [
              "[<tf.Tensor 'movie_id:0' shape=(None, 1) dtype=int32>]"
            ]
          },
          "metadata": {},
          "execution_count": 29
        }
      ]
    },
    {
      "cell_type": "markdown",
      "source": [
        "## Embed Inputs"
      ],
      "metadata": {
        "id": "rkJg1GNFkJPD"
      }
    },
    {
      "cell_type": "code",
      "source": [
        "# Embed sparse inputs\n",
        "from collections import defaultdict\n",
        "user_sparse_embeded_input = defaultdict(list)\n",
        "\n",
        "for name in user_sparse_feature_columns:\n",
        "  user_sparse_embeded_input[name] = sparse_embedding[name](user_features[name])"
      ],
      "metadata": {
        "id": "gtkBZ6HLkHAf"
      },
      "execution_count": 30,
      "outputs": []
    },
    {
      "cell_type": "code",
      "source": [
        "# Embed the sequence sparse inputs, need to add pooling layer to it\n",
        "seq_embeded_dict = defaultdict(list)\n",
        "\n",
        "for name in user_seq_sparse_feature_columns:\n",
        "  seq_embeded_dict[name] = sparse_embedding[name](user_features[name])\n",
        "\n",
        "# from deepctr.layers.sequence import SequencePoolingLayer\n",
        "# for name in user_seq_sparse_feature_columns:\n",
        "#   user_seq_sparse_embeded_input[name] = SequencePoolingLayer('mean', supports_masking=False)([seq_embeded_dict[name], user_features[length_name]])\n",
        "\n",
        "from tensorflow.keras.layers import AveragePooling1D\n",
        "user_seq_sparse_embeded_input = defaultdict(list)\n",
        "for name in user_seq_sparse_feature_columns:\n",
        "  user_seq_sparse_embeded_input[name] = AveragePooling1D(pool_size=50, padding='valid')(seq_embeded_dict[name])"
      ],
      "metadata": {
        "id": "BgZyHLfAySUq"
      },
      "execution_count": 31,
      "outputs": []
    },
    {
      "cell_type": "code",
      "source": [
        "# vec = AveragePooling1D(pool_size=50, strides = 50, padding='valid')\n",
        "# vec(seq_embeded_dict[name])"
      ],
      "metadata": {
        "id": "dGJ-aWJCeAyX"
      },
      "execution_count": 32,
      "outputs": []
    },
    {
      "cell_type": "code",
      "source": [
        "# from deepctr.layers.sequence import SequencePoolingLayer\n",
        "# vec2 = SequencePoolingLayer('mean', supports_masking=False)\n",
        "# vec2([seq_embeded_dict[name], 35])"
      ],
      "metadata": {
        "id": "LAWoVKoueGNl"
      },
      "execution_count": 33,
      "outputs": []
    },
    {
      "cell_type": "code",
      "source": [
        "# combine embeded inputs into a list\n",
        "user_sparse_embedding_list = list(user_sparse_embeded_input.values()) + list(user_seq_sparse_embeded_input.values())\n",
        "user_sparse_embedding_list"
      ],
      "metadata": {
        "colab": {
          "base_uri": "https://localhost:8080/"
        },
        "id": "OIgRP5lyXbPZ",
        "outputId": "62d19fe9-441b-4612-ad01-8a68a4113f5c"
      },
      "execution_count": 34,
      "outputs": [
        {
          "output_type": "execute_result",
          "data": {
            "text/plain": [
              "[<tf.Tensor 'sparse_emb_user_id/embedding_lookup/Identity_1:0' shape=(None, 1, 16) dtype=float32>,\n",
              " <tf.Tensor 'sparse_emb_gender/embedding_lookup/Identity_1:0' shape=(None, 1, 16) dtype=float32>,\n",
              " <tf.Tensor 'sparse_emb_age/embedding_lookup/Identity_1:0' shape=(None, 1, 16) dtype=float32>,\n",
              " <tf.Tensor 'sparse_emb_occupation/embedding_lookup/Identity_1:0' shape=(None, 1, 16) dtype=float32>,\n",
              " <tf.Tensor 'sparse_emb_zip/embedding_lookup/Identity_1:0' shape=(None, 1, 16) dtype=float32>,\n",
              " <tf.Tensor 'average_pooling1d/Squeeze:0' shape=(None, 1, 32) dtype=float32>,\n",
              " <tf.Tensor 'average_pooling1d_1/Squeeze:0' shape=(None, 1, 32) dtype=float32>]"
            ]
          },
          "metadata": {},
          "execution_count": 34
        }
      ]
    },
    {
      "cell_type": "markdown",
      "source": [
        "## Combine Embeded Input (User only)"
      ],
      "metadata": {
        "id": "6nIWKAyXpmRX"
      }
    },
    {
      "cell_type": "code",
      "source": [
        "from tensorflow.python.keras.layers import Flatten, Concatenate, Layer, Add"
      ],
      "metadata": {
        "id": "Gw7pkzWzppJ4"
      },
      "execution_count": 35,
      "outputs": []
    },
    {
      "cell_type": "code",
      "source": [
        "user_dnn_input = Flatten()(Concatenate(axis=2)(user_sparse_embedding_list))\n",
        "user_dnn_input"
      ],
      "metadata": {
        "id": "0ruiNeGZBOEy",
        "colab": {
          "base_uri": "https://localhost:8080/"
        },
        "outputId": "0cd70d31-bec5-48e7-befe-65720c6ffc7c"
      },
      "execution_count": 36,
      "outputs": [
        {
          "output_type": "execute_result",
          "data": {
            "text/plain": [
              "<tf.Tensor 'flatten/Reshape:0' shape=(None, 144) dtype=float32>"
            ]
          },
          "metadata": {},
          "execution_count": 36
        }
      ]
    },
    {
      "cell_type": "markdown",
      "source": [
        "# Sepecify Model Layers"
      ],
      "metadata": {
        "id": "00EvAK7d7v8H"
      }
    },
    {
      "cell_type": "markdown",
      "source": [
        "### User Layers"
      ],
      "metadata": {
        "id": "Nyz2GRXstx1u"
      }
    },
    {
      "cell_type": "code",
      "source": [
        "from tensorflow.keras import layers"
      ],
      "metadata": {
        "id": "5XEX8w1qfiWY"
      },
      "execution_count": 37,
      "outputs": []
    },
    {
      "cell_type": "code",
      "source": [
        "user_dnn_hidden_units = (128,64, embedding_dim)\n",
        "dnn_activation='relu'\n",
        "dnn_use_bn=False\n",
        "l2_reg_dnn=0\n",
        "l2_reg_embedding=1e-6\n",
        "dnn_dropout=0\n",
        "output_activation='linear'\n",
        "temperature=0.05,\n",
        "# sampler_config=sampler_config\n",
        "seed=1024"
      ],
      "metadata": {
        "id": "jxUktp9cysj_"
      },
      "execution_count": 38,
      "outputs": []
    },
    {
      "cell_type": "code",
      "source": [
        "from deepctr.layers import DNN"
      ],
      "metadata": {
        "id": "iLbtmoH17KAU"
      },
      "execution_count": 39,
      "outputs": []
    },
    {
      "cell_type": "code",
      "source": [
        "dnn_layers = DNN(hidden_units = user_dnn_hidden_units, \n",
        "                  activation='relu', \n",
        "                  l2_reg=0, \n",
        "                  dropout_rate=0, \n",
        "                  use_bn=False, \n",
        "                  output_activation='linear',\n",
        "                  seed=1024\n",
        "                  )\n",
        "\n"
      ],
      "metadata": {
        "id": "9S6JndR3KFx1"
      },
      "execution_count": 40,
      "outputs": []
    },
    {
      "cell_type": "code",
      "source": [
        "user_dnn_output = dnn_layers(user_dnn_input)\n",
        "user_dnn_output = l2_normalize(user_dnn_output)\n",
        "user_dnn_output"
      ],
      "metadata": {
        "colab": {
          "base_uri": "https://localhost:8080/"
        },
        "id": "ZlEfVc4dLS0l",
        "outputId": "7c7d1068-edd7-41a8-9571-ddbba8b99aeb"
      },
      "execution_count": 41,
      "outputs": [
        {
          "output_type": "execute_result",
          "data": {
            "text/plain": [
              "<tf.Tensor 'lambda/l2_normalize:0' shape=(None, 32) dtype=float32>"
            ]
          },
          "metadata": {},
          "execution_count": 41
        }
      ]
    },
    {
      "cell_type": "code",
      "source": [],
      "metadata": {
        "id": "HnsQ__fGtnDn"
      },
      "execution_count": 41,
      "outputs": []
    },
    {
      "cell_type": "markdown",
      "source": [
        "### Item Layer"
      ],
      "metadata": {
        "id": "ae2bSV0TtnvG"
      }
    },
    {
      "cell_type": "code",
      "source": [
        "# Create item index tensor\n",
        "item_vocabulary_size = feature_max_idx[item_feature_name]\n",
        "item_index = EmbeddingIndex(list(range(item_vocabulary_size)))(item_features[item_feature_name])\n",
        "\n",
        "# embed the item index input\n",
        "item_embeding = sparse_embedding[item_feature_name]\n",
        "item_embedding_weight = NoMask()(item_embeding(item_index))\n",
        "pooling_item_embedding_weight = PoolingLayer()([item_embedding_weight])\n",
        "pooling_item_embedding_weight = l2_normalize(pooling_item_embedding_weight)\n",
        "pooling_item_embedding_weight\n"
      ],
      "metadata": {
        "id": "xdKJ9VEfCyXL",
        "colab": {
          "base_uri": "https://localhost:8080/"
        },
        "outputId": "27d6df4a-9db9-4338-e375-fa015283ee5b"
      },
      "execution_count": 42,
      "outputs": [
        {
          "output_type": "execute_result",
          "data": {
            "text/plain": [
              "<tf.Tensor 'lambda_1/l2_normalize:0' shape=(2176, 32) dtype=float32>"
            ]
          },
          "metadata": {},
          "execution_count": 42
        }
      ]
    },
    {
      "cell_type": "code",
      "source": [
        "pooling_item_embedding_weight.eval(session=K.get_session()).shape"
      ],
      "metadata": {
        "colab": {
          "base_uri": "https://localhost:8080/"
        },
        "id": "OjQ88lPaprh2",
        "outputId": "684373cf-4e22-49e8-9cd8-1e3488267fff"
      },
      "execution_count": 43,
      "outputs": [
        {
          "output_type": "execute_result",
          "data": {
            "text/plain": [
              "(2176, 32)"
            ]
          },
          "metadata": {},
          "execution_count": 43
        }
      ]
    },
    {
      "cell_type": "code",
      "source": [
        "# .eval(session=K.get_session())"
      ],
      "metadata": {
        "id": "dR7Lsgh0qy20"
      },
      "execution_count": 44,
      "outputs": []
    },
    {
      "cell_type": "markdown",
      "source": [
        "### Output Layer"
      ],
      "metadata": {
        "id": "NaZ1ifdZ_LM5"
      }
    },
    {
      "cell_type": "code",
      "source": [
        "output = SampledSoftmaxLayer()(\n",
        "    [pooling_item_embedding_weight, user_dnn_output, item_features[item_feature_name]])\n",
        "output"
      ],
      "metadata": {
        "colab": {
          "base_uri": "https://localhost:8080/"
        },
        "id": "p_hbelWEowl8",
        "outputId": "2aa699e5-e1ca-4472-b16f-3fe8056ea8ce"
      },
      "execution_count": 45,
      "outputs": [
        {
          "output_type": "execute_result",
          "data": {
            "text/plain": [
              "<tf.Tensor 'sampled_softmax_layer/ExpandDims:0' shape=(None, 1) dtype=float32>"
            ]
          },
          "metadata": {},
          "execution_count": 45
        }
      ]
    },
    {
      "cell_type": "code",
      "source": [
        "# from model_utils import SampledSoftmaxLayer\n",
        "# sf = SampledSoftmaxLayer()"
      ],
      "metadata": {
        "id": "4JSxRTWtFAnG"
      },
      "execution_count": 46,
      "outputs": []
    },
    {
      "cell_type": "code",
      "source": [
        "# from tensorflow.keras.layers import Softmax\n",
        "# sf2 = Softmax()\n",
        "# import numpy as np\n",
        "# x = np.asarray([[1., 2., 1.]])\n",
        "# x\n",
        "# sf2(x).eval(session=K.get_session())"
      ],
      "metadata": {
        "id": "5AFUGxVwFA--"
      },
      "execution_count": 47,
      "outputs": []
    },
    {
      "cell_type": "code",
      "source": [
        "pooling_item_embedding_weight"
      ],
      "metadata": {
        "colab": {
          "base_uri": "https://localhost:8080/"
        },
        "id": "sWLljvPiA8rI",
        "outputId": "a4643c4c-573f-4b78-cfa3-d67c9655f414"
      },
      "execution_count": 48,
      "outputs": [
        {
          "output_type": "execute_result",
          "data": {
            "text/plain": [
              "<tf.Tensor 'lambda_1/l2_normalize:0' shape=(2176, 32) dtype=float32>"
            ]
          },
          "metadata": {},
          "execution_count": 48
        }
      ]
    },
    {
      "cell_type": "code",
      "source": [
        "user_dnn_output"
      ],
      "metadata": {
        "colab": {
          "base_uri": "https://localhost:8080/"
        },
        "id": "uNGi4K9YAwcw",
        "outputId": "99a2a362-6825-459d-a671-e6223db051fd"
      },
      "execution_count": 49,
      "outputs": [
        {
          "output_type": "execute_result",
          "data": {
            "text/plain": [
              "<tf.Tensor 'lambda/l2_normalize:0' shape=(None, 32) dtype=float32>"
            ]
          },
          "metadata": {},
          "execution_count": 49
        }
      ]
    },
    {
      "cell_type": "code",
      "source": [
        "item_features[item_feature_name]"
      ],
      "metadata": {
        "colab": {
          "base_uri": "https://localhost:8080/"
        },
        "id": "xZdpyC-JA-NH",
        "outputId": "2ee32383-6ac5-4f51-9cbf-d5ca0cd2e51b"
      },
      "execution_count": 50,
      "outputs": [
        {
          "output_type": "execute_result",
          "data": {
            "text/plain": [
              "<tf.Tensor 'movie_id:0' shape=(None, 1) dtype=int32>"
            ]
          },
          "metadata": {},
          "execution_count": 50
        }
      ]
    },
    {
      "cell_type": "markdown",
      "source": [
        "## Build Model"
      ],
      "metadata": {
        "id": "7pxt5AhhABQv"
      }
    },
    {
      "cell_type": "code",
      "source": [
        "from tensorflow.python.keras.models import Model"
      ],
      "metadata": {
        "id": "NxwwfP8M_c-X"
      },
      "execution_count": 51,
      "outputs": []
    },
    {
      "cell_type": "code",
      "source": [
        "model = Model(inputs=user_inputs_list + item_inputs_list, outputs=output)\n",
        "\n",
        "model.__setattr__(\"user_input\", user_inputs_list)\n",
        "model.__setattr__(\"user_embedding\", user_dnn_output)\n",
        "\n",
        "model.__setattr__(\"item_input\", item_inputs_list)\n",
        "model.__setattr__(\"item_embedding\",\n",
        "                  get_item_embedding(pooling_item_embedding_weight, item_features[item_feature_name]))\n"
      ],
      "metadata": {
        "id": "05qTGyqg_HYD"
      },
      "execution_count": 52,
      "outputs": []
    },
    {
      "cell_type": "markdown",
      "source": [
        "# Model Compile and Training"
      ],
      "metadata": {
        "id": "iZTKXy9MsFGM"
      }
    },
    {
      "cell_type": "code",
      "source": [
        "model.compile(optimizer=\"adam\", loss=sampledsoftmaxloss)"
      ],
      "metadata": {
        "id": "LN4h_A0-BcE7"
      },
      "execution_count": 53,
      "outputs": []
    },
    {
      "cell_type": "code",
      "source": [
        "history = model.fit(train_model_input, train_label,\n",
        "                    batch_size=512, epochs=20, verbose=1, validation_split=0.0, )"
      ],
      "metadata": {
        "colab": {
          "base_uri": "https://localhost:8080/"
        },
        "id": "UNzun5zFpqZi",
        "outputId": "77fb1080-8acc-4719-be13-9b30119c0b3e"
      },
      "execution_count": 54,
      "outputs": [
        {
          "output_type": "stream",
          "name": "stdout",
          "text": [
            "Train on 19816 samples\n",
            "Epoch 1/20\n",
            "19816/19816 [==============================] - 3s 169us/sample - loss: 5.1290\n",
            "Epoch 2/20\n",
            "19816/19816 [==============================] - 2s 96us/sample - loss: 5.0881\n",
            "Epoch 3/20\n",
            "19816/19816 [==============================] - 1s 55us/sample - loss: 5.0652\n",
            "Epoch 4/20\n",
            "19816/19816 [==============================] - 1s 56us/sample - loss: 5.0691\n",
            "Epoch 5/20\n",
            "19816/19816 [==============================] - 1s 56us/sample - loss: 5.0403\n",
            "Epoch 6/20\n",
            "19816/19816 [==============================] - 1s 57us/sample - loss: 5.0192\n",
            "Epoch 7/20\n",
            "19816/19816 [==============================] - 1s 56us/sample - loss: 4.9941\n",
            "Epoch 8/20\n",
            "19816/19816 [==============================] - 1s 54us/sample - loss: 4.9529\n",
            "Epoch 9/20\n",
            "19816/19816 [==============================] - 1s 55us/sample - loss: 4.9226\n",
            "Epoch 10/20\n",
            "19816/19816 [==============================] - 1s 52us/sample - loss: 4.9021\n",
            "Epoch 11/20\n",
            "19816/19816 [==============================] - 1s 52us/sample - loss: 4.8912\n",
            "Epoch 12/20\n",
            "19816/19816 [==============================] - 1s 50us/sample - loss: 4.8760\n",
            "Epoch 13/20\n",
            "19816/19816 [==============================] - 1s 51us/sample - loss: 4.8574\n",
            "Epoch 14/20\n",
            "19816/19816 [==============================] - 1s 53us/sample - loss: 4.8407\n",
            "Epoch 15/20\n",
            "19816/19816 [==============================] - 1s 54us/sample - loss: 4.8224\n",
            "Epoch 16/20\n",
            "19816/19816 [==============================] - 1s 51us/sample - loss: 4.8014\n",
            "Epoch 17/20\n",
            "19816/19816 [==============================] - 1s 52us/sample - loss: 4.8026\n",
            "Epoch 18/20\n",
            "19816/19816 [==============================] - 1s 51us/sample - loss: 4.7893\n",
            "Epoch 19/20\n",
            "19816/19816 [==============================] - 1s 51us/sample - loss: 4.7762\n",
            "Epoch 20/20\n",
            "19816/19816 [==============================] - 1s 54us/sample - loss: 4.7788\n"
          ]
        }
      ]
    },
    {
      "cell_type": "code",
      "source": [
        "res = model.predict(train_model_input)"
      ],
      "metadata": {
        "id": "OjNP2MhJB9l4"
      },
      "execution_count": 61,
      "outputs": []
    },
    {
      "cell_type": "code",
      "source": [
        "res"
      ],
      "metadata": {
        "colab": {
          "base_uri": "https://localhost:8080/"
        },
        "id": "S2PyKJLnE-Hs",
        "outputId": "58cf977e-09fa-4ee6-bc8e-577af760df6a"
      },
      "execution_count": 63,
      "outputs": [
        {
          "output_type": "execute_result",
          "data": {
            "text/plain": [
              "array([[3.8316984],\n",
              "       [6.9122767],\n",
              "       [4.5349135],\n",
              "       ...,\n",
              "       [4.3387537],\n",
              "       [5.78386  ],\n",
              "       [4.5742817]], dtype=float32)"
            ]
          },
          "metadata": {},
          "execution_count": 63
        }
      ]
    },
    {
      "cell_type": "code",
      "source": [
        "test_model_input['user_id'].shape"
      ],
      "metadata": {
        "colab": {
          "base_uri": "https://localhost:8080/"
        },
        "id": "NalWxqlJE2ZU",
        "outputId": "a9ebf48c-1f50-4ba6-9f93-7d10762d6a8f"
      },
      "execution_count": 60,
      "outputs": [
        {
          "output_type": "execute_result",
          "data": {
            "text/plain": [
              "(46,)"
            ]
          },
          "metadata": {},
          "execution_count": 60
        }
      ]
    },
    {
      "cell_type": "code",
      "source": [
        "train_model_input"
      ],
      "metadata": {
        "colab": {
          "base_uri": "https://localhost:8080/"
        },
        "id": "qg8FvlY1CE2I",
        "outputId": "3225f86f-6e3a-4614-972a-0bfa628bdf57"
      },
      "execution_count": 56,
      "outputs": [
        {
          "output_type": "execute_result",
          "data": {
            "text/plain": [
              "{'user_id': array([16, 21, 44, ..., 34, 32, 43]),\n",
              " 'movie_id': array([1500,   81, 1015, ..., 1694,  586, 1258]),\n",
              " 'hist_movie_id': array([[ 456,  645,  576, ...,    0,    0,    0],\n",
              "        [ 255, 1737, 1341, ...,    0,    0,    0],\n",
              "        [ 584, 1516,  751, ..., 2128, 2103, 1279],\n",
              "        ...,\n",
              "        [1069,  215, 1545, ...,    0,    0,    0],\n",
              "        [1559, 1560, 1109, ...,    0,    0,    0],\n",
              "        [ 357, 1921,  608, ...,  668,  645,  621]], dtype=int32),\n",
              " 'hist_genres': array([[ 1,  1,  8, ...,  0,  0,  0],\n",
              "        [ 8,  5,  5, ...,  0,  0,  0],\n",
              "        [ 2,  5,  5, ...,  8,  8,  8],\n",
              "        ...,\n",
              "        [ 1,  5, 16, ...,  0,  0,  0],\n",
              "        [ 5,  5,  4, ...,  0,  0,  0],\n",
              "        [ 8,  8,  8, ..., 11,  1,  7]], dtype=int32),\n",
              " 'hist_len': array([42, 40, 50, ...,  3, 23, 50]),\n",
              " 'genres': array([1, 5, 5, ..., 5, 5, 8]),\n",
              " 'gender': array([2, 1, 1, ..., 2, 2, 2]),\n",
              " 'age': array([2, 4, 3, ..., 4, 5, 3]),\n",
              " 'occupation': array([11,  4,  3, ...,  8, 12,  6]),\n",
              " 'zip': array([31, 44, 39, ..., 29, 35, 24])}"
            ]
          },
          "metadata": {},
          "execution_count": 56
        }
      ]
    },
    {
      "cell_type": "markdown",
      "source": [
        "# Predict: Generate Item and User Embeddings"
      ],
      "metadata": {
        "id": "lMvl2SKUATXr"
      }
    },
    {
      "cell_type": "code",
      "source": [
        "# 4. Generate user features for testing and full item features for retrieval\n",
        "test_user_model_input = test_model_input\n",
        "all_item_model_input = {\"movie_id\": item_profile['movie_id'].values,}\n",
        "\n",
        "user_embedding_model = Model(inputs=model.user_input, outputs=model.user_embedding)\n",
        "item_embedding_model = Model(inputs=model.item_input, outputs=model.item_embedding)\n",
        "\n",
        "user_embs = user_embedding_model.predict(test_user_model_input, batch_size=2 ** 12)\n",
        "# user_embs = user_embs[:, i, :]  # i in [0,k_max) if MIND\n",
        "item_embs = item_embedding_model.predict(all_item_model_input, batch_size=2 ** 12)\n",
        "\n",
        "print(user_embs.shape)\n",
        "print(item_embs.shape)"
      ],
      "metadata": {
        "colab": {
          "base_uri": "https://localhost:8080/"
        },
        "id": "Xdc56egCskOs",
        "outputId": "e2c2b822-537b-43cd-f829-58f9929ee4b8"
      },
      "execution_count": 57,
      "outputs": [
        {
          "output_type": "stream",
          "name": "stdout",
          "text": [
            "(46, 32)\n",
            "(2175, 32)\n"
          ]
        }
      ]
    },
    {
      "cell_type": "code",
      "source": [
        "user_embs"
      ],
      "metadata": {
        "colab": {
          "base_uri": "https://localhost:8080/"
        },
        "id": "vl-obJoXsHb_",
        "outputId": "8d6a6b0c-1044-4223-feda-c4c7af4fbe99"
      },
      "execution_count": 71,
      "outputs": [
        {
          "output_type": "execute_result",
          "data": {
            "text/plain": [
              "array([[ 0.11175336,  0.4548011 , -0.15772209, ..., -0.30629617,\n",
              "        -0.02717471, -0.03397018],\n",
              "       [-0.25274366,  0.05204326,  0.14975134, ...,  0.01575952,\n",
              "         0.11726519,  0.20512153],\n",
              "       [-0.26070133,  0.04355343, -0.02618973, ..., -0.00178358,\n",
              "        -0.16013843,  0.15932302],\n",
              "       ...,\n",
              "       [-0.21073286, -0.14665204,  0.20240216, ...,  0.22855154,\n",
              "         0.07594078,  0.277672  ],\n",
              "       [-0.13443163, -0.11743921,  0.23728777, ...,  0.20338795,\n",
              "         0.01392044,  0.12638554],\n",
              "       [-0.00552307, -0.17161307, -0.2078695 , ..., -0.07955191,\n",
              "        -0.06003252,  0.06749053]], dtype=float32)"
            ]
          },
          "metadata": {},
          "execution_count": 71
        }
      ]
    },
    {
      "cell_type": "code",
      "source": [
        "import numpy as np\n",
        "a = np.array([ 0.11175336,  0.4548011 , -0.15772209,  0.3445765 , -0.0619677 ,\n",
        "        0.06464498, -0.10026787, -0.07865412, -0.05304453,  0.19952899,\n",
        "        0.14534044,  0.16223468,  0.02545189, -0.24614649,  0.02315353,\n",
        "        0.09893572, -0.07596418, -0.09769203,  0.02297432,  0.1150127 ,\n",
        "       -0.09194405,  0.05969758, -0.01262948, -0.04111078, -0.52638304,\n",
        "       -0.01993592, -0.11702564, -0.13895226, -0.04519685, -0.30629617,\n",
        "       -0.02717471, -0.03397018])\n",
        "b = np.array([-0.22946945,  0.31338242,  0.17805392, -0.40977573,  0.06601848,\n",
        "       -0.32935393,  0.11766144, -0.08969792, -0.01543093,  0.00668303,\n",
        "       -0.1148053 ,  0.02085993,  0.3859076 , -0.07861419,  0.00837284,\n",
        "       -0.01701969,  0.3163019 , -0.36242014, -0.04939312, -0.02236807,\n",
        "       -0.12954137,  0.1923324 ,  0.04133848,  0.03154316, -0.00369814,\n",
        "        0.15590565, -0.05733275,  0.0741621 ,  0.05379602,  0.07140778,\n",
        "       -0.11147177, -0.03305427])"
      ],
      "metadata": {
        "id": "iLd79HC2FUC6"
      },
      "execution_count": 68,
      "outputs": []
    },
    {
      "cell_type": "code",
      "source": [
        "a.dot(b)"
      ],
      "metadata": {
        "colab": {
          "base_uri": "https://localhost:8080/"
        },
        "id": "ky4b2aO7FzF6",
        "outputId": "cbe1cd6c-2f9d-4139-8c2d-71a7a5bac0d0"
      },
      "execution_count": 70,
      "outputs": [
        {
          "output_type": "execute_result",
          "data": {
            "text/plain": [
              "(-0.06165534518726169, -0.06165534518726169)"
            ]
          },
          "metadata": {},
          "execution_count": 70
        }
      ]
    }
  ]
}