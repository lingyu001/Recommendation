{
  "nbformat": 4,
  "nbformat_minor": 0,
  "metadata": {
    "colab": {
      "provenance": [],
      "collapsed_sections": [
        "SOWZDxQGaOS8"
      ],
      "authorship_tag": "ABX9TyMXJwpJ7Ll9j33w4pV6fqGS",
      "include_colab_link": true
    },
    "kernelspec": {
      "name": "python3",
      "display_name": "Python 3"
    },
    "language_info": {
      "name": "python"
    }
  },
  "cells": [
    {
      "cell_type": "markdown",
      "metadata": {
        "id": "view-in-github",
        "colab_type": "text"
      },
      "source": [
        "<a href=\"https://colab.research.google.com/github/lingyu001/Recommendation/blob/master/YoutubeDNN_application.ipynb\" target=\"_parent\"><img src=\"https://colab.research.google.com/assets/colab-badge.svg\" alt=\"Open In Colab\"/></a>"
      ]
    },
    {
      "cell_type": "code",
      "execution_count": 1,
      "metadata": {
        "colab": {
          "base_uri": "https://localhost:8080/"
        },
        "id": "8qgIPmHNLkS-",
        "outputId": "2d74b4f6-7e40-44c0-b8d0-95369b102566"
      },
      "outputs": [
        {
          "output_type": "stream",
          "name": "stdout",
          "text": [
            "--2022-10-18 21:11:11--  http://files.grouplens.org/datasets/movielens/ml-1m.zip\n",
            "Resolving files.grouplens.org (files.grouplens.org)... 128.101.65.152\n",
            "Connecting to files.grouplens.org (files.grouplens.org)|128.101.65.152|:80... connected.\n",
            "HTTP request sent, awaiting response... 200 OK\n",
            "Length: 5917549 (5.6M) [application/zip]\n",
            "Saving to: ‘./ml-1m.zip’\n",
            "\n",
            "./ml-1m.zip         100%[===================>]   5.64M  3.55MB/s    in 1.6s    \n",
            "\n",
            "2022-10-18 21:11:13 (3.55 MB/s) - ‘./ml-1m.zip’ saved [5917549/5917549]\n",
            "\n",
            "--2022-10-18 21:11:13--  https://raw.githubusercontent.com/lingyu001/Recommendation/master/preprocess_sku.py\n",
            "Resolving raw.githubusercontent.com (raw.githubusercontent.com)... 185.199.108.133, 185.199.111.133, 185.199.110.133, ...\n",
            "Connecting to raw.githubusercontent.com (raw.githubusercontent.com)|185.199.108.133|:443... connected.\n",
            "HTTP request sent, awaiting response... 200 OK\n",
            "Length: 6756 (6.6K) [text/plain]\n",
            "Saving to: ‘preprocess_sku.py’\n",
            "\n",
            "preprocess_sku.py   100%[===================>]   6.60K  --.-KB/s    in 0s      \n",
            "\n",
            "2022-10-18 21:11:14 (83.8 MB/s) - ‘preprocess_sku.py’ saved [6756/6756]\n",
            "\n",
            "--2022-10-18 21:11:14--  https://raw.githubusercontent.com/lingyu001/Recommendation/master/model_utils.py\n",
            "Resolving raw.githubusercontent.com (raw.githubusercontent.com)... 185.199.111.133, 185.199.108.133, 185.199.109.133, ...\n",
            "Connecting to raw.githubusercontent.com (raw.githubusercontent.com)|185.199.111.133|:443... connected.\n",
            "HTTP request sent, awaiting response... 200 OK\n",
            "Length: 17409 (17K) [text/plain]\n",
            "Saving to: ‘model_utils.py’\n",
            "\n",
            "model_utils.py      100%[===================>]  17.00K  --.-KB/s    in 0.001s  \n",
            "\n",
            "2022-10-18 21:11:14 (12.6 MB/s) - ‘model_utils.py’ saved [17409/17409]\n",
            "\n",
            "Archive:  ml-1m.zip\n",
            "  inflating: ml-1m/movies.dat        \n",
            "  inflating: ml-1m/ratings.dat       \n",
            "  inflating: ml-1m/README            \n",
            "  inflating: ml-1m/users.dat         \n"
          ]
        }
      ],
      "source": [
        "! wget http://files.grouplens.org/datasets/movielens/ml-1m.zip -O ./ml-1m.zip\n",
        "! wget https://raw.githubusercontent.com/lingyu001/Recommendation/master/preprocess_sku.py -O preprocess_sku.py\n",
        "! wget https://raw.githubusercontent.com/lingyu001/Recommendation/master/model_utils.py -O model_utils.py\n",
        "! unzip -o ml-1m.zip "
      ]
    },
    {
      "cell_type": "code",
      "source": [
        "# ! pip install -q deepmatch"
      ],
      "metadata": {
        "id": "1MMP7wa9N4t6"
      },
      "execution_count": 2,
      "outputs": []
    },
    {
      "cell_type": "code",
      "source": [
        "import pandas as pd\n",
        "from ast import literal_eval\n",
        "from preprocess_sku import gen_data_set, gen_model_input, gen_data_set_timesplit\n",
        "from sklearn.preprocessing import LabelEncoder\n",
        "from tensorflow.python.keras import backend as K\n",
        "from tensorflow.python.keras.models import Model\n",
        "from model_utils import DNN, EmbeddingIndex, NoMask, PoolingLayer, l2_normalize,\\\n",
        " reduce_mean, SampledSoftmaxLayer, get_item_embedding, sampledsoftmaxloss"
      ],
      "metadata": {
        "id": "gABip0B7LsHJ"
      },
      "execution_count": 3,
      "outputs": []
    },
    {
      "cell_type": "code",
      "source": [
        "%load_ext autoreload\n",
        "%autoreload 2"
      ],
      "metadata": {
        "id": "DDQ87v8WA94s"
      },
      "execution_count": 2,
      "outputs": []
    },
    {
      "cell_type": "code",
      "source": [
        "import gc\n",
        "gc.collect()"
      ],
      "metadata": {
        "colab": {
          "base_uri": "https://localhost:8080/"
        },
        "id": "iNrBg8FgIG4I",
        "outputId": "7ad7c070-550e-4a81-b33c-480e090e862a"
      },
      "execution_count": 116,
      "outputs": [
        {
          "output_type": "execute_result",
          "data": {
            "text/plain": [
              "44"
            ]
          },
          "metadata": {},
          "execution_count": 116
        }
      ]
    },
    {
      "cell_type": "markdown",
      "source": [
        "# Data"
      ],
      "metadata": {
        "id": "xCJLpR8EQoBm"
      }
    },
    {
      "cell_type": "code",
      "source": [
        "# data_path = \"./\"\n",
        "\n",
        "# unames = ['user_id','gender','age','occupation','zip']\n",
        "# user = pd.read_csv(data_path+'ml-1m/users.dat',sep='::',header=None,names=unames)\n",
        "# rnames = ['user_id','sku_number','rating','timestamp']\n",
        "# ratings = pd.read_csv(data_path+'ml-1m/ratings.dat',sep='::',header=None,names=rnames)\n",
        "# mnames = ['sku_number','title','genres']\n",
        "# movies = pd.read_csv(data_path+'ml-1m/movies.dat',sep='::',header=None,names=mnames,encoding=\"unicode_escape\")\n",
        "# movies['genres'] = list(map(lambda x: x.split('|')[0], movies['genres'].values))\n",
        "\n",
        "# data = pd.merge(pd.merge(ratings,movies),user).iloc[:10000] # taking 1w\n",
        "# print(data.shape)\n",
        "# print(data.user_id.nunique())\n",
        "# print(data.sku_number.nunique())\n",
        "# data.head(2)"
      ],
      "metadata": {
        "id": "OK705XlgQmHX"
      },
      "execution_count": 4,
      "outputs": []
    },
    {
      "cell_type": "markdown",
      "source": [
        "### Sales data"
      ],
      "metadata": {
        "id": "9OZLgQp6aSHq"
      }
    },
    {
      "cell_type": "code",
      "source": [
        "data = pd.read_csv('sample_data/mik_sales_180_7.csv', index_col = False, \n",
        "                   parse_dates = ['trans_date','created_time']\n",
        "                   )\n",
        "# data['most_recent_purchased_sku'] = data['most_recent_purchased_sku'].apply(literal_eval)\n",
        "# data['most_recent_view_sku'] = data['most_recent_view_sku'].apply(literal_eval)\n",
        "# data['hist_sku_number'] = data['most_recent_purchased_sku'] + data['most_recent_view_sku']\n",
        "data.shape"
      ],
      "metadata": {
        "colab": {
          "base_uri": "https://localhost:8080/"
        },
        "id": "F1hiTW4Iyn0m",
        "outputId": "48e4e863-9d4f-4ae3-d27a-70a799d6cfec"
      },
      "execution_count": 95,
      "outputs": [
        {
          "output_type": "execute_result",
          "data": {
            "text/plain": [
              "(4321141, 10)"
            ]
          },
          "metadata": {},
          "execution_count": 95
        }
      ]
    },
    {
      "cell_type": "code",
      "source": [
        "data.info()"
      ],
      "metadata": {
        "colab": {
          "base_uri": "https://localhost:8080/"
        },
        "id": "wMShUDJhFWD4",
        "outputId": "5907d79d-c263-41d7-b370-d88f9ce502da"
      },
      "execution_count": 123,
      "outputs": [
        {
          "output_type": "stream",
          "name": "stdout",
          "text": [
            "<class 'pandas.core.frame.DataFrame'>\n",
            "Int64Index: 2236579 entries, 84375 to 470715\n",
            "Data columns (total 11 columns):\n",
            " #   Column                              Dtype         \n",
            "---  ------                              -----         \n",
            " 0   data_source                         object        \n",
            " 1   user_id                             int64         \n",
            " 2   sku_number                          int64         \n",
            " 3   qty                                 int64         \n",
            " 4   trans_date                          datetime64[ns]\n",
            " 5   created_time                        datetime64[ns]\n",
            " 6   email_address                       object        \n",
            " 7   geo_zip                             int64         \n",
            " 8   most_frequent_device_class_general  int64         \n",
            " 9   category_path                       int64         \n",
            " 10  sku_number_org                      object        \n",
            "dtypes: datetime64[ns](2), int64(6), object(3)\n",
            "memory usage: 204.8+ MB\n"
          ]
        }
      ]
    },
    {
      "cell_type": "code",
      "source": [
        "data['user_id'].nunique(), data['sku_number'].nunique()"
      ],
      "metadata": {
        "colab": {
          "base_uri": "https://localhost:8080/"
        },
        "id": "vO3mrEwF1jNr",
        "outputId": "ebe241e9-8c5c-496e-d6c9-683892ea3c40"
      },
      "execution_count": 100,
      "outputs": [
        {
          "output_type": "execute_result",
          "data": {
            "text/plain": [
              "(1068897, 63526)"
            ]
          },
          "metadata": {},
          "execution_count": 100
        }
      ]
    },
    {
      "cell_type": "code",
      "source": [
        "data['trans_date'].max(),data['trans_date'].min(), data['trans_date'].max() - data['trans_date'].min()"
      ],
      "metadata": {
        "colab": {
          "base_uri": "https://localhost:8080/"
        },
        "id": "CBJDSGwRu0nc",
        "outputId": "2acfc8b3-475b-4ae0-c391-1fe8d16f3b56"
      },
      "execution_count": 101,
      "outputs": [
        {
          "output_type": "execute_result",
          "data": {
            "text/plain": [
              "(Timestamp('2022-03-31 00:00:00'),\n",
              " Timestamp('2021-09-25 00:00:00'),\n",
              " Timedelta('187 days 00:00:00'))"
            ]
          },
          "metadata": {},
          "execution_count": 101
        }
      ]
    },
    {
      "cell_type": "code",
      "source": [
        "import datetime\n",
        "# test_start_date = pd.Timestamp(datetime.datetime.today().date() - datetime.timedelta(6))\n",
        "test_start_date = data['trans_date'].max() - datetime.timedelta(6)\n",
        "\n",
        "test_start_date"
      ],
      "metadata": {
        "colab": {
          "base_uri": "https://localhost:8080/"
        },
        "id": "nWk9AWxGz7S8",
        "outputId": "ac2a754f-3994-4cd7-981c-f3f4a4daa85e"
      },
      "execution_count": 102,
      "outputs": [
        {
          "output_type": "execute_result",
          "data": {
            "text/plain": [
              "Timestamp('2022-03-25 00:00:00')"
            ]
          },
          "metadata": {},
          "execution_count": 102
        }
      ]
    },
    {
      "cell_type": "code",
      "source": [
        "start_date = data['trans_date'].max() - datetime.timedelta(7) - datetime.timedelta(90)\n",
        "start_date"
      ],
      "metadata": {
        "colab": {
          "base_uri": "https://localhost:8080/"
        },
        "id": "V0A3U6V7IcXi",
        "outputId": "e5c5fd2c-f49d-4544-d6b2-ef10124a6cb5"
      },
      "execution_count": 119,
      "outputs": [
        {
          "output_type": "execute_result",
          "data": {
            "text/plain": [
              "Timestamp('2021-12-24 00:00:00')"
            ]
          },
          "metadata": {},
          "execution_count": 119
        }
      ]
    },
    {
      "cell_type": "code",
      "source": [
        "data = data[data['trans_date'] >= start_date]"
      ],
      "metadata": {
        "id": "JV5RA_dmIieY"
      },
      "execution_count": 122,
      "outputs": []
    },
    {
      "cell_type": "code",
      "source": [
        "data.columns"
      ],
      "metadata": {
        "colab": {
          "base_uri": "https://localhost:8080/"
        },
        "id": "sTK78FgJ_A31",
        "outputId": "86210bca-b71b-47ea-dcc6-33cc320abafc"
      },
      "execution_count": 103,
      "outputs": [
        {
          "output_type": "execute_result",
          "data": {
            "text/plain": [
              "Index(['data_source', 'user_id', 'sku_number', 'qty', 'trans_date',\n",
              "       'created_time', 'email_address', 'geo_zip',\n",
              "       'most_frequent_device_class_general', 'category_path'],\n",
              "      dtype='object')"
            ]
          },
          "metadata": {},
          "execution_count": 103
        }
      ]
    },
    {
      "cell_type": "code",
      "source": [
        "data = data[['data_source', 'user_id', 'sku_number', 'qty', 'trans_date',\n",
        "       'created_time', 'email_address', 'geo_zip','most_frequent_device_class_general','category_path']]"
      ],
      "metadata": {
        "id": "GTzEI3Hg-7r-"
      },
      "execution_count": 104,
      "outputs": []
    },
    {
      "cell_type": "code",
      "source": [
        "data['sku_number_org'] = data['sku_number']"
      ],
      "metadata": {
        "id": "jMR5OecXnl75"
      },
      "execution_count": 105,
      "outputs": []
    },
    {
      "cell_type": "markdown",
      "source": [
        "### Item category mapping dat"
      ],
      "metadata": {
        "id": "SOWZDxQGaOS8"
      }
    },
    {
      "cell_type": "code",
      "source": [
        "df_item = pd.read_csv(\"sample_data/mik_item_07292022.csv\", index_col=False)\n",
        "df_item.shape"
      ],
      "metadata": {
        "colab": {
          "base_uri": "https://localhost:8080/",
          "height": 346
        },
        "id": "nzq1i9jZ0JAf",
        "outputId": "696b511f-c435-4b44-cfd0-d4155a3f0a3a"
      },
      "execution_count": 10,
      "outputs": [
        {
          "output_type": "error",
          "ename": "FileNotFoundError",
          "evalue": "ignored",
          "traceback": [
            "\u001b[0;31m---------------------------------------------------------------------------\u001b[0m",
            "\u001b[0;31mFileNotFoundError\u001b[0m                         Traceback (most recent call last)",
            "\u001b[0;32m<ipython-input-10-fcb35263543d>\u001b[0m in \u001b[0;36m<module>\u001b[0;34m\u001b[0m\n\u001b[0;32m----> 1\u001b[0;31m \u001b[0mdf_item\u001b[0m \u001b[0;34m=\u001b[0m \u001b[0mpd\u001b[0m\u001b[0;34m.\u001b[0m\u001b[0mread_csv\u001b[0m\u001b[0;34m(\u001b[0m\u001b[0;34m\"sample_data/mik_item_07292022.csv\"\u001b[0m\u001b[0;34m,\u001b[0m \u001b[0mindex_col\u001b[0m\u001b[0;34m=\u001b[0m\u001b[0;32mFalse\u001b[0m\u001b[0;34m)\u001b[0m\u001b[0;34m\u001b[0m\u001b[0;34m\u001b[0m\u001b[0m\n\u001b[0m\u001b[1;32m      2\u001b[0m \u001b[0mdf_item\u001b[0m\u001b[0;34m.\u001b[0m\u001b[0mshape\u001b[0m\u001b[0;34m\u001b[0m\u001b[0;34m\u001b[0m\u001b[0m\n",
            "\u001b[0;32m/usr/local/lib/python3.7/dist-packages/pandas/util/_decorators.py\u001b[0m in \u001b[0;36mwrapper\u001b[0;34m(*args, **kwargs)\u001b[0m\n\u001b[1;32m    309\u001b[0m                     \u001b[0mstacklevel\u001b[0m\u001b[0;34m=\u001b[0m\u001b[0mstacklevel\u001b[0m\u001b[0;34m,\u001b[0m\u001b[0;34m\u001b[0m\u001b[0;34m\u001b[0m\u001b[0m\n\u001b[1;32m    310\u001b[0m                 )\n\u001b[0;32m--> 311\u001b[0;31m             \u001b[0;32mreturn\u001b[0m \u001b[0mfunc\u001b[0m\u001b[0;34m(\u001b[0m\u001b[0;34m*\u001b[0m\u001b[0margs\u001b[0m\u001b[0;34m,\u001b[0m \u001b[0;34m**\u001b[0m\u001b[0mkwargs\u001b[0m\u001b[0;34m)\u001b[0m\u001b[0;34m\u001b[0m\u001b[0;34m\u001b[0m\u001b[0m\n\u001b[0m\u001b[1;32m    312\u001b[0m \u001b[0;34m\u001b[0m\u001b[0m\n\u001b[1;32m    313\u001b[0m         \u001b[0;32mreturn\u001b[0m \u001b[0mwrapper\u001b[0m\u001b[0;34m\u001b[0m\u001b[0;34m\u001b[0m\u001b[0m\n",
            "\u001b[0;32m/usr/local/lib/python3.7/dist-packages/pandas/io/parsers/readers.py\u001b[0m in \u001b[0;36mread_csv\u001b[0;34m(filepath_or_buffer, sep, delimiter, header, names, index_col, usecols, squeeze, prefix, mangle_dupe_cols, dtype, engine, converters, true_values, false_values, skipinitialspace, skiprows, skipfooter, nrows, na_values, keep_default_na, na_filter, verbose, skip_blank_lines, parse_dates, infer_datetime_format, keep_date_col, date_parser, dayfirst, cache_dates, iterator, chunksize, compression, thousands, decimal, lineterminator, quotechar, quoting, doublequote, escapechar, comment, encoding, encoding_errors, dialect, error_bad_lines, warn_bad_lines, on_bad_lines, delim_whitespace, low_memory, memory_map, float_precision, storage_options)\u001b[0m\n\u001b[1;32m    584\u001b[0m     \u001b[0mkwds\u001b[0m\u001b[0;34m.\u001b[0m\u001b[0mupdate\u001b[0m\u001b[0;34m(\u001b[0m\u001b[0mkwds_defaults\u001b[0m\u001b[0;34m)\u001b[0m\u001b[0;34m\u001b[0m\u001b[0;34m\u001b[0m\u001b[0m\n\u001b[1;32m    585\u001b[0m \u001b[0;34m\u001b[0m\u001b[0m\n\u001b[0;32m--> 586\u001b[0;31m     \u001b[0;32mreturn\u001b[0m \u001b[0m_read\u001b[0m\u001b[0;34m(\u001b[0m\u001b[0mfilepath_or_buffer\u001b[0m\u001b[0;34m,\u001b[0m \u001b[0mkwds\u001b[0m\u001b[0;34m)\u001b[0m\u001b[0;34m\u001b[0m\u001b[0;34m\u001b[0m\u001b[0m\n\u001b[0m\u001b[1;32m    587\u001b[0m \u001b[0;34m\u001b[0m\u001b[0m\n\u001b[1;32m    588\u001b[0m \u001b[0;34m\u001b[0m\u001b[0m\n",
            "\u001b[0;32m/usr/local/lib/python3.7/dist-packages/pandas/io/parsers/readers.py\u001b[0m in \u001b[0;36m_read\u001b[0;34m(filepath_or_buffer, kwds)\u001b[0m\n\u001b[1;32m    480\u001b[0m \u001b[0;34m\u001b[0m\u001b[0m\n\u001b[1;32m    481\u001b[0m     \u001b[0;31m# Create the parser.\u001b[0m\u001b[0;34m\u001b[0m\u001b[0;34m\u001b[0m\u001b[0;34m\u001b[0m\u001b[0m\n\u001b[0;32m--> 482\u001b[0;31m     \u001b[0mparser\u001b[0m \u001b[0;34m=\u001b[0m \u001b[0mTextFileReader\u001b[0m\u001b[0;34m(\u001b[0m\u001b[0mfilepath_or_buffer\u001b[0m\u001b[0;34m,\u001b[0m \u001b[0;34m**\u001b[0m\u001b[0mkwds\u001b[0m\u001b[0;34m)\u001b[0m\u001b[0;34m\u001b[0m\u001b[0;34m\u001b[0m\u001b[0m\n\u001b[0m\u001b[1;32m    483\u001b[0m \u001b[0;34m\u001b[0m\u001b[0m\n\u001b[1;32m    484\u001b[0m     \u001b[0;32mif\u001b[0m \u001b[0mchunksize\u001b[0m \u001b[0;32mor\u001b[0m \u001b[0miterator\u001b[0m\u001b[0;34m:\u001b[0m\u001b[0;34m\u001b[0m\u001b[0;34m\u001b[0m\u001b[0m\n",
            "\u001b[0;32m/usr/local/lib/python3.7/dist-packages/pandas/io/parsers/readers.py\u001b[0m in \u001b[0;36m__init__\u001b[0;34m(self, f, engine, **kwds)\u001b[0m\n\u001b[1;32m    809\u001b[0m             \u001b[0mself\u001b[0m\u001b[0;34m.\u001b[0m\u001b[0moptions\u001b[0m\u001b[0;34m[\u001b[0m\u001b[0;34m\"has_index_names\"\u001b[0m\u001b[0;34m]\u001b[0m \u001b[0;34m=\u001b[0m \u001b[0mkwds\u001b[0m\u001b[0;34m[\u001b[0m\u001b[0;34m\"has_index_names\"\u001b[0m\u001b[0;34m]\u001b[0m\u001b[0;34m\u001b[0m\u001b[0;34m\u001b[0m\u001b[0m\n\u001b[1;32m    810\u001b[0m \u001b[0;34m\u001b[0m\u001b[0m\n\u001b[0;32m--> 811\u001b[0;31m         \u001b[0mself\u001b[0m\u001b[0;34m.\u001b[0m\u001b[0m_engine\u001b[0m \u001b[0;34m=\u001b[0m \u001b[0mself\u001b[0m\u001b[0;34m.\u001b[0m\u001b[0m_make_engine\u001b[0m\u001b[0;34m(\u001b[0m\u001b[0mself\u001b[0m\u001b[0;34m.\u001b[0m\u001b[0mengine\u001b[0m\u001b[0;34m)\u001b[0m\u001b[0;34m\u001b[0m\u001b[0;34m\u001b[0m\u001b[0m\n\u001b[0m\u001b[1;32m    812\u001b[0m \u001b[0;34m\u001b[0m\u001b[0m\n\u001b[1;32m    813\u001b[0m     \u001b[0;32mdef\u001b[0m \u001b[0mclose\u001b[0m\u001b[0;34m(\u001b[0m\u001b[0mself\u001b[0m\u001b[0;34m)\u001b[0m\u001b[0;34m:\u001b[0m\u001b[0;34m\u001b[0m\u001b[0;34m\u001b[0m\u001b[0m\n",
            "\u001b[0;32m/usr/local/lib/python3.7/dist-packages/pandas/io/parsers/readers.py\u001b[0m in \u001b[0;36m_make_engine\u001b[0;34m(self, engine)\u001b[0m\n\u001b[1;32m   1038\u001b[0m             )\n\u001b[1;32m   1039\u001b[0m         \u001b[0;31m# error: Too many arguments for \"ParserBase\"\u001b[0m\u001b[0;34m\u001b[0m\u001b[0;34m\u001b[0m\u001b[0;34m\u001b[0m\u001b[0m\n\u001b[0;32m-> 1040\u001b[0;31m         \u001b[0;32mreturn\u001b[0m \u001b[0mmapping\u001b[0m\u001b[0;34m[\u001b[0m\u001b[0mengine\u001b[0m\u001b[0;34m]\u001b[0m\u001b[0;34m(\u001b[0m\u001b[0mself\u001b[0m\u001b[0;34m.\u001b[0m\u001b[0mf\u001b[0m\u001b[0;34m,\u001b[0m \u001b[0;34m**\u001b[0m\u001b[0mself\u001b[0m\u001b[0;34m.\u001b[0m\u001b[0moptions\u001b[0m\u001b[0;34m)\u001b[0m  \u001b[0;31m# type: ignore[call-arg]\u001b[0m\u001b[0;34m\u001b[0m\u001b[0;34m\u001b[0m\u001b[0m\n\u001b[0m\u001b[1;32m   1041\u001b[0m \u001b[0;34m\u001b[0m\u001b[0m\n\u001b[1;32m   1042\u001b[0m     \u001b[0;32mdef\u001b[0m \u001b[0m_failover_to_python\u001b[0m\u001b[0;34m(\u001b[0m\u001b[0mself\u001b[0m\u001b[0;34m)\u001b[0m\u001b[0;34m:\u001b[0m\u001b[0;34m\u001b[0m\u001b[0;34m\u001b[0m\u001b[0m\n",
            "\u001b[0;32m/usr/local/lib/python3.7/dist-packages/pandas/io/parsers/c_parser_wrapper.py\u001b[0m in \u001b[0;36m__init__\u001b[0;34m(self, src, **kwds)\u001b[0m\n\u001b[1;32m     49\u001b[0m \u001b[0;34m\u001b[0m\u001b[0m\n\u001b[1;32m     50\u001b[0m         \u001b[0;31m# open handles\u001b[0m\u001b[0;34m\u001b[0m\u001b[0;34m\u001b[0m\u001b[0;34m\u001b[0m\u001b[0m\n\u001b[0;32m---> 51\u001b[0;31m         \u001b[0mself\u001b[0m\u001b[0;34m.\u001b[0m\u001b[0m_open_handles\u001b[0m\u001b[0;34m(\u001b[0m\u001b[0msrc\u001b[0m\u001b[0;34m,\u001b[0m \u001b[0mkwds\u001b[0m\u001b[0;34m)\u001b[0m\u001b[0;34m\u001b[0m\u001b[0;34m\u001b[0m\u001b[0m\n\u001b[0m\u001b[1;32m     52\u001b[0m         \u001b[0;32massert\u001b[0m \u001b[0mself\u001b[0m\u001b[0;34m.\u001b[0m\u001b[0mhandles\u001b[0m \u001b[0;32mis\u001b[0m \u001b[0;32mnot\u001b[0m \u001b[0;32mNone\u001b[0m\u001b[0;34m\u001b[0m\u001b[0;34m\u001b[0m\u001b[0m\n\u001b[1;32m     53\u001b[0m \u001b[0;34m\u001b[0m\u001b[0m\n",
            "\u001b[0;32m/usr/local/lib/python3.7/dist-packages/pandas/io/parsers/base_parser.py\u001b[0m in \u001b[0;36m_open_handles\u001b[0;34m(self, src, kwds)\u001b[0m\n\u001b[1;32m    227\u001b[0m             \u001b[0mmemory_map\u001b[0m\u001b[0;34m=\u001b[0m\u001b[0mkwds\u001b[0m\u001b[0;34m.\u001b[0m\u001b[0mget\u001b[0m\u001b[0;34m(\u001b[0m\u001b[0;34m\"memory_map\"\u001b[0m\u001b[0;34m,\u001b[0m \u001b[0;32mFalse\u001b[0m\u001b[0;34m)\u001b[0m\u001b[0;34m,\u001b[0m\u001b[0;34m\u001b[0m\u001b[0;34m\u001b[0m\u001b[0m\n\u001b[1;32m    228\u001b[0m             \u001b[0mstorage_options\u001b[0m\u001b[0;34m=\u001b[0m\u001b[0mkwds\u001b[0m\u001b[0;34m.\u001b[0m\u001b[0mget\u001b[0m\u001b[0;34m(\u001b[0m\u001b[0;34m\"storage_options\"\u001b[0m\u001b[0;34m,\u001b[0m \u001b[0;32mNone\u001b[0m\u001b[0;34m)\u001b[0m\u001b[0;34m,\u001b[0m\u001b[0;34m\u001b[0m\u001b[0;34m\u001b[0m\u001b[0m\n\u001b[0;32m--> 229\u001b[0;31m             \u001b[0merrors\u001b[0m\u001b[0;34m=\u001b[0m\u001b[0mkwds\u001b[0m\u001b[0;34m.\u001b[0m\u001b[0mget\u001b[0m\u001b[0;34m(\u001b[0m\u001b[0;34m\"encoding_errors\"\u001b[0m\u001b[0;34m,\u001b[0m \u001b[0;34m\"strict\"\u001b[0m\u001b[0;34m)\u001b[0m\u001b[0;34m,\u001b[0m\u001b[0;34m\u001b[0m\u001b[0;34m\u001b[0m\u001b[0m\n\u001b[0m\u001b[1;32m    230\u001b[0m         )\n\u001b[1;32m    231\u001b[0m \u001b[0;34m\u001b[0m\u001b[0m\n",
            "\u001b[0;32m/usr/local/lib/python3.7/dist-packages/pandas/io/common.py\u001b[0m in \u001b[0;36mget_handle\u001b[0;34m(path_or_buf, mode, encoding, compression, memory_map, is_text, errors, storage_options)\u001b[0m\n\u001b[1;32m    705\u001b[0m                 \u001b[0mencoding\u001b[0m\u001b[0;34m=\u001b[0m\u001b[0mioargs\u001b[0m\u001b[0;34m.\u001b[0m\u001b[0mencoding\u001b[0m\u001b[0;34m,\u001b[0m\u001b[0;34m\u001b[0m\u001b[0;34m\u001b[0m\u001b[0m\n\u001b[1;32m    706\u001b[0m                 \u001b[0merrors\u001b[0m\u001b[0;34m=\u001b[0m\u001b[0merrors\u001b[0m\u001b[0;34m,\u001b[0m\u001b[0;34m\u001b[0m\u001b[0;34m\u001b[0m\u001b[0m\n\u001b[0;32m--> 707\u001b[0;31m                 \u001b[0mnewline\u001b[0m\u001b[0;34m=\u001b[0m\u001b[0;34m\"\"\u001b[0m\u001b[0;34m,\u001b[0m\u001b[0;34m\u001b[0m\u001b[0;34m\u001b[0m\u001b[0m\n\u001b[0m\u001b[1;32m    708\u001b[0m             )\n\u001b[1;32m    709\u001b[0m         \u001b[0;32melse\u001b[0m\u001b[0;34m:\u001b[0m\u001b[0;34m\u001b[0m\u001b[0;34m\u001b[0m\u001b[0m\n",
            "\u001b[0;31mFileNotFoundError\u001b[0m: [Errno 2] No such file or directory: 'sample_data/mik_item_07292022.csv'"
          ]
        }
      ]
    },
    {
      "cell_type": "code",
      "source": [
        "df_item.head(2)"
      ],
      "metadata": {
        "colab": {
          "base_uri": "https://localhost:8080/",
          "height": 166
        },
        "id": "vPcVViQgXHbM",
        "outputId": "17a3e4b6-36f6-4592-828d-a0fbcf554528"
      },
      "execution_count": 11,
      "outputs": [
        {
          "output_type": "error",
          "ename": "NameError",
          "evalue": "ignored",
          "traceback": [
            "\u001b[0;31m---------------------------------------------------------------------------\u001b[0m",
            "\u001b[0;31mNameError\u001b[0m                                 Traceback (most recent call last)",
            "\u001b[0;32m<ipython-input-11-02391b88675f>\u001b[0m in \u001b[0;36m<module>\u001b[0;34m\u001b[0m\n\u001b[0;32m----> 1\u001b[0;31m \u001b[0mdf_item\u001b[0m\u001b[0;34m.\u001b[0m\u001b[0mhead\u001b[0m\u001b[0;34m(\u001b[0m\u001b[0;36m2\u001b[0m\u001b[0;34m)\u001b[0m\u001b[0;34m\u001b[0m\u001b[0;34m\u001b[0m\u001b[0m\n\u001b[0m",
            "\u001b[0;31mNameError\u001b[0m: name 'df_item' is not defined"
          ]
        }
      ]
    },
    {
      "cell_type": "code",
      "source": [
        "data['most_recent_view_sku'].apply(lambda x: len(x)).describe()"
      ],
      "metadata": {
        "id": "A4vUvwyon4ZF"
      },
      "execution_count": null,
      "outputs": []
    },
    {
      "cell_type": "markdown",
      "source": [
        "# Feature Engineering"
      ],
      "metadata": {
        "id": "9oeGJOW4REfl"
      }
    },
    {
      "cell_type": "code",
      "source": [
        "sparse_features = ['sku_number', 'category_path',\n",
        "                   'user_id', 'geo_zip','most_frequent_device_class_general']\n",
        "\n",
        "SEQ_LEN = 50\n",
        "NUMBER_NEG_SAMPLE = 1 # used for generate 1:1 positive:negative samples\n"
      ],
      "metadata": {
        "id": "YX0vSmbeQv4i"
      },
      "execution_count": 124,
      "outputs": []
    },
    {
      "cell_type": "code",
      "source": [
        "# view_item_set = list(set(data['most_recent_view_sku'].sum()))\n",
        "# full_item_set = list(set(list(data['sku_number'].unique()) + view_item_set))\n",
        "# len(full_item_set)"
      ],
      "metadata": {
        "id": "ZJJT6PNTew_Y"
      },
      "execution_count": 125,
      "outputs": []
    },
    {
      "cell_type": "code",
      "source": [
        "feature_max_idx = {}\n",
        "for feature in sparse_features:\n",
        "    # if feature == 'sku_number':      \n",
        "    #   lbe_sku = LabelEncoder()\n",
        "    #   lbe_sku.fit(full_item_set)\n",
        "    #   data[feature] = lbe_sku.transform(data[feature]) + 1\n",
        "    #   feature_max_idx[feature] = data[feature].max() + 1\n",
        "    # else:\n",
        "    lbe = LabelEncoder()\n",
        "    data[feature] = lbe.fit_transform(data[feature]) + 1 # add one to all the encoded categories labels\n",
        "    feature_max_idx[feature] = data[feature].max() + 1"
      ],
      "metadata": {
        "id": "XV-0GzPzRIgO",
        "colab": {
          "base_uri": "https://localhost:8080/"
        },
        "outputId": "7d51415b-fb62-419c-f6c4-943cc1c149a2"
      },
      "execution_count": 126,
      "outputs": [
        {
          "output_type": "stream",
          "name": "stderr",
          "text": [
            "/usr/local/lib/python3.7/dist-packages/ipykernel_launcher.py:10: SettingWithCopyWarning: \n",
            "A value is trying to be set on a copy of a slice from a DataFrame.\n",
            "Try using .loc[row_indexer,col_indexer] = value instead\n",
            "\n",
            "See the caveats in the documentation: https://pandas.pydata.org/pandas-docs/stable/user_guide/indexing.html#returning-a-view-versus-a-copy\n",
            "  # Remove the CWD from sys.path while we load stuff.\n"
          ]
        }
      ]
    },
    {
      "cell_type": "code",
      "source": [
        "feature_max_idx"
      ],
      "metadata": {
        "colab": {
          "base_uri": "https://localhost:8080/"
        },
        "id": "gwa-Qg4BRQcG",
        "outputId": "9467eb1b-8924-410e-97f7-d1487939f391"
      },
      "execution_count": 127,
      "outputs": [
        {
          "output_type": "execute_result",
          "data": {
            "text/plain": [
              "{'sku_number': 55185,\n",
              " 'category_path': 1970,\n",
              " 'user_id': 601539,\n",
              " 'geo_zip': 18948,\n",
              " 'most_frequent_device_class_general': 4}"
            ]
          },
          "metadata": {},
          "execution_count": 127
        }
      ]
    },
    {
      "cell_type": "code",
      "source": [
        "user_profile = data[['user_id', 'geo_zip', 'most_frequent_device_class_general']].drop_duplicates('user_id')\n",
        "user_profile.set_index(\"user_id\", inplace=True)\n",
        "item_profile = data[[\"sku_number\"]].drop_duplicates('sku_number')\n",
        "user_profile.shape, item_profile.shape"
      ],
      "metadata": {
        "colab": {
          "base_uri": "https://localhost:8080/"
        },
        "id": "a3bUcH_vRvRW",
        "outputId": "4fec1506-026a-4ede-c48b-19ca92a8fb2b"
      },
      "execution_count": 128,
      "outputs": [
        {
          "output_type": "execute_result",
          "data": {
            "text/plain": [
              "((601538, 2), (55184, 1))"
            ]
          },
          "metadata": {},
          "execution_count": 128
        }
      ]
    },
    {
      "cell_type": "code",
      "source": [
        "# user_item_list = data.groupby(\"user_id\")['sku_number'].apply(list)\n",
        "user_item_list = data.groupby(\"user_id\")['sku_number'].apply(list)\n",
        "\n",
        "user_item_list.head()"
      ],
      "metadata": {
        "colab": {
          "base_uri": "https://localhost:8080/"
        },
        "id": "ASZeh8yrR1Ld",
        "outputId": "52d2f314-0776-4551-ee3f-58482ca23ca9"
      },
      "execution_count": 129,
      "outputs": [
        {
          "output_type": "execute_result",
          "data": {
            "text/plain": [
              "user_id\n",
              "1    [9093, 49007, 2271, 49005, 1597]\n",
              "2                [13262, 2085, 47698]\n",
              "3                              [2766]\n",
              "4               [13674, 19307, 13778]\n",
              "5                             [14607]\n",
              "Name: sku_number, dtype: object"
            ]
          },
          "metadata": {},
          "execution_count": 129
        }
      ]
    },
    {
      "cell_type": "code",
      "source": [
        "train_set, test_set = gen_data_set_timesplit(data, test_start_date, SEQ_LEN, NUMBER_NEG_SAMPLE)"
      ],
      "metadata": {
        "colab": {
          "base_uri": "https://localhost:8080/",
          "height": 464
        },
        "id": "Rl8ECM3r0StD",
        "outputId": "471325b2-bf93-4e31-c0f7-9a114a7e1cc8"
      },
      "execution_count": 130,
      "outputs": [
        {
          "output_type": "stream",
          "name": "stderr",
          "text": [
            "/usr/local/lib/python3.7/dist-packages/pandas/util/_decorators.py:311: SettingWithCopyWarning: \n",
            "A value is trying to be set on a copy of a slice from a DataFrame\n",
            "\n",
            "See the caveats in the documentation: https://pandas.pydata.org/pandas-docs/stable/user_guide/indexing.html#returning-a-view-versus-a-copy\n",
            "  return func(*args, **kwargs)\n",
            "  2%|▏         | 10213/601538 [03:21<3:14:03, 50.78it/s]\n"
          ]
        },
        {
          "output_type": "error",
          "ename": "KeyboardInterrupt",
          "evalue": "ignored",
          "traceback": [
            "\u001b[0;31m---------------------------------------------------------------------------\u001b[0m",
            "\u001b[0;31mKeyboardInterrupt\u001b[0m                         Traceback (most recent call last)",
            "\u001b[0;32m<ipython-input-130-2d5cd165f887>\u001b[0m in \u001b[0;36m<module>\u001b[0;34m\u001b[0m\n\u001b[0;32m----> 1\u001b[0;31m \u001b[0mtrain_set\u001b[0m\u001b[0;34m,\u001b[0m \u001b[0mtest_set\u001b[0m \u001b[0;34m=\u001b[0m \u001b[0mgen_data_set_timesplit\u001b[0m\u001b[0;34m(\u001b[0m\u001b[0mdata\u001b[0m\u001b[0;34m,\u001b[0m \u001b[0mtest_start_date\u001b[0m\u001b[0;34m,\u001b[0m \u001b[0mSEQ_LEN\u001b[0m\u001b[0;34m,\u001b[0m \u001b[0mNUMBER_NEG_SAMPLE\u001b[0m\u001b[0;34m)\u001b[0m\u001b[0;34m\u001b[0m\u001b[0;34m\u001b[0m\u001b[0m\n\u001b[0m",
            "\u001b[0;32m/content/preprocess_sku.py\u001b[0m in \u001b[0;36mgen_data_set_timesplit\u001b[0;34m(data, split_time, seq_max_len, negsample)\u001b[0m\n\u001b[1;32m     60\u001b[0m         \u001b[0;32mif\u001b[0m \u001b[0mnegsample\u001b[0m \u001b[0;34m>\u001b[0m \u001b[0;36m0\u001b[0m\u001b[0;34m:\u001b[0m\u001b[0;34m\u001b[0m\u001b[0;34m\u001b[0m\u001b[0m\n\u001b[1;32m     61\u001b[0m             \u001b[0mcandidate_set\u001b[0m \u001b[0;34m=\u001b[0m \u001b[0mlist\u001b[0m\u001b[0;34m(\u001b[0m\u001b[0mset\u001b[0m\u001b[0;34m(\u001b[0m\u001b[0mitem_ids\u001b[0m\u001b[0;34m)\u001b[0m \u001b[0;34m-\u001b[0m \u001b[0mset\u001b[0m\u001b[0;34m(\u001b[0m\u001b[0mpos_list\u001b[0m\u001b[0;34m)\u001b[0m\u001b[0;34m)\u001b[0m\u001b[0;34m\u001b[0m\u001b[0;34m\u001b[0m\u001b[0m\n\u001b[0;32m---> 62\u001b[0;31m             \u001b[0mneg_list\u001b[0m \u001b[0;34m=\u001b[0m \u001b[0mnp\u001b[0m\u001b[0;34m.\u001b[0m\u001b[0mrandom\u001b[0m\u001b[0;34m.\u001b[0m\u001b[0mchoice\u001b[0m\u001b[0;34m(\u001b[0m\u001b[0mcandidate_set\u001b[0m\u001b[0;34m,\u001b[0m \u001b[0msize\u001b[0m\u001b[0;34m=\u001b[0m\u001b[0mlen\u001b[0m\u001b[0;34m(\u001b[0m\u001b[0mpos_list\u001b[0m\u001b[0;34m)\u001b[0m \u001b[0;34m*\u001b[0m \u001b[0mnegsample\u001b[0m\u001b[0;34m,\u001b[0m \u001b[0mreplace\u001b[0m\u001b[0;34m=\u001b[0m\u001b[0;32mTrue\u001b[0m\u001b[0;34m)\u001b[0m\u001b[0;34m\u001b[0m\u001b[0;34m\u001b[0m\u001b[0m\n\u001b[0m\u001b[1;32m     63\u001b[0m         \u001b[0;32mfor\u001b[0m \u001b[0mi\u001b[0m \u001b[0;32min\u001b[0m \u001b[0mrange\u001b[0m\u001b[0;34m(\u001b[0m\u001b[0;36m1\u001b[0m\u001b[0;34m,\u001b[0m \u001b[0mlen\u001b[0m\u001b[0;34m(\u001b[0m\u001b[0mpos_list\u001b[0m\u001b[0;34m)\u001b[0m\u001b[0;34m)\u001b[0m\u001b[0;34m:\u001b[0m\u001b[0;34m\u001b[0m\u001b[0;34m\u001b[0m\u001b[0m\n\u001b[1;32m     64\u001b[0m             \u001b[0mhist\u001b[0m \u001b[0;34m=\u001b[0m \u001b[0mpos_list\u001b[0m\u001b[0;34m[\u001b[0m\u001b[0;34m:\u001b[0m\u001b[0mi\u001b[0m\u001b[0;34m]\u001b[0m\u001b[0;34m\u001b[0m\u001b[0;34m\u001b[0m\u001b[0m\n",
            "\u001b[0;31mKeyboardInterrupt\u001b[0m: "
          ]
        }
      ]
    },
    {
      "cell_type": "code",
      "source": [
        "# reviewerID,  - user id\n",
        "# pos_list[i], - movie id\n",
        "# 1, - label y\n",
        "# hist[::-1][:seq_len], - most recent watched movie id list before watching this movie, up to 50\n",
        "# seq_len\n",
        "# genres_hist[::-1][:seq_len], - most recent watched movie's genres list before watching this movie, up to 50\n",
        "# genres_list[i], - this movie's genre\n",
        "# rating_list[i] - this movie's rating\n",
        "# train_set[12]"
      ],
      "metadata": {
        "id": "CwikHNU0Vyof"
      },
      "execution_count": null,
      "outputs": []
    },
    {
      "cell_type": "code",
      "source": [
        "train_model_input, train_label = gen_model_input(train_set, user_profile, SEQ_LEN)\n",
        "test_model_input, test_label = gen_model_input(test_set, user_profile, SEQ_LEN)\n",
        "train_label.shape, train_model_input['user_id'].shape, test_model_input['user_id'].shape, test_label.shape"
      ],
      "metadata": {
        "id": "mMKXnWBnYtFE"
      },
      "execution_count": null,
      "outputs": []
    },
    {
      "cell_type": "code",
      "source": [
        "train_model_input['user_id'].shape"
      ],
      "metadata": {
        "id": "V0Ys07CoFX_z"
      },
      "execution_count": null,
      "outputs": []
    },
    {
      "cell_type": "markdown",
      "source": [
        "# Create Embeddings"
      ],
      "metadata": {
        "id": "MmNE8kuEfXRE"
      }
    },
    {
      "cell_type": "code",
      "source": [
        "from collections import Counter\n",
        "train_counter = Counter(train_model_input['sku_number'])\n",
        "item_count = [train_counter.get(i,0) for i in range(feature_max_idx['sku_number'])]\n",
        "len(train_counter), type(train_counter), len(item_count)"
      ],
      "metadata": {
        "id": "ljKC65_PzHRU"
      },
      "execution_count": null,
      "outputs": []
    },
    {
      "cell_type": "code",
      "source": [
        "import tensorflow as tf\n",
        "from tensorflow.python.keras.initializers import RandomNormal, Zeros\n",
        "from tensorflow.python.keras.layers import Embedding, Input, Lambda\n",
        "from tensorflow.python.keras.regularizers import l2\n",
        "if tf.__version__ >= '2.0.0':\n",
        "    tf.compat.v1.disable_eager_execution()\n",
        "else:\n",
        "    K.set_learning_phase(True)"
      ],
      "metadata": {
        "id": "yV1mZ6yt6c0K"
      },
      "execution_count": null,
      "outputs": []
    },
    {
      "cell_type": "markdown",
      "source": [
        "### Create Feature Embeddings\n",
        "\n"
      ],
      "metadata": {
        "id": "RFusDxnPixY4"
      }
    },
    {
      "cell_type": "code",
      "source": [
        "# item features\n",
        "item_feature_columns = ['sku_number']\n",
        "# User features\n",
        "user_feature_columns = ['user_id', 'geo_zip', 'most_frequent_device_class_general',                        \n",
        "                        'hist_sku_number',\n",
        "                        'hist_category_path',\n",
        "                        'hist_len'\n",
        "                        ]\n"
      ],
      "metadata": {
        "id": "gVDJOjXTrNT-"
      },
      "execution_count": null,
      "outputs": []
    },
    {
      "cell_type": "code",
      "source": [
        "feature_max_idx"
      ],
      "metadata": {
        "id": "xUPZ56aqrWpa"
      },
      "execution_count": null,
      "outputs": []
    },
    {
      "cell_type": "code",
      "source": [
        "user_sparse_feature_columns = user_feature_columns[0:3]\n",
        "user_sparse_feature_columns"
      ],
      "metadata": {
        "id": "OdMHOjpeqvHT"
      },
      "execution_count": null,
      "outputs": []
    },
    {
      "cell_type": "code",
      "source": [
        "user_seq_sparse_feature_columns = user_feature_columns[3:-1]\n",
        "user_seq_sparse_feature_columns "
      ],
      "metadata": {
        "id": "6kvCDMmvrAOC"
      },
      "execution_count": null,
      "outputs": []
    },
    {
      "cell_type": "code",
      "source": [
        "# embedding input and output specification\n",
        "embeddings_initializer = RandomNormal(mean=0.0, stddev=0.0001, seed=2020)\n",
        "embedding_dim = 32\n",
        "l2_reg = 1e-6\n",
        "# use a dict to collect embeddings\n",
        "sparse_embedding = {}"
      ],
      "metadata": {
        "id": "WzDyy6iNlYef"
      },
      "execution_count": null,
      "outputs": []
    },
    {
      "cell_type": "code",
      "source": [
        "# user embeddings\n",
        "for name in user_sparse_feature_columns: \n",
        "  emb = Embedding(\n",
        "      input_dim = feature_max_idx[name], \n",
        "      output_dim = 16,\n",
        "      embeddings_initializer=embeddings_initializer,\n",
        "      embeddings_regularizer=l2(l2_reg),\n",
        "      name='sparse_' + 'emb_' + name\n",
        "  )\n",
        "  emb.trainable = True\n",
        "  sparse_embedding[name] = emb\n",
        "for name in user_seq_sparse_feature_columns: \n",
        "   emb = Embedding(feature_max_idx[name[5:]], embedding_dim,\n",
        "                            embeddings_initializer=embeddings_initializer,\n",
        "                            embeddings_regularizer=l2(\n",
        "                                l2_reg),\n",
        "                            name='sparse_' + 'seq_emb_'  + name,\n",
        "                            mask_zero=False) # True\n",
        "   emb.trainable = True\n",
        "   sparse_embedding[name] = emb"
      ],
      "metadata": {
        "id": "zrIjOw2-lZ2P"
      },
      "execution_count": null,
      "outputs": []
    },
    {
      "cell_type": "code",
      "source": [
        "# item embeddings\n",
        "item_feature_name = item_feature_columns[0] # only include item id \n",
        "emb = Embedding(\n",
        "      input_dim = feature_max_idx[item_feature_name], \n",
        "      output_dim = embedding_dim,\n",
        "      embeddings_initializer=embeddings_initializer,\n",
        "      embeddings_regularizer=l2(l2_reg),\n",
        "      name='sparse_' + 'emb_' + item_feature_name\n",
        "  )\n",
        "sparse_embedding[item_feature_name] = emb"
      ],
      "metadata": {
        "id": "5aJDL4b-r475"
      },
      "execution_count": null,
      "outputs": []
    },
    {
      "cell_type": "code",
      "source": [
        "sparse_embedding # include both user and item embedding layers"
      ],
      "metadata": {
        "id": "9Ydd0xItnuZJ"
      },
      "execution_count": null,
      "outputs": []
    },
    {
      "cell_type": "markdown",
      "source": [
        "# Create User Inputs\n"
      ],
      "metadata": {
        "id": "__RCtmE768yP"
      }
    },
    {
      "cell_type": "markdown",
      "source": [
        "## Create Inputs Tensor"
      ],
      "metadata": {
        "id": "yM6mg7fw-yZc"
      }
    },
    {
      "cell_type": "code",
      "source": [
        "# user features inputs\n",
        "from collections import OrderedDict\n",
        "user_features = OrderedDict()\n",
        "for name in user_sparse_feature_columns:\n",
        "  user_features[name] = Input(\n",
        "                shape=(1,), \n",
        "                name=name, \n",
        "                dtype=\"int32\"\n",
        "                )\n",
        "for name in user_seq_sparse_feature_columns:\n",
        "  user_features[name] = Input(\n",
        "                shape=(SEQ_LEN,), \n",
        "                name=name, \n",
        "                dtype=\"int32\"\n",
        "                )\n",
        "length_name = 'hist_len'\n",
        "if length_name in user_feature_columns:\n",
        "  user_features[length_name] = Input((1,), name=length_name, dtype='int32')"
      ],
      "metadata": {
        "id": "ntvMR9x5BtjF"
      },
      "execution_count": null,
      "outputs": []
    },
    {
      "cell_type": "code",
      "source": [
        "user_inputs_list = list(user_features.values())\n",
        "user_inputs_list"
      ],
      "metadata": {
        "id": "ZsM6mPDJkqVR"
      },
      "execution_count": null,
      "outputs": []
    },
    {
      "cell_type": "code",
      "source": [
        "# item feature inputs\n",
        "item_features = OrderedDict()\n",
        "for name in item_feature_columns:\n",
        "  item_features[name] = Input(\n",
        "                shape=(1,), \n",
        "                name=name, \n",
        "                dtype=\"int32\"\n",
        "                )\n",
        "item_inputs_list = list(item_features.values())\n"
      ],
      "metadata": {
        "id": "at2VIiBv02WB"
      },
      "execution_count": null,
      "outputs": []
    },
    {
      "cell_type": "code",
      "source": [
        "item_inputs_list"
      ],
      "metadata": {
        "id": "w7BeQhIW1ZHB"
      },
      "execution_count": null,
      "outputs": []
    },
    {
      "cell_type": "markdown",
      "source": [
        "## Embed Inputs"
      ],
      "metadata": {
        "id": "rkJg1GNFkJPD"
      }
    },
    {
      "cell_type": "code",
      "source": [
        "# Embed sparse inputs\n",
        "from collections import defaultdict\n",
        "user_sparse_embeded_input = defaultdict(list)\n",
        "\n",
        "for name in user_sparse_feature_columns:\n",
        "  user_sparse_embeded_input[name] = sparse_embedding[name](user_features[name])"
      ],
      "metadata": {
        "id": "gtkBZ6HLkHAf"
      },
      "execution_count": null,
      "outputs": []
    },
    {
      "cell_type": "code",
      "source": [
        "# Embed the sequence sparse inputs, need to add pooling layer to it\n",
        "seq_embeded_dict = defaultdict(list)\n",
        "\n",
        "for name in user_seq_sparse_feature_columns:\n",
        "  seq_embeded_dict[name] = sparse_embedding[name](user_features[name])\n",
        "\n",
        "# from deepctr.layers.sequence import SequencePoolingLayer\n",
        "# for name in user_seq_sparse_feature_columns:\n",
        "#   user_seq_sparse_embeded_input[name] = SequencePoolingLayer('mean', supports_masking=False)([seq_embeded_dict[name], user_features[length_name]])\n",
        "\n",
        "from tensorflow.keras.layers import AveragePooling1D\n",
        "user_seq_sparse_embeded_input = defaultdict(list)\n",
        "for name in user_seq_sparse_feature_columns:\n",
        "  user_seq_sparse_embeded_input[name] = AveragePooling1D(pool_size=50, padding='valid')(seq_embeded_dict[name])"
      ],
      "metadata": {
        "id": "BgZyHLfAySUq"
      },
      "execution_count": null,
      "outputs": []
    },
    {
      "cell_type": "code",
      "source": [
        "# vec = AveragePooling1D(pool_size=50, strides = 50, padding='valid')\n",
        "# vec(seq_embeded_dict[name])"
      ],
      "metadata": {
        "id": "dGJ-aWJCeAyX"
      },
      "execution_count": null,
      "outputs": []
    },
    {
      "cell_type": "code",
      "source": [
        "# from deepctr.layers.sequence import SequencePoolingLayer\n",
        "# vec2 = SequencePoolingLayer('mean', supports_masking=False)\n",
        "# vec2([seq_embeded_dict[name], 35])"
      ],
      "metadata": {
        "id": "LAWoVKoueGNl"
      },
      "execution_count": null,
      "outputs": []
    },
    {
      "cell_type": "code",
      "source": [
        "# combine embeded inputs into a list\n",
        "user_sparse_embedding_list = list(user_sparse_embeded_input.values()) + list(user_seq_sparse_embeded_input.values())\n",
        "user_sparse_embedding_list"
      ],
      "metadata": {
        "id": "OIgRP5lyXbPZ"
      },
      "execution_count": null,
      "outputs": []
    },
    {
      "cell_type": "markdown",
      "source": [
        "## Combine Embeded Input (User only)"
      ],
      "metadata": {
        "id": "6nIWKAyXpmRX"
      }
    },
    {
      "cell_type": "code",
      "source": [
        "from tensorflow.python.keras.layers import Flatten, Concatenate, Layer, Add"
      ],
      "metadata": {
        "id": "Gw7pkzWzppJ4"
      },
      "execution_count": null,
      "outputs": []
    },
    {
      "cell_type": "code",
      "source": [
        "user_dnn_input = Flatten()(Concatenate(axis=2)(user_sparse_embedding_list))\n",
        "user_dnn_input"
      ],
      "metadata": {
        "id": "0ruiNeGZBOEy"
      },
      "execution_count": null,
      "outputs": []
    },
    {
      "cell_type": "markdown",
      "source": [
        "# Sepecify Model Layers"
      ],
      "metadata": {
        "id": "00EvAK7d7v8H"
      }
    },
    {
      "cell_type": "markdown",
      "source": [
        "### User Layers"
      ],
      "metadata": {
        "id": "Nyz2GRXstx1u"
      }
    },
    {
      "cell_type": "code",
      "source": [
        "from tensorflow.keras import layers"
      ],
      "metadata": {
        "id": "5XEX8w1qfiWY"
      },
      "execution_count": null,
      "outputs": []
    },
    {
      "cell_type": "code",
      "source": [
        "user_dnn_hidden_units = (128,64, embedding_dim)\n",
        "dnn_activation='relu'\n",
        "dnn_use_bn=False\n",
        "l2_reg_dnn=0\n",
        "l2_reg_embedding=1e-6\n",
        "dnn_dropout=0\n",
        "output_activation='linear'\n",
        "temperature=0.05,\n",
        "# sampler_config=sampler_config\n",
        "seed=1024"
      ],
      "metadata": {
        "id": "jxUktp9cysj_"
      },
      "execution_count": null,
      "outputs": []
    },
    {
      "cell_type": "code",
      "source": [
        "# from deepctr.layers import DNN\n",
        "from model_utils import DNN"
      ],
      "metadata": {
        "id": "iLbtmoH17KAU"
      },
      "execution_count": null,
      "outputs": []
    },
    {
      "cell_type": "code",
      "source": [
        "dnn_layers = DNN(hidden_units = user_dnn_hidden_units, \n",
        "                  activation='relu', \n",
        "                  l2_reg=0, \n",
        "                  dropout_rate=0, \n",
        "                  use_bn=False, \n",
        "                  output_activation='linear',\n",
        "                  seed=1024\n",
        "                  )\n",
        "\n"
      ],
      "metadata": {
        "id": "9S6JndR3KFx1"
      },
      "execution_count": null,
      "outputs": []
    },
    {
      "cell_type": "code",
      "source": [
        "user_dnn_output = dnn_layers(user_dnn_input)\n",
        "user_dnn_output = l2_normalize(user_dnn_output)\n",
        "user_dnn_output"
      ],
      "metadata": {
        "id": "ZlEfVc4dLS0l"
      },
      "execution_count": null,
      "outputs": []
    },
    {
      "cell_type": "markdown",
      "source": [
        "### Item Layer"
      ],
      "metadata": {
        "id": "ae2bSV0TtnvG"
      }
    },
    {
      "cell_type": "code",
      "source": [
        "# Create item index tensor\n",
        "item_vocabulary_size = feature_max_idx[item_feature_name]\n",
        "item_index = EmbeddingIndex(list(range(item_vocabulary_size)))(item_features[item_feature_name])\n",
        "\n",
        "# embed the item index input\n",
        "item_embeding = sparse_embedding[item_feature_name]\n",
        "item_embedding_weight = NoMask()(item_embeding(item_index))\n",
        "pooling_item_embedding_weight = PoolingLayer()([item_embedding_weight])\n",
        "pooling_item_embedding_weight = l2_normalize(pooling_item_embedding_weight)\n",
        "pooling_item_embedding_weight\n"
      ],
      "metadata": {
        "id": "xdKJ9VEfCyXL"
      },
      "execution_count": null,
      "outputs": []
    },
    {
      "cell_type": "code",
      "source": [
        "pooling_item_embedding_weight.eval(session=K.get_session()).shape"
      ],
      "metadata": {
        "id": "OjQ88lPaprh2"
      },
      "execution_count": null,
      "outputs": []
    },
    {
      "cell_type": "code",
      "source": [
        "# .eval(session=K.get_session())"
      ],
      "metadata": {
        "id": "dR7Lsgh0qy20"
      },
      "execution_count": null,
      "outputs": []
    },
    {
      "cell_type": "markdown",
      "source": [
        "### Output Layer"
      ],
      "metadata": {
        "id": "NaZ1ifdZ_LM5"
      }
    },
    {
      "cell_type": "code",
      "source": [
        "output = SampledSoftmaxLayer()(\n",
        "    [pooling_item_embedding_weight, user_dnn_output, item_features[item_feature_name]])\n",
        "output"
      ],
      "metadata": {
        "id": "p_hbelWEowl8"
      },
      "execution_count": null,
      "outputs": []
    },
    {
      "cell_type": "code",
      "source": [
        "# from model_utils import SampledSoftmaxLayer\n",
        "# sf = SampledSoftmaxLayer()"
      ],
      "metadata": {
        "id": "4JSxRTWtFAnG"
      },
      "execution_count": null,
      "outputs": []
    },
    {
      "cell_type": "code",
      "source": [
        "# from tensorflow.keras.layers import Softmax\n",
        "# sf2 = Softmax()\n",
        "# import numpy as np\n",
        "# x = np.asarray([[1., 2., 1.]])\n",
        "# x\n",
        "# sf2(x).eval(session=K.get_session())"
      ],
      "metadata": {
        "id": "5AFUGxVwFA--"
      },
      "execution_count": null,
      "outputs": []
    },
    {
      "cell_type": "code",
      "source": [
        "pooling_item_embedding_weight"
      ],
      "metadata": {
        "id": "sWLljvPiA8rI"
      },
      "execution_count": null,
      "outputs": []
    },
    {
      "cell_type": "code",
      "source": [
        "user_dnn_output"
      ],
      "metadata": {
        "id": "uNGi4K9YAwcw"
      },
      "execution_count": null,
      "outputs": []
    },
    {
      "cell_type": "code",
      "source": [
        "item_features[item_feature_name]"
      ],
      "metadata": {
        "id": "xZdpyC-JA-NH"
      },
      "execution_count": null,
      "outputs": []
    },
    {
      "cell_type": "markdown",
      "source": [
        "## Build Model"
      ],
      "metadata": {
        "id": "7pxt5AhhABQv"
      }
    },
    {
      "cell_type": "code",
      "source": [
        "from tensorflow.python.keras.models import Model"
      ],
      "metadata": {
        "id": "NxwwfP8M_c-X"
      },
      "execution_count": null,
      "outputs": []
    },
    {
      "cell_type": "code",
      "source": [
        "model = Model(inputs=user_inputs_list + item_inputs_list, outputs=output)\n",
        "\n",
        "model.__setattr__(\"user_input\", user_inputs_list)\n",
        "model.__setattr__(\"user_embedding\", user_dnn_output)\n",
        "\n",
        "model.__setattr__(\"item_input\", item_inputs_list)\n",
        "model.__setattr__(\"item_embedding\",\n",
        "                  get_item_embedding(pooling_item_embedding_weight, item_features[item_feature_name]))\n"
      ],
      "metadata": {
        "id": "05qTGyqg_HYD"
      },
      "execution_count": null,
      "outputs": []
    },
    {
      "cell_type": "markdown",
      "source": [
        "# Model Compile and Training"
      ],
      "metadata": {
        "id": "iZTKXy9MsFGM"
      }
    },
    {
      "cell_type": "code",
      "source": [
        "model.compile(optimizer=\"adam\", loss=sampledsoftmaxloss)"
      ],
      "metadata": {
        "id": "LN4h_A0-BcE7"
      },
      "execution_count": null,
      "outputs": []
    },
    {
      "cell_type": "code",
      "source": [
        "history = model.fit(train_model_input, train_label,\n",
        "                    batch_size=512, epochs=20, verbose=1, validation_split=0.0, )"
      ],
      "metadata": {
        "id": "UNzun5zFpqZi"
      },
      "execution_count": null,
      "outputs": []
    },
    {
      "cell_type": "code",
      "source": [
        "res = model.predict(test_model_input)"
      ],
      "metadata": {
        "id": "OjNP2MhJB9l4"
      },
      "execution_count": null,
      "outputs": []
    },
    {
      "cell_type": "code",
      "source": [
        "res.shape"
      ],
      "metadata": {
        "id": "S2PyKJLnE-Hs"
      },
      "execution_count": null,
      "outputs": []
    },
    {
      "cell_type": "markdown",
      "source": [
        "# Predict: Generate Item and User Embeddings"
      ],
      "metadata": {
        "id": "lMvl2SKUATXr"
      }
    },
    {
      "cell_type": "code",
      "source": [
        "# 4. Generate user features for testing and full item features for retrieval\n",
        "test_user_model_input = test_model_input\n",
        "all_item_model_input = {\"sku_number\": item_profile['sku_number'].values,}\n",
        "\n",
        "user_embedding_model = Model(inputs=model.user_input, outputs=model.user_embedding)\n",
        "item_embedding_model = Model(inputs=model.item_input, outputs=model.item_embedding)\n",
        "\n",
        "user_embs = user_embedding_model.predict(test_user_model_input, batch_size=2 ** 12)\n",
        "# user_embs = user_embs[:, i, :]  # i in [0,k_max) if MIND\n",
        "item_embs = item_embedding_model.predict(all_item_model_input, batch_size=2 ** 12)\n",
        "\n",
        "print(user_embs.shape)\n",
        "print(item_embs.shape)"
      ],
      "metadata": {
        "id": "Xdc56egCskOs"
      },
      "execution_count": null,
      "outputs": []
    },
    {
      "cell_type": "code",
      "source": [
        "prob_matrix = user_embs.dot(item_embs.T)\n",
        "prob_matrix.shape"
      ],
      "metadata": {
        "id": "vl-obJoXsHb_"
      },
      "execution_count": null,
      "outputs": []
    },
    {
      "cell_type": "markdown",
      "source": [
        "# Recommendation"
      ],
      "metadata": {
        "id": "o4CKmfGRZN1U"
      }
    },
    {
      "cell_type": "code",
      "source": [
        "! pip install faiss-cpu"
      ],
      "metadata": {
        "id": "Qmd7zOfPZKYm"
      },
      "execution_count": null,
      "outputs": []
    },
    {
      "cell_type": "code",
      "source": [
        "import numpy as np\n",
        "import faiss\n",
        "from tqdm import tqdm\n",
        "# from deepmatch.utils import recall_N"
      ],
      "metadata": {
        "id": "WFcrO0yfZR7N"
      },
      "execution_count": null,
      "outputs": []
    },
    {
      "cell_type": "code",
      "source": [
        "def recall_N(y_true, y_pred, N=50):\n",
        "    return len(set(y_pred[:N]) & set(y_true)) * 1.0 / len(y_true)"
      ],
      "metadata": {
        "id": "BA0XGxZeZSc-"
      },
      "execution_count": null,
      "outputs": []
    },
    {
      "cell_type": "code",
      "source": [
        "test_true_label = {line[0]:[line[1]] for line in test_set}\n",
        "\n",
        "import numpy as np\n",
        "import faiss\n",
        "from tqdm import tqdm\n",
        "# from deepmatch.utils import recall_N\n",
        "\n",
        "index = faiss.IndexFlatIP(embedding_dim)\n",
        "# faiss.normalize_L2(item_embs)\n",
        "index.add(item_embs)\n",
        "# faiss.normalize_L2(user_embs)\n",
        "D, I = index.search(np.ascontiguousarray(user_embs), 50)\n",
        "s = []\n",
        "hit = 0\n",
        "pred_label = {}\n",
        "for i, uid in tqdm(enumerate(test_user_model_input['user_id'])):\n",
        "    try:\n",
        "        pred = [item_profile['sku_number'].values[x] for x in I[i]]\n",
        "        filter_item = None\n",
        "        recall_score = recall_N(test_true_label[uid], pred, N=50)\n",
        "        s.append(recall_score)\n",
        "        pred_label[uid] = pred\n",
        "        if test_true_label[uid] in pred:\n",
        "            hit += 1\n",
        "    except:\n",
        "        print(i)\n",
        "print(\"\")\n",
        "print(\"recall\", np.mean(s))\n",
        "print(\"hit rate\", hit / len(test_user_model_input['user_id']))"
      ],
      "metadata": {
        "id": "SIkX1VFcZljX"
      },
      "execution_count": null,
      "outputs": []
    },
    {
      "cell_type": "code",
      "source": [
        "len(pred_label[160])"
      ],
      "metadata": {
        "id": "ClkiqMjwZp83"
      },
      "execution_count": null,
      "outputs": []
    },
    {
      "cell_type": "markdown",
      "source": [
        "# Validation"
      ],
      "metadata": {
        "id": "TuPNR-NMekj8"
      }
    },
    {
      "cell_type": "code",
      "source": [
        "df_train = pd.DataFrame(train_set)"
      ],
      "metadata": {
        "id": "z03lXn0_ej1F"
      },
      "execution_count": null,
      "outputs": []
    },
    {
      "cell_type": "code",
      "source": [
        "test_user_model_input['user_id'][0:10]"
      ],
      "metadata": {
        "id": "pF-pD6-Uetr7"
      },
      "execution_count": null,
      "outputs": []
    },
    {
      "cell_type": "code",
      "source": [
        "user_idx = 0\n",
        "uid = 78"
      ],
      "metadata": {
        "id": "diVIJiHYemTu"
      },
      "execution_count": null,
      "outputs": []
    },
    {
      "cell_type": "code",
      "source": [
        "D[user_idx]"
      ],
      "metadata": {
        "id": "pri8VJaUezq9"
      },
      "execution_count": null,
      "outputs": []
    },
    {
      "cell_type": "code",
      "source": [
        "sorted_index = prob_matrix.argsort()[:,-50:]\n",
        "-np.sort(-prob_matrix[user_idx][sorted_index[user_idx]])"
      ],
      "metadata": {
        "id": "bWbv8B4Be2rD"
      },
      "execution_count": null,
      "outputs": []
    },
    {
      "cell_type": "code",
      "source": [
        "I[user_idx]"
      ],
      "metadata": {
        "id": "LCUtQYKVe9bb"
      },
      "execution_count": null,
      "outputs": []
    },
    {
      "cell_type": "code",
      "source": [
        "(sorted_index[user_idx])[::-1]"
      ],
      "metadata": {
        "id": "jF-Z8Pxwe-5D"
      },
      "execution_count": null,
      "outputs": []
    },
    {
      "cell_type": "code",
      "source": [
        "np.array([item_profile['sku_number'].values[x] for x in I[user_idx]])"
      ],
      "metadata": {
        "id": "NOKNNh77fUgs"
      },
      "execution_count": null,
      "outputs": []
    },
    {
      "cell_type": "code",
      "source": [
        "len(set(df_train[df_train[0]==uid][1].unique()) & set([item_profile['sku_number'].values[x] for x in I[user_idx]]))"
      ],
      "metadata": {
        "id": "QBAYyM5IfCHF"
      },
      "execution_count": null,
      "outputs": []
    },
    {
      "cell_type": "code",
      "source": [
        "len(set(df_train[df_train[0]==uid][1].unique()) & set(sorted_index[user_idx]))"
      ],
      "metadata": {
        "id": "ej88yFHrfV50"
      },
      "execution_count": null,
      "outputs": []
    },
    {
      "cell_type": "code",
      "source": [
        "item_profile['sku_number']"
      ],
      "metadata": {
        "id": "rBul1ltqfjN9"
      },
      "execution_count": null,
      "outputs": []
    },
    {
      "cell_type": "code",
      "source": [
        "all_item_model_input"
      ],
      "metadata": {
        "id": "vLF8AHwjfogU"
      },
      "execution_count": null,
      "outputs": []
    },
    {
      "cell_type": "code",
      "source": [],
      "metadata": {
        "id": "TBAsHn9J9uXI"
      },
      "execution_count": null,
      "outputs": []
    }
  ]
}