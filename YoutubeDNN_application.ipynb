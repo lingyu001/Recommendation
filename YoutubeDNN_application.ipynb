{
  "nbformat": 4,
  "nbformat_minor": 0,
  "metadata": {
    "colab": {
      "provenance": [],
      "collapsed_sections": [],
      "authorship_tag": "ABX9TyPIjh9VC/p8hL7PVlTAAJ4w",
      "include_colab_link": true
    },
    "kernelspec": {
      "name": "python3",
      "display_name": "Python 3"
    },
    "language_info": {
      "name": "python"
    }
  },
  "cells": [
    {
      "cell_type": "markdown",
      "metadata": {
        "id": "view-in-github",
        "colab_type": "text"
      },
      "source": [
        "<a href=\"https://colab.research.google.com/github/lingyu001/Recommendation/blob/master/YoutubeDNN_application.ipynb\" target=\"_parent\"><img src=\"https://colab.research.google.com/assets/colab-badge.svg\" alt=\"Open In Colab\"/></a>"
      ]
    },
    {
      "cell_type": "code",
      "execution_count": 3,
      "metadata": {
        "colab": {
          "base_uri": "https://localhost:8080/"
        },
        "id": "8qgIPmHNLkS-",
        "outputId": "a7e27de4-c9ce-4a3f-d7d2-4dd5c40269c7"
      },
      "outputs": [
        {
          "output_type": "stream",
          "name": "stdout",
          "text": [
            "--2022-10-05 18:15:04--  http://files.grouplens.org/datasets/movielens/ml-1m.zip\n",
            "Resolving files.grouplens.org (files.grouplens.org)... 128.101.65.152\n",
            "Connecting to files.grouplens.org (files.grouplens.org)|128.101.65.152|:80... connected.\n",
            "HTTP request sent, awaiting response... 200 OK\n",
            "Length: 5917549 (5.6M) [application/zip]\n",
            "Saving to: ‘./ml-1m.zip’\n",
            "\n",
            "./ml-1m.zip         100%[===================>]   5.64M  6.70MB/s    in 0.8s    \n",
            "\n",
            "2022-10-05 18:15:05 (6.70 MB/s) - ‘./ml-1m.zip’ saved [5917549/5917549]\n",
            "\n",
            "--2022-10-05 18:15:05--  https://raw.githubusercontent.com/lingyu001/Recommendation/master/preprocess.py\n",
            "Resolving raw.githubusercontent.com (raw.githubusercontent.com)... 185.199.108.133, 185.199.110.133, 185.199.111.133, ...\n",
            "Connecting to raw.githubusercontent.com (raw.githubusercontent.com)|185.199.108.133|:443... connected.\n",
            "HTTP request sent, awaiting response... 200 OK\n",
            "Length: 6687 (6.5K) [text/plain]\n",
            "Saving to: ‘preprocess.py’\n",
            "\n",
            "preprocess.py       100%[===================>]   6.53K  --.-KB/s    in 0s      \n",
            "\n",
            "2022-10-05 18:15:05 (70.1 MB/s) - ‘preprocess.py’ saved [6687/6687]\n",
            "\n",
            "--2022-10-05 18:15:05--  https://raw.githubusercontent.com/lingyu001/Recommendation/master/model_utils.py\n",
            "Resolving raw.githubusercontent.com (raw.githubusercontent.com)... 185.199.108.133, 185.199.109.133, 185.199.110.133, ...\n",
            "Connecting to raw.githubusercontent.com (raw.githubusercontent.com)|185.199.108.133|:443... connected.\n",
            "HTTP request sent, awaiting response... 200 OK\n",
            "Length: 17409 (17K) [text/plain]\n",
            "Saving to: ‘model_utils.py’\n",
            "\n",
            "model_utils.py      100%[===================>]  17.00K  --.-KB/s    in 0.007s  \n",
            "\n",
            "2022-10-05 18:15:05 (2.37 MB/s) - ‘model_utils.py’ saved [17409/17409]\n",
            "\n",
            "Archive:  ml-1m.zip\n",
            "  inflating: ml-1m/movies.dat        \n",
            "  inflating: ml-1m/ratings.dat       \n",
            "  inflating: ml-1m/README            \n",
            "  inflating: ml-1m/users.dat         \n"
          ]
        }
      ],
      "source": [
        "! wget http://files.grouplens.org/datasets/movielens/ml-1m.zip -O ./ml-1m.zip\n",
        "! wget https://raw.githubusercontent.com/lingyu001/Recommendation/master/preprocess.py -O preprocess_sku.py\n",
        "! wget https://raw.githubusercontent.com/lingyu001/Recommendation/master/model_utils.py -O model_utils.py\n",
        "! unzip -o ml-1m.zip "
      ]
    },
    {
      "cell_type": "code",
      "source": [
        "# ! pip install -q deepmatch"
      ],
      "metadata": {
        "colab": {
          "base_uri": "https://localhost:8080/"
        },
        "id": "1MMP7wa9N4t6",
        "outputId": "dd9183b1-5fb1-4a72-933d-1d7846fd52b4"
      },
      "execution_count": null,
      "outputs": [
        {
          "output_type": "stream",
          "name": "stdout",
          "text": [
            "\u001b[K     |████████████████████████████████| 147 kB 46.3 MB/s \n",
            "\u001b[K     |████████████████████████████████| 2.9 MB 61.2 MB/s \n",
            "\u001b[?25h"
          ]
        }
      ]
    },
    {
      "cell_type": "code",
      "source": [
        "import pandas as pd\n",
        "from ast import literal_eval\n",
        "from preprocess_sku import gen_data_set, gen_model_input\n",
        "from sklearn.preprocessing import LabelEncoder\n",
        "from tensorflow.python.keras import backend as K\n",
        "from tensorflow.python.keras.models import Model\n",
        "from model_utils import DNN, EmbeddingIndex, NoMask, PoolingLayer, l2_normalize,\\\n",
        " reduce_mean, SampledSoftmaxLayer, get_item_embedding, sampledsoftmaxloss"
      ],
      "metadata": {
        "id": "gABip0B7LsHJ"
      },
      "execution_count": 1,
      "outputs": []
    },
    {
      "cell_type": "code",
      "source": [
        "from preprocess_sku import gen_data_set, gen_model_input\n"
      ],
      "metadata": {
        "id": "HKEu7SehARuN"
      },
      "execution_count": 90,
      "outputs": []
    },
    {
      "cell_type": "code",
      "source": [
        "%load_ext autoreload\n",
        "%autoreload 2"
      ],
      "metadata": {
        "id": "DDQ87v8WA94s"
      },
      "execution_count": 2,
      "outputs": []
    },
    {
      "cell_type": "markdown",
      "source": [
        "# Data"
      ],
      "metadata": {
        "id": "xCJLpR8EQoBm"
      }
    },
    {
      "cell_type": "code",
      "source": [
        "# data_path = \"./\"\n",
        "\n",
        "# unames = ['user_id','gender','age','occupation','zip']\n",
        "# user = pd.read_csv(data_path+'ml-1m/users.dat',sep='::',header=None,names=unames)\n",
        "# rnames = ['user_id','sku_number','rating','timestamp']\n",
        "# ratings = pd.read_csv(data_path+'ml-1m/ratings.dat',sep='::',header=None,names=rnames)\n",
        "# mnames = ['sku_number','title','genres']\n",
        "# movies = pd.read_csv(data_path+'ml-1m/movies.dat',sep='::',header=None,names=mnames,encoding=\"unicode_escape\")\n",
        "# movies['genres'] = list(map(lambda x: x.split('|')[0], movies['genres'].values))\n",
        "\n",
        "# data = pd.merge(pd.merge(ratings,movies),user).iloc[:10000] # taking 1w\n",
        "# print(data.shape)\n",
        "# print(data.user_id.nunique())\n",
        "# print(data.sku_number.nunique())\n",
        "# data.head(2)"
      ],
      "metadata": {
        "colab": {
          "base_uri": "https://localhost:8080/",
          "height": 221
        },
        "id": "OK705XlgQmHX",
        "outputId": "037cdcef-60c1-462b-cb8e-ff006f559e10"
      },
      "execution_count": null,
      "outputs": [
        {
          "output_type": "stream",
          "name": "stderr",
          "text": [
            "/usr/local/lib/python3.7/dist-packages/pandas/util/_decorators.py:311: ParserWarning: Falling back to the 'python' engine because the 'c' engine does not support regex separators (separators > 1 char and different from '\\s+' are interpreted as regex); you can avoid this warning by specifying engine='python'.\n",
            "  return func(*args, **kwargs)\n"
          ]
        },
        {
          "output_type": "stream",
          "name": "stdout",
          "text": [
            "(10000, 10)\n",
            "46\n",
            "2175\n"
          ]
        },
        {
          "output_type": "execute_result",
          "data": {
            "text/plain": [
              "   user_id  movie_id  rating  timestamp  \\\n",
              "0        1      1193       5  978300760   \n",
              "1        1       661       3  978302109   \n",
              "\n",
              "                                    title     genres gender  age  occupation  \\\n",
              "0  One Flew Over the Cuckoo's Nest (1975)      Drama      F    1          10   \n",
              "1        James and the Giant Peach (1996)  Animation      F    1          10   \n",
              "\n",
              "     zip  \n",
              "0  48067  \n",
              "1  48067  "
            ],
            "text/html": [
              "\n",
              "  <div id=\"df-839fb27e-4a95-405c-b4fd-eb0ad32a82ed\">\n",
              "    <div class=\"colab-df-container\">\n",
              "      <div>\n",
              "<style scoped>\n",
              "    .dataframe tbody tr th:only-of-type {\n",
              "        vertical-align: middle;\n",
              "    }\n",
              "\n",
              "    .dataframe tbody tr th {\n",
              "        vertical-align: top;\n",
              "    }\n",
              "\n",
              "    .dataframe thead th {\n",
              "        text-align: right;\n",
              "    }\n",
              "</style>\n",
              "<table border=\"1\" class=\"dataframe\">\n",
              "  <thead>\n",
              "    <tr style=\"text-align: right;\">\n",
              "      <th></th>\n",
              "      <th>user_id</th>\n",
              "      <th>movie_id</th>\n",
              "      <th>rating</th>\n",
              "      <th>timestamp</th>\n",
              "      <th>title</th>\n",
              "      <th>genres</th>\n",
              "      <th>gender</th>\n",
              "      <th>age</th>\n",
              "      <th>occupation</th>\n",
              "      <th>zip</th>\n",
              "    </tr>\n",
              "  </thead>\n",
              "  <tbody>\n",
              "    <tr>\n",
              "      <th>0</th>\n",
              "      <td>1</td>\n",
              "      <td>1193</td>\n",
              "      <td>5</td>\n",
              "      <td>978300760</td>\n",
              "      <td>One Flew Over the Cuckoo's Nest (1975)</td>\n",
              "      <td>Drama</td>\n",
              "      <td>F</td>\n",
              "      <td>1</td>\n",
              "      <td>10</td>\n",
              "      <td>48067</td>\n",
              "    </tr>\n",
              "    <tr>\n",
              "      <th>1</th>\n",
              "      <td>1</td>\n",
              "      <td>661</td>\n",
              "      <td>3</td>\n",
              "      <td>978302109</td>\n",
              "      <td>James and the Giant Peach (1996)</td>\n",
              "      <td>Animation</td>\n",
              "      <td>F</td>\n",
              "      <td>1</td>\n",
              "      <td>10</td>\n",
              "      <td>48067</td>\n",
              "    </tr>\n",
              "  </tbody>\n",
              "</table>\n",
              "</div>\n",
              "      <button class=\"colab-df-convert\" onclick=\"convertToInteractive('df-839fb27e-4a95-405c-b4fd-eb0ad32a82ed')\"\n",
              "              title=\"Convert this dataframe to an interactive table.\"\n",
              "              style=\"display:none;\">\n",
              "        \n",
              "  <svg xmlns=\"http://www.w3.org/2000/svg\" height=\"24px\"viewBox=\"0 0 24 24\"\n",
              "       width=\"24px\">\n",
              "    <path d=\"M0 0h24v24H0V0z\" fill=\"none\"/>\n",
              "    <path d=\"M18.56 5.44l.94 2.06.94-2.06 2.06-.94-2.06-.94-.94-2.06-.94 2.06-2.06.94zm-11 1L8.5 8.5l.94-2.06 2.06-.94-2.06-.94L8.5 2.5l-.94 2.06-2.06.94zm10 10l.94 2.06.94-2.06 2.06-.94-2.06-.94-.94-2.06-.94 2.06-2.06.94z\"/><path d=\"M17.41 7.96l-1.37-1.37c-.4-.4-.92-.59-1.43-.59-.52 0-1.04.2-1.43.59L10.3 9.45l-7.72 7.72c-.78.78-.78 2.05 0 2.83L4 21.41c.39.39.9.59 1.41.59.51 0 1.02-.2 1.41-.59l7.78-7.78 2.81-2.81c.8-.78.8-2.07 0-2.86zM5.41 20L4 18.59l7.72-7.72 1.47 1.35L5.41 20z\"/>\n",
              "  </svg>\n",
              "      </button>\n",
              "      \n",
              "  <style>\n",
              "    .colab-df-container {\n",
              "      display:flex;\n",
              "      flex-wrap:wrap;\n",
              "      gap: 12px;\n",
              "    }\n",
              "\n",
              "    .colab-df-convert {\n",
              "      background-color: #E8F0FE;\n",
              "      border: none;\n",
              "      border-radius: 50%;\n",
              "      cursor: pointer;\n",
              "      display: none;\n",
              "      fill: #1967D2;\n",
              "      height: 32px;\n",
              "      padding: 0 0 0 0;\n",
              "      width: 32px;\n",
              "    }\n",
              "\n",
              "    .colab-df-convert:hover {\n",
              "      background-color: #E2EBFA;\n",
              "      box-shadow: 0px 1px 2px rgba(60, 64, 67, 0.3), 0px 1px 3px 1px rgba(60, 64, 67, 0.15);\n",
              "      fill: #174EA6;\n",
              "    }\n",
              "\n",
              "    [theme=dark] .colab-df-convert {\n",
              "      background-color: #3B4455;\n",
              "      fill: #D2E3FC;\n",
              "    }\n",
              "\n",
              "    [theme=dark] .colab-df-convert:hover {\n",
              "      background-color: #434B5C;\n",
              "      box-shadow: 0px 1px 3px 1px rgba(0, 0, 0, 0.15);\n",
              "      filter: drop-shadow(0px 1px 2px rgba(0, 0, 0, 0.3));\n",
              "      fill: #FFFFFF;\n",
              "    }\n",
              "  </style>\n",
              "\n",
              "      <script>\n",
              "        const buttonEl =\n",
              "          document.querySelector('#df-839fb27e-4a95-405c-b4fd-eb0ad32a82ed button.colab-df-convert');\n",
              "        buttonEl.style.display =\n",
              "          google.colab.kernel.accessAllowed ? 'block' : 'none';\n",
              "\n",
              "        async function convertToInteractive(key) {\n",
              "          const element = document.querySelector('#df-839fb27e-4a95-405c-b4fd-eb0ad32a82ed');\n",
              "          const dataTable =\n",
              "            await google.colab.kernel.invokeFunction('convertToInteractive',\n",
              "                                                     [key], {});\n",
              "          if (!dataTable) return;\n",
              "\n",
              "          const docLinkHtml = 'Like what you see? Visit the ' +\n",
              "            '<a target=\"_blank\" href=https://colab.research.google.com/notebooks/data_table.ipynb>data table notebook</a>'\n",
              "            + ' to learn more about interactive tables.';\n",
              "          element.innerHTML = '';\n",
              "          dataTable['output_type'] = 'display_data';\n",
              "          await google.colab.output.renderOutput(dataTable, element);\n",
              "          const docLink = document.createElement('div');\n",
              "          docLink.innerHTML = docLinkHtml;\n",
              "          element.appendChild(docLink);\n",
              "        }\n",
              "      </script>\n",
              "    </div>\n",
              "  </div>\n",
              "  "
            ]
          },
          "metadata": {},
          "execution_count": 5
        }
      ]
    },
    {
      "cell_type": "markdown",
      "source": [
        "### Sales data"
      ],
      "metadata": {
        "id": "9OZLgQp6aSHq"
      }
    },
    {
      "cell_type": "code",
      "source": [
        "data = pd.read_csv('sample_data/mik_sales_sp_10052022.csv', index_col = False, \n",
        "                   parse_dates = ['trans_date','created_time']\n",
        "                   )\n",
        "# data['most_recent_purchased_sku'] = data['most_recent_purchased_sku'].apply(literal_eval)\n",
        "# data['most_recent_view_sku'] = data['most_recent_view_sku'].apply(literal_eval)\n",
        "# data['hist_sku_number'] = data['most_recent_purchased_sku'] + data['most_recent_view_sku']\n",
        "data.shape"
      ],
      "metadata": {
        "colab": {
          "base_uri": "https://localhost:8080/"
        },
        "id": "F1hiTW4Iyn0m",
        "outputId": "8e2817a7-5ce1-42c5-fa33-3b3bb398e8b7"
      },
      "execution_count": 76,
      "outputs": [
        {
          "output_type": "execute_result",
          "data": {
            "text/plain": [
              "(23206, 14)"
            ]
          },
          "metadata": {},
          "execution_count": 76
        }
      ]
    },
    {
      "cell_type": "code",
      "source": [
        "data['user_id'].nunique(), data['sku_number'].nunique()"
      ],
      "metadata": {
        "colab": {
          "base_uri": "https://localhost:8080/"
        },
        "id": "vO3mrEwF1jNr",
        "outputId": "ae2296e0-9c5c-4cdb-ef0d-a1d8839323d2"
      },
      "execution_count": 77,
      "outputs": [
        {
          "output_type": "execute_result",
          "data": {
            "text/plain": [
              "(200, 8036)"
            ]
          },
          "metadata": {},
          "execution_count": 77
        }
      ]
    },
    {
      "cell_type": "code",
      "source": [
        "data.columns"
      ],
      "metadata": {
        "colab": {
          "base_uri": "https://localhost:8080/"
        },
        "id": "sTK78FgJ_A31",
        "outputId": "af1dde57-0acb-4fe8-beae-d44ce8d46537"
      },
      "execution_count": 78,
      "outputs": [
        {
          "output_type": "execute_result",
          "data": {
            "text/plain": [
              "Index(['data_source', 'user_id', 'sku_number', 'qty', 'trans_date',\n",
              "       'created_time', 'email_address', 'geo_zip',\n",
              "       'most_frequent_device_class_general', 'total_order_value',\n",
              "       'total_coupon_value', 'most_recent_purchased_sku',\n",
              "       'most_recent_view_sku', 'category_path'],\n",
              "      dtype='object')"
            ]
          },
          "metadata": {},
          "execution_count": 78
        }
      ]
    },
    {
      "cell_type": "code",
      "source": [
        "data = data[['data_source', 'user_id', 'sku_number', 'qty', 'trans_date',\n",
        "       'created_time', 'email_address', 'geo_zip','most_frequent_device_class_general','category_path']]"
      ],
      "metadata": {
        "id": "GTzEI3Hg-7r-"
      },
      "execution_count": 79,
      "outputs": []
    },
    {
      "cell_type": "markdown",
      "source": [
        "### Item category mapping dat"
      ],
      "metadata": {
        "id": "SOWZDxQGaOS8"
      }
    },
    {
      "cell_type": "code",
      "source": [
        "df_item = pd.read_csv(\"sample_data/mik_item_07292022.csv\", index_col=False)\n",
        "df_item.shape"
      ],
      "metadata": {
        "colab": {
          "base_uri": "https://localhost:8080/"
        },
        "id": "nzq1i9jZ0JAf",
        "outputId": "6bd0d3cd-61b7-4241-96d1-23706165f24e"
      },
      "execution_count": 6,
      "outputs": [
        {
          "output_type": "execute_result",
          "data": {
            "text/plain": [
              "(420317, 2)"
            ]
          },
          "metadata": {},
          "execution_count": 6
        }
      ]
    },
    {
      "cell_type": "code",
      "source": [
        "df_item.head(2)"
      ],
      "metadata": {
        "colab": {
          "base_uri": "https://localhost:8080/",
          "height": 112
        },
        "id": "vPcVViQgXHbM",
        "outputId": "ec20436c-0d61-4f43-8890-e4f008039040"
      },
      "execution_count": 13,
      "outputs": [
        {
          "output_type": "execute_result",
          "data": {
            "text/plain": [
              "             item_id                                      category_path\n",
              "0  88663500097650688  root//Shop Categories//Home & Decor//Wall Dcor...\n",
              "1  88663500097650689  root//Shop Categories//Home & Decor//Wall Dcor..."
            ],
            "text/html": [
              "\n",
              "  <div id=\"df-941b27fe-879e-4bbf-9e6b-5c7b82f283f0\">\n",
              "    <div class=\"colab-df-container\">\n",
              "      <div>\n",
              "<style scoped>\n",
              "    .dataframe tbody tr th:only-of-type {\n",
              "        vertical-align: middle;\n",
              "    }\n",
              "\n",
              "    .dataframe tbody tr th {\n",
              "        vertical-align: top;\n",
              "    }\n",
              "\n",
              "    .dataframe thead th {\n",
              "        text-align: right;\n",
              "    }\n",
              "</style>\n",
              "<table border=\"1\" class=\"dataframe\">\n",
              "  <thead>\n",
              "    <tr style=\"text-align: right;\">\n",
              "      <th></th>\n",
              "      <th>item_id</th>\n",
              "      <th>category_path</th>\n",
              "    </tr>\n",
              "  </thead>\n",
              "  <tbody>\n",
              "    <tr>\n",
              "      <th>0</th>\n",
              "      <td>88663500097650688</td>\n",
              "      <td>root//Shop Categories//Home &amp; Decor//Wall Dcor...</td>\n",
              "    </tr>\n",
              "    <tr>\n",
              "      <th>1</th>\n",
              "      <td>88663500097650689</td>\n",
              "      <td>root//Shop Categories//Home &amp; Decor//Wall Dcor...</td>\n",
              "    </tr>\n",
              "  </tbody>\n",
              "</table>\n",
              "</div>\n",
              "      <button class=\"colab-df-convert\" onclick=\"convertToInteractive('df-941b27fe-879e-4bbf-9e6b-5c7b82f283f0')\"\n",
              "              title=\"Convert this dataframe to an interactive table.\"\n",
              "              style=\"display:none;\">\n",
              "        \n",
              "  <svg xmlns=\"http://www.w3.org/2000/svg\" height=\"24px\"viewBox=\"0 0 24 24\"\n",
              "       width=\"24px\">\n",
              "    <path d=\"M0 0h24v24H0V0z\" fill=\"none\"/>\n",
              "    <path d=\"M18.56 5.44l.94 2.06.94-2.06 2.06-.94-2.06-.94-.94-2.06-.94 2.06-2.06.94zm-11 1L8.5 8.5l.94-2.06 2.06-.94-2.06-.94L8.5 2.5l-.94 2.06-2.06.94zm10 10l.94 2.06.94-2.06 2.06-.94-2.06-.94-.94-2.06-.94 2.06-2.06.94z\"/><path d=\"M17.41 7.96l-1.37-1.37c-.4-.4-.92-.59-1.43-.59-.52 0-1.04.2-1.43.59L10.3 9.45l-7.72 7.72c-.78.78-.78 2.05 0 2.83L4 21.41c.39.39.9.59 1.41.59.51 0 1.02-.2 1.41-.59l7.78-7.78 2.81-2.81c.8-.78.8-2.07 0-2.86zM5.41 20L4 18.59l7.72-7.72 1.47 1.35L5.41 20z\"/>\n",
              "  </svg>\n",
              "      </button>\n",
              "      \n",
              "  <style>\n",
              "    .colab-df-container {\n",
              "      display:flex;\n",
              "      flex-wrap:wrap;\n",
              "      gap: 12px;\n",
              "    }\n",
              "\n",
              "    .colab-df-convert {\n",
              "      background-color: #E8F0FE;\n",
              "      border: none;\n",
              "      border-radius: 50%;\n",
              "      cursor: pointer;\n",
              "      display: none;\n",
              "      fill: #1967D2;\n",
              "      height: 32px;\n",
              "      padding: 0 0 0 0;\n",
              "      width: 32px;\n",
              "    }\n",
              "\n",
              "    .colab-df-convert:hover {\n",
              "      background-color: #E2EBFA;\n",
              "      box-shadow: 0px 1px 2px rgba(60, 64, 67, 0.3), 0px 1px 3px 1px rgba(60, 64, 67, 0.15);\n",
              "      fill: #174EA6;\n",
              "    }\n",
              "\n",
              "    [theme=dark] .colab-df-convert {\n",
              "      background-color: #3B4455;\n",
              "      fill: #D2E3FC;\n",
              "    }\n",
              "\n",
              "    [theme=dark] .colab-df-convert:hover {\n",
              "      background-color: #434B5C;\n",
              "      box-shadow: 0px 1px 3px 1px rgba(0, 0, 0, 0.15);\n",
              "      filter: drop-shadow(0px 1px 2px rgba(0, 0, 0, 0.3));\n",
              "      fill: #FFFFFF;\n",
              "    }\n",
              "  </style>\n",
              "\n",
              "      <script>\n",
              "        const buttonEl =\n",
              "          document.querySelector('#df-941b27fe-879e-4bbf-9e6b-5c7b82f283f0 button.colab-df-convert');\n",
              "        buttonEl.style.display =\n",
              "          google.colab.kernel.accessAllowed ? 'block' : 'none';\n",
              "\n",
              "        async function convertToInteractive(key) {\n",
              "          const element = document.querySelector('#df-941b27fe-879e-4bbf-9e6b-5c7b82f283f0');\n",
              "          const dataTable =\n",
              "            await google.colab.kernel.invokeFunction('convertToInteractive',\n",
              "                                                     [key], {});\n",
              "          if (!dataTable) return;\n",
              "\n",
              "          const docLinkHtml = 'Like what you see? Visit the ' +\n",
              "            '<a target=\"_blank\" href=https://colab.research.google.com/notebooks/data_table.ipynb>data table notebook</a>'\n",
              "            + ' to learn more about interactive tables.';\n",
              "          element.innerHTML = '';\n",
              "          dataTable['output_type'] = 'display_data';\n",
              "          await google.colab.output.renderOutput(dataTable, element);\n",
              "          const docLink = document.createElement('div');\n",
              "          docLink.innerHTML = docLinkHtml;\n",
              "          element.appendChild(docLink);\n",
              "        }\n",
              "      </script>\n",
              "    </div>\n",
              "  </div>\n",
              "  "
            ]
          },
          "metadata": {},
          "execution_count": 13
        }
      ]
    },
    {
      "cell_type": "code",
      "source": [
        "data['most_recent_view_sku'].apply(lambda x: len(x)).describe()"
      ],
      "metadata": {
        "colab": {
          "base_uri": "https://localhost:8080/"
        },
        "id": "A4vUvwyon4ZF",
        "outputId": "16d5adb3-c876-4d58-eb85-6a472360434c"
      },
      "execution_count": 64,
      "outputs": [
        {
          "output_type": "execute_result",
          "data": {
            "text/plain": [
              "count    14592.000000\n",
              "mean         5.140831\n",
              "std          7.971437\n",
              "min          0.000000\n",
              "25%          1.000000\n",
              "50%          2.000000\n",
              "75%          6.000000\n",
              "max         84.000000\n",
              "Name: most_recent_view_sku, dtype: float64"
            ]
          },
          "metadata": {},
          "execution_count": 64
        }
      ]
    },
    {
      "cell_type": "markdown",
      "source": [
        "# Feature Engineering"
      ],
      "metadata": {
        "id": "9oeGJOW4REfl"
      }
    },
    {
      "cell_type": "code",
      "source": [
        "sparse_features = ['sku_number', 'category_path',\n",
        "                   'user_id', 'geo_zip','most_frequent_device_class_general']\n",
        "\n",
        "SEQ_LEN = 50\n",
        "NUMBER_NEG_SAMPLE = 1 # used for generate 1:1 positive:negative samples\n"
      ],
      "metadata": {
        "id": "YX0vSmbeQv4i"
      },
      "execution_count": 80,
      "outputs": []
    },
    {
      "cell_type": "code",
      "source": [
        "# view_item_set = list(set(data['most_recent_view_sku'].sum()))\n",
        "# full_item_set = list(set(list(data['sku_number'].unique()) + view_item_set))\n",
        "# len(full_item_set)"
      ],
      "metadata": {
        "id": "ZJJT6PNTew_Y"
      },
      "execution_count": 81,
      "outputs": []
    },
    {
      "cell_type": "code",
      "source": [
        "feature_max_idx = {}\n",
        "for feature in sparse_features:\n",
        "    # if feature == 'sku_number':      \n",
        "    #   lbe_sku = LabelEncoder()\n",
        "    #   lbe_sku.fit(full_item_set)\n",
        "    #   data[feature] = lbe_sku.transform(data[feature]) + 1\n",
        "    #   feature_max_idx[feature] = data[feature].max() + 1\n",
        "    # else:\n",
        "    lbe = LabelEncoder()\n",
        "    data[feature] = lbe.fit_transform(data[feature]) + 1 # add one to all the encoded categories labels\n",
        "    feature_max_idx[feature] = data[feature].max() + 1"
      ],
      "metadata": {
        "id": "XV-0GzPzRIgO"
      },
      "execution_count": 82,
      "outputs": []
    },
    {
      "cell_type": "code",
      "source": [
        "feature_max_idx"
      ],
      "metadata": {
        "colab": {
          "base_uri": "https://localhost:8080/"
        },
        "id": "gwa-Qg4BRQcG",
        "outputId": "35adf084-91b2-4a54-db14-eca8681ece49"
      },
      "execution_count": 83,
      "outputs": [
        {
          "output_type": "execute_result",
          "data": {
            "text/plain": [
              "{'sku_number': 8037,\n",
              " 'category_path': 795,\n",
              " 'user_id': 201,\n",
              " 'geo_zip': 186,\n",
              " 'most_frequent_device_class_general': 3}"
            ]
          },
          "metadata": {},
          "execution_count": 83
        }
      ]
    },
    {
      "cell_type": "code",
      "source": [
        "data.head(2)"
      ],
      "metadata": {
        "colab": {
          "base_uri": "https://localhost:8080/",
          "height": 112
        },
        "id": "swhinBDMRWiX",
        "outputId": "3718e00d-991d-45b6-98bf-9a99815f5a52"
      },
      "execution_count": 84,
      "outputs": [
        {
          "output_type": "execute_result",
          "data": {
            "text/plain": [
              "  data_source  user_id  sku_number  qty trans_date        created_time  \\\n",
              "0       ADOBE       67        4118    1 2022-07-10 2022-07-10 09:08:18   \n",
              "1       ADOBE       67         749    1 2022-05-27 2022-05-27 12:36:24   \n",
              "\n",
              "       email_address  geo_zip  most_frequent_device_class_general  \\\n",
              "0  jhitzke@yahoo.com      119                                   1   \n",
              "1  jhitzke@yahoo.com      119                                   1   \n",
              "\n",
              "   category_path  \n",
              "0            173  \n",
              "1            667  "
            ],
            "text/html": [
              "\n",
              "  <div id=\"df-a35cea73-a459-4a02-95d2-33af7b692de0\">\n",
              "    <div class=\"colab-df-container\">\n",
              "      <div>\n",
              "<style scoped>\n",
              "    .dataframe tbody tr th:only-of-type {\n",
              "        vertical-align: middle;\n",
              "    }\n",
              "\n",
              "    .dataframe tbody tr th {\n",
              "        vertical-align: top;\n",
              "    }\n",
              "\n",
              "    .dataframe thead th {\n",
              "        text-align: right;\n",
              "    }\n",
              "</style>\n",
              "<table border=\"1\" class=\"dataframe\">\n",
              "  <thead>\n",
              "    <tr style=\"text-align: right;\">\n",
              "      <th></th>\n",
              "      <th>data_source</th>\n",
              "      <th>user_id</th>\n",
              "      <th>sku_number</th>\n",
              "      <th>qty</th>\n",
              "      <th>trans_date</th>\n",
              "      <th>created_time</th>\n",
              "      <th>email_address</th>\n",
              "      <th>geo_zip</th>\n",
              "      <th>most_frequent_device_class_general</th>\n",
              "      <th>category_path</th>\n",
              "    </tr>\n",
              "  </thead>\n",
              "  <tbody>\n",
              "    <tr>\n",
              "      <th>0</th>\n",
              "      <td>ADOBE</td>\n",
              "      <td>67</td>\n",
              "      <td>4118</td>\n",
              "      <td>1</td>\n",
              "      <td>2022-07-10</td>\n",
              "      <td>2022-07-10 09:08:18</td>\n",
              "      <td>jhitzke@yahoo.com</td>\n",
              "      <td>119</td>\n",
              "      <td>1</td>\n",
              "      <td>173</td>\n",
              "    </tr>\n",
              "    <tr>\n",
              "      <th>1</th>\n",
              "      <td>ADOBE</td>\n",
              "      <td>67</td>\n",
              "      <td>749</td>\n",
              "      <td>1</td>\n",
              "      <td>2022-05-27</td>\n",
              "      <td>2022-05-27 12:36:24</td>\n",
              "      <td>jhitzke@yahoo.com</td>\n",
              "      <td>119</td>\n",
              "      <td>1</td>\n",
              "      <td>667</td>\n",
              "    </tr>\n",
              "  </tbody>\n",
              "</table>\n",
              "</div>\n",
              "      <button class=\"colab-df-convert\" onclick=\"convertToInteractive('df-a35cea73-a459-4a02-95d2-33af7b692de0')\"\n",
              "              title=\"Convert this dataframe to an interactive table.\"\n",
              "              style=\"display:none;\">\n",
              "        \n",
              "  <svg xmlns=\"http://www.w3.org/2000/svg\" height=\"24px\"viewBox=\"0 0 24 24\"\n",
              "       width=\"24px\">\n",
              "    <path d=\"M0 0h24v24H0V0z\" fill=\"none\"/>\n",
              "    <path d=\"M18.56 5.44l.94 2.06.94-2.06 2.06-.94-2.06-.94-.94-2.06-.94 2.06-2.06.94zm-11 1L8.5 8.5l.94-2.06 2.06-.94-2.06-.94L8.5 2.5l-.94 2.06-2.06.94zm10 10l.94 2.06.94-2.06 2.06-.94-2.06-.94-.94-2.06-.94 2.06-2.06.94z\"/><path d=\"M17.41 7.96l-1.37-1.37c-.4-.4-.92-.59-1.43-.59-.52 0-1.04.2-1.43.59L10.3 9.45l-7.72 7.72c-.78.78-.78 2.05 0 2.83L4 21.41c.39.39.9.59 1.41.59.51 0 1.02-.2 1.41-.59l7.78-7.78 2.81-2.81c.8-.78.8-2.07 0-2.86zM5.41 20L4 18.59l7.72-7.72 1.47 1.35L5.41 20z\"/>\n",
              "  </svg>\n",
              "      </button>\n",
              "      \n",
              "  <style>\n",
              "    .colab-df-container {\n",
              "      display:flex;\n",
              "      flex-wrap:wrap;\n",
              "      gap: 12px;\n",
              "    }\n",
              "\n",
              "    .colab-df-convert {\n",
              "      background-color: #E8F0FE;\n",
              "      border: none;\n",
              "      border-radius: 50%;\n",
              "      cursor: pointer;\n",
              "      display: none;\n",
              "      fill: #1967D2;\n",
              "      height: 32px;\n",
              "      padding: 0 0 0 0;\n",
              "      width: 32px;\n",
              "    }\n",
              "\n",
              "    .colab-df-convert:hover {\n",
              "      background-color: #E2EBFA;\n",
              "      box-shadow: 0px 1px 2px rgba(60, 64, 67, 0.3), 0px 1px 3px 1px rgba(60, 64, 67, 0.15);\n",
              "      fill: #174EA6;\n",
              "    }\n",
              "\n",
              "    [theme=dark] .colab-df-convert {\n",
              "      background-color: #3B4455;\n",
              "      fill: #D2E3FC;\n",
              "    }\n",
              "\n",
              "    [theme=dark] .colab-df-convert:hover {\n",
              "      background-color: #434B5C;\n",
              "      box-shadow: 0px 1px 3px 1px rgba(0, 0, 0, 0.15);\n",
              "      filter: drop-shadow(0px 1px 2px rgba(0, 0, 0, 0.3));\n",
              "      fill: #FFFFFF;\n",
              "    }\n",
              "  </style>\n",
              "\n",
              "      <script>\n",
              "        const buttonEl =\n",
              "          document.querySelector('#df-a35cea73-a459-4a02-95d2-33af7b692de0 button.colab-df-convert');\n",
              "        buttonEl.style.display =\n",
              "          google.colab.kernel.accessAllowed ? 'block' : 'none';\n",
              "\n",
              "        async function convertToInteractive(key) {\n",
              "          const element = document.querySelector('#df-a35cea73-a459-4a02-95d2-33af7b692de0');\n",
              "          const dataTable =\n",
              "            await google.colab.kernel.invokeFunction('convertToInteractive',\n",
              "                                                     [key], {});\n",
              "          if (!dataTable) return;\n",
              "\n",
              "          const docLinkHtml = 'Like what you see? Visit the ' +\n",
              "            '<a target=\"_blank\" href=https://colab.research.google.com/notebooks/data_table.ipynb>data table notebook</a>'\n",
              "            + ' to learn more about interactive tables.';\n",
              "          element.innerHTML = '';\n",
              "          dataTable['output_type'] = 'display_data';\n",
              "          await google.colab.output.renderOutput(dataTable, element);\n",
              "          const docLink = document.createElement('div');\n",
              "          docLink.innerHTML = docLinkHtml;\n",
              "          element.appendChild(docLink);\n",
              "        }\n",
              "      </script>\n",
              "    </div>\n",
              "  </div>\n",
              "  "
            ]
          },
          "metadata": {},
          "execution_count": 84
        }
      ]
    },
    {
      "cell_type": "code",
      "source": [
        "user_profile = data[['user_id', 'geo_zip', 'most_frequent_device_class_general']].drop_duplicates('user_id')\n",
        "user_profile.set_index(\"user_id\", inplace=True)\n",
        "item_profile = data[[\"sku_number\"]].drop_duplicates('sku_number')\n",
        "user_profile.shape, item_profile.shape"
      ],
      "metadata": {
        "colab": {
          "base_uri": "https://localhost:8080/"
        },
        "id": "a3bUcH_vRvRW",
        "outputId": "6788baf8-e6cb-49ab-ba55-881f77c15837"
      },
      "execution_count": 85,
      "outputs": [
        {
          "output_type": "execute_result",
          "data": {
            "text/plain": [
              "((200, 2), (8036, 1))"
            ]
          },
          "metadata": {},
          "execution_count": 85
        }
      ]
    },
    {
      "cell_type": "code",
      "source": [
        "# user_item_list = data.groupby(\"user_id\")['sku_number'].apply(list)\n",
        "user_item_list = data.groupby(\"user_id\")['sku_number'].apply(list)\n",
        "\n",
        "user_item_list.head()"
      ],
      "metadata": {
        "colab": {
          "base_uri": "https://localhost:8080/"
        },
        "id": "ASZeh8yrR1Ld",
        "outputId": "09ad4a66-2f86-48bb-9352-ebacb3fbceee"
      },
      "execution_count": 86,
      "outputs": [
        {
          "output_type": "execute_result",
          "data": {
            "text/plain": [
              "user_id\n",
              "1    [2738, 5785, 4318, 6007, 5783, 2337, 4455, 444...\n",
              "2    [3720, 1912, 3726, 3719, 3726, 3731, 1888, 370...\n",
              "3    [6729, 6001, 6730, 6727, 6728, 3726, 6730, 672...\n",
              "4    [3721, 3719, 3708, 4678, 4679, 3721, 3512, 370...\n",
              "5    [4397, 4965, 4233, 1654, 4241, 374, 6251, 4963...\n",
              "Name: sku_number, dtype: object"
            ]
          },
          "metadata": {},
          "execution_count": 86
        }
      ]
    },
    {
      "cell_type": "code",
      "source": [
        "train_set, test_set = gen_data_set(data, SEQ_LEN, NUMBER_NEG_SAMPLE)"
      ],
      "metadata": {
        "colab": {
          "base_uri": "https://localhost:8080/"
        },
        "id": "DUsD59IHSR3d",
        "outputId": "8c6c3de6-4167-408c-ee96-06b2726e6331"
      },
      "execution_count": 91,
      "outputs": [
        {
          "output_type": "stream",
          "name": "stderr",
          "text": [
            "100%|██████████| 200/200 [00:00<00:00, 234.20it/s]"
          ]
        },
        {
          "output_type": "stream",
          "name": "stdout",
          "text": [
            "7 7\n"
          ]
        },
        {
          "output_type": "stream",
          "name": "stderr",
          "text": [
            "\n"
          ]
        }
      ]
    },
    {
      "cell_type": "code",
      "source": [
        "# reviewerID,  - user id\n",
        "# pos_list[i], - movie id\n",
        "# 1, - label y\n",
        "# hist[::-1][:seq_len], - most recent watched movie id list before watching this movie, up to 50\n",
        "# seq_len\n",
        "# genres_hist[::-1][:seq_len], - most recent watched movie's genres list before watching this movie, up to 50\n",
        "# genres_list[i], - this movie's genre\n",
        "# rating_list[i] - this movie's rating\n",
        "# train_set[12]"
      ],
      "metadata": {
        "id": "CwikHNU0Vyof"
      },
      "execution_count": null,
      "outputs": []
    },
    {
      "cell_type": "code",
      "source": [
        "train_model_input, train_label = gen_model_input(train_set, user_profile, SEQ_LEN)\n",
        "test_model_input, test_label = gen_model_input(test_set, user_profile, SEQ_LEN)\n",
        "train_label.shape, train_model_input['user_id'].shape, test_model_input['user_id'].shape, test_label.shape"
      ],
      "metadata": {
        "colab": {
          "base_uri": "https://localhost:8080/"
        },
        "id": "mMKXnWBnYtFE",
        "outputId": "c10edec8-088f-4fc9-98f2-64af8eca8de7"
      },
      "execution_count": 94,
      "outputs": [
        {
          "output_type": "stream",
          "name": "stderr",
          "text": [
            "/content/preprocess_sku.py:88: VisibleDeprecationWarning: Creating an ndarray from ragged nested sequences (which is a list-or-tuple of lists-or-tuples-or ndarrays with different lengths or shapes) is deprecated. If you meant to do this, you must specify 'dtype=object' when creating the ndarray.\n",
            "  train_seq_genres = np.array([line[5] for line in train_set])\n"
          ]
        },
        {
          "output_type": "execute_result",
          "data": {
            "text/plain": [
              "((45612,), (45612,), (200,), (200,))"
            ]
          },
          "metadata": {},
          "execution_count": 94
        }
      ]
    },
    {
      "cell_type": "code",
      "source": [
        "train_model_input"
      ],
      "metadata": {
        "colab": {
          "base_uri": "https://localhost:8080/"
        },
        "id": "dThHjG2dCexk",
        "outputId": "0173b41b-3d5f-4a85-dec8-e7d9913774c3"
      },
      "execution_count": 114,
      "outputs": [
        {
          "output_type": "execute_result",
          "data": {
            "text/plain": [
              "{'user_id': array([107,  94, 186, ..., 115,  10, 169]),\n",
              " 'sku_number': array([1547, 1060, 6203, ..., 7209, 4132, 3421]),\n",
              " 'hist_sku_number': array([[4675, 2323, 2321, ...,    0,    0,    0],\n",
              "        [3857, 3706, 3727, ..., 5769, 5674, 3911],\n",
              "        [3780, 2792, 4853, ...,    0,    0,    0],\n",
              "        ...,\n",
              "        [7188, 7144, 7180, ..., 7222, 6788, 6803],\n",
              "        [4428, 3952, 3825, ..., 4141, 4132, 2354],\n",
              "        [4192, 4091, 3340, ...,    0,    0,    0]], dtype=int32),\n",
              " 'hist_category_path': array([[ 14,  12,  12, ...,   0,   0,   0],\n",
              "        [326,  12,  12, ..., 202, 191, 230],\n",
              "        [516, 634,  95, ...,   0,   0,   0],\n",
              "        ...,\n",
              "        [ 64,  64,  64, ...,  64,  64,  64],\n",
              "        [220, 193, 198, ..., 193, 193, 188],\n",
              "        [193, 224, 165, ...,   0,   0,   0]], dtype=int32),\n",
              " 'hist_len': array([22, 50, 42, ..., 50, 50, 20]),\n",
              " 'category_path': array([184,  14, 679, ...,  64, 193, 233]),\n",
              " 'geo_zip': array([ 92,  38, 161, ..., 136, 100, 183]),\n",
              " 'most_frequent_device_class_general': array([2, 1, 1, ..., 2, 2, 1])}"
            ]
          },
          "metadata": {},
          "execution_count": 114
        }
      ]
    },
    {
      "cell_type": "code",
      "source": [
        "train_model_input['user_id'].shape"
      ],
      "metadata": {
        "colab": {
          "base_uri": "https://localhost:8080/"
        },
        "id": "V0Ys07CoFX_z",
        "outputId": "52a4af77-6d5d-4c98-82a8-29b833e36e47"
      },
      "execution_count": 115,
      "outputs": [
        {
          "output_type": "execute_result",
          "data": {
            "text/plain": [
              "(45612,)"
            ]
          },
          "metadata": {},
          "execution_count": 115
        }
      ]
    },
    {
      "cell_type": "markdown",
      "source": [
        "# Create Embeddings"
      ],
      "metadata": {
        "id": "MmNE8kuEfXRE"
      }
    },
    {
      "cell_type": "code",
      "source": [
        "from collections import Counter\n",
        "train_counter = Counter(train_model_input['sku_number'])\n",
        "item_count = [train_counter.get(i,0) for i in range(feature_max_idx['sku_number'])]\n",
        "len(train_counter), type(train_counter), len(item_count)"
      ],
      "metadata": {
        "colab": {
          "base_uri": "https://localhost:8080/"
        },
        "id": "ljKC65_PzHRU",
        "outputId": "037bb01d-5951-4d85-910c-cbfc65b351f9"
      },
      "execution_count": 117,
      "outputs": [
        {
          "output_type": "execute_result",
          "data": {
            "text/plain": [
              "(8031, collections.Counter, 8037)"
            ]
          },
          "metadata": {},
          "execution_count": 117
        }
      ]
    },
    {
      "cell_type": "code",
      "source": [
        "import tensorflow as tf\n",
        "from tensorflow.python.keras.initializers import RandomNormal, Zeros\n",
        "from tensorflow.python.keras.layers import Embedding, Input, Lambda\n",
        "from tensorflow.python.keras.regularizers import l2\n",
        "if tf.__version__ >= '2.0.0':\n",
        "    tf.compat.v1.disable_eager_execution()\n",
        "else:\n",
        "    K.set_learning_phase(True)"
      ],
      "metadata": {
        "id": "yV1mZ6yt6c0K"
      },
      "execution_count": 118,
      "outputs": []
    },
    {
      "cell_type": "markdown",
      "source": [
        "### Create Feature Embeddings\n",
        "\n"
      ],
      "metadata": {
        "id": "RFusDxnPixY4"
      }
    },
    {
      "cell_type": "code",
      "source": [
        "# item features\n",
        "item_feature_columns = ['sku_number']\n",
        "# User features\n",
        "user_feature_columns = ['user_id', 'geo_zip', 'most_frequent_device_class_general',                        \n",
        "                        'hist_sku_number',\n",
        "                        'hist_category_path',\n",
        "                        'hist_len'\n",
        "                        ]\n"
      ],
      "metadata": {
        "id": "gVDJOjXTrNT-"
      },
      "execution_count": 119,
      "outputs": []
    },
    {
      "cell_type": "code",
      "source": [
        "feature_max_idx"
      ],
      "metadata": {
        "colab": {
          "base_uri": "https://localhost:8080/"
        },
        "id": "xUPZ56aqrWpa",
        "outputId": "2b38806b-82af-44ba-e481-c4072a281845"
      },
      "execution_count": 120,
      "outputs": [
        {
          "output_type": "execute_result",
          "data": {
            "text/plain": [
              "{'sku_number': 8037,\n",
              " 'category_path': 795,\n",
              " 'user_id': 201,\n",
              " 'geo_zip': 186,\n",
              " 'most_frequent_device_class_general': 3}"
            ]
          },
          "metadata": {},
          "execution_count": 120
        }
      ]
    },
    {
      "cell_type": "code",
      "source": [
        "user_sparse_feature_columns = user_feature_columns[0:3]\n",
        "user_sparse_feature_columns"
      ],
      "metadata": {
        "colab": {
          "base_uri": "https://localhost:8080/"
        },
        "id": "OdMHOjpeqvHT",
        "outputId": "cc22c5db-8a33-4fca-e3e2-b897f7d4162f"
      },
      "execution_count": 122,
      "outputs": [
        {
          "output_type": "execute_result",
          "data": {
            "text/plain": [
              "['user_id', 'geo_zip', 'most_frequent_device_class_general']"
            ]
          },
          "metadata": {},
          "execution_count": 122
        }
      ]
    },
    {
      "cell_type": "code",
      "source": [
        "user_seq_sparse_feature_columns = user_feature_columns[3:-1]\n",
        "user_seq_sparse_feature_columns "
      ],
      "metadata": {
        "colab": {
          "base_uri": "https://localhost:8080/"
        },
        "id": "6kvCDMmvrAOC",
        "outputId": "164a241b-af93-44d7-e3c1-f84f0e41dcc4"
      },
      "execution_count": 123,
      "outputs": [
        {
          "output_type": "execute_result",
          "data": {
            "text/plain": [
              "['hist_sku_number', 'hist_category_path']"
            ]
          },
          "metadata": {},
          "execution_count": 123
        }
      ]
    },
    {
      "cell_type": "code",
      "source": [
        "# embedding input and output specification\n",
        "embeddings_initializer = RandomNormal(mean=0.0, stddev=0.0001, seed=2020)\n",
        "embedding_dim = 32\n",
        "l2_reg = 1e-6\n",
        "# use a dict to collect embeddings\n",
        "sparse_embedding = {}"
      ],
      "metadata": {
        "id": "WzDyy6iNlYef",
        "colab": {
          "base_uri": "https://localhost:8080/"
        },
        "outputId": "331080c5-c8a0-41ec-be9b-654dcff287c6"
      },
      "execution_count": 124,
      "outputs": [
        {
          "output_type": "stream",
          "name": "stderr",
          "text": [
            "WARNING:tensorflow:From /usr/local/lib/python3.7/dist-packages/tensorflow/python/keras/initializers/initializers_v1.py:56: calling RandomNormal.__init__ (from tensorflow.python.ops.init_ops) with dtype is deprecated and will be removed in a future version.\n",
            "Instructions for updating:\n",
            "Call initializer instance with the dtype argument instead of passing it to the constructor\n"
          ]
        }
      ]
    },
    {
      "cell_type": "code",
      "source": [
        "# user embeddings\n",
        "for name in user_sparse_feature_columns: \n",
        "  emb = Embedding(\n",
        "      input_dim = feature_max_idx[name], \n",
        "      output_dim = 16,\n",
        "      embeddings_initializer=embeddings_initializer,\n",
        "      embeddings_regularizer=l2(l2_reg),\n",
        "      name='sparse_' + 'emb_' + name\n",
        "  )\n",
        "  emb.trainable = True\n",
        "  sparse_embedding[name] = emb\n",
        "for name in user_seq_sparse_feature_columns: \n",
        "   emb = Embedding(feature_max_idx[name[5:]], embedding_dim,\n",
        "                            embeddings_initializer=embeddings_initializer,\n",
        "                            embeddings_regularizer=l2(\n",
        "                                l2_reg),\n",
        "                            name='sparse_' + 'seq_emb_'  + name,\n",
        "                            mask_zero=False) # True\n",
        "   emb.trainable = True\n",
        "   sparse_embedding[name] = emb"
      ],
      "metadata": {
        "id": "zrIjOw2-lZ2P"
      },
      "execution_count": 125,
      "outputs": []
    },
    {
      "cell_type": "code",
      "source": [
        "# item embeddings\n",
        "item_feature_name = item_feature_columns[0] # only include item id \n",
        "emb = Embedding(\n",
        "      input_dim = feature_max_idx[item_feature_name], \n",
        "      output_dim = embedding_dim,\n",
        "      embeddings_initializer=embeddings_initializer,\n",
        "      embeddings_regularizer=l2(l2_reg),\n",
        "      name='sparse_' + 'emb_' + item_feature_name\n",
        "  )\n",
        "sparse_embedding[item_feature_name] = emb"
      ],
      "metadata": {
        "id": "5aJDL4b-r475"
      },
      "execution_count": 126,
      "outputs": []
    },
    {
      "cell_type": "code",
      "source": [
        "sparse_embedding # include both user and item embedding layers"
      ],
      "metadata": {
        "colab": {
          "base_uri": "https://localhost:8080/"
        },
        "id": "9Ydd0xItnuZJ",
        "outputId": "9bb4e37e-e414-4357-d619-1c910b493042"
      },
      "execution_count": 127,
      "outputs": [
        {
          "output_type": "execute_result",
          "data": {
            "text/plain": [
              "{'user_id': <tensorflow.python.keras.layers.embeddings.Embedding at 0x7f83eb3ed5d0>,\n",
              " 'geo_zip': <tensorflow.python.keras.layers.embeddings.Embedding at 0x7f83eb632d90>,\n",
              " 'most_frequent_device_class_general': <tensorflow.python.keras.layers.embeddings.Embedding at 0x7f83eb635f10>,\n",
              " 'hist_sku_number': <tensorflow.python.keras.layers.embeddings.Embedding at 0x7f83eb3ed850>,\n",
              " 'hist_category_path': <tensorflow.python.keras.layers.embeddings.Embedding at 0x7f83eb615e10>,\n",
              " 'sku_number': <tensorflow.python.keras.layers.embeddings.Embedding at 0x7f83eb61cc50>}"
            ]
          },
          "metadata": {},
          "execution_count": 127
        }
      ]
    },
    {
      "cell_type": "markdown",
      "source": [
        "# Create User Inputs\n"
      ],
      "metadata": {
        "id": "__RCtmE768yP"
      }
    },
    {
      "cell_type": "markdown",
      "source": [
        "## Create Inputs Tensor"
      ],
      "metadata": {
        "id": "yM6mg7fw-yZc"
      }
    },
    {
      "cell_type": "code",
      "source": [
        "# user features inputs\n",
        "from collections import OrderedDict\n",
        "user_features = OrderedDict()\n",
        "for name in user_sparse_feature_columns:\n",
        "  user_features[name] = Input(\n",
        "                shape=(1,), \n",
        "                name=name, \n",
        "                dtype=\"int32\"\n",
        "                )\n",
        "for name in user_seq_sparse_feature_columns:\n",
        "  user_features[name] = Input(\n",
        "                shape=(SEQ_LEN,), \n",
        "                name=name, \n",
        "                dtype=\"int32\"\n",
        "                )\n",
        "length_name = 'hist_len'\n",
        "if length_name in user_feature_columns:\n",
        "  user_features[length_name] = Input((1,), name=length_name, dtype='int32')"
      ],
      "metadata": {
        "id": "ntvMR9x5BtjF"
      },
      "execution_count": 139,
      "outputs": []
    },
    {
      "cell_type": "code",
      "source": [
        "user_inputs_list = list(user_features.values())\n",
        "user_inputs_list"
      ],
      "metadata": {
        "colab": {
          "base_uri": "https://localhost:8080/"
        },
        "id": "ZsM6mPDJkqVR",
        "outputId": "b0a3d94d-7636-411f-c7dd-5cec0ea0a743"
      },
      "execution_count": 140,
      "outputs": [
        {
          "output_type": "execute_result",
          "data": {
            "text/plain": [
              "[<tf.Tensor 'user_id_1:0' shape=(None, 1) dtype=int32>,\n",
              " <tf.Tensor 'geo_zip_1:0' shape=(None, 1) dtype=int32>,\n",
              " <tf.Tensor 'most_frequent_device_class_general_1:0' shape=(None, 1) dtype=int32>,\n",
              " <tf.Tensor 'hist_sku_number_1:0' shape=(None, 50) dtype=int32>,\n",
              " <tf.Tensor 'hist_category_path_1:0' shape=(None, 50) dtype=int32>,\n",
              " <tf.Tensor 'hist_len_1:0' shape=(None, 1) dtype=int32>]"
            ]
          },
          "metadata": {},
          "execution_count": 140
        }
      ]
    },
    {
      "cell_type": "code",
      "source": [
        "# item feature inputs\n",
        "item_features = OrderedDict()\n",
        "for name in item_feature_columns:\n",
        "  item_features[name] = Input(\n",
        "                shape=(1,), \n",
        "                name=name, \n",
        "                dtype=\"int32\"\n",
        "                )\n",
        "item_inputs_list = list(item_features.values())\n"
      ],
      "metadata": {
        "id": "at2VIiBv02WB"
      },
      "execution_count": 141,
      "outputs": []
    },
    {
      "cell_type": "code",
      "source": [
        "item_inputs_list"
      ],
      "metadata": {
        "colab": {
          "base_uri": "https://localhost:8080/"
        },
        "id": "w7BeQhIW1ZHB",
        "outputId": "d1b906dc-4575-4a7a-dd5a-19b109cd6d56"
      },
      "execution_count": 142,
      "outputs": [
        {
          "output_type": "execute_result",
          "data": {
            "text/plain": [
              "[<tf.Tensor 'sku_number_1:0' shape=(None, 1) dtype=int32>]"
            ]
          },
          "metadata": {},
          "execution_count": 142
        }
      ]
    },
    {
      "cell_type": "markdown",
      "source": [
        "## Embed Inputs"
      ],
      "metadata": {
        "id": "rkJg1GNFkJPD"
      }
    },
    {
      "cell_type": "code",
      "source": [
        "# Embed sparse inputs\n",
        "from collections import defaultdict\n",
        "user_sparse_embeded_input = defaultdict(list)\n",
        "\n",
        "for name in user_sparse_feature_columns:\n",
        "  user_sparse_embeded_input[name] = sparse_embedding[name](user_features[name])"
      ],
      "metadata": {
        "id": "gtkBZ6HLkHAf"
      },
      "execution_count": 143,
      "outputs": []
    },
    {
      "cell_type": "code",
      "source": [
        "# Embed the sequence sparse inputs, need to add pooling layer to it\n",
        "seq_embeded_dict = defaultdict(list)\n",
        "\n",
        "for name in user_seq_sparse_feature_columns:\n",
        "  seq_embeded_dict[name] = sparse_embedding[name](user_features[name])\n",
        "\n",
        "# from deepctr.layers.sequence import SequencePoolingLayer\n",
        "# for name in user_seq_sparse_feature_columns:\n",
        "#   user_seq_sparse_embeded_input[name] = SequencePoolingLayer('mean', supports_masking=False)([seq_embeded_dict[name], user_features[length_name]])\n",
        "\n",
        "from tensorflow.keras.layers import AveragePooling1D\n",
        "user_seq_sparse_embeded_input = defaultdict(list)\n",
        "for name in user_seq_sparse_feature_columns:\n",
        "  user_seq_sparse_embeded_input[name] = AveragePooling1D(pool_size=50, padding='valid')(seq_embeded_dict[name])"
      ],
      "metadata": {
        "id": "BgZyHLfAySUq"
      },
      "execution_count": 144,
      "outputs": []
    },
    {
      "cell_type": "code",
      "source": [
        "# vec = AveragePooling1D(pool_size=50, strides = 50, padding='valid')\n",
        "# vec(seq_embeded_dict[name])"
      ],
      "metadata": {
        "id": "dGJ-aWJCeAyX"
      },
      "execution_count": 134,
      "outputs": []
    },
    {
      "cell_type": "code",
      "source": [
        "# from deepctr.layers.sequence import SequencePoolingLayer\n",
        "# vec2 = SequencePoolingLayer('mean', supports_masking=False)\n",
        "# vec2([seq_embeded_dict[name], 35])"
      ],
      "metadata": {
        "id": "LAWoVKoueGNl"
      },
      "execution_count": 135,
      "outputs": []
    },
    {
      "cell_type": "code",
      "source": [
        "# combine embeded inputs into a list\n",
        "user_sparse_embedding_list = list(user_sparse_embeded_input.values()) + list(user_seq_sparse_embeded_input.values())\n",
        "user_sparse_embedding_list"
      ],
      "metadata": {
        "colab": {
          "base_uri": "https://localhost:8080/"
        },
        "id": "OIgRP5lyXbPZ",
        "outputId": "6b53b470-b5d5-428e-85af-4143555cc5dd"
      },
      "execution_count": 145,
      "outputs": [
        {
          "output_type": "execute_result",
          "data": {
            "text/plain": [
              "[<tf.Tensor 'sparse_emb_user_id_1/embedding_lookup/Identity_1:0' shape=(None, 1, 16) dtype=float32>,\n",
              " <tf.Tensor 'sparse_emb_geo_zip_1/embedding_lookup/Identity_1:0' shape=(None, 1, 16) dtype=float32>,\n",
              " <tf.Tensor 'sparse_emb_most_frequent_device_class_general_1/embedding_lookup/Identity_1:0' shape=(None, 1, 16) dtype=float32>,\n",
              " <tf.Tensor 'average_pooling1d_2/Squeeze:0' shape=(None, 1, 32) dtype=float32>,\n",
              " <tf.Tensor 'average_pooling1d_3/Squeeze:0' shape=(None, 1, 32) dtype=float32>]"
            ]
          },
          "metadata": {},
          "execution_count": 145
        }
      ]
    },
    {
      "cell_type": "markdown",
      "source": [
        "## Combine Embeded Input (User only)"
      ],
      "metadata": {
        "id": "6nIWKAyXpmRX"
      }
    },
    {
      "cell_type": "code",
      "source": [
        "from tensorflow.python.keras.layers import Flatten, Concatenate, Layer, Add"
      ],
      "metadata": {
        "id": "Gw7pkzWzppJ4"
      },
      "execution_count": 146,
      "outputs": []
    },
    {
      "cell_type": "code",
      "source": [
        "user_dnn_input = Flatten()(Concatenate(axis=2)(user_sparse_embedding_list))\n",
        "user_dnn_input"
      ],
      "metadata": {
        "id": "0ruiNeGZBOEy",
        "colab": {
          "base_uri": "https://localhost:8080/"
        },
        "outputId": "3d7ff146-88ec-4d2a-bb24-919c44511c47"
      },
      "execution_count": 147,
      "outputs": [
        {
          "output_type": "execute_result",
          "data": {
            "text/plain": [
              "<tf.Tensor 'flatten_1/Reshape:0' shape=(None, 112) dtype=float32>"
            ]
          },
          "metadata": {},
          "execution_count": 147
        }
      ]
    },
    {
      "cell_type": "markdown",
      "source": [
        "# Sepecify Model Layers"
      ],
      "metadata": {
        "id": "00EvAK7d7v8H"
      }
    },
    {
      "cell_type": "markdown",
      "source": [
        "### User Layers"
      ],
      "metadata": {
        "id": "Nyz2GRXstx1u"
      }
    },
    {
      "cell_type": "code",
      "source": [
        "from tensorflow.keras import layers"
      ],
      "metadata": {
        "id": "5XEX8w1qfiWY"
      },
      "execution_count": 148,
      "outputs": []
    },
    {
      "cell_type": "code",
      "source": [
        "user_dnn_hidden_units = (128,64, embedding_dim)\n",
        "dnn_activation='relu'\n",
        "dnn_use_bn=False\n",
        "l2_reg_dnn=0\n",
        "l2_reg_embedding=1e-6\n",
        "dnn_dropout=0\n",
        "output_activation='linear'\n",
        "temperature=0.05,\n",
        "# sampler_config=sampler_config\n",
        "seed=1024"
      ],
      "metadata": {
        "id": "jxUktp9cysj_"
      },
      "execution_count": 149,
      "outputs": []
    },
    {
      "cell_type": "code",
      "source": [
        "# from deepctr.layers import DNN\n",
        "from model_utils import DNN"
      ],
      "metadata": {
        "id": "iLbtmoH17KAU"
      },
      "execution_count": 151,
      "outputs": []
    },
    {
      "cell_type": "code",
      "source": [
        "dnn_layers = DNN(hidden_units = user_dnn_hidden_units, \n",
        "                  activation='relu', \n",
        "                  l2_reg=0, \n",
        "                  dropout_rate=0, \n",
        "                  use_bn=False, \n",
        "                  output_activation='linear',\n",
        "                  seed=1024\n",
        "                  )\n",
        "\n"
      ],
      "metadata": {
        "id": "9S6JndR3KFx1"
      },
      "execution_count": 152,
      "outputs": []
    },
    {
      "cell_type": "code",
      "source": [
        "user_dnn_output = dnn_layers(user_dnn_input)\n",
        "user_dnn_output = l2_normalize(user_dnn_output)\n",
        "user_dnn_output"
      ],
      "metadata": {
        "colab": {
          "base_uri": "https://localhost:8080/"
        },
        "id": "ZlEfVc4dLS0l",
        "outputId": "12273bef-4ae1-4b78-9d0e-228efe37287f"
      },
      "execution_count": 153,
      "outputs": [
        {
          "output_type": "execute_result",
          "data": {
            "text/plain": [
              "<tf.Tensor 'lambda/l2_normalize:0' shape=(None, 32) dtype=float32>"
            ]
          },
          "metadata": {},
          "execution_count": 153
        }
      ]
    },
    {
      "cell_type": "markdown",
      "source": [
        "### Item Layer"
      ],
      "metadata": {
        "id": "ae2bSV0TtnvG"
      }
    },
    {
      "cell_type": "code",
      "source": [
        "# Create item index tensor\n",
        "item_vocabulary_size = feature_max_idx[item_feature_name]\n",
        "item_index = EmbeddingIndex(list(range(item_vocabulary_size)))(item_features[item_feature_name])\n",
        "\n",
        "# embed the item index input\n",
        "item_embeding = sparse_embedding[item_feature_name]\n",
        "item_embedding_weight = NoMask()(item_embeding(item_index))\n",
        "pooling_item_embedding_weight = PoolingLayer()([item_embedding_weight])\n",
        "pooling_item_embedding_weight = l2_normalize(pooling_item_embedding_weight)\n",
        "pooling_item_embedding_weight\n"
      ],
      "metadata": {
        "id": "xdKJ9VEfCyXL",
        "colab": {
          "base_uri": "https://localhost:8080/"
        },
        "outputId": "c245539a-e994-4823-88dd-964cecd57913"
      },
      "execution_count": 154,
      "outputs": [
        {
          "output_type": "execute_result",
          "data": {
            "text/plain": [
              "<tf.Tensor 'lambda_1/l2_normalize:0' shape=(8037, 32) dtype=float32>"
            ]
          },
          "metadata": {},
          "execution_count": 154
        }
      ]
    },
    {
      "cell_type": "code",
      "source": [
        "pooling_item_embedding_weight.eval(session=K.get_session()).shape"
      ],
      "metadata": {
        "colab": {
          "base_uri": "https://localhost:8080/"
        },
        "id": "OjQ88lPaprh2",
        "outputId": "bd4b1e09-276f-4ca6-ff5a-ed7e682eb314"
      },
      "execution_count": 155,
      "outputs": [
        {
          "output_type": "execute_result",
          "data": {
            "text/plain": [
              "(8037, 32)"
            ]
          },
          "metadata": {},
          "execution_count": 155
        }
      ]
    },
    {
      "cell_type": "code",
      "source": [
        "# .eval(session=K.get_session())"
      ],
      "metadata": {
        "id": "dR7Lsgh0qy20"
      },
      "execution_count": null,
      "outputs": []
    },
    {
      "cell_type": "markdown",
      "source": [
        "### Output Layer"
      ],
      "metadata": {
        "id": "NaZ1ifdZ_LM5"
      }
    },
    {
      "cell_type": "code",
      "source": [
        "output = SampledSoftmaxLayer()(\n",
        "    [pooling_item_embedding_weight, user_dnn_output, item_features[item_feature_name]])\n",
        "output"
      ],
      "metadata": {
        "colab": {
          "base_uri": "https://localhost:8080/"
        },
        "id": "p_hbelWEowl8",
        "outputId": "7629b957-ab56-4e08-ff9d-d357e0ab1ffd"
      },
      "execution_count": 156,
      "outputs": [
        {
          "output_type": "execute_result",
          "data": {
            "text/plain": [
              "<tf.Tensor 'sampled_softmax_layer/ExpandDims:0' shape=(None, 1) dtype=float32>"
            ]
          },
          "metadata": {},
          "execution_count": 156
        }
      ]
    },
    {
      "cell_type": "code",
      "source": [
        "# from model_utils import SampledSoftmaxLayer\n",
        "# sf = SampledSoftmaxLayer()"
      ],
      "metadata": {
        "id": "4JSxRTWtFAnG"
      },
      "execution_count": null,
      "outputs": []
    },
    {
      "cell_type": "code",
      "source": [
        "# from tensorflow.keras.layers import Softmax\n",
        "# sf2 = Softmax()\n",
        "# import numpy as np\n",
        "# x = np.asarray([[1., 2., 1.]])\n",
        "# x\n",
        "# sf2(x).eval(session=K.get_session())"
      ],
      "metadata": {
        "id": "5AFUGxVwFA--"
      },
      "execution_count": null,
      "outputs": []
    },
    {
      "cell_type": "code",
      "source": [
        "pooling_item_embedding_weight"
      ],
      "metadata": {
        "colab": {
          "base_uri": "https://localhost:8080/"
        },
        "id": "sWLljvPiA8rI",
        "outputId": "7efafec8-849a-4506-c590-c97bca32ea14"
      },
      "execution_count": 157,
      "outputs": [
        {
          "output_type": "execute_result",
          "data": {
            "text/plain": [
              "<tf.Tensor 'lambda_1/l2_normalize:0' shape=(8037, 32) dtype=float32>"
            ]
          },
          "metadata": {},
          "execution_count": 157
        }
      ]
    },
    {
      "cell_type": "code",
      "source": [
        "user_dnn_output"
      ],
      "metadata": {
        "colab": {
          "base_uri": "https://localhost:8080/"
        },
        "id": "uNGi4K9YAwcw",
        "outputId": "78c403fd-91ab-4223-b043-b38b4d7424b9"
      },
      "execution_count": 158,
      "outputs": [
        {
          "output_type": "execute_result",
          "data": {
            "text/plain": [
              "<tf.Tensor 'lambda/l2_normalize:0' shape=(None, 32) dtype=float32>"
            ]
          },
          "metadata": {},
          "execution_count": 158
        }
      ]
    },
    {
      "cell_type": "code",
      "source": [
        "item_features[item_feature_name]"
      ],
      "metadata": {
        "colab": {
          "base_uri": "https://localhost:8080/"
        },
        "id": "xZdpyC-JA-NH",
        "outputId": "cfb3a85e-7029-4d93-866f-46e2ec5d154d"
      },
      "execution_count": 159,
      "outputs": [
        {
          "output_type": "execute_result",
          "data": {
            "text/plain": [
              "<tf.Tensor 'sku_number_1:0' shape=(None, 1) dtype=int32>"
            ]
          },
          "metadata": {},
          "execution_count": 159
        }
      ]
    },
    {
      "cell_type": "markdown",
      "source": [
        "## Build Model"
      ],
      "metadata": {
        "id": "7pxt5AhhABQv"
      }
    },
    {
      "cell_type": "code",
      "source": [
        "from tensorflow.python.keras.models import Model"
      ],
      "metadata": {
        "id": "NxwwfP8M_c-X"
      },
      "execution_count": 160,
      "outputs": []
    },
    {
      "cell_type": "code",
      "source": [
        "model = Model(inputs=user_inputs_list + item_inputs_list, outputs=output)\n",
        "\n",
        "model.__setattr__(\"user_input\", user_inputs_list)\n",
        "model.__setattr__(\"user_embedding\", user_dnn_output)\n",
        "\n",
        "model.__setattr__(\"item_input\", item_inputs_list)\n",
        "model.__setattr__(\"item_embedding\",\n",
        "                  get_item_embedding(pooling_item_embedding_weight, item_features[item_feature_name]))\n"
      ],
      "metadata": {
        "id": "05qTGyqg_HYD"
      },
      "execution_count": 161,
      "outputs": []
    },
    {
      "cell_type": "markdown",
      "source": [
        "# Model Compile and Training"
      ],
      "metadata": {
        "id": "iZTKXy9MsFGM"
      }
    },
    {
      "cell_type": "code",
      "source": [
        "model.compile(optimizer=\"adam\", loss=sampledsoftmaxloss)"
      ],
      "metadata": {
        "id": "LN4h_A0-BcE7"
      },
      "execution_count": 162,
      "outputs": []
    },
    {
      "cell_type": "code",
      "source": [
        "history = model.fit(train_model_input, train_label,\n",
        "                    batch_size=512, epochs=20, verbose=1, validation_split=0.0, )"
      ],
      "metadata": {
        "colab": {
          "base_uri": "https://localhost:8080/"
        },
        "id": "UNzun5zFpqZi",
        "outputId": "185d7e66-c320-4052-b07d-a1cf1ecc43d7"
      },
      "execution_count": 163,
      "outputs": [
        {
          "output_type": "stream",
          "name": "stdout",
          "text": [
            "Train on 45612 samples\n",
            "Epoch 1/20\n",
            "45612/45612 [==============================] - 4s 98us/sample - loss: 4.8541\n",
            "Epoch 2/20\n",
            "45612/45612 [==============================] - 4s 84us/sample - loss: 4.7860\n",
            "Epoch 3/20\n",
            "45612/45612 [==============================] - 4s 84us/sample - loss: 4.7116\n",
            "Epoch 4/20\n",
            "45612/45612 [==============================] - 5s 109us/sample - loss: 4.6353\n",
            "Epoch 5/20\n",
            "45612/45612 [==============================] - 5s 105us/sample - loss: 4.5811\n",
            "Epoch 6/20\n",
            "45612/45612 [==============================] - 4s 83us/sample - loss: 4.5297\n",
            "Epoch 7/20\n",
            "45612/45612 [==============================] - 4s 84us/sample - loss: 4.5270\n",
            "Epoch 8/20\n",
            "45612/45612 [==============================] - 4s 83us/sample - loss: 4.4830\n",
            "Epoch 9/20\n",
            "45612/45612 [==============================] - 4s 84us/sample - loss: 4.4587\n",
            "Epoch 10/20\n",
            "45612/45612 [==============================] - 4s 83us/sample - loss: 4.4448\n",
            "Epoch 11/20\n",
            "45612/45612 [==============================] - 5s 113us/sample - loss: 4.4427\n",
            "Epoch 12/20\n",
            "45612/45612 [==============================] - 4s 82us/sample - loss: 4.4260\n",
            "Epoch 13/20\n",
            "45612/45612 [==============================] - 4s 83us/sample - loss: 4.4069\n",
            "Epoch 14/20\n",
            "45612/45612 [==============================] - 4s 84us/sample - loss: 4.3860\n",
            "Epoch 15/20\n",
            "45612/45612 [==============================] - 4s 84us/sample - loss: 4.3997\n",
            "Epoch 16/20\n",
            "45612/45612 [==============================] - 4s 82us/sample - loss: 4.3852\n",
            "Epoch 17/20\n",
            "45612/45612 [==============================] - 4s 83us/sample - loss: 4.3677\n",
            "Epoch 18/20\n",
            "45612/45612 [==============================] - 4s 83us/sample - loss: 4.3798\n",
            "Epoch 19/20\n",
            "45612/45612 [==============================] - 4s 82us/sample - loss: 4.3740\n",
            "Epoch 20/20\n",
            "45612/45612 [==============================] - 4s 82us/sample - loss: 4.3600\n"
          ]
        }
      ]
    },
    {
      "cell_type": "code",
      "source": [
        "res = model.predict(train_model_input)"
      ],
      "metadata": {
        "colab": {
          "base_uri": "https://localhost:8080/"
        },
        "id": "OjNP2MhJB9l4",
        "outputId": "d9543313-b048-4788-a680-89fc8054f017"
      },
      "execution_count": 164,
      "outputs": [
        {
          "output_type": "stream",
          "name": "stderr",
          "text": [
            "/usr/local/lib/python3.7/dist-packages/tensorflow/python/keras/engine/training.py:2458: UserWarning: `Model.state_updates` will be removed in a future version. This property should not be used in TensorFlow 2.0, as `updates` are applied automatically.\n",
            "  warnings.warn('`Model.state_updates` will be removed in a future version. '\n"
          ]
        }
      ]
    },
    {
      "cell_type": "code",
      "source": [
        "res"
      ],
      "metadata": {
        "colab": {
          "base_uri": "https://localhost:8080/"
        },
        "id": "S2PyKJLnE-Hs",
        "outputId": "d413db67-3de1-4b10-9c03-7530eae8aef5"
      },
      "execution_count": 165,
      "outputs": [
        {
          "output_type": "execute_result",
          "data": {
            "text/plain": [
              "array([[5.7535205],\n",
              "       [5.4441786],\n",
              "       [3.535766 ],\n",
              "       ...,\n",
              "       [3.3918657],\n",
              "       [3.8625371],\n",
              "       [4.408304 ]], dtype=float32)"
            ]
          },
          "metadata": {},
          "execution_count": 165
        }
      ]
    },
    {
      "cell_type": "markdown",
      "source": [
        "# Predict: Generate Item and User Embeddings"
      ],
      "metadata": {
        "id": "lMvl2SKUATXr"
      }
    },
    {
      "cell_type": "code",
      "source": [
        "# 4. Generate user features for testing and full item features for retrieval\n",
        "test_user_model_input = test_model_input\n",
        "all_item_model_input = {\"sku_number\": item_profile['sku_number'].values,}\n",
        "\n",
        "user_embedding_model = Model(inputs=model.user_input, outputs=model.user_embedding)\n",
        "item_embedding_model = Model(inputs=model.item_input, outputs=model.item_embedding)\n",
        "\n",
        "user_embs = user_embedding_model.predict(test_user_model_input, batch_size=2 ** 12)\n",
        "# user_embs = user_embs[:, i, :]  # i in [0,k_max) if MIND\n",
        "item_embs = item_embedding_model.predict(all_item_model_input, batch_size=2 ** 12)\n",
        "\n",
        "print(user_embs.shape)\n",
        "print(item_embs.shape)"
      ],
      "metadata": {
        "colab": {
          "base_uri": "https://localhost:8080/"
        },
        "id": "Xdc56egCskOs",
        "outputId": "bbe11be6-238f-44dd-a699-edf8fa9636c8"
      },
      "execution_count": 167,
      "outputs": [
        {
          "output_type": "stream",
          "name": "stdout",
          "text": [
            "(200, 32)\n",
            "(8036, 32)\n"
          ]
        }
      ]
    },
    {
      "cell_type": "code",
      "source": [
        "prob_matrix = user_embs.dot(item_embs.T)"
      ],
      "metadata": {
        "id": "vl-obJoXsHb_"
      },
      "execution_count": 168,
      "outputs": []
    },
    {
      "cell_type": "code",
      "source": [
        "user_idx = 0\n",
        "a = set([x + 1 for x in prob_matrix[user_idx].argsort()[-50:]])"
      ],
      "metadata": {
        "id": "jsiH5tIBIS8D"
      },
      "execution_count": 169,
      "outputs": []
    },
    {
      "cell_type": "code",
      "source": [
        "df_train = pd.DataFrame(train_set)\n",
        "b = set(df_train[df_train[0] == (user_idx+1)][1].values)"
      ],
      "metadata": {
        "id": "hFhnli4GIUkl"
      },
      "execution_count": 170,
      "outputs": []
    },
    {
      "cell_type": "code",
      "source": [
        "len(a&b)"
      ],
      "metadata": {
        "colab": {
          "base_uri": "https://localhost:8080/"
        },
        "id": "AcYxyeFiIYSN",
        "outputId": "2bdc28d0-245f-45bc-8abb-7e3642fe0186"
      },
      "execution_count": 171,
      "outputs": [
        {
          "output_type": "execute_result",
          "data": {
            "text/plain": [
              "0"
            ]
          },
          "metadata": {},
          "execution_count": 171
        }
      ]
    },
    {
      "cell_type": "code",
      "source": [
        "import numpy as np\n",
        "a = np.array([ 0.11175336,  0.4548011 , -0.15772209,  0.3445765 , -0.0619677 ,\n",
        "        0.06464498, -0.10026787, -0.07865412, -0.05304453,  0.19952899,\n",
        "        0.14534044,  0.16223468,  0.02545189, -0.24614649,  0.02315353,\n",
        "        0.09893572, -0.07596418, -0.09769203,  0.02297432,  0.1150127 ,\n",
        "       -0.09194405,  0.05969758, -0.01262948, -0.04111078, -0.52638304,\n",
        "       -0.01993592, -0.11702564, -0.13895226, -0.04519685, -0.30629617,\n",
        "       -0.02717471, -0.03397018])\n",
        "b = np.array([-0.22946945,  0.31338242,  0.17805392, -0.40977573,  0.06601848,\n",
        "       -0.32935393,  0.11766144, -0.08969792, -0.01543093,  0.00668303,\n",
        "       -0.1148053 ,  0.02085993,  0.3859076 , -0.07861419,  0.00837284,\n",
        "       -0.01701969,  0.3163019 , -0.36242014, -0.04939312, -0.02236807,\n",
        "       -0.12954137,  0.1923324 ,  0.04133848,  0.03154316, -0.00369814,\n",
        "        0.15590565, -0.05733275,  0.0741621 ,  0.05379602,  0.07140778,\n",
        "       -0.11147177, -0.03305427])"
      ],
      "metadata": {
        "id": "iLd79HC2FUC6"
      },
      "execution_count": null,
      "outputs": []
    },
    {
      "cell_type": "code",
      "source": [
        "a.dot(b)"
      ],
      "metadata": {
        "colab": {
          "base_uri": "https://localhost:8080/"
        },
        "id": "ky4b2aO7FzF6",
        "outputId": "6be5aca4-533d-4b63-a36d-0e655790517c"
      },
      "execution_count": null,
      "outputs": [
        {
          "output_type": "execute_result",
          "data": {
            "text/plain": [
              "-0.06165534518726169"
            ]
          },
          "metadata": {},
          "execution_count": 62
        }
      ]
    }
  ]
}