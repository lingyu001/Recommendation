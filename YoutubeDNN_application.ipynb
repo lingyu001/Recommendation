{
  "nbformat": 4,
  "nbformat_minor": 0,
  "metadata": {
    "colab": {
      "provenance": [],
      "collapsed_sections": [
        "SOWZDxQGaOS8",
        "lMvl2SKUATXr"
      ],
      "authorship_tag": "ABX9TyNTLWdw2Gj4apGJ2ji+cUPq",
      "include_colab_link": true
    },
    "kernelspec": {
      "name": "python3",
      "display_name": "Python 3"
    },
    "language_info": {
      "name": "python"
    }
  },
  "cells": [
    {
      "cell_type": "markdown",
      "metadata": {
        "id": "view-in-github",
        "colab_type": "text"
      },
      "source": [
        "<a href=\"https://colab.research.google.com/github/lingyu001/Recommendation/blob/master/YoutubeDNN_application.ipynb\" target=\"_parent\"><img src=\"https://colab.research.google.com/assets/colab-badge.svg\" alt=\"Open In Colab\"/></a>"
      ]
    },
    {
      "cell_type": "code",
      "execution_count": 1,
      "metadata": {
        "colab": {
          "base_uri": "https://localhost:8080/"
        },
        "id": "8qgIPmHNLkS-",
        "outputId": "364f9734-3464-452f-be0d-26c4c28c1ae0"
      },
      "outputs": [
        {
          "output_type": "stream",
          "name": "stdout",
          "text": [
            "--2022-10-17 15:05:35--  http://files.grouplens.org/datasets/movielens/ml-1m.zip\n",
            "Resolving files.grouplens.org (files.grouplens.org)... 128.101.65.152\n",
            "Connecting to files.grouplens.org (files.grouplens.org)|128.101.65.152|:80... connected.\n",
            "HTTP request sent, awaiting response... 200 OK\n",
            "Length: 5917549 (5.6M) [application/zip]\n",
            "Saving to: ‘./ml-1m.zip’\n",
            "\n",
            "./ml-1m.zip         100%[===================>]   5.64M  24.3MB/s    in 0.2s    \n",
            "\n",
            "2022-10-17 15:05:36 (24.3 MB/s) - ‘./ml-1m.zip’ saved [5917549/5917549]\n",
            "\n",
            "--2022-10-17 15:05:36--  https://raw.githubusercontent.com/lingyu001/Recommendation/master/preprocess_sku.py\n",
            "Resolving raw.githubusercontent.com (raw.githubusercontent.com)... 185.199.111.133, 185.199.108.133, 185.199.109.133, ...\n",
            "Connecting to raw.githubusercontent.com (raw.githubusercontent.com)|185.199.111.133|:443... connected.\n",
            "HTTP request sent, awaiting response... 200 OK\n",
            "Length: 6756 (6.6K) [text/plain]\n",
            "Saving to: ‘preprocess_sku.py’\n",
            "\n",
            "preprocess_sku.py   100%[===================>]   6.60K  --.-KB/s    in 0s      \n",
            "\n",
            "2022-10-17 15:05:36 (51.3 MB/s) - ‘preprocess_sku.py’ saved [6756/6756]\n",
            "\n",
            "--2022-10-17 15:05:36--  https://raw.githubusercontent.com/lingyu001/Recommendation/master/model_utils.py\n",
            "Resolving raw.githubusercontent.com (raw.githubusercontent.com)... 185.199.108.133, 185.199.109.133, 185.199.110.133, ...\n",
            "Connecting to raw.githubusercontent.com (raw.githubusercontent.com)|185.199.108.133|:443... connected.\n",
            "HTTP request sent, awaiting response... 200 OK\n",
            "Length: 17409 (17K) [text/plain]\n",
            "Saving to: ‘model_utils.py’\n",
            "\n",
            "model_utils.py      100%[===================>]  17.00K  --.-KB/s    in 0s      \n",
            "\n",
            "2022-10-17 15:05:36 (51.8 MB/s) - ‘model_utils.py’ saved [17409/17409]\n",
            "\n",
            "Archive:  ml-1m.zip\n",
            "   creating: ml-1m/\n",
            "  inflating: ml-1m/movies.dat        \n",
            "  inflating: ml-1m/ratings.dat       \n",
            "  inflating: ml-1m/README            \n",
            "  inflating: ml-1m/users.dat         \n"
          ]
        }
      ],
      "source": [
        "! wget http://files.grouplens.org/datasets/movielens/ml-1m.zip -O ./ml-1m.zip\n",
        "! wget https://raw.githubusercontent.com/lingyu001/Recommendation/master/preprocess_sku.py -O preprocess_sku.py\n",
        "! wget https://raw.githubusercontent.com/lingyu001/Recommendation/master/model_utils.py -O model_utils.py\n",
        "! unzip -o ml-1m.zip "
      ]
    },
    {
      "cell_type": "code",
      "source": [
        "# ! pip install -q deepmatch"
      ],
      "metadata": {
        "colab": {
          "base_uri": "https://localhost:8080/"
        },
        "id": "1MMP7wa9N4t6",
        "outputId": "dd9183b1-5fb1-4a72-933d-1d7846fd52b4"
      },
      "execution_count": null,
      "outputs": [
        {
          "output_type": "stream",
          "name": "stdout",
          "text": [
            "\u001b[K     |████████████████████████████████| 147 kB 46.3 MB/s \n",
            "\u001b[K     |████████████████████████████████| 2.9 MB 61.2 MB/s \n",
            "\u001b[?25h"
          ]
        }
      ]
    },
    {
      "cell_type": "code",
      "source": [
        "import pandas as pd\n",
        "from ast import literal_eval\n",
        "from preprocess_sku import gen_data_set, gen_model_input, gen_data_set_timesplit\n",
        "from sklearn.preprocessing import LabelEncoder\n",
        "from tensorflow.python.keras import backend as K\n",
        "from tensorflow.python.keras.models import Model\n",
        "from model_utils import DNN, EmbeddingIndex, NoMask, PoolingLayer, l2_normalize,\\\n",
        " reduce_mean, SampledSoftmaxLayer, get_item_embedding, sampledsoftmaxloss"
      ],
      "metadata": {
        "id": "gABip0B7LsHJ"
      },
      "execution_count": 43,
      "outputs": []
    },
    {
      "cell_type": "code",
      "source": [
        "%load_ext autoreload\n",
        "%autoreload 2"
      ],
      "metadata": {
        "id": "DDQ87v8WA94s"
      },
      "execution_count": 5,
      "outputs": []
    },
    {
      "cell_type": "markdown",
      "source": [
        "# Data"
      ],
      "metadata": {
        "id": "xCJLpR8EQoBm"
      }
    },
    {
      "cell_type": "code",
      "source": [
        "# data_path = \"./\"\n",
        "\n",
        "# unames = ['user_id','gender','age','occupation','zip']\n",
        "# user = pd.read_csv(data_path+'ml-1m/users.dat',sep='::',header=None,names=unames)\n",
        "# rnames = ['user_id','sku_number','rating','timestamp']\n",
        "# ratings = pd.read_csv(data_path+'ml-1m/ratings.dat',sep='::',header=None,names=rnames)\n",
        "# mnames = ['sku_number','title','genres']\n",
        "# movies = pd.read_csv(data_path+'ml-1m/movies.dat',sep='::',header=None,names=mnames,encoding=\"unicode_escape\")\n",
        "# movies['genres'] = list(map(lambda x: x.split('|')[0], movies['genres'].values))\n",
        "\n",
        "# data = pd.merge(pd.merge(ratings,movies),user).iloc[:10000] # taking 1w\n",
        "# print(data.shape)\n",
        "# print(data.user_id.nunique())\n",
        "# print(data.sku_number.nunique())\n",
        "# data.head(2)"
      ],
      "metadata": {
        "colab": {
          "base_uri": "https://localhost:8080/",
          "height": 221
        },
        "id": "OK705XlgQmHX",
        "outputId": "037cdcef-60c1-462b-cb8e-ff006f559e10"
      },
      "execution_count": null,
      "outputs": [
        {
          "output_type": "stream",
          "name": "stderr",
          "text": [
            "/usr/local/lib/python3.7/dist-packages/pandas/util/_decorators.py:311: ParserWarning: Falling back to the 'python' engine because the 'c' engine does not support regex separators (separators > 1 char and different from '\\s+' are interpreted as regex); you can avoid this warning by specifying engine='python'.\n",
            "  return func(*args, **kwargs)\n"
          ]
        },
        {
          "output_type": "stream",
          "name": "stdout",
          "text": [
            "(10000, 10)\n",
            "46\n",
            "2175\n"
          ]
        },
        {
          "output_type": "execute_result",
          "data": {
            "text/plain": [
              "   user_id  movie_id  rating  timestamp  \\\n",
              "0        1      1193       5  978300760   \n",
              "1        1       661       3  978302109   \n",
              "\n",
              "                                    title     genres gender  age  occupation  \\\n",
              "0  One Flew Over the Cuckoo's Nest (1975)      Drama      F    1          10   \n",
              "1        James and the Giant Peach (1996)  Animation      F    1          10   \n",
              "\n",
              "     zip  \n",
              "0  48067  \n",
              "1  48067  "
            ],
            "text/html": [
              "\n",
              "  <div id=\"df-839fb27e-4a95-405c-b4fd-eb0ad32a82ed\">\n",
              "    <div class=\"colab-df-container\">\n",
              "      <div>\n",
              "<style scoped>\n",
              "    .dataframe tbody tr th:only-of-type {\n",
              "        vertical-align: middle;\n",
              "    }\n",
              "\n",
              "    .dataframe tbody tr th {\n",
              "        vertical-align: top;\n",
              "    }\n",
              "\n",
              "    .dataframe thead th {\n",
              "        text-align: right;\n",
              "    }\n",
              "</style>\n",
              "<table border=\"1\" class=\"dataframe\">\n",
              "  <thead>\n",
              "    <tr style=\"text-align: right;\">\n",
              "      <th></th>\n",
              "      <th>user_id</th>\n",
              "      <th>movie_id</th>\n",
              "      <th>rating</th>\n",
              "      <th>timestamp</th>\n",
              "      <th>title</th>\n",
              "      <th>genres</th>\n",
              "      <th>gender</th>\n",
              "      <th>age</th>\n",
              "      <th>occupation</th>\n",
              "      <th>zip</th>\n",
              "    </tr>\n",
              "  </thead>\n",
              "  <tbody>\n",
              "    <tr>\n",
              "      <th>0</th>\n",
              "      <td>1</td>\n",
              "      <td>1193</td>\n",
              "      <td>5</td>\n",
              "      <td>978300760</td>\n",
              "      <td>One Flew Over the Cuckoo's Nest (1975)</td>\n",
              "      <td>Drama</td>\n",
              "      <td>F</td>\n",
              "      <td>1</td>\n",
              "      <td>10</td>\n",
              "      <td>48067</td>\n",
              "    </tr>\n",
              "    <tr>\n",
              "      <th>1</th>\n",
              "      <td>1</td>\n",
              "      <td>661</td>\n",
              "      <td>3</td>\n",
              "      <td>978302109</td>\n",
              "      <td>James and the Giant Peach (1996)</td>\n",
              "      <td>Animation</td>\n",
              "      <td>F</td>\n",
              "      <td>1</td>\n",
              "      <td>10</td>\n",
              "      <td>48067</td>\n",
              "    </tr>\n",
              "  </tbody>\n",
              "</table>\n",
              "</div>\n",
              "      <button class=\"colab-df-convert\" onclick=\"convertToInteractive('df-839fb27e-4a95-405c-b4fd-eb0ad32a82ed')\"\n",
              "              title=\"Convert this dataframe to an interactive table.\"\n",
              "              style=\"display:none;\">\n",
              "        \n",
              "  <svg xmlns=\"http://www.w3.org/2000/svg\" height=\"24px\"viewBox=\"0 0 24 24\"\n",
              "       width=\"24px\">\n",
              "    <path d=\"M0 0h24v24H0V0z\" fill=\"none\"/>\n",
              "    <path d=\"M18.56 5.44l.94 2.06.94-2.06 2.06-.94-2.06-.94-.94-2.06-.94 2.06-2.06.94zm-11 1L8.5 8.5l.94-2.06 2.06-.94-2.06-.94L8.5 2.5l-.94 2.06-2.06.94zm10 10l.94 2.06.94-2.06 2.06-.94-2.06-.94-.94-2.06-.94 2.06-2.06.94z\"/><path d=\"M17.41 7.96l-1.37-1.37c-.4-.4-.92-.59-1.43-.59-.52 0-1.04.2-1.43.59L10.3 9.45l-7.72 7.72c-.78.78-.78 2.05 0 2.83L4 21.41c.39.39.9.59 1.41.59.51 0 1.02-.2 1.41-.59l7.78-7.78 2.81-2.81c.8-.78.8-2.07 0-2.86zM5.41 20L4 18.59l7.72-7.72 1.47 1.35L5.41 20z\"/>\n",
              "  </svg>\n",
              "      </button>\n",
              "      \n",
              "  <style>\n",
              "    .colab-df-container {\n",
              "      display:flex;\n",
              "      flex-wrap:wrap;\n",
              "      gap: 12px;\n",
              "    }\n",
              "\n",
              "    .colab-df-convert {\n",
              "      background-color: #E8F0FE;\n",
              "      border: none;\n",
              "      border-radius: 50%;\n",
              "      cursor: pointer;\n",
              "      display: none;\n",
              "      fill: #1967D2;\n",
              "      height: 32px;\n",
              "      padding: 0 0 0 0;\n",
              "      width: 32px;\n",
              "    }\n",
              "\n",
              "    .colab-df-convert:hover {\n",
              "      background-color: #E2EBFA;\n",
              "      box-shadow: 0px 1px 2px rgba(60, 64, 67, 0.3), 0px 1px 3px 1px rgba(60, 64, 67, 0.15);\n",
              "      fill: #174EA6;\n",
              "    }\n",
              "\n",
              "    [theme=dark] .colab-df-convert {\n",
              "      background-color: #3B4455;\n",
              "      fill: #D2E3FC;\n",
              "    }\n",
              "\n",
              "    [theme=dark] .colab-df-convert:hover {\n",
              "      background-color: #434B5C;\n",
              "      box-shadow: 0px 1px 3px 1px rgba(0, 0, 0, 0.15);\n",
              "      filter: drop-shadow(0px 1px 2px rgba(0, 0, 0, 0.3));\n",
              "      fill: #FFFFFF;\n",
              "    }\n",
              "  </style>\n",
              "\n",
              "      <script>\n",
              "        const buttonEl =\n",
              "          document.querySelector('#df-839fb27e-4a95-405c-b4fd-eb0ad32a82ed button.colab-df-convert');\n",
              "        buttonEl.style.display =\n",
              "          google.colab.kernel.accessAllowed ? 'block' : 'none';\n",
              "\n",
              "        async function convertToInteractive(key) {\n",
              "          const element = document.querySelector('#df-839fb27e-4a95-405c-b4fd-eb0ad32a82ed');\n",
              "          const dataTable =\n",
              "            await google.colab.kernel.invokeFunction('convertToInteractive',\n",
              "                                                     [key], {});\n",
              "          if (!dataTable) return;\n",
              "\n",
              "          const docLinkHtml = 'Like what you see? Visit the ' +\n",
              "            '<a target=\"_blank\" href=https://colab.research.google.com/notebooks/data_table.ipynb>data table notebook</a>'\n",
              "            + ' to learn more about interactive tables.';\n",
              "          element.innerHTML = '';\n",
              "          dataTable['output_type'] = 'display_data';\n",
              "          await google.colab.output.renderOutput(dataTable, element);\n",
              "          const docLink = document.createElement('div');\n",
              "          docLink.innerHTML = docLinkHtml;\n",
              "          element.appendChild(docLink);\n",
              "        }\n",
              "      </script>\n",
              "    </div>\n",
              "  </div>\n",
              "  "
            ]
          },
          "metadata": {},
          "execution_count": 5
        }
      ]
    },
    {
      "cell_type": "markdown",
      "source": [
        "### Sales data"
      ],
      "metadata": {
        "id": "9OZLgQp6aSHq"
      }
    },
    {
      "cell_type": "code",
      "source": [
        "data = pd.read_csv('sample_data/mik_sales_sp_10052022.csv', index_col = False, \n",
        "                   parse_dates = ['trans_date','created_time']\n",
        "                   )\n",
        "# data['most_recent_purchased_sku'] = data['most_recent_purchased_sku'].apply(literal_eval)\n",
        "# data['most_recent_view_sku'] = data['most_recent_view_sku'].apply(literal_eval)\n",
        "# data['hist_sku_number'] = data['most_recent_purchased_sku'] + data['most_recent_view_sku']\n",
        "data.shape"
      ],
      "metadata": {
        "colab": {
          "base_uri": "https://localhost:8080/"
        },
        "id": "F1hiTW4Iyn0m",
        "outputId": "a6291868-47e8-4a73-98d0-bc7239c256c8"
      },
      "execution_count": 16,
      "outputs": [
        {
          "output_type": "execute_result",
          "data": {
            "text/plain": [
              "(23206, 14)"
            ]
          },
          "metadata": {},
          "execution_count": 16
        }
      ]
    },
    {
      "cell_type": "code",
      "source": [
        "data['user_id'].nunique(), data['sku_number'].nunique()"
      ],
      "metadata": {
        "colab": {
          "base_uri": "https://localhost:8080/"
        },
        "id": "vO3mrEwF1jNr",
        "outputId": "24e1b153-e648-4782-f68f-09df68940f73"
      },
      "execution_count": 17,
      "outputs": [
        {
          "output_type": "execute_result",
          "data": {
            "text/plain": [
              "(200, 8036)"
            ]
          },
          "metadata": {},
          "execution_count": 17
        }
      ]
    },
    {
      "cell_type": "code",
      "source": [
        "data['trans_date'].max(),data['trans_date'].min(), data['trans_date'].max() - data['trans_date'].min()"
      ],
      "metadata": {
        "colab": {
          "base_uri": "https://localhost:8080/"
        },
        "id": "CBJDSGwRu0nc",
        "outputId": "061bec4b-c562-45da-ef37-a9ffcb2390e0"
      },
      "execution_count": 33,
      "outputs": [
        {
          "output_type": "execute_result",
          "data": {
            "text/plain": [
              "(Timestamp('2022-10-02 00:00:00'),\n",
              " Timestamp('2022-04-02 00:00:00'),\n",
              " Timedelta('183 days 00:00:00'))"
            ]
          },
          "metadata": {},
          "execution_count": 33
        }
      ]
    },
    {
      "cell_type": "code",
      "source": [
        "import datetime\n",
        "# test_start_date = pd.Timestamp(datetime.datetime.today().date() - datetime.timedelta(6))\n",
        "test_start_date = data['trans_date'].max() - datetime.timedelta(6)\n",
        "\n",
        "test_start_date"
      ],
      "metadata": {
        "colab": {
          "base_uri": "https://localhost:8080/"
        },
        "id": "nWk9AWxGz7S8",
        "outputId": "930a6fc7-8184-4907-9fa8-36aee140cedb"
      },
      "execution_count": 58,
      "outputs": [
        {
          "output_type": "execute_result",
          "data": {
            "text/plain": [
              "Timestamp('2022-09-26 00:00:00')"
            ]
          },
          "metadata": {},
          "execution_count": 58
        }
      ]
    },
    {
      "cell_type": "code",
      "source": [
        "data.columns"
      ],
      "metadata": {
        "colab": {
          "base_uri": "https://localhost:8080/"
        },
        "id": "sTK78FgJ_A31",
        "outputId": "cc674520-f831-44cf-d4e2-f0223cf2f7b3"
      },
      "execution_count": 18,
      "outputs": [
        {
          "output_type": "execute_result",
          "data": {
            "text/plain": [
              "Index(['data_source', 'user_id', 'sku_number', 'qty', 'trans_date',\n",
              "       'created_time', 'email_address', 'geo_zip',\n",
              "       'most_frequent_device_class_general', 'total_order_value',\n",
              "       'total_coupon_value', 'most_recent_purchased_sku',\n",
              "       'most_recent_view_sku', 'category_path'],\n",
              "      dtype='object')"
            ]
          },
          "metadata": {},
          "execution_count": 18
        }
      ]
    },
    {
      "cell_type": "code",
      "source": [
        "data = data[['data_source', 'user_id', 'sku_number', 'qty', 'trans_date',\n",
        "       'created_time', 'email_address', 'geo_zip','most_frequent_device_class_general','category_path']]"
      ],
      "metadata": {
        "id": "GTzEI3Hg-7r-"
      },
      "execution_count": 9,
      "outputs": []
    },
    {
      "cell_type": "code",
      "source": [
        "data['sku_number_org'] = data['sku_number']"
      ],
      "metadata": {
        "id": "jMR5OecXnl75"
      },
      "execution_count": 19,
      "outputs": []
    },
    {
      "cell_type": "markdown",
      "source": [
        "### Item category mapping dat"
      ],
      "metadata": {
        "id": "SOWZDxQGaOS8"
      }
    },
    {
      "cell_type": "code",
      "source": [
        "df_item = pd.read_csv(\"sample_data/mik_item_07292022.csv\", index_col=False)\n",
        "df_item.shape"
      ],
      "metadata": {
        "colab": {
          "base_uri": "https://localhost:8080/",
          "height": 346
        },
        "id": "nzq1i9jZ0JAf",
        "outputId": "696b511f-c435-4b44-cfd0-d4155a3f0a3a"
      },
      "execution_count": 10,
      "outputs": [
        {
          "output_type": "error",
          "ename": "FileNotFoundError",
          "evalue": "ignored",
          "traceback": [
            "\u001b[0;31m---------------------------------------------------------------------------\u001b[0m",
            "\u001b[0;31mFileNotFoundError\u001b[0m                         Traceback (most recent call last)",
            "\u001b[0;32m<ipython-input-10-fcb35263543d>\u001b[0m in \u001b[0;36m<module>\u001b[0;34m\u001b[0m\n\u001b[0;32m----> 1\u001b[0;31m \u001b[0mdf_item\u001b[0m \u001b[0;34m=\u001b[0m \u001b[0mpd\u001b[0m\u001b[0;34m.\u001b[0m\u001b[0mread_csv\u001b[0m\u001b[0;34m(\u001b[0m\u001b[0;34m\"sample_data/mik_item_07292022.csv\"\u001b[0m\u001b[0;34m,\u001b[0m \u001b[0mindex_col\u001b[0m\u001b[0;34m=\u001b[0m\u001b[0;32mFalse\u001b[0m\u001b[0;34m)\u001b[0m\u001b[0;34m\u001b[0m\u001b[0;34m\u001b[0m\u001b[0m\n\u001b[0m\u001b[1;32m      2\u001b[0m \u001b[0mdf_item\u001b[0m\u001b[0;34m.\u001b[0m\u001b[0mshape\u001b[0m\u001b[0;34m\u001b[0m\u001b[0;34m\u001b[0m\u001b[0m\n",
            "\u001b[0;32m/usr/local/lib/python3.7/dist-packages/pandas/util/_decorators.py\u001b[0m in \u001b[0;36mwrapper\u001b[0;34m(*args, **kwargs)\u001b[0m\n\u001b[1;32m    309\u001b[0m                     \u001b[0mstacklevel\u001b[0m\u001b[0;34m=\u001b[0m\u001b[0mstacklevel\u001b[0m\u001b[0;34m,\u001b[0m\u001b[0;34m\u001b[0m\u001b[0;34m\u001b[0m\u001b[0m\n\u001b[1;32m    310\u001b[0m                 )\n\u001b[0;32m--> 311\u001b[0;31m             \u001b[0;32mreturn\u001b[0m \u001b[0mfunc\u001b[0m\u001b[0;34m(\u001b[0m\u001b[0;34m*\u001b[0m\u001b[0margs\u001b[0m\u001b[0;34m,\u001b[0m \u001b[0;34m**\u001b[0m\u001b[0mkwargs\u001b[0m\u001b[0;34m)\u001b[0m\u001b[0;34m\u001b[0m\u001b[0;34m\u001b[0m\u001b[0m\n\u001b[0m\u001b[1;32m    312\u001b[0m \u001b[0;34m\u001b[0m\u001b[0m\n\u001b[1;32m    313\u001b[0m         \u001b[0;32mreturn\u001b[0m \u001b[0mwrapper\u001b[0m\u001b[0;34m\u001b[0m\u001b[0;34m\u001b[0m\u001b[0m\n",
            "\u001b[0;32m/usr/local/lib/python3.7/dist-packages/pandas/io/parsers/readers.py\u001b[0m in \u001b[0;36mread_csv\u001b[0;34m(filepath_or_buffer, sep, delimiter, header, names, index_col, usecols, squeeze, prefix, mangle_dupe_cols, dtype, engine, converters, true_values, false_values, skipinitialspace, skiprows, skipfooter, nrows, na_values, keep_default_na, na_filter, verbose, skip_blank_lines, parse_dates, infer_datetime_format, keep_date_col, date_parser, dayfirst, cache_dates, iterator, chunksize, compression, thousands, decimal, lineterminator, quotechar, quoting, doublequote, escapechar, comment, encoding, encoding_errors, dialect, error_bad_lines, warn_bad_lines, on_bad_lines, delim_whitespace, low_memory, memory_map, float_precision, storage_options)\u001b[0m\n\u001b[1;32m    584\u001b[0m     \u001b[0mkwds\u001b[0m\u001b[0;34m.\u001b[0m\u001b[0mupdate\u001b[0m\u001b[0;34m(\u001b[0m\u001b[0mkwds_defaults\u001b[0m\u001b[0;34m)\u001b[0m\u001b[0;34m\u001b[0m\u001b[0;34m\u001b[0m\u001b[0m\n\u001b[1;32m    585\u001b[0m \u001b[0;34m\u001b[0m\u001b[0m\n\u001b[0;32m--> 586\u001b[0;31m     \u001b[0;32mreturn\u001b[0m \u001b[0m_read\u001b[0m\u001b[0;34m(\u001b[0m\u001b[0mfilepath_or_buffer\u001b[0m\u001b[0;34m,\u001b[0m \u001b[0mkwds\u001b[0m\u001b[0;34m)\u001b[0m\u001b[0;34m\u001b[0m\u001b[0;34m\u001b[0m\u001b[0m\n\u001b[0m\u001b[1;32m    587\u001b[0m \u001b[0;34m\u001b[0m\u001b[0m\n\u001b[1;32m    588\u001b[0m \u001b[0;34m\u001b[0m\u001b[0m\n",
            "\u001b[0;32m/usr/local/lib/python3.7/dist-packages/pandas/io/parsers/readers.py\u001b[0m in \u001b[0;36m_read\u001b[0;34m(filepath_or_buffer, kwds)\u001b[0m\n\u001b[1;32m    480\u001b[0m \u001b[0;34m\u001b[0m\u001b[0m\n\u001b[1;32m    481\u001b[0m     \u001b[0;31m# Create the parser.\u001b[0m\u001b[0;34m\u001b[0m\u001b[0;34m\u001b[0m\u001b[0;34m\u001b[0m\u001b[0m\n\u001b[0;32m--> 482\u001b[0;31m     \u001b[0mparser\u001b[0m \u001b[0;34m=\u001b[0m \u001b[0mTextFileReader\u001b[0m\u001b[0;34m(\u001b[0m\u001b[0mfilepath_or_buffer\u001b[0m\u001b[0;34m,\u001b[0m \u001b[0;34m**\u001b[0m\u001b[0mkwds\u001b[0m\u001b[0;34m)\u001b[0m\u001b[0;34m\u001b[0m\u001b[0;34m\u001b[0m\u001b[0m\n\u001b[0m\u001b[1;32m    483\u001b[0m \u001b[0;34m\u001b[0m\u001b[0m\n\u001b[1;32m    484\u001b[0m     \u001b[0;32mif\u001b[0m \u001b[0mchunksize\u001b[0m \u001b[0;32mor\u001b[0m \u001b[0miterator\u001b[0m\u001b[0;34m:\u001b[0m\u001b[0;34m\u001b[0m\u001b[0;34m\u001b[0m\u001b[0m\n",
            "\u001b[0;32m/usr/local/lib/python3.7/dist-packages/pandas/io/parsers/readers.py\u001b[0m in \u001b[0;36m__init__\u001b[0;34m(self, f, engine, **kwds)\u001b[0m\n\u001b[1;32m    809\u001b[0m             \u001b[0mself\u001b[0m\u001b[0;34m.\u001b[0m\u001b[0moptions\u001b[0m\u001b[0;34m[\u001b[0m\u001b[0;34m\"has_index_names\"\u001b[0m\u001b[0;34m]\u001b[0m \u001b[0;34m=\u001b[0m \u001b[0mkwds\u001b[0m\u001b[0;34m[\u001b[0m\u001b[0;34m\"has_index_names\"\u001b[0m\u001b[0;34m]\u001b[0m\u001b[0;34m\u001b[0m\u001b[0;34m\u001b[0m\u001b[0m\n\u001b[1;32m    810\u001b[0m \u001b[0;34m\u001b[0m\u001b[0m\n\u001b[0;32m--> 811\u001b[0;31m         \u001b[0mself\u001b[0m\u001b[0;34m.\u001b[0m\u001b[0m_engine\u001b[0m \u001b[0;34m=\u001b[0m \u001b[0mself\u001b[0m\u001b[0;34m.\u001b[0m\u001b[0m_make_engine\u001b[0m\u001b[0;34m(\u001b[0m\u001b[0mself\u001b[0m\u001b[0;34m.\u001b[0m\u001b[0mengine\u001b[0m\u001b[0;34m)\u001b[0m\u001b[0;34m\u001b[0m\u001b[0;34m\u001b[0m\u001b[0m\n\u001b[0m\u001b[1;32m    812\u001b[0m \u001b[0;34m\u001b[0m\u001b[0m\n\u001b[1;32m    813\u001b[0m     \u001b[0;32mdef\u001b[0m \u001b[0mclose\u001b[0m\u001b[0;34m(\u001b[0m\u001b[0mself\u001b[0m\u001b[0;34m)\u001b[0m\u001b[0;34m:\u001b[0m\u001b[0;34m\u001b[0m\u001b[0;34m\u001b[0m\u001b[0m\n",
            "\u001b[0;32m/usr/local/lib/python3.7/dist-packages/pandas/io/parsers/readers.py\u001b[0m in \u001b[0;36m_make_engine\u001b[0;34m(self, engine)\u001b[0m\n\u001b[1;32m   1038\u001b[0m             )\n\u001b[1;32m   1039\u001b[0m         \u001b[0;31m# error: Too many arguments for \"ParserBase\"\u001b[0m\u001b[0;34m\u001b[0m\u001b[0;34m\u001b[0m\u001b[0;34m\u001b[0m\u001b[0m\n\u001b[0;32m-> 1040\u001b[0;31m         \u001b[0;32mreturn\u001b[0m \u001b[0mmapping\u001b[0m\u001b[0;34m[\u001b[0m\u001b[0mengine\u001b[0m\u001b[0;34m]\u001b[0m\u001b[0;34m(\u001b[0m\u001b[0mself\u001b[0m\u001b[0;34m.\u001b[0m\u001b[0mf\u001b[0m\u001b[0;34m,\u001b[0m \u001b[0;34m**\u001b[0m\u001b[0mself\u001b[0m\u001b[0;34m.\u001b[0m\u001b[0moptions\u001b[0m\u001b[0;34m)\u001b[0m  \u001b[0;31m# type: ignore[call-arg]\u001b[0m\u001b[0;34m\u001b[0m\u001b[0;34m\u001b[0m\u001b[0m\n\u001b[0m\u001b[1;32m   1041\u001b[0m \u001b[0;34m\u001b[0m\u001b[0m\n\u001b[1;32m   1042\u001b[0m     \u001b[0;32mdef\u001b[0m \u001b[0m_failover_to_python\u001b[0m\u001b[0;34m(\u001b[0m\u001b[0mself\u001b[0m\u001b[0;34m)\u001b[0m\u001b[0;34m:\u001b[0m\u001b[0;34m\u001b[0m\u001b[0;34m\u001b[0m\u001b[0m\n",
            "\u001b[0;32m/usr/local/lib/python3.7/dist-packages/pandas/io/parsers/c_parser_wrapper.py\u001b[0m in \u001b[0;36m__init__\u001b[0;34m(self, src, **kwds)\u001b[0m\n\u001b[1;32m     49\u001b[0m \u001b[0;34m\u001b[0m\u001b[0m\n\u001b[1;32m     50\u001b[0m         \u001b[0;31m# open handles\u001b[0m\u001b[0;34m\u001b[0m\u001b[0;34m\u001b[0m\u001b[0;34m\u001b[0m\u001b[0m\n\u001b[0;32m---> 51\u001b[0;31m         \u001b[0mself\u001b[0m\u001b[0;34m.\u001b[0m\u001b[0m_open_handles\u001b[0m\u001b[0;34m(\u001b[0m\u001b[0msrc\u001b[0m\u001b[0;34m,\u001b[0m \u001b[0mkwds\u001b[0m\u001b[0;34m)\u001b[0m\u001b[0;34m\u001b[0m\u001b[0;34m\u001b[0m\u001b[0m\n\u001b[0m\u001b[1;32m     52\u001b[0m         \u001b[0;32massert\u001b[0m \u001b[0mself\u001b[0m\u001b[0;34m.\u001b[0m\u001b[0mhandles\u001b[0m \u001b[0;32mis\u001b[0m \u001b[0;32mnot\u001b[0m \u001b[0;32mNone\u001b[0m\u001b[0;34m\u001b[0m\u001b[0;34m\u001b[0m\u001b[0m\n\u001b[1;32m     53\u001b[0m \u001b[0;34m\u001b[0m\u001b[0m\n",
            "\u001b[0;32m/usr/local/lib/python3.7/dist-packages/pandas/io/parsers/base_parser.py\u001b[0m in \u001b[0;36m_open_handles\u001b[0;34m(self, src, kwds)\u001b[0m\n\u001b[1;32m    227\u001b[0m             \u001b[0mmemory_map\u001b[0m\u001b[0;34m=\u001b[0m\u001b[0mkwds\u001b[0m\u001b[0;34m.\u001b[0m\u001b[0mget\u001b[0m\u001b[0;34m(\u001b[0m\u001b[0;34m\"memory_map\"\u001b[0m\u001b[0;34m,\u001b[0m \u001b[0;32mFalse\u001b[0m\u001b[0;34m)\u001b[0m\u001b[0;34m,\u001b[0m\u001b[0;34m\u001b[0m\u001b[0;34m\u001b[0m\u001b[0m\n\u001b[1;32m    228\u001b[0m             \u001b[0mstorage_options\u001b[0m\u001b[0;34m=\u001b[0m\u001b[0mkwds\u001b[0m\u001b[0;34m.\u001b[0m\u001b[0mget\u001b[0m\u001b[0;34m(\u001b[0m\u001b[0;34m\"storage_options\"\u001b[0m\u001b[0;34m,\u001b[0m \u001b[0;32mNone\u001b[0m\u001b[0;34m)\u001b[0m\u001b[0;34m,\u001b[0m\u001b[0;34m\u001b[0m\u001b[0;34m\u001b[0m\u001b[0m\n\u001b[0;32m--> 229\u001b[0;31m             \u001b[0merrors\u001b[0m\u001b[0;34m=\u001b[0m\u001b[0mkwds\u001b[0m\u001b[0;34m.\u001b[0m\u001b[0mget\u001b[0m\u001b[0;34m(\u001b[0m\u001b[0;34m\"encoding_errors\"\u001b[0m\u001b[0;34m,\u001b[0m \u001b[0;34m\"strict\"\u001b[0m\u001b[0;34m)\u001b[0m\u001b[0;34m,\u001b[0m\u001b[0;34m\u001b[0m\u001b[0;34m\u001b[0m\u001b[0m\n\u001b[0m\u001b[1;32m    230\u001b[0m         )\n\u001b[1;32m    231\u001b[0m \u001b[0;34m\u001b[0m\u001b[0m\n",
            "\u001b[0;32m/usr/local/lib/python3.7/dist-packages/pandas/io/common.py\u001b[0m in \u001b[0;36mget_handle\u001b[0;34m(path_or_buf, mode, encoding, compression, memory_map, is_text, errors, storage_options)\u001b[0m\n\u001b[1;32m    705\u001b[0m                 \u001b[0mencoding\u001b[0m\u001b[0;34m=\u001b[0m\u001b[0mioargs\u001b[0m\u001b[0;34m.\u001b[0m\u001b[0mencoding\u001b[0m\u001b[0;34m,\u001b[0m\u001b[0;34m\u001b[0m\u001b[0;34m\u001b[0m\u001b[0m\n\u001b[1;32m    706\u001b[0m                 \u001b[0merrors\u001b[0m\u001b[0;34m=\u001b[0m\u001b[0merrors\u001b[0m\u001b[0;34m,\u001b[0m\u001b[0;34m\u001b[0m\u001b[0;34m\u001b[0m\u001b[0m\n\u001b[0;32m--> 707\u001b[0;31m                 \u001b[0mnewline\u001b[0m\u001b[0;34m=\u001b[0m\u001b[0;34m\"\"\u001b[0m\u001b[0;34m,\u001b[0m\u001b[0;34m\u001b[0m\u001b[0;34m\u001b[0m\u001b[0m\n\u001b[0m\u001b[1;32m    708\u001b[0m             )\n\u001b[1;32m    709\u001b[0m         \u001b[0;32melse\u001b[0m\u001b[0;34m:\u001b[0m\u001b[0;34m\u001b[0m\u001b[0;34m\u001b[0m\u001b[0m\n",
            "\u001b[0;31mFileNotFoundError\u001b[0m: [Errno 2] No such file or directory: 'sample_data/mik_item_07292022.csv'"
          ]
        }
      ]
    },
    {
      "cell_type": "code",
      "source": [
        "df_item.head(2)"
      ],
      "metadata": {
        "colab": {
          "base_uri": "https://localhost:8080/",
          "height": 166
        },
        "id": "vPcVViQgXHbM",
        "outputId": "17a3e4b6-36f6-4592-828d-a0fbcf554528"
      },
      "execution_count": 11,
      "outputs": [
        {
          "output_type": "error",
          "ename": "NameError",
          "evalue": "ignored",
          "traceback": [
            "\u001b[0;31m---------------------------------------------------------------------------\u001b[0m",
            "\u001b[0;31mNameError\u001b[0m                                 Traceback (most recent call last)",
            "\u001b[0;32m<ipython-input-11-02391b88675f>\u001b[0m in \u001b[0;36m<module>\u001b[0;34m\u001b[0m\n\u001b[0;32m----> 1\u001b[0;31m \u001b[0mdf_item\u001b[0m\u001b[0;34m.\u001b[0m\u001b[0mhead\u001b[0m\u001b[0;34m(\u001b[0m\u001b[0;36m2\u001b[0m\u001b[0;34m)\u001b[0m\u001b[0;34m\u001b[0m\u001b[0;34m\u001b[0m\u001b[0m\n\u001b[0m",
            "\u001b[0;31mNameError\u001b[0m: name 'df_item' is not defined"
          ]
        }
      ]
    },
    {
      "cell_type": "code",
      "source": [
        "data['most_recent_view_sku'].apply(lambda x: len(x)).describe()"
      ],
      "metadata": {
        "id": "A4vUvwyon4ZF"
      },
      "execution_count": null,
      "outputs": []
    },
    {
      "cell_type": "markdown",
      "source": [
        "# Feature Engineering"
      ],
      "metadata": {
        "id": "9oeGJOW4REfl"
      }
    },
    {
      "cell_type": "code",
      "source": [
        "sparse_features = ['sku_number', 'category_path',\n",
        "                   'user_id', 'geo_zip','most_frequent_device_class_general']\n",
        "\n",
        "SEQ_LEN = 50\n",
        "NUMBER_NEG_SAMPLE = 1 # used for generate 1:1 positive:negative samples\n"
      ],
      "metadata": {
        "id": "YX0vSmbeQv4i"
      },
      "execution_count": 35,
      "outputs": []
    },
    {
      "cell_type": "code",
      "source": [
        "# view_item_set = list(set(data['most_recent_view_sku'].sum()))\n",
        "# full_item_set = list(set(list(data['sku_number'].unique()) + view_item_set))\n",
        "# len(full_item_set)"
      ],
      "metadata": {
        "id": "ZJJT6PNTew_Y"
      },
      "execution_count": 36,
      "outputs": []
    },
    {
      "cell_type": "code",
      "source": [
        "feature_max_idx = {}\n",
        "for feature in sparse_features:\n",
        "    # if feature == 'sku_number':      \n",
        "    #   lbe_sku = LabelEncoder()\n",
        "    #   lbe_sku.fit(full_item_set)\n",
        "    #   data[feature] = lbe_sku.transform(data[feature]) + 1\n",
        "    #   feature_max_idx[feature] = data[feature].max() + 1\n",
        "    # else:\n",
        "    lbe = LabelEncoder()\n",
        "    data[feature] = lbe.fit_transform(data[feature]) + 1 # add one to all the encoded categories labels\n",
        "    feature_max_idx[feature] = data[feature].max() + 1"
      ],
      "metadata": {
        "id": "XV-0GzPzRIgO"
      },
      "execution_count": 37,
      "outputs": []
    },
    {
      "cell_type": "code",
      "source": [
        "feature_max_idx"
      ],
      "metadata": {
        "colab": {
          "base_uri": "https://localhost:8080/"
        },
        "id": "gwa-Qg4BRQcG",
        "outputId": "acf963ff-9507-4a80-8a84-0218deb17ec6"
      },
      "execution_count": 38,
      "outputs": [
        {
          "output_type": "execute_result",
          "data": {
            "text/plain": [
              "{'sku_number': 8037,\n",
              " 'category_path': 795,\n",
              " 'user_id': 201,\n",
              " 'geo_zip': 186,\n",
              " 'most_frequent_device_class_general': 3}"
            ]
          },
          "metadata": {},
          "execution_count": 38
        }
      ]
    },
    {
      "cell_type": "code",
      "source": [
        "data.head(2)"
      ],
      "metadata": {
        "colab": {
          "base_uri": "https://localhost:8080/",
          "height": 211
        },
        "id": "swhinBDMRWiX",
        "outputId": "84fc1bcb-47e8-4cc0-b567-ee5be53df8fe"
      },
      "execution_count": 39,
      "outputs": [
        {
          "output_type": "execute_result",
          "data": {
            "text/plain": [
              "     data_source  user_id  sku_number  qty trans_date        created_time  \\\n",
              "8530       ADOBE       99        3075    1 2022-04-02 2022-04-02 03:13:51   \n",
              "8547       ADOBE       99        2387    2 2022-04-02 2022-04-02 03:13:51   \n",
              "\n",
              "             email_address  geo_zip  most_frequent_device_class_general  \\\n",
              "8530  charrison711@aol.com      171                                   2   \n",
              "8547  charrison711@aol.com      171                                   2   \n",
              "\n",
              "      total_order_value  total_coupon_value  \\\n",
              "8530            1082.94                 0.0   \n",
              "8547            1082.94                 0.0   \n",
              "\n",
              "                              most_recent_purchased_sku  \\\n",
              "8530  ['10686776', '10685948', '10685944', '10666327...   \n",
              "8547  ['10686776', '10685948', '10685944', '10666327...   \n",
              "\n",
              "                                   most_recent_view_sku  category_path  \\\n",
              "8530  ['10548355', '10401939', '10367556', '10547844...            191   \n",
              "8547  ['10548355', '10401939', '10367556', '10547844...            188   \n",
              "\n",
              "     sku_number_org  \n",
              "8530       10472573  \n",
              "8547       10402085  "
            ],
            "text/html": [
              "\n",
              "  <div id=\"df-adea8ac8-3f28-4f5d-bb33-731924feb7a3\">\n",
              "    <div class=\"colab-df-container\">\n",
              "      <div>\n",
              "<style scoped>\n",
              "    .dataframe tbody tr th:only-of-type {\n",
              "        vertical-align: middle;\n",
              "    }\n",
              "\n",
              "    .dataframe tbody tr th {\n",
              "        vertical-align: top;\n",
              "    }\n",
              "\n",
              "    .dataframe thead th {\n",
              "        text-align: right;\n",
              "    }\n",
              "</style>\n",
              "<table border=\"1\" class=\"dataframe\">\n",
              "  <thead>\n",
              "    <tr style=\"text-align: right;\">\n",
              "      <th></th>\n",
              "      <th>data_source</th>\n",
              "      <th>user_id</th>\n",
              "      <th>sku_number</th>\n",
              "      <th>qty</th>\n",
              "      <th>trans_date</th>\n",
              "      <th>created_time</th>\n",
              "      <th>email_address</th>\n",
              "      <th>geo_zip</th>\n",
              "      <th>most_frequent_device_class_general</th>\n",
              "      <th>total_order_value</th>\n",
              "      <th>total_coupon_value</th>\n",
              "      <th>most_recent_purchased_sku</th>\n",
              "      <th>most_recent_view_sku</th>\n",
              "      <th>category_path</th>\n",
              "      <th>sku_number_org</th>\n",
              "    </tr>\n",
              "  </thead>\n",
              "  <tbody>\n",
              "    <tr>\n",
              "      <th>8530</th>\n",
              "      <td>ADOBE</td>\n",
              "      <td>99</td>\n",
              "      <td>3075</td>\n",
              "      <td>1</td>\n",
              "      <td>2022-04-02</td>\n",
              "      <td>2022-04-02 03:13:51</td>\n",
              "      <td>charrison711@aol.com</td>\n",
              "      <td>171</td>\n",
              "      <td>2</td>\n",
              "      <td>1082.94</td>\n",
              "      <td>0.0</td>\n",
              "      <td>['10686776', '10685948', '10685944', '10666327...</td>\n",
              "      <td>['10548355', '10401939', '10367556', '10547844...</td>\n",
              "      <td>191</td>\n",
              "      <td>10472573</td>\n",
              "    </tr>\n",
              "    <tr>\n",
              "      <th>8547</th>\n",
              "      <td>ADOBE</td>\n",
              "      <td>99</td>\n",
              "      <td>2387</td>\n",
              "      <td>2</td>\n",
              "      <td>2022-04-02</td>\n",
              "      <td>2022-04-02 03:13:51</td>\n",
              "      <td>charrison711@aol.com</td>\n",
              "      <td>171</td>\n",
              "      <td>2</td>\n",
              "      <td>1082.94</td>\n",
              "      <td>0.0</td>\n",
              "      <td>['10686776', '10685948', '10685944', '10666327...</td>\n",
              "      <td>['10548355', '10401939', '10367556', '10547844...</td>\n",
              "      <td>188</td>\n",
              "      <td>10402085</td>\n",
              "    </tr>\n",
              "  </tbody>\n",
              "</table>\n",
              "</div>\n",
              "      <button class=\"colab-df-convert\" onclick=\"convertToInteractive('df-adea8ac8-3f28-4f5d-bb33-731924feb7a3')\"\n",
              "              title=\"Convert this dataframe to an interactive table.\"\n",
              "              style=\"display:none;\">\n",
              "        \n",
              "  <svg xmlns=\"http://www.w3.org/2000/svg\" height=\"24px\"viewBox=\"0 0 24 24\"\n",
              "       width=\"24px\">\n",
              "    <path d=\"M0 0h24v24H0V0z\" fill=\"none\"/>\n",
              "    <path d=\"M18.56 5.44l.94 2.06.94-2.06 2.06-.94-2.06-.94-.94-2.06-.94 2.06-2.06.94zm-11 1L8.5 8.5l.94-2.06 2.06-.94-2.06-.94L8.5 2.5l-.94 2.06-2.06.94zm10 10l.94 2.06.94-2.06 2.06-.94-2.06-.94-.94-2.06-.94 2.06-2.06.94z\"/><path d=\"M17.41 7.96l-1.37-1.37c-.4-.4-.92-.59-1.43-.59-.52 0-1.04.2-1.43.59L10.3 9.45l-7.72 7.72c-.78.78-.78 2.05 0 2.83L4 21.41c.39.39.9.59 1.41.59.51 0 1.02-.2 1.41-.59l7.78-7.78 2.81-2.81c.8-.78.8-2.07 0-2.86zM5.41 20L4 18.59l7.72-7.72 1.47 1.35L5.41 20z\"/>\n",
              "  </svg>\n",
              "      </button>\n",
              "      \n",
              "  <style>\n",
              "    .colab-df-container {\n",
              "      display:flex;\n",
              "      flex-wrap:wrap;\n",
              "      gap: 12px;\n",
              "    }\n",
              "\n",
              "    .colab-df-convert {\n",
              "      background-color: #E8F0FE;\n",
              "      border: none;\n",
              "      border-radius: 50%;\n",
              "      cursor: pointer;\n",
              "      display: none;\n",
              "      fill: #1967D2;\n",
              "      height: 32px;\n",
              "      padding: 0 0 0 0;\n",
              "      width: 32px;\n",
              "    }\n",
              "\n",
              "    .colab-df-convert:hover {\n",
              "      background-color: #E2EBFA;\n",
              "      box-shadow: 0px 1px 2px rgba(60, 64, 67, 0.3), 0px 1px 3px 1px rgba(60, 64, 67, 0.15);\n",
              "      fill: #174EA6;\n",
              "    }\n",
              "\n",
              "    [theme=dark] .colab-df-convert {\n",
              "      background-color: #3B4455;\n",
              "      fill: #D2E3FC;\n",
              "    }\n",
              "\n",
              "    [theme=dark] .colab-df-convert:hover {\n",
              "      background-color: #434B5C;\n",
              "      box-shadow: 0px 1px 3px 1px rgba(0, 0, 0, 0.15);\n",
              "      filter: drop-shadow(0px 1px 2px rgba(0, 0, 0, 0.3));\n",
              "      fill: #FFFFFF;\n",
              "    }\n",
              "  </style>\n",
              "\n",
              "      <script>\n",
              "        const buttonEl =\n",
              "          document.querySelector('#df-adea8ac8-3f28-4f5d-bb33-731924feb7a3 button.colab-df-convert');\n",
              "        buttonEl.style.display =\n",
              "          google.colab.kernel.accessAllowed ? 'block' : 'none';\n",
              "\n",
              "        async function convertToInteractive(key) {\n",
              "          const element = document.querySelector('#df-adea8ac8-3f28-4f5d-bb33-731924feb7a3');\n",
              "          const dataTable =\n",
              "            await google.colab.kernel.invokeFunction('convertToInteractive',\n",
              "                                                     [key], {});\n",
              "          if (!dataTable) return;\n",
              "\n",
              "          const docLinkHtml = 'Like what you see? Visit the ' +\n",
              "            '<a target=\"_blank\" href=https://colab.research.google.com/notebooks/data_table.ipynb>data table notebook</a>'\n",
              "            + ' to learn more about interactive tables.';\n",
              "          element.innerHTML = '';\n",
              "          dataTable['output_type'] = 'display_data';\n",
              "          await google.colab.output.renderOutput(dataTable, element);\n",
              "          const docLink = document.createElement('div');\n",
              "          docLink.innerHTML = docLinkHtml;\n",
              "          element.appendChild(docLink);\n",
              "        }\n",
              "      </script>\n",
              "    </div>\n",
              "  </div>\n",
              "  "
            ]
          },
          "metadata": {},
          "execution_count": 39
        }
      ]
    },
    {
      "cell_type": "code",
      "source": [
        "user_profile = data[['user_id', 'geo_zip', 'most_frequent_device_class_general']].drop_duplicates('user_id')\n",
        "user_profile.set_index(\"user_id\", inplace=True)\n",
        "item_profile = data[[\"sku_number\"]].drop_duplicates('sku_number')\n",
        "user_profile.shape, item_profile.shape"
      ],
      "metadata": {
        "colab": {
          "base_uri": "https://localhost:8080/"
        },
        "id": "a3bUcH_vRvRW",
        "outputId": "346945db-9f41-41dd-a483-590485a064ec"
      },
      "execution_count": 40,
      "outputs": [
        {
          "output_type": "execute_result",
          "data": {
            "text/plain": [
              "((200, 2), (8036, 1))"
            ]
          },
          "metadata": {},
          "execution_count": 40
        }
      ]
    },
    {
      "cell_type": "code",
      "source": [
        "# user_item_list = data.groupby(\"user_id\")['sku_number'].apply(list)\n",
        "user_item_list = data.groupby(\"user_id\")['sku_number'].apply(list)\n",
        "\n",
        "user_item_list.head()"
      ],
      "metadata": {
        "colab": {
          "base_uri": "https://localhost:8080/"
        },
        "id": "ASZeh8yrR1Ld",
        "outputId": "f161c65e-b381-4e0f-fb86-336a4c0b553b"
      },
      "execution_count": 41,
      "outputs": [
        {
          "output_type": "execute_result",
          "data": {
            "text/plain": [
              "user_id\n",
              "1    [6090, 5555, 6082, 6091, 5559, 6084, 6086, 554...\n",
              "2    [3709, 3720, 1912, 3722, 1888, 3511, 3708, 370...\n",
              "3    [2294, 940, 938, 1642, 736, 735, 6729, 3726, 6...\n",
              "4    [3721, 3728, 3719, 3725, 4677, 3511, 3728, 372...\n",
              "5    [1439, 215, 4271, 241, 213, 4270, 210, 992, 19...\n",
              "Name: sku_number, dtype: object"
            ]
          },
          "metadata": {},
          "execution_count": 41
        }
      ]
    },
    {
      "cell_type": "code",
      "source": [
        "data_sp = data[data['user_id'] == 99]\n",
        "data_sp.shape"
      ],
      "metadata": {
        "colab": {
          "base_uri": "https://localhost:8080/"
        },
        "id": "sJfsX6ZD1-OU",
        "outputId": "d33524a9-0c61-4d60-e333-fd3963c95a01"
      },
      "execution_count": 52,
      "outputs": [
        {
          "output_type": "execute_result",
          "data": {
            "text/plain": [
              "(186, 15)"
            ]
          },
          "metadata": {},
          "execution_count": 52
        }
      ]
    },
    {
      "cell_type": "code",
      "source": [
        "data_sp.sort_values(\"created_time\", inplace=True)"
      ],
      "metadata": {
        "colab": {
          "base_uri": "https://localhost:8080/"
        },
        "id": "yXYzIRUj2K-e",
        "outputId": "205f8628-c531-4fbd-9687-48f0783c9ef2"
      },
      "execution_count": 53,
      "outputs": [
        {
          "output_type": "stream",
          "name": "stderr",
          "text": [
            "/usr/local/lib/python3.7/dist-packages/pandas/util/_decorators.py:311: SettingWithCopyWarning: \n",
            "A value is trying to be set on a copy of a slice from a DataFrame\n",
            "\n",
            "See the caveats in the documentation: https://pandas.pydata.org/pandas-docs/stable/user_guide/indexing.html#returning-a-view-versus-a-copy\n",
            "  return func(*args, **kwargs)\n"
          ]
        }
      ]
    },
    {
      "cell_type": "code",
      "source": [
        "train_set, test_set = gen_data_set_timesplit(data, test_start_date, SEQ_LEN, NUMBER_NEG_SAMPLE)"
      ],
      "metadata": {
        "colab": {
          "base_uri": "https://localhost:8080/"
        },
        "id": "Rl8ECM3r0StD",
        "outputId": "45491206-9a74-4d07-c7d1-1c8d83954145"
      },
      "execution_count": 59,
      "outputs": [
        {
          "output_type": "stream",
          "name": "stderr",
          "text": [
            "100%|██████████| 200/200 [00:00<00:00, 215.47it/s]"
          ]
        },
        {
          "output_type": "stream",
          "name": "stdout",
          "text": [
            "7 7\n"
          ]
        },
        {
          "output_type": "stream",
          "name": "stderr",
          "text": [
            "\n"
          ]
        }
      ]
    },
    {
      "cell_type": "code",
      "source": [
        "\"# reviewerID,  - user id\n",
        "# pos_list[i], - movie id\n",
        "# 1, - label y\n",
        "# hist[::-1][:seq_len], - most recent watched movie id list before watching this movie, up to 50\n",
        "# seq_len\n",
        "# genres_hist[::-1][:seq_len], - most recent watched movie's genres list before watching this movie, up to 50\n",
        "# genres_list[i], - this movie's genre\n",
        "# rating_list[i] - this movie's rating\n",
        "# train_set[12]"
      ],
      "metadata": {
        "id": "CwikHNU0Vyof"
      },
      "execution_count": null,
      "outputs": []
    },
    {
      "cell_type": "code",
      "source": [
        "train_model_input, train_label = gen_model_input(train_set, user_profile, SEQ_LEN)\n",
        "test_model_input, test_label = gen_model_input(test_set, user_profile, SEQ_LEN)\n",
        "train_label.shape, train_model_input['user_id'].shape, test_model_input['user_id'].shape, test_label.shape"
      ],
      "metadata": {
        "colab": {
          "base_uri": "https://localhost:8080/"
        },
        "id": "mMKXnWBnYtFE",
        "outputId": "dafbc239-4230-4dc6-c151-fc1ed6332f61"
      },
      "execution_count": 90,
      "outputs": [
        {
          "output_type": "stream",
          "name": "stderr",
          "text": [
            "/content/preprocess_sku.py:97: VisibleDeprecationWarning: Creating an ndarray from ragged nested sequences (which is a list-or-tuple of lists-or-tuples-or ndarrays with different lengths or shapes) is deprecated. If you meant to do this, you must specify 'dtype=object' when creating the ndarray.\n",
            "  train_genres = np.array([line[6] for line in train_set])\n"
          ]
        },
        {
          "output_type": "execute_result",
          "data": {
            "text/plain": [
              "((44840,), (44840,), (586,), (586,))"
            ]
          },
          "metadata": {},
          "execution_count": 90
        }
      ]
    },
    {
      "cell_type": "code",
      "source": [
        "train_model_input['user_id'].shape"
      ],
      "metadata": {
        "colab": {
          "base_uri": "https://localhost:8080/"
        },
        "id": "V0Ys07CoFX_z",
        "outputId": "a136b674-1f67-44e0-9841-2913e2757d4a"
      },
      "execution_count": 92,
      "outputs": [
        {
          "output_type": "execute_result",
          "data": {
            "text/plain": [
              "(44840,)"
            ]
          },
          "metadata": {},
          "execution_count": 92
        }
      ]
    },
    {
      "cell_type": "markdown",
      "source": [
        "# Create Embeddings"
      ],
      "metadata": {
        "id": "MmNE8kuEfXRE"
      }
    },
    {
      "cell_type": "code",
      "source": [
        "from collections import Counter\n",
        "train_counter = Counter(train_model_input['sku_number'])\n",
        "item_count = [train_counter.get(i,0) for i in range(feature_max_idx['sku_number'])]\n",
        "len(train_counter), type(train_counter), len(item_count)"
      ],
      "metadata": {
        "colab": {
          "base_uri": "https://localhost:8080/"
        },
        "id": "ljKC65_PzHRU",
        "outputId": "450583e1-23fc-4065-cbf9-9de061226881"
      },
      "execution_count": 110,
      "outputs": [
        {
          "output_type": "execute_result",
          "data": {
            "text/plain": [
              "(8030, collections.Counter, 8037)"
            ]
          },
          "metadata": {},
          "execution_count": 110
        }
      ]
    },
    {
      "cell_type": "code",
      "source": [
        "import tensorflow as tf\n",
        "from tensorflow.python.keras.initializers import RandomNormal, Zeros\n",
        "from tensorflow.python.keras.layers import Embedding, Input, Lambda\n",
        "from tensorflow.python.keras.regularizers import l2\n",
        "if tf.__version__ >= '2.0.0':\n",
        "    tf.compat.v1.disable_eager_execution()\n",
        "else:\n",
        "    K.set_learning_phase(True)"
      ],
      "metadata": {
        "id": "yV1mZ6yt6c0K"
      },
      "execution_count": 111,
      "outputs": []
    },
    {
      "cell_type": "markdown",
      "source": [
        "### Create Feature Embeddings\n",
        "\n"
      ],
      "metadata": {
        "id": "RFusDxnPixY4"
      }
    },
    {
      "cell_type": "code",
      "source": [
        "# item features\n",
        "item_feature_columns = ['sku_number']\n",
        "# User features\n",
        "user_feature_columns = ['user_id', 'geo_zip', 'most_frequent_device_class_general',                        \n",
        "                        'hist_sku_number',\n",
        "                        'hist_category_path',\n",
        "                        'hist_len'\n",
        "                        ]\n"
      ],
      "metadata": {
        "id": "gVDJOjXTrNT-"
      },
      "execution_count": 112,
      "outputs": []
    },
    {
      "cell_type": "code",
      "source": [
        "feature_max_idx"
      ],
      "metadata": {
        "colab": {
          "base_uri": "https://localhost:8080/"
        },
        "id": "xUPZ56aqrWpa",
        "outputId": "860d0da8-8460-4208-ab1e-3f38dbbbdb30"
      },
      "execution_count": 113,
      "outputs": [
        {
          "output_type": "execute_result",
          "data": {
            "text/plain": [
              "{'sku_number': 8037,\n",
              " 'category_path': 795,\n",
              " 'user_id': 201,\n",
              " 'geo_zip': 186,\n",
              " 'most_frequent_device_class_general': 3}"
            ]
          },
          "metadata": {},
          "execution_count": 113
        }
      ]
    },
    {
      "cell_type": "code",
      "source": [
        "user_sparse_feature_columns = user_feature_columns[0:3]\n",
        "user_sparse_feature_columns"
      ],
      "metadata": {
        "colab": {
          "base_uri": "https://localhost:8080/"
        },
        "id": "OdMHOjpeqvHT",
        "outputId": "c9bb61d6-0dd9-4aa2-fd97-7dbf39fc64d2"
      },
      "execution_count": 114,
      "outputs": [
        {
          "output_type": "execute_result",
          "data": {
            "text/plain": [
              "['user_id', 'geo_zip', 'most_frequent_device_class_general']"
            ]
          },
          "metadata": {},
          "execution_count": 114
        }
      ]
    },
    {
      "cell_type": "code",
      "source": [
        "user_seq_sparse_feature_columns = user_feature_columns[3:-1]\n",
        "user_seq_sparse_feature_columns "
      ],
      "metadata": {
        "colab": {
          "base_uri": "https://localhost:8080/"
        },
        "id": "6kvCDMmvrAOC",
        "outputId": "88a9d3d4-97df-405e-b047-4babfe1d8199"
      },
      "execution_count": 115,
      "outputs": [
        {
          "output_type": "execute_result",
          "data": {
            "text/plain": [
              "['hist_sku_number', 'hist_category_path']"
            ]
          },
          "metadata": {},
          "execution_count": 115
        }
      ]
    },
    {
      "cell_type": "code",
      "source": [
        "# embedding input and output specification\n",
        "embeddings_initializer = RandomNormal(mean=0.0, stddev=0.0001, seed=2020)\n",
        "embedding_dim = 32\n",
        "l2_reg = 1e-6\n",
        "# use a dict to collect embeddings\n",
        "sparse_embedding = {}"
      ],
      "metadata": {
        "id": "WzDyy6iNlYef",
        "colab": {
          "base_uri": "https://localhost:8080/"
        },
        "outputId": "8b5537b7-b0b0-4f65-eaa7-ce2891c814f7"
      },
      "execution_count": 116,
      "outputs": [
        {
          "output_type": "stream",
          "name": "stderr",
          "text": [
            "WARNING:tensorflow:From /usr/local/lib/python3.7/dist-packages/tensorflow/python/keras/initializers/initializers_v1.py:56: calling RandomNormal.__init__ (from tensorflow.python.ops.init_ops) with dtype is deprecated and will be removed in a future version.\n",
            "Instructions for updating:\n",
            "Call initializer instance with the dtype argument instead of passing it to the constructor\n"
          ]
        }
      ]
    },
    {
      "cell_type": "code",
      "source": [
        "# user embeddings\n",
        "for name in user_sparse_feature_columns: \n",
        "  emb = Embedding(\n",
        "      input_dim = feature_max_idx[name], \n",
        "      output_dim = 16,\n",
        "      embeddings_initializer=embeddings_initializer,\n",
        "      embeddings_regularizer=l2(l2_reg),\n",
        "      name='sparse_' + 'emb_' + name\n",
        "  )\n",
        "  emb.trainable = True\n",
        "  sparse_embedding[name] = emb\n",
        "for name in user_seq_sparse_feature_columns: \n",
        "   emb = Embedding(feature_max_idx[name[5:]], embedding_dim,\n",
        "                            embeddings_initializer=embeddings_initializer,\n",
        "                            embeddings_regularizer=l2(\n",
        "                                l2_reg),\n",
        "                            name='sparse_' + 'seq_emb_'  + name,\n",
        "                            mask_zero=False) # True\n",
        "   emb.trainable = True\n",
        "   sparse_embedding[name] = emb"
      ],
      "metadata": {
        "id": "zrIjOw2-lZ2P"
      },
      "execution_count": 117,
      "outputs": []
    },
    {
      "cell_type": "code",
      "source": [
        "# item embeddings\n",
        "item_feature_name = item_feature_columns[0] # only include item id \n",
        "emb = Embedding(\n",
        "      input_dim = feature_max_idx[item_feature_name], \n",
        "      output_dim = embedding_dim,\n",
        "      embeddings_initializer=embeddings_initializer,\n",
        "      embeddings_regularizer=l2(l2_reg),\n",
        "      name='sparse_' + 'emb_' + item_feature_name\n",
        "  )\n",
        "sparse_embedding[item_feature_name] = emb"
      ],
      "metadata": {
        "id": "5aJDL4b-r475"
      },
      "execution_count": 118,
      "outputs": []
    },
    {
      "cell_type": "code",
      "source": [
        "sparse_embedding # include both user and item embedding layers"
      ],
      "metadata": {
        "colab": {
          "base_uri": "https://localhost:8080/"
        },
        "id": "9Ydd0xItnuZJ",
        "outputId": "9b6f5e09-c448-4124-a78e-ac6e544be217"
      },
      "execution_count": 119,
      "outputs": [
        {
          "output_type": "execute_result",
          "data": {
            "text/plain": [
              "{'user_id': <tensorflow.python.keras.layers.embeddings.Embedding at 0x7f0dfdaad990>,\n",
              " 'geo_zip': <tensorflow.python.keras.layers.embeddings.Embedding at 0x7f0dfd97c250>,\n",
              " 'most_frequent_device_class_general': <tensorflow.python.keras.layers.embeddings.Embedding at 0x7f0e0099aad0>,\n",
              " 'hist_sku_number': <tensorflow.python.keras.layers.embeddings.Embedding at 0x7f0dfd97cd10>,\n",
              " 'hist_category_path': <tensorflow.python.keras.layers.embeddings.Embedding at 0x7f0dfe260090>,\n",
              " 'sku_number': <tensorflow.python.keras.layers.embeddings.Embedding at 0x7f0dfd97c910>}"
            ]
          },
          "metadata": {},
          "execution_count": 119
        }
      ]
    },
    {
      "cell_type": "markdown",
      "source": [
        "# Create User Inputs\n"
      ],
      "metadata": {
        "id": "__RCtmE768yP"
      }
    },
    {
      "cell_type": "markdown",
      "source": [
        "## Create Inputs Tensor"
      ],
      "metadata": {
        "id": "yM6mg7fw-yZc"
      }
    },
    {
      "cell_type": "code",
      "source": [
        "# user features inputs\n",
        "from collections import OrderedDict\n",
        "user_features = OrderedDict()\n",
        "for name in user_sparse_feature_columns:\n",
        "  user_features[name] = Input(\n",
        "                shape=(1,), \n",
        "                name=name, \n",
        "                dtype=\"int32\"\n",
        "                )\n",
        "for name in user_seq_sparse_feature_columns:\n",
        "  user_features[name] = Input(\n",
        "                shape=(SEQ_LEN,), \n",
        "                name=name, \n",
        "                dtype=\"int32\"\n",
        "                )\n",
        "length_name = 'hist_len'\n",
        "if length_name in user_feature_columns:\n",
        "  user_features[length_name] = Input((1,), name=length_name, dtype='int32')"
      ],
      "metadata": {
        "id": "ntvMR9x5BtjF"
      },
      "execution_count": 120,
      "outputs": []
    },
    {
      "cell_type": "code",
      "source": [
        "user_inputs_list = list(user_features.values())\n",
        "user_inputs_list"
      ],
      "metadata": {
        "colab": {
          "base_uri": "https://localhost:8080/"
        },
        "id": "ZsM6mPDJkqVR",
        "outputId": "ee27d77a-b3ff-42ce-938e-d482e0f1f7fd"
      },
      "execution_count": 121,
      "outputs": [
        {
          "output_type": "execute_result",
          "data": {
            "text/plain": [
              "[<tf.Tensor 'user_id:0' shape=(None, 1) dtype=int32>,\n",
              " <tf.Tensor 'geo_zip:0' shape=(None, 1) dtype=int32>,\n",
              " <tf.Tensor 'most_frequent_device_class_general:0' shape=(None, 1) dtype=int32>,\n",
              " <tf.Tensor 'hist_sku_number:0' shape=(None, 50) dtype=int32>,\n",
              " <tf.Tensor 'hist_category_path:0' shape=(None, 50) dtype=int32>,\n",
              " <tf.Tensor 'hist_len:0' shape=(None, 1) dtype=int32>]"
            ]
          },
          "metadata": {},
          "execution_count": 121
        }
      ]
    },
    {
      "cell_type": "code",
      "source": [
        "# item feature inputs\n",
        "item_features = OrderedDict()\n",
        "for name in item_feature_columns:\n",
        "  item_features[name] = Input(\n",
        "                shape=(1,), \n",
        "                name=name, \n",
        "                dtype=\"int32\"\n",
        "                )\n",
        "item_inputs_list = list(item_features.values())\n"
      ],
      "metadata": {
        "id": "at2VIiBv02WB"
      },
      "execution_count": 122,
      "outputs": []
    },
    {
      "cell_type": "code",
      "source": [
        "item_inputs_list"
      ],
      "metadata": {
        "colab": {
          "base_uri": "https://localhost:8080/"
        },
        "id": "w7BeQhIW1ZHB",
        "outputId": "e53ba3c9-6103-488f-e9ab-96b077f80cff"
      },
      "execution_count": 123,
      "outputs": [
        {
          "output_type": "execute_result",
          "data": {
            "text/plain": [
              "[<tf.Tensor 'sku_number:0' shape=(None, 1) dtype=int32>]"
            ]
          },
          "metadata": {},
          "execution_count": 123
        }
      ]
    },
    {
      "cell_type": "markdown",
      "source": [
        "## Embed Inputs"
      ],
      "metadata": {
        "id": "rkJg1GNFkJPD"
      }
    },
    {
      "cell_type": "code",
      "source": [
        "# Embed sparse inputs\n",
        "from collections import defaultdict\n",
        "user_sparse_embeded_input = defaultdict(list)\n",
        "\n",
        "for name in user_sparse_feature_columns:\n",
        "  user_sparse_embeded_input[name] = sparse_embedding[name](user_features[name])"
      ],
      "metadata": {
        "id": "gtkBZ6HLkHAf"
      },
      "execution_count": 124,
      "outputs": []
    },
    {
      "cell_type": "code",
      "source": [
        "# Embed the sequence sparse inputs, need to add pooling layer to it\n",
        "seq_embeded_dict = defaultdict(list)\n",
        "\n",
        "for name in user_seq_sparse_feature_columns:\n",
        "  seq_embeded_dict[name] = sparse_embedding[name](user_features[name])\n",
        "\n",
        "# from deepctr.layers.sequence import SequencePoolingLayer\n",
        "# for name in user_seq_sparse_feature_columns:\n",
        "#   user_seq_sparse_embeded_input[name] = SequencePoolingLayer('mean', supports_masking=False)([seq_embeded_dict[name], user_features[length_name]])\n",
        "\n",
        "from tensorflow.keras.layers import AveragePooling1D\n",
        "user_seq_sparse_embeded_input = defaultdict(list)\n",
        "for name in user_seq_sparse_feature_columns:\n",
        "  user_seq_sparse_embeded_input[name] = AveragePooling1D(pool_size=50, padding='valid')(seq_embeded_dict[name])"
      ],
      "metadata": {
        "id": "BgZyHLfAySUq"
      },
      "execution_count": 125,
      "outputs": []
    },
    {
      "cell_type": "code",
      "source": [
        "# vec = AveragePooling1D(pool_size=50, strides = 50, padding='valid')\n",
        "# vec(seq_embeded_dict[name])"
      ],
      "metadata": {
        "id": "dGJ-aWJCeAyX"
      },
      "execution_count": 126,
      "outputs": []
    },
    {
      "cell_type": "code",
      "source": [
        "# from deepctr.layers.sequence import SequencePoolingLayer\n",
        "# vec2 = SequencePoolingLayer('mean', supports_masking=False)\n",
        "# vec2([seq_embeded_dict[name], 35])"
      ],
      "metadata": {
        "id": "LAWoVKoueGNl"
      },
      "execution_count": 127,
      "outputs": []
    },
    {
      "cell_type": "code",
      "source": [
        "# combine embeded inputs into a list\n",
        "user_sparse_embedding_list = list(user_sparse_embeded_input.values()) + list(user_seq_sparse_embeded_input.values())\n",
        "user_sparse_embedding_list"
      ],
      "metadata": {
        "colab": {
          "base_uri": "https://localhost:8080/"
        },
        "id": "OIgRP5lyXbPZ",
        "outputId": "8e6187d5-889f-43d0-ad05-fc0d0d281674"
      },
      "execution_count": 128,
      "outputs": [
        {
          "output_type": "execute_result",
          "data": {
            "text/plain": [
              "[<tf.Tensor 'sparse_emb_user_id/embedding_lookup/Identity_1:0' shape=(None, 1, 16) dtype=float32>,\n",
              " <tf.Tensor 'sparse_emb_geo_zip/embedding_lookup/Identity_1:0' shape=(None, 1, 16) dtype=float32>,\n",
              " <tf.Tensor 'sparse_emb_most_frequent_device_class_general/embedding_lookup/Identity_1:0' shape=(None, 1, 16) dtype=float32>,\n",
              " <tf.Tensor 'average_pooling1d/Squeeze:0' shape=(None, 1, 32) dtype=float32>,\n",
              " <tf.Tensor 'average_pooling1d_1/Squeeze:0' shape=(None, 1, 32) dtype=float32>]"
            ]
          },
          "metadata": {},
          "execution_count": 128
        }
      ]
    },
    {
      "cell_type": "markdown",
      "source": [
        "## Combine Embeded Input (User only)"
      ],
      "metadata": {
        "id": "6nIWKAyXpmRX"
      }
    },
    {
      "cell_type": "code",
      "source": [
        "from tensorflow.python.keras.layers import Flatten, Concatenate, Layer, Add"
      ],
      "metadata": {
        "id": "Gw7pkzWzppJ4"
      },
      "execution_count": 129,
      "outputs": []
    },
    {
      "cell_type": "code",
      "source": [
        "user_dnn_input = Flatten()(Concatenate(axis=2)(user_sparse_embedding_list))\n",
        "user_dnn_input"
      ],
      "metadata": {
        "id": "0ruiNeGZBOEy",
        "colab": {
          "base_uri": "https://localhost:8080/"
        },
        "outputId": "7261b910-ce3d-4efd-c4e5-b4059c0fc445"
      },
      "execution_count": 130,
      "outputs": [
        {
          "output_type": "execute_result",
          "data": {
            "text/plain": [
              "<tf.Tensor 'flatten/Reshape:0' shape=(None, 112) dtype=float32>"
            ]
          },
          "metadata": {},
          "execution_count": 130
        }
      ]
    },
    {
      "cell_type": "markdown",
      "source": [
        "# Sepecify Model Layers"
      ],
      "metadata": {
        "id": "00EvAK7d7v8H"
      }
    },
    {
      "cell_type": "markdown",
      "source": [
        "### User Layers"
      ],
      "metadata": {
        "id": "Nyz2GRXstx1u"
      }
    },
    {
      "cell_type": "code",
      "source": [
        "from tensorflow.keras import layers"
      ],
      "metadata": {
        "id": "5XEX8w1qfiWY"
      },
      "execution_count": 131,
      "outputs": []
    },
    {
      "cell_type": "code",
      "source": [
        "user_dnn_hidden_units = (128,64, embedding_dim)\n",
        "dnn_activation='relu'\n",
        "dnn_use_bn=False\n",
        "l2_reg_dnn=0\n",
        "l2_reg_embedding=1e-6\n",
        "dnn_dropout=0\n",
        "output_activation='linear'\n",
        "temperature=0.05,\n",
        "# sampler_config=sampler_config\n",
        "seed=1024"
      ],
      "metadata": {
        "id": "jxUktp9cysj_"
      },
      "execution_count": 132,
      "outputs": []
    },
    {
      "cell_type": "code",
      "source": [
        "# from deepctr.layers import DNN\n",
        "from model_utils import DNN"
      ],
      "metadata": {
        "id": "iLbtmoH17KAU"
      },
      "execution_count": 133,
      "outputs": []
    },
    {
      "cell_type": "code",
      "source": [
        "dnn_layers = DNN(hidden_units = user_dnn_hidden_units, \n",
        "                  activation='relu', \n",
        "                  l2_reg=0, \n",
        "                  dropout_rate=0, \n",
        "                  use_bn=False, \n",
        "                  output_activation='linear',\n",
        "                  seed=1024\n",
        "                  )\n",
        "\n"
      ],
      "metadata": {
        "id": "9S6JndR3KFx1"
      },
      "execution_count": 134,
      "outputs": []
    },
    {
      "cell_type": "code",
      "source": [
        "user_dnn_output = dnn_layers(user_dnn_input)\n",
        "user_dnn_output = l2_normalize(user_dnn_output)\n",
        "user_dnn_output"
      ],
      "metadata": {
        "colab": {
          "base_uri": "https://localhost:8080/"
        },
        "id": "ZlEfVc4dLS0l",
        "outputId": "35578dda-86f6-4ad8-9837-dda2edaf6cfc"
      },
      "execution_count": 135,
      "outputs": [
        {
          "output_type": "execute_result",
          "data": {
            "text/plain": [
              "<tf.Tensor 'lambda/l2_normalize:0' shape=(None, 32) dtype=float32>"
            ]
          },
          "metadata": {},
          "execution_count": 135
        }
      ]
    },
    {
      "cell_type": "markdown",
      "source": [
        "### Item Layer"
      ],
      "metadata": {
        "id": "ae2bSV0TtnvG"
      }
    },
    {
      "cell_type": "code",
      "source": [
        "# Create item index tensor\n",
        "item_vocabulary_size = feature_max_idx[item_feature_name]\n",
        "item_index = EmbeddingIndex(list(range(item_vocabulary_size)))(item_features[item_feature_name])\n",
        "\n",
        "# embed the item index input\n",
        "item_embeding = sparse_embedding[item_feature_name]\n",
        "item_embedding_weight = NoMask()(item_embeding(item_index))\n",
        "pooling_item_embedding_weight = PoolingLayer()([item_embedding_weight])\n",
        "pooling_item_embedding_weight = l2_normalize(pooling_item_embedding_weight)\n",
        "pooling_item_embedding_weight\n"
      ],
      "metadata": {
        "id": "xdKJ9VEfCyXL",
        "colab": {
          "base_uri": "https://localhost:8080/"
        },
        "outputId": "5cefc38f-71ce-4e2b-bcb4-8f8c8d3b58eb"
      },
      "execution_count": 136,
      "outputs": [
        {
          "output_type": "execute_result",
          "data": {
            "text/plain": [
              "<tf.Tensor 'lambda_1/l2_normalize:0' shape=(8037, 32) dtype=float32>"
            ]
          },
          "metadata": {},
          "execution_count": 136
        }
      ]
    },
    {
      "cell_type": "code",
      "source": [
        "pooling_item_embedding_weight.eval(session=K.get_session()).shape"
      ],
      "metadata": {
        "colab": {
          "base_uri": "https://localhost:8080/"
        },
        "id": "OjQ88lPaprh2",
        "outputId": "0d18aa3e-cb89-48be-a2c4-1113d13e7b8c"
      },
      "execution_count": 137,
      "outputs": [
        {
          "output_type": "execute_result",
          "data": {
            "text/plain": [
              "(8037, 32)"
            ]
          },
          "metadata": {},
          "execution_count": 137
        }
      ]
    },
    {
      "cell_type": "code",
      "source": [
        "# .eval(session=K.get_session())"
      ],
      "metadata": {
        "id": "dR7Lsgh0qy20"
      },
      "execution_count": 138,
      "outputs": []
    },
    {
      "cell_type": "markdown",
      "source": [
        "### Output Layer"
      ],
      "metadata": {
        "id": "NaZ1ifdZ_LM5"
      }
    },
    {
      "cell_type": "code",
      "source": [
        "output = SampledSoftmaxLayer()(\n",
        "    [pooling_item_embedding_weight, user_dnn_output, item_features[item_feature_name]])\n",
        "output"
      ],
      "metadata": {
        "colab": {
          "base_uri": "https://localhost:8080/"
        },
        "id": "p_hbelWEowl8",
        "outputId": "88d476bc-b4a8-475d-f36d-6cced6cf4a0c"
      },
      "execution_count": 139,
      "outputs": [
        {
          "output_type": "execute_result",
          "data": {
            "text/plain": [
              "<tf.Tensor 'sampled_softmax_layer/ExpandDims:0' shape=(None, 1) dtype=float32>"
            ]
          },
          "metadata": {},
          "execution_count": 139
        }
      ]
    },
    {
      "cell_type": "code",
      "source": [
        "# from model_utils import SampledSoftmaxLayer\n",
        "# sf = SampledSoftmaxLayer()"
      ],
      "metadata": {
        "id": "4JSxRTWtFAnG"
      },
      "execution_count": 140,
      "outputs": []
    },
    {
      "cell_type": "code",
      "source": [
        "# from tensorflow.keras.layers import Softmax\n",
        "# sf2 = Softmax()\n",
        "# import numpy as np\n",
        "# x = np.asarray([[1., 2., 1.]])\n",
        "# x\n",
        "# sf2(x).eval(session=K.get_session())"
      ],
      "metadata": {
        "id": "5AFUGxVwFA--"
      },
      "execution_count": 141,
      "outputs": []
    },
    {
      "cell_type": "code",
      "source": [
        "pooling_item_embedding_weight"
      ],
      "metadata": {
        "colab": {
          "base_uri": "https://localhost:8080/"
        },
        "id": "sWLljvPiA8rI",
        "outputId": "279f13ff-8ea7-4519-f780-0ae36eb64b15"
      },
      "execution_count": 142,
      "outputs": [
        {
          "output_type": "execute_result",
          "data": {
            "text/plain": [
              "<tf.Tensor 'lambda_1/l2_normalize:0' shape=(8037, 32) dtype=float32>"
            ]
          },
          "metadata": {},
          "execution_count": 142
        }
      ]
    },
    {
      "cell_type": "code",
      "source": [
        "user_dnn_output"
      ],
      "metadata": {
        "colab": {
          "base_uri": "https://localhost:8080/"
        },
        "id": "uNGi4K9YAwcw",
        "outputId": "5476c43f-d085-4d36-93dd-2dbf3672f254"
      },
      "execution_count": 143,
      "outputs": [
        {
          "output_type": "execute_result",
          "data": {
            "text/plain": [
              "<tf.Tensor 'lambda/l2_normalize:0' shape=(None, 32) dtype=float32>"
            ]
          },
          "metadata": {},
          "execution_count": 143
        }
      ]
    },
    {
      "cell_type": "code",
      "source": [
        "item_features[item_feature_name]"
      ],
      "metadata": {
        "colab": {
          "base_uri": "https://localhost:8080/"
        },
        "id": "xZdpyC-JA-NH",
        "outputId": "428dd8db-11ed-4933-e43a-6a428a2aa5e3"
      },
      "execution_count": 144,
      "outputs": [
        {
          "output_type": "execute_result",
          "data": {
            "text/plain": [
              "<tf.Tensor 'sku_number:0' shape=(None, 1) dtype=int32>"
            ]
          },
          "metadata": {},
          "execution_count": 144
        }
      ]
    },
    {
      "cell_type": "markdown",
      "source": [
        "## Build Model"
      ],
      "metadata": {
        "id": "7pxt5AhhABQv"
      }
    },
    {
      "cell_type": "code",
      "source": [
        "from tensorflow.python.keras.models import Model"
      ],
      "metadata": {
        "id": "NxwwfP8M_c-X"
      },
      "execution_count": 145,
      "outputs": []
    },
    {
      "cell_type": "code",
      "source": [
        "model = Model(inputs=user_inputs_list + item_inputs_list, outputs=output)\n",
        "\n",
        "model.__setattr__(\"user_input\", user_inputs_list)\n",
        "model.__setattr__(\"user_embedding\", user_dnn_output)\n",
        "\n",
        "model.__setattr__(\"item_input\", item_inputs_list)\n",
        "model.__setattr__(\"item_embedding\",\n",
        "                  get_item_embedding(pooling_item_embedding_weight, item_features[item_feature_name]))\n"
      ],
      "metadata": {
        "id": "05qTGyqg_HYD"
      },
      "execution_count": 146,
      "outputs": []
    },
    {
      "cell_type": "markdown",
      "source": [
        "# Model Compile and Training"
      ],
      "metadata": {
        "id": "iZTKXy9MsFGM"
      }
    },
    {
      "cell_type": "code",
      "source": [
        "model.compile(optimizer=\"adam\", loss=sampledsoftmaxloss)"
      ],
      "metadata": {
        "id": "LN4h_A0-BcE7"
      },
      "execution_count": 147,
      "outputs": []
    },
    {
      "cell_type": "code",
      "source": [
        "history = model.fit(train_model_input, train_label,\n",
        "                    batch_size=512, epochs=20, verbose=1, validation_split=0.0, )"
      ],
      "metadata": {
        "colab": {
          "base_uri": "https://localhost:8080/"
        },
        "id": "UNzun5zFpqZi",
        "outputId": "ca8edae8-b347-41f5-a529-db6dfb366d9a"
      },
      "execution_count": 148,
      "outputs": [
        {
          "output_type": "stream",
          "name": "stdout",
          "text": [
            "Train on 44840 samples\n",
            "Epoch 1/20\n",
            "44840/44840 [==============================] - 4s 96us/sample - loss: 4.8383\n",
            "Epoch 2/20\n",
            "44840/44840 [==============================] - 4s 81us/sample - loss: 4.7749\n",
            "Epoch 3/20\n",
            "44840/44840 [==============================] - 4s 80us/sample - loss: 4.6907\n",
            "Epoch 4/20\n",
            "44840/44840 [==============================] - 4s 80us/sample - loss: 4.6107\n",
            "Epoch 5/20\n",
            "44840/44840 [==============================] - 5s 103us/sample - loss: 4.5664\n",
            "Epoch 6/20\n",
            "44840/44840 [==============================] - 4s 97us/sample - loss: 4.5114\n",
            "Epoch 7/20\n",
            "44840/44840 [==============================] - 4s 81us/sample - loss: 4.4921\n",
            "Epoch 8/20\n",
            "44840/44840 [==============================] - 4s 80us/sample - loss: 4.4613\n",
            "Epoch 9/20\n",
            "44840/44840 [==============================] - 4s 80us/sample - loss: 4.4478\n",
            "Epoch 10/20\n",
            "44840/44840 [==============================] - 4s 80us/sample - loss: 4.4294\n",
            "Epoch 11/20\n",
            "44840/44840 [==============================] - 4s 80us/sample - loss: 4.4248\n",
            "Epoch 12/20\n",
            "44840/44840 [==============================] - 4s 81us/sample - loss: 4.4008\n",
            "Epoch 13/20\n",
            "44840/44840 [==============================] - 4s 82us/sample - loss: 4.3918\n",
            "Epoch 14/20\n",
            "44840/44840 [==============================] - 4s 80us/sample - loss: 4.3984\n",
            "Epoch 15/20\n",
            "44840/44840 [==============================] - 4s 99us/sample - loss: 4.3882\n",
            "Epoch 16/20\n",
            "44840/44840 [==============================] - 4s 99us/sample - loss: 4.3802\n",
            "Epoch 17/20\n",
            "44840/44840 [==============================] - 4s 82us/sample - loss: 4.3668\n",
            "Epoch 18/20\n",
            "44840/44840 [==============================] - 4s 81us/sample - loss: 4.3770\n",
            "Epoch 19/20\n",
            "44840/44840 [==============================] - 4s 81us/sample - loss: 4.3595\n",
            "Epoch 20/20\n",
            "44840/44840 [==============================] - 4s 82us/sample - loss: 4.3600\n"
          ]
        }
      ]
    },
    {
      "cell_type": "code",
      "source": [
        "res = model.predict(test_model_input)"
      ],
      "metadata": {
        "id": "OjNP2MhJB9l4"
      },
      "execution_count": 159,
      "outputs": []
    },
    {
      "cell_type": "code",
      "source": [
        "res.shape"
      ],
      "metadata": {
        "colab": {
          "base_uri": "https://localhost:8080/"
        },
        "id": "S2PyKJLnE-Hs",
        "outputId": "ff62399d-dc6b-4161-b961-1e1dafc23e38"
      },
      "execution_count": 160,
      "outputs": [
        {
          "output_type": "execute_result",
          "data": {
            "text/plain": [
              "(586, 1)"
            ]
          },
          "metadata": {},
          "execution_count": 160
        }
      ]
    },
    {
      "cell_type": "markdown",
      "source": [
        "# Predict: Generate Item and User Embeddings"
      ],
      "metadata": {
        "id": "lMvl2SKUATXr"
      }
    },
    {
      "cell_type": "code",
      "source": [
        "# 4. Generate user features for testing and full item features for retrieval\n",
        "test_user_model_input = test_model_input\n",
        "all_item_model_input = {\"sku_number\": item_profile['sku_number'].values,}\n",
        "\n",
        "user_embedding_model = Model(inputs=model.user_input, outputs=model.user_embedding)\n",
        "item_embedding_model = Model(inputs=model.item_input, outputs=model.item_embedding)\n",
        "\n",
        "user_embs = user_embedding_model.predict(test_user_model_input, batch_size=2 ** 12)\n",
        "# user_embs = user_embs[:, i, :]  # i in [0,k_max) if MIND\n",
        "item_embs = item_embedding_model.predict(all_item_model_input, batch_size=2 ** 12)\n",
        "\n",
        "print(user_embs.shape)\n",
        "print(item_embs.shape)"
      ],
      "metadata": {
        "colab": {
          "base_uri": "https://localhost:8080/"
        },
        "id": "Xdc56egCskOs",
        "outputId": "aecfd435-72c9-4884-aefd-142599de09ea"
      },
      "execution_count": 151,
      "outputs": [
        {
          "output_type": "stream",
          "name": "stdout",
          "text": [
            "(586, 32)\n",
            "(8036, 32)\n"
          ]
        }
      ]
    },
    {
      "cell_type": "code",
      "source": [
        "prob_matrix = user_embs.dot(item_embs.T)\n",
        "prob_matrix.shape"
      ],
      "metadata": {
        "id": "vl-obJoXsHb_",
        "colab": {
          "base_uri": "https://localhost:8080/"
        },
        "outputId": "6dc886dd-c719-45fd-d0ec-0a192b42e2f2"
      },
      "execution_count": 161,
      "outputs": [
        {
          "output_type": "execute_result",
          "data": {
            "text/plain": [
              "(586, 8036)"
            ]
          },
          "metadata": {},
          "execution_count": 161
        }
      ]
    },
    {
      "cell_type": "markdown",
      "source": [
        "# Recommendation"
      ],
      "metadata": {
        "id": "o4CKmfGRZN1U"
      }
    },
    {
      "cell_type": "code",
      "source": [
        "! pip install faiss-cpu"
      ],
      "metadata": {
        "colab": {
          "base_uri": "https://localhost:8080/"
        },
        "id": "Qmd7zOfPZKYm",
        "outputId": "05a45c86-ce85-4860-e72c-4ee7d73b6102"
      },
      "execution_count": 162,
      "outputs": [
        {
          "output_type": "stream",
          "name": "stdout",
          "text": [
            "Looking in indexes: https://pypi.org/simple, https://us-python.pkg.dev/colab-wheels/public/simple/\n",
            "Collecting faiss-cpu\n",
            "  Downloading faiss_cpu-1.7.2-cp37-cp37m-manylinux_2_17_x86_64.manylinux2014_x86_64.whl (8.6 MB)\n",
            "\u001b[K     |████████████████████████████████| 8.6 MB 14.7 MB/s \n",
            "\u001b[?25hInstalling collected packages: faiss-cpu\n",
            "Successfully installed faiss-cpu-1.7.2\n"
          ]
        }
      ]
    },
    {
      "cell_type": "code",
      "source": [
        "import numpy as np\n",
        "import faiss\n",
        "from tqdm import tqdm\n",
        "# from deepmatch.utils import recall_N"
      ],
      "metadata": {
        "id": "WFcrO0yfZR7N"
      },
      "execution_count": 164,
      "outputs": []
    },
    {
      "cell_type": "code",
      "source": [
        "def recall_N(y_true, y_pred, N=50):\n",
        "    return len(set(y_pred[:N]) & set(y_true)) * 1.0 / len(y_true)"
      ],
      "metadata": {
        "id": "BA0XGxZeZSc-"
      },
      "execution_count": 165,
      "outputs": []
    },
    {
      "cell_type": "code",
      "source": [
        "test_true_label = {line[0]:[line[1]] for line in test_set}\n",
        "\n",
        "import numpy as np\n",
        "import faiss\n",
        "from tqdm import tqdm\n",
        "# from deepmatch.utils import recall_N\n",
        "\n",
        "index = faiss.IndexFlatIP(embedding_dim)\n",
        "# faiss.normalize_L2(item_embs)\n",
        "index.add(item_embs)\n",
        "# faiss.normalize_L2(user_embs)\n",
        "D, I = index.search(np.ascontiguousarray(user_embs), 50)\n",
        "s = []\n",
        "hit = 0\n",
        "pred_label = {}\n",
        "for i, uid in tqdm(enumerate(test_user_model_input['user_id'])):\n",
        "    try:\n",
        "        pred = [item_profile['sku_number'].values[x] for x in I[i]]\n",
        "        filter_item = None\n",
        "        recall_score = recall_N(test_true_label[uid], pred, N=50)\n",
        "        s.append(recall_score)\n",
        "        pred_label[uid] = pred\n",
        "        if test_true_label[uid] in pred:\n",
        "            hit += 1\n",
        "    except:\n",
        "        print(i)\n",
        "print(\"\")\n",
        "print(\"recall\", np.mean(s))\n",
        "print(\"hit rate\", hit / len(test_user_model_input['user_id']))"
      ],
      "metadata": {
        "colab": {
          "base_uri": "https://localhost:8080/"
        },
        "id": "SIkX1VFcZljX",
        "outputId": "efdd102c-7e1c-4869-d594-3359acb9fdee"
      },
      "execution_count": 169,
      "outputs": [
        {
          "output_type": "stream",
          "name": "stderr",
          "text": [
            "586it [00:00, 3064.43it/s]"
          ]
        },
        {
          "output_type": "stream",
          "name": "stdout",
          "text": [
            "\n",
            "recall 0.051194539249146756\n",
            "hit rate 0.051194539249146756\n"
          ]
        },
        {
          "output_type": "stream",
          "name": "stderr",
          "text": [
            "\n"
          ]
        }
      ]
    },
    {
      "cell_type": "code",
      "source": [
        "len(pred_label[160])"
      ],
      "metadata": {
        "colab": {
          "base_uri": "https://localhost:8080/"
        },
        "id": "ClkiqMjwZp83",
        "outputId": "a5c819e8-6678-4c87-f1db-442586dab3dc"
      },
      "execution_count": 175,
      "outputs": [
        {
          "output_type": "execute_result",
          "data": {
            "text/plain": [
              "50"
            ]
          },
          "metadata": {},
          "execution_count": 175
        }
      ]
    },
    {
      "cell_type": "markdown",
      "source": [
        "# Validation"
      ],
      "metadata": {
        "id": "TuPNR-NMekj8"
      }
    },
    {
      "cell_type": "code",
      "source": [
        "df_train = pd.DataFrame(train_set)"
      ],
      "metadata": {
        "id": "z03lXn0_ej1F"
      },
      "execution_count": 176,
      "outputs": []
    },
    {
      "cell_type": "code",
      "source": [
        "test_user_model_input['user_id'][0:10]"
      ],
      "metadata": {
        "colab": {
          "base_uri": "https://localhost:8080/"
        },
        "id": "pF-pD6-Uetr7",
        "outputId": "e922669d-d498-4632-fd45-ba9cf29312a7"
      },
      "execution_count": 178,
      "outputs": [
        {
          "output_type": "execute_result",
          "data": {
            "text/plain": [
              "array([ 95, 117,  31,  64,  55, 114,  79,  64,  64,  64])"
            ]
          },
          "metadata": {},
          "execution_count": 178
        }
      ]
    },
    {
      "cell_type": "code",
      "source": [
        "user_idx = 0\n",
        "uid = 95"
      ],
      "metadata": {
        "id": "diVIJiHYemTu"
      },
      "execution_count": 179,
      "outputs": []
    },
    {
      "cell_type": "code",
      "source": [
        "D[user_idx]"
      ],
      "metadata": {
        "colab": {
          "base_uri": "https://localhost:8080/"
        },
        "id": "pri8VJaUezq9",
        "outputId": "029c9160-3ed0-454b-f401-0a8056e5f927"
      },
      "execution_count": 180,
      "outputs": [
        {
          "output_type": "execute_result",
          "data": {
            "text/plain": [
              "array([0.8632025 , 0.8624981 , 0.86122733, 0.8571665 , 0.85410684,\n",
              "       0.8459642 , 0.84406877, 0.841776  , 0.84042025, 0.8396632 ,\n",
              "       0.8394666 , 0.8320652 , 0.8265535 , 0.8243533 , 0.81347454,\n",
              "       0.80929357, 0.80869955, 0.79558605, 0.79115045, 0.79062504,\n",
              "       0.7823014 , 0.78130853, 0.77775866, 0.7768352 , 0.76669   ,\n",
              "       0.76597196, 0.7634426 , 0.7630542 , 0.7612563 , 0.7563493 ,\n",
              "       0.75624573, 0.7497934 , 0.7443189 , 0.7424351 , 0.74174327,\n",
              "       0.74086237, 0.74052584, 0.74051046, 0.74021465, 0.7393544 ,\n",
              "       0.7391091 , 0.73826045, 0.7378772 , 0.73642945, 0.7354745 ,\n",
              "       0.7346438 , 0.7345009 , 0.73408306, 0.7322324 , 0.7312832 ],\n",
              "      dtype=float32)"
            ]
          },
          "metadata": {},
          "execution_count": 180
        }
      ]
    },
    {
      "cell_type": "code",
      "source": [
        "sorted_index = prob_matrix.argsort()[:,-50:]\n",
        "-np.sort(-prob_matrix[user_idx][sorted_index[user_idx]])"
      ],
      "metadata": {
        "colab": {
          "base_uri": "https://localhost:8080/"
        },
        "id": "bWbv8B4Be2rD",
        "outputId": "6a051e95-35e6-420c-da85-076f01e0db95"
      },
      "execution_count": 181,
      "outputs": [
        {
          "output_type": "execute_result",
          "data": {
            "text/plain": [
              "array([0.8632025 , 0.8624981 , 0.86122733, 0.8571665 , 0.85410684,\n",
              "       0.8459642 , 0.84406877, 0.841776  , 0.84042025, 0.8396632 ,\n",
              "       0.8394666 , 0.8320652 , 0.8265535 , 0.8243533 , 0.81347454,\n",
              "       0.80929357, 0.80869955, 0.79558605, 0.79115045, 0.79062504,\n",
              "       0.7823014 , 0.78130853, 0.77775866, 0.7768352 , 0.76669   ,\n",
              "       0.76597196, 0.7634426 , 0.7630542 , 0.7612563 , 0.7563493 ,\n",
              "       0.75624573, 0.7497934 , 0.7443189 , 0.7424351 , 0.74174327,\n",
              "       0.74086237, 0.74052584, 0.74051046, 0.74021465, 0.7393544 ,\n",
              "       0.7391091 , 0.73826045, 0.7378772 , 0.73642945, 0.7354745 ,\n",
              "       0.7346438 , 0.7345009 , 0.73408306, 0.7322324 , 0.7312832 ],\n",
              "      dtype=float32)"
            ]
          },
          "metadata": {},
          "execution_count": 181
        }
      ]
    },
    {
      "cell_type": "code",
      "source": [
        "I[user_idx]"
      ],
      "metadata": {
        "colab": {
          "base_uri": "https://localhost:8080/"
        },
        "id": "LCUtQYKVe9bb",
        "outputId": "ac0a50bc-fcd7-43f4-ccf9-056f35923e08"
      },
      "execution_count": 184,
      "outputs": [
        {
          "output_type": "execute_result",
          "data": {
            "text/plain": [
              "array([3166, 1102, 5035,  269,  272, 4305, 3167,  273, 3307,  411, 5196,\n",
              "        271, 3464, 3025,  268, 6422, 1159, 1620,   76, 6723, 4791, 7713,\n",
              "       4105, 6590, 2895,  129, 1103,  352, 5036, 7605, 6493, 1158, 5635,\n",
              "       1631,   94,  221,  367, 1160,  686,  188, 2897, 6510, 6218, 1447,\n",
              "        509,  148, 1342, 1088, 1647,  267])"
            ]
          },
          "metadata": {},
          "execution_count": 184
        }
      ]
    },
    {
      "cell_type": "code",
      "source": [
        "(sorted_index[user_idx])[::-1]"
      ],
      "metadata": {
        "colab": {
          "base_uri": "https://localhost:8080/"
        },
        "id": "jF-Z8Pxwe-5D",
        "outputId": "af864c6a-38cd-4149-f6b9-ea32ca72a259"
      },
      "execution_count": 185,
      "outputs": [
        {
          "output_type": "execute_result",
          "data": {
            "text/plain": [
              "array([3166, 1102, 5035,  269,  272, 4305, 3167,  273, 3307,  411, 5196,\n",
              "        271, 3464, 3025,  268, 6422, 1159, 1620,   76, 6723, 4791, 7713,\n",
              "       4105, 6590, 2895,  129, 1103,  352, 5036, 7605, 6493, 1158, 5635,\n",
              "       1631,   94,  221,  367, 1160,  686,  188, 2897, 6510, 6218, 1447,\n",
              "        509,  148, 1342, 1088, 1647,  267])"
            ]
          },
          "metadata": {},
          "execution_count": 185
        }
      ]
    },
    {
      "cell_type": "code",
      "source": [
        "np.array([item_profile['sku_number'].values[x] for x in I[user_idx]])"
      ],
      "metadata": {
        "colab": {
          "base_uri": "https://localhost:8080/"
        },
        "id": "NOKNNh77fUgs",
        "outputId": "75c8a158-6069-472a-b40d-1dac20977639"
      },
      "execution_count": 186,
      "outputs": [
        {
          "output_type": "execute_result",
          "data": {
            "text/plain": [
              "array([5158, 5119, 5120, 5133, 5132, 5168, 5143, 5973, 6105, 4934, 4512,\n",
              "       5118, 5121, 3658, 5131, 6680, 5142, 5925, 4930, 6686, 4845, 6681,\n",
              "       1056, 7595, 6088, 3520, 5145, 7661, 5148, 6132, 4921, 5974, 7438,\n",
              "       3517, 6091, 3652, 1912, 3653, 1153, 3518, 3665, 6278, 5497, 6147,\n",
              "       4842, 5130, 6156, 3833, 5157, 3871])"
            ]
          },
          "metadata": {},
          "execution_count": 186
        }
      ]
    },
    {
      "cell_type": "code",
      "source": [
        "len(set(df_train[df_train[0]==uid][1].unique()) & set([item_profile['sku_number'].values[x] for x in I[user_idx]]))"
      ],
      "metadata": {
        "colab": {
          "base_uri": "https://localhost:8080/"
        },
        "id": "QBAYyM5IfCHF",
        "outputId": "f23ee112-058c-45eb-b601-d05bac4bbdb3"
      },
      "execution_count": 188,
      "outputs": [
        {
          "output_type": "execute_result",
          "data": {
            "text/plain": [
              "2"
            ]
          },
          "metadata": {},
          "execution_count": 188
        }
      ]
    },
    {
      "cell_type": "code",
      "source": [
        "len(set(df_train[df_train[0]==uid][1].unique()) & set(sorted_index[user_idx]))"
      ],
      "metadata": {
        "colab": {
          "base_uri": "https://localhost:8080/"
        },
        "id": "ej88yFHrfV50",
        "outputId": "34b3e4ba-82eb-4e3f-bee6-7729d9dab0d5"
      },
      "execution_count": 189,
      "outputs": [
        {
          "output_type": "execute_result",
          "data": {
            "text/plain": [
              "1"
            ]
          },
          "metadata": {},
          "execution_count": 189
        }
      ]
    },
    {
      "cell_type": "code",
      "source": [
        "item_profile['sku_number']"
      ],
      "metadata": {
        "colab": {
          "base_uri": "https://localhost:8080/"
        },
        "id": "rBul1ltqfjN9",
        "outputId": "0b09be47-398d-414c-9fd2-991be9f47c99"
      },
      "execution_count": 190,
      "outputs": [
        {
          "output_type": "execute_result",
          "data": {
            "text/plain": [
              "8530     3075\n",
              "8547     2387\n",
              "8548     2351\n",
              "8549      985\n",
              "8550     4559\n",
              "         ... \n",
              "10985    3921\n",
              "10998    7852\n",
              "10992    7557\n",
              "10960    4007\n",
              "10961    5693\n",
              "Name: sku_number, Length: 8036, dtype: int64"
            ]
          },
          "metadata": {},
          "execution_count": 190
        }
      ]
    },
    {
      "cell_type": "code",
      "source": [
        "all_item_model_input"
      ],
      "metadata": {
        "colab": {
          "base_uri": "https://localhost:8080/"
        },
        "id": "vLF8AHwjfogU",
        "outputId": "4b2762ff-a007-49e1-b04a-fa683963057f"
      },
      "execution_count": 196,
      "outputs": [
        {
          "output_type": "execute_result",
          "data": {
            "text/plain": [
              "{'sku_number': array([3075, 2387, 2351, ..., 7557, 4007, 5693])}"
            ]
          },
          "metadata": {},
          "execution_count": 196
        }
      ]
    }
  ]
}