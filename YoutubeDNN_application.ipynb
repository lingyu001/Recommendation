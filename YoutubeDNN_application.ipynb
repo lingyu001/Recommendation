{
  "nbformat": 4,
  "nbformat_minor": 0,
  "metadata": {
    "colab": {
      "provenance": [],
      "collapsed_sections": [
        "SOWZDxQGaOS8"
      ],
      "authorship_tag": "ABX9TyOo4/d912OrOsUgjBxPy2Z3",
      "include_colab_link": true
    },
    "kernelspec": {
      "name": "python3",
      "display_name": "Python 3"
    },
    "language_info": {
      "name": "python"
    }
  },
  "cells": [
    {
      "cell_type": "markdown",
      "metadata": {
        "id": "view-in-github",
        "colab_type": "text"
      },
      "source": [
        "<a href=\"https://colab.research.google.com/github/lingyu001/Recommendation/blob/master/YoutubeDNN_application.ipynb\" target=\"_parent\"><img src=\"https://colab.research.google.com/assets/colab-badge.svg\" alt=\"Open In Colab\"/></a>"
      ]
    },
    {
      "cell_type": "code",
      "execution_count": 1,
      "metadata": {
        "colab": {
          "base_uri": "https://localhost:8080/"
        },
        "id": "8qgIPmHNLkS-",
        "outputId": "2d74b4f6-7e40-44c0-b8d0-95369b102566"
      },
      "outputs": [
        {
          "output_type": "stream",
          "name": "stdout",
          "text": [
            "--2022-10-18 21:11:11--  http://files.grouplens.org/datasets/movielens/ml-1m.zip\n",
            "Resolving files.grouplens.org (files.grouplens.org)... 128.101.65.152\n",
            "Connecting to files.grouplens.org (files.grouplens.org)|128.101.65.152|:80... connected.\n",
            "HTTP request sent, awaiting response... 200 OK\n",
            "Length: 5917549 (5.6M) [application/zip]\n",
            "Saving to: ‘./ml-1m.zip’\n",
            "\n",
            "./ml-1m.zip         100%[===================>]   5.64M  3.55MB/s    in 1.6s    \n",
            "\n",
            "2022-10-18 21:11:13 (3.55 MB/s) - ‘./ml-1m.zip’ saved [5917549/5917549]\n",
            "\n",
            "--2022-10-18 21:11:13--  https://raw.githubusercontent.com/lingyu001/Recommendation/master/preprocess_sku.py\n",
            "Resolving raw.githubusercontent.com (raw.githubusercontent.com)... 185.199.108.133, 185.199.111.133, 185.199.110.133, ...\n",
            "Connecting to raw.githubusercontent.com (raw.githubusercontent.com)|185.199.108.133|:443... connected.\n",
            "HTTP request sent, awaiting response... 200 OK\n",
            "Length: 6756 (6.6K) [text/plain]\n",
            "Saving to: ‘preprocess_sku.py’\n",
            "\n",
            "preprocess_sku.py   100%[===================>]   6.60K  --.-KB/s    in 0s      \n",
            "\n",
            "2022-10-18 21:11:14 (83.8 MB/s) - ‘preprocess_sku.py’ saved [6756/6756]\n",
            "\n",
            "--2022-10-18 21:11:14--  https://raw.githubusercontent.com/lingyu001/Recommendation/master/model_utils.py\n",
            "Resolving raw.githubusercontent.com (raw.githubusercontent.com)... 185.199.111.133, 185.199.108.133, 185.199.109.133, ...\n",
            "Connecting to raw.githubusercontent.com (raw.githubusercontent.com)|185.199.111.133|:443... connected.\n",
            "HTTP request sent, awaiting response... 200 OK\n",
            "Length: 17409 (17K) [text/plain]\n",
            "Saving to: ‘model_utils.py’\n",
            "\n",
            "model_utils.py      100%[===================>]  17.00K  --.-KB/s    in 0.001s  \n",
            "\n",
            "2022-10-18 21:11:14 (12.6 MB/s) - ‘model_utils.py’ saved [17409/17409]\n",
            "\n",
            "Archive:  ml-1m.zip\n",
            "  inflating: ml-1m/movies.dat        \n",
            "  inflating: ml-1m/ratings.dat       \n",
            "  inflating: ml-1m/README            \n",
            "  inflating: ml-1m/users.dat         \n"
          ]
        }
      ],
      "source": [
        "! wget http://files.grouplens.org/datasets/movielens/ml-1m.zip -O ./ml-1m.zip\n",
        "! wget https://raw.githubusercontent.com/lingyu001/Recommendation/master/preprocess_sku.py -O preprocess_sku.py\n",
        "! wget https://raw.githubusercontent.com/lingyu001/Recommendation/master/model_utils.py -O model_utils.py\n",
        "! unzip -o ml-1m.zip "
      ]
    },
    {
      "cell_type": "code",
      "source": [
        "# ! pip install -q deepmatch"
      ],
      "metadata": {
        "id": "1MMP7wa9N4t6"
      },
      "execution_count": 2,
      "outputs": []
    },
    {
      "cell_type": "code",
      "source": [
        "import pandas as pd\n",
        "from ast import literal_eval\n",
        "from preprocess_sku import gen_data_set, gen_model_input, gen_data_set_timesplit\n",
        "from sklearn.preprocessing import LabelEncoder\n",
        "from tensorflow.python.keras import backend as K\n",
        "from tensorflow.python.keras.models import Model\n",
        "from model_utils import DNN, EmbeddingIndex, NoMask, PoolingLayer, l2_normalize,\\\n",
        " reduce_mean, SampledSoftmaxLayer, get_item_embedding, sampledsoftmaxloss"
      ],
      "metadata": {
        "id": "gABip0B7LsHJ"
      },
      "execution_count": 3,
      "outputs": []
    },
    {
      "cell_type": "code",
      "source": [
        "%load_ext autoreload\n",
        "%autoreload 2"
      ],
      "metadata": {
        "id": "DDQ87v8WA94s"
      },
      "execution_count": 2,
      "outputs": []
    },
    {
      "cell_type": "markdown",
      "source": [
        "# Data"
      ],
      "metadata": {
        "id": "xCJLpR8EQoBm"
      }
    },
    {
      "cell_type": "code",
      "source": [
        "# data_path = \"./\"\n",
        "\n",
        "# unames = ['user_id','gender','age','occupation','zip']\n",
        "# user = pd.read_csv(data_path+'ml-1m/users.dat',sep='::',header=None,names=unames)\n",
        "# rnames = ['user_id','sku_number','rating','timestamp']\n",
        "# ratings = pd.read_csv(data_path+'ml-1m/ratings.dat',sep='::',header=None,names=rnames)\n",
        "# mnames = ['sku_number','title','genres']\n",
        "# movies = pd.read_csv(data_path+'ml-1m/movies.dat',sep='::',header=None,names=mnames,encoding=\"unicode_escape\")\n",
        "# movies['genres'] = list(map(lambda x: x.split('|')[0], movies['genres'].values))\n",
        "\n",
        "# data = pd.merge(pd.merge(ratings,movies),user).iloc[:10000] # taking 1w\n",
        "# print(data.shape)\n",
        "# print(data.user_id.nunique())\n",
        "# print(data.sku_number.nunique())\n",
        "# data.head(2)"
      ],
      "metadata": {
        "id": "OK705XlgQmHX"
      },
      "execution_count": 4,
      "outputs": []
    },
    {
      "cell_type": "markdown",
      "source": [
        "### Sales data"
      ],
      "metadata": {
        "id": "9OZLgQp6aSHq"
      }
    },
    {
      "cell_type": "code",
      "source": [
        "data = pd.read_csv('sample_data/mik_sales_sp_10052022.csv', index_col = False, \n",
        "                   parse_dates = ['trans_date','created_time']\n",
        "                   )\n",
        "# data['most_recent_purchased_sku'] = data['most_recent_purchased_sku'].apply(literal_eval)\n",
        "# data['most_recent_view_sku'] = data['most_recent_view_sku'].apply(literal_eval)\n",
        "# data['hist_sku_number'] = data['most_recent_purchased_sku'] + data['most_recent_view_sku']\n",
        "data.shape"
      ],
      "metadata": {
        "colab": {
          "base_uri": "https://localhost:8080/"
        },
        "id": "F1hiTW4Iyn0m",
        "outputId": "3a61d324-24d8-4334-982b-47b18fd2fe40"
      },
      "execution_count": 5,
      "outputs": [
        {
          "output_type": "execute_result",
          "data": {
            "text/plain": [
              "(23206, 14)"
            ]
          },
          "metadata": {},
          "execution_count": 5
        }
      ]
    },
    {
      "cell_type": "code",
      "source": [
        "data['user_id'].nunique(), data['sku_number'].nunique()"
      ],
      "metadata": {
        "colab": {
          "base_uri": "https://localhost:8080/"
        },
        "id": "vO3mrEwF1jNr",
        "outputId": "7ce5d595-8398-4b26-ea9f-fd1cd0f45354"
      },
      "execution_count": 6,
      "outputs": [
        {
          "output_type": "execute_result",
          "data": {
            "text/plain": [
              "(200, 8036)"
            ]
          },
          "metadata": {},
          "execution_count": 6
        }
      ]
    },
    {
      "cell_type": "code",
      "source": [
        "data['trans_date'].max(),data['trans_date'].min(), data['trans_date'].max() - data['trans_date'].min()"
      ],
      "metadata": {
        "colab": {
          "base_uri": "https://localhost:8080/"
        },
        "id": "CBJDSGwRu0nc",
        "outputId": "c208aec6-572e-48a3-9812-cf4bb4b31b21"
      },
      "execution_count": 7,
      "outputs": [
        {
          "output_type": "execute_result",
          "data": {
            "text/plain": [
              "(Timestamp('2022-10-02 00:00:00'),\n",
              " Timestamp('2022-04-02 00:00:00'),\n",
              " Timedelta('183 days 00:00:00'))"
            ]
          },
          "metadata": {},
          "execution_count": 7
        }
      ]
    },
    {
      "cell_type": "code",
      "source": [
        "import datetime\n",
        "# test_start_date = pd.Timestamp(datetime.datetime.today().date() - datetime.timedelta(6))\n",
        "test_start_date = data['trans_date'].max() - datetime.timedelta(6)\n",
        "\n",
        "test_start_date"
      ],
      "metadata": {
        "colab": {
          "base_uri": "https://localhost:8080/"
        },
        "id": "nWk9AWxGz7S8",
        "outputId": "464b8f64-094f-486e-bcc2-c0d491c24ad6"
      },
      "execution_count": 8,
      "outputs": [
        {
          "output_type": "execute_result",
          "data": {
            "text/plain": [
              "Timestamp('2022-09-26 00:00:00')"
            ]
          },
          "metadata": {},
          "execution_count": 8
        }
      ]
    },
    {
      "cell_type": "code",
      "source": [
        "data.columns"
      ],
      "metadata": {
        "colab": {
          "base_uri": "https://localhost:8080/"
        },
        "id": "sTK78FgJ_A31",
        "outputId": "487dc71f-23f3-419b-bf74-f01adcda5171"
      },
      "execution_count": 9,
      "outputs": [
        {
          "output_type": "execute_result",
          "data": {
            "text/plain": [
              "Index(['data_source', 'user_id', 'sku_number', 'qty', 'trans_date',\n",
              "       'created_time', 'email_address', 'geo_zip',\n",
              "       'most_frequent_device_class_general', 'total_order_value',\n",
              "       'total_coupon_value', 'most_recent_purchased_sku',\n",
              "       'most_recent_view_sku', 'category_path'],\n",
              "      dtype='object')"
            ]
          },
          "metadata": {},
          "execution_count": 9
        }
      ]
    },
    {
      "cell_type": "code",
      "source": [
        "data = data[['data_source', 'user_id', 'sku_number', 'qty', 'trans_date',\n",
        "       'created_time', 'email_address', 'geo_zip','most_frequent_device_class_general','category_path']]"
      ],
      "metadata": {
        "id": "GTzEI3Hg-7r-"
      },
      "execution_count": 10,
      "outputs": []
    },
    {
      "cell_type": "code",
      "source": [
        "data['sku_number_org'] = data['sku_number']"
      ],
      "metadata": {
        "id": "jMR5OecXnl75"
      },
      "execution_count": 11,
      "outputs": []
    },
    {
      "cell_type": "markdown",
      "source": [
        "### Item category mapping dat"
      ],
      "metadata": {
        "id": "SOWZDxQGaOS8"
      }
    },
    {
      "cell_type": "code",
      "source": [
        "df_item = pd.read_csv(\"sample_data/mik_item_07292022.csv\", index_col=False)\n",
        "df_item.shape"
      ],
      "metadata": {
        "colab": {
          "base_uri": "https://localhost:8080/",
          "height": 346
        },
        "id": "nzq1i9jZ0JAf",
        "outputId": "696b511f-c435-4b44-cfd0-d4155a3f0a3a"
      },
      "execution_count": 10,
      "outputs": [
        {
          "output_type": "error",
          "ename": "FileNotFoundError",
          "evalue": "ignored",
          "traceback": [
            "\u001b[0;31m---------------------------------------------------------------------------\u001b[0m",
            "\u001b[0;31mFileNotFoundError\u001b[0m                         Traceback (most recent call last)",
            "\u001b[0;32m<ipython-input-10-fcb35263543d>\u001b[0m in \u001b[0;36m<module>\u001b[0;34m\u001b[0m\n\u001b[0;32m----> 1\u001b[0;31m \u001b[0mdf_item\u001b[0m \u001b[0;34m=\u001b[0m \u001b[0mpd\u001b[0m\u001b[0;34m.\u001b[0m\u001b[0mread_csv\u001b[0m\u001b[0;34m(\u001b[0m\u001b[0;34m\"sample_data/mik_item_07292022.csv\"\u001b[0m\u001b[0;34m,\u001b[0m \u001b[0mindex_col\u001b[0m\u001b[0;34m=\u001b[0m\u001b[0;32mFalse\u001b[0m\u001b[0;34m)\u001b[0m\u001b[0;34m\u001b[0m\u001b[0;34m\u001b[0m\u001b[0m\n\u001b[0m\u001b[1;32m      2\u001b[0m \u001b[0mdf_item\u001b[0m\u001b[0;34m.\u001b[0m\u001b[0mshape\u001b[0m\u001b[0;34m\u001b[0m\u001b[0;34m\u001b[0m\u001b[0m\n",
            "\u001b[0;32m/usr/local/lib/python3.7/dist-packages/pandas/util/_decorators.py\u001b[0m in \u001b[0;36mwrapper\u001b[0;34m(*args, **kwargs)\u001b[0m\n\u001b[1;32m    309\u001b[0m                     \u001b[0mstacklevel\u001b[0m\u001b[0;34m=\u001b[0m\u001b[0mstacklevel\u001b[0m\u001b[0;34m,\u001b[0m\u001b[0;34m\u001b[0m\u001b[0;34m\u001b[0m\u001b[0m\n\u001b[1;32m    310\u001b[0m                 )\n\u001b[0;32m--> 311\u001b[0;31m             \u001b[0;32mreturn\u001b[0m \u001b[0mfunc\u001b[0m\u001b[0;34m(\u001b[0m\u001b[0;34m*\u001b[0m\u001b[0margs\u001b[0m\u001b[0;34m,\u001b[0m \u001b[0;34m**\u001b[0m\u001b[0mkwargs\u001b[0m\u001b[0;34m)\u001b[0m\u001b[0;34m\u001b[0m\u001b[0;34m\u001b[0m\u001b[0m\n\u001b[0m\u001b[1;32m    312\u001b[0m \u001b[0;34m\u001b[0m\u001b[0m\n\u001b[1;32m    313\u001b[0m         \u001b[0;32mreturn\u001b[0m \u001b[0mwrapper\u001b[0m\u001b[0;34m\u001b[0m\u001b[0;34m\u001b[0m\u001b[0m\n",
            "\u001b[0;32m/usr/local/lib/python3.7/dist-packages/pandas/io/parsers/readers.py\u001b[0m in \u001b[0;36mread_csv\u001b[0;34m(filepath_or_buffer, sep, delimiter, header, names, index_col, usecols, squeeze, prefix, mangle_dupe_cols, dtype, engine, converters, true_values, false_values, skipinitialspace, skiprows, skipfooter, nrows, na_values, keep_default_na, na_filter, verbose, skip_blank_lines, parse_dates, infer_datetime_format, keep_date_col, date_parser, dayfirst, cache_dates, iterator, chunksize, compression, thousands, decimal, lineterminator, quotechar, quoting, doublequote, escapechar, comment, encoding, encoding_errors, dialect, error_bad_lines, warn_bad_lines, on_bad_lines, delim_whitespace, low_memory, memory_map, float_precision, storage_options)\u001b[0m\n\u001b[1;32m    584\u001b[0m     \u001b[0mkwds\u001b[0m\u001b[0;34m.\u001b[0m\u001b[0mupdate\u001b[0m\u001b[0;34m(\u001b[0m\u001b[0mkwds_defaults\u001b[0m\u001b[0;34m)\u001b[0m\u001b[0;34m\u001b[0m\u001b[0;34m\u001b[0m\u001b[0m\n\u001b[1;32m    585\u001b[0m \u001b[0;34m\u001b[0m\u001b[0m\n\u001b[0;32m--> 586\u001b[0;31m     \u001b[0;32mreturn\u001b[0m \u001b[0m_read\u001b[0m\u001b[0;34m(\u001b[0m\u001b[0mfilepath_or_buffer\u001b[0m\u001b[0;34m,\u001b[0m \u001b[0mkwds\u001b[0m\u001b[0;34m)\u001b[0m\u001b[0;34m\u001b[0m\u001b[0;34m\u001b[0m\u001b[0m\n\u001b[0m\u001b[1;32m    587\u001b[0m \u001b[0;34m\u001b[0m\u001b[0m\n\u001b[1;32m    588\u001b[0m \u001b[0;34m\u001b[0m\u001b[0m\n",
            "\u001b[0;32m/usr/local/lib/python3.7/dist-packages/pandas/io/parsers/readers.py\u001b[0m in \u001b[0;36m_read\u001b[0;34m(filepath_or_buffer, kwds)\u001b[0m\n\u001b[1;32m    480\u001b[0m \u001b[0;34m\u001b[0m\u001b[0m\n\u001b[1;32m    481\u001b[0m     \u001b[0;31m# Create the parser.\u001b[0m\u001b[0;34m\u001b[0m\u001b[0;34m\u001b[0m\u001b[0;34m\u001b[0m\u001b[0m\n\u001b[0;32m--> 482\u001b[0;31m     \u001b[0mparser\u001b[0m \u001b[0;34m=\u001b[0m \u001b[0mTextFileReader\u001b[0m\u001b[0;34m(\u001b[0m\u001b[0mfilepath_or_buffer\u001b[0m\u001b[0;34m,\u001b[0m \u001b[0;34m**\u001b[0m\u001b[0mkwds\u001b[0m\u001b[0;34m)\u001b[0m\u001b[0;34m\u001b[0m\u001b[0;34m\u001b[0m\u001b[0m\n\u001b[0m\u001b[1;32m    483\u001b[0m \u001b[0;34m\u001b[0m\u001b[0m\n\u001b[1;32m    484\u001b[0m     \u001b[0;32mif\u001b[0m \u001b[0mchunksize\u001b[0m \u001b[0;32mor\u001b[0m \u001b[0miterator\u001b[0m\u001b[0;34m:\u001b[0m\u001b[0;34m\u001b[0m\u001b[0;34m\u001b[0m\u001b[0m\n",
            "\u001b[0;32m/usr/local/lib/python3.7/dist-packages/pandas/io/parsers/readers.py\u001b[0m in \u001b[0;36m__init__\u001b[0;34m(self, f, engine, **kwds)\u001b[0m\n\u001b[1;32m    809\u001b[0m             \u001b[0mself\u001b[0m\u001b[0;34m.\u001b[0m\u001b[0moptions\u001b[0m\u001b[0;34m[\u001b[0m\u001b[0;34m\"has_index_names\"\u001b[0m\u001b[0;34m]\u001b[0m \u001b[0;34m=\u001b[0m \u001b[0mkwds\u001b[0m\u001b[0;34m[\u001b[0m\u001b[0;34m\"has_index_names\"\u001b[0m\u001b[0;34m]\u001b[0m\u001b[0;34m\u001b[0m\u001b[0;34m\u001b[0m\u001b[0m\n\u001b[1;32m    810\u001b[0m \u001b[0;34m\u001b[0m\u001b[0m\n\u001b[0;32m--> 811\u001b[0;31m         \u001b[0mself\u001b[0m\u001b[0;34m.\u001b[0m\u001b[0m_engine\u001b[0m \u001b[0;34m=\u001b[0m \u001b[0mself\u001b[0m\u001b[0;34m.\u001b[0m\u001b[0m_make_engine\u001b[0m\u001b[0;34m(\u001b[0m\u001b[0mself\u001b[0m\u001b[0;34m.\u001b[0m\u001b[0mengine\u001b[0m\u001b[0;34m)\u001b[0m\u001b[0;34m\u001b[0m\u001b[0;34m\u001b[0m\u001b[0m\n\u001b[0m\u001b[1;32m    812\u001b[0m \u001b[0;34m\u001b[0m\u001b[0m\n\u001b[1;32m    813\u001b[0m     \u001b[0;32mdef\u001b[0m \u001b[0mclose\u001b[0m\u001b[0;34m(\u001b[0m\u001b[0mself\u001b[0m\u001b[0;34m)\u001b[0m\u001b[0;34m:\u001b[0m\u001b[0;34m\u001b[0m\u001b[0;34m\u001b[0m\u001b[0m\n",
            "\u001b[0;32m/usr/local/lib/python3.7/dist-packages/pandas/io/parsers/readers.py\u001b[0m in \u001b[0;36m_make_engine\u001b[0;34m(self, engine)\u001b[0m\n\u001b[1;32m   1038\u001b[0m             )\n\u001b[1;32m   1039\u001b[0m         \u001b[0;31m# error: Too many arguments for \"ParserBase\"\u001b[0m\u001b[0;34m\u001b[0m\u001b[0;34m\u001b[0m\u001b[0;34m\u001b[0m\u001b[0m\n\u001b[0;32m-> 1040\u001b[0;31m         \u001b[0;32mreturn\u001b[0m \u001b[0mmapping\u001b[0m\u001b[0;34m[\u001b[0m\u001b[0mengine\u001b[0m\u001b[0;34m]\u001b[0m\u001b[0;34m(\u001b[0m\u001b[0mself\u001b[0m\u001b[0;34m.\u001b[0m\u001b[0mf\u001b[0m\u001b[0;34m,\u001b[0m \u001b[0;34m**\u001b[0m\u001b[0mself\u001b[0m\u001b[0;34m.\u001b[0m\u001b[0moptions\u001b[0m\u001b[0;34m)\u001b[0m  \u001b[0;31m# type: ignore[call-arg]\u001b[0m\u001b[0;34m\u001b[0m\u001b[0;34m\u001b[0m\u001b[0m\n\u001b[0m\u001b[1;32m   1041\u001b[0m \u001b[0;34m\u001b[0m\u001b[0m\n\u001b[1;32m   1042\u001b[0m     \u001b[0;32mdef\u001b[0m \u001b[0m_failover_to_python\u001b[0m\u001b[0;34m(\u001b[0m\u001b[0mself\u001b[0m\u001b[0;34m)\u001b[0m\u001b[0;34m:\u001b[0m\u001b[0;34m\u001b[0m\u001b[0;34m\u001b[0m\u001b[0m\n",
            "\u001b[0;32m/usr/local/lib/python3.7/dist-packages/pandas/io/parsers/c_parser_wrapper.py\u001b[0m in \u001b[0;36m__init__\u001b[0;34m(self, src, **kwds)\u001b[0m\n\u001b[1;32m     49\u001b[0m \u001b[0;34m\u001b[0m\u001b[0m\n\u001b[1;32m     50\u001b[0m         \u001b[0;31m# open handles\u001b[0m\u001b[0;34m\u001b[0m\u001b[0;34m\u001b[0m\u001b[0;34m\u001b[0m\u001b[0m\n\u001b[0;32m---> 51\u001b[0;31m         \u001b[0mself\u001b[0m\u001b[0;34m.\u001b[0m\u001b[0m_open_handles\u001b[0m\u001b[0;34m(\u001b[0m\u001b[0msrc\u001b[0m\u001b[0;34m,\u001b[0m \u001b[0mkwds\u001b[0m\u001b[0;34m)\u001b[0m\u001b[0;34m\u001b[0m\u001b[0;34m\u001b[0m\u001b[0m\n\u001b[0m\u001b[1;32m     52\u001b[0m         \u001b[0;32massert\u001b[0m \u001b[0mself\u001b[0m\u001b[0;34m.\u001b[0m\u001b[0mhandles\u001b[0m \u001b[0;32mis\u001b[0m \u001b[0;32mnot\u001b[0m \u001b[0;32mNone\u001b[0m\u001b[0;34m\u001b[0m\u001b[0;34m\u001b[0m\u001b[0m\n\u001b[1;32m     53\u001b[0m \u001b[0;34m\u001b[0m\u001b[0m\n",
            "\u001b[0;32m/usr/local/lib/python3.7/dist-packages/pandas/io/parsers/base_parser.py\u001b[0m in \u001b[0;36m_open_handles\u001b[0;34m(self, src, kwds)\u001b[0m\n\u001b[1;32m    227\u001b[0m             \u001b[0mmemory_map\u001b[0m\u001b[0;34m=\u001b[0m\u001b[0mkwds\u001b[0m\u001b[0;34m.\u001b[0m\u001b[0mget\u001b[0m\u001b[0;34m(\u001b[0m\u001b[0;34m\"memory_map\"\u001b[0m\u001b[0;34m,\u001b[0m \u001b[0;32mFalse\u001b[0m\u001b[0;34m)\u001b[0m\u001b[0;34m,\u001b[0m\u001b[0;34m\u001b[0m\u001b[0;34m\u001b[0m\u001b[0m\n\u001b[1;32m    228\u001b[0m             \u001b[0mstorage_options\u001b[0m\u001b[0;34m=\u001b[0m\u001b[0mkwds\u001b[0m\u001b[0;34m.\u001b[0m\u001b[0mget\u001b[0m\u001b[0;34m(\u001b[0m\u001b[0;34m\"storage_options\"\u001b[0m\u001b[0;34m,\u001b[0m \u001b[0;32mNone\u001b[0m\u001b[0;34m)\u001b[0m\u001b[0;34m,\u001b[0m\u001b[0;34m\u001b[0m\u001b[0;34m\u001b[0m\u001b[0m\n\u001b[0;32m--> 229\u001b[0;31m             \u001b[0merrors\u001b[0m\u001b[0;34m=\u001b[0m\u001b[0mkwds\u001b[0m\u001b[0;34m.\u001b[0m\u001b[0mget\u001b[0m\u001b[0;34m(\u001b[0m\u001b[0;34m\"encoding_errors\"\u001b[0m\u001b[0;34m,\u001b[0m \u001b[0;34m\"strict\"\u001b[0m\u001b[0;34m)\u001b[0m\u001b[0;34m,\u001b[0m\u001b[0;34m\u001b[0m\u001b[0;34m\u001b[0m\u001b[0m\n\u001b[0m\u001b[1;32m    230\u001b[0m         )\n\u001b[1;32m    231\u001b[0m \u001b[0;34m\u001b[0m\u001b[0m\n",
            "\u001b[0;32m/usr/local/lib/python3.7/dist-packages/pandas/io/common.py\u001b[0m in \u001b[0;36mget_handle\u001b[0;34m(path_or_buf, mode, encoding, compression, memory_map, is_text, errors, storage_options)\u001b[0m\n\u001b[1;32m    705\u001b[0m                 \u001b[0mencoding\u001b[0m\u001b[0;34m=\u001b[0m\u001b[0mioargs\u001b[0m\u001b[0;34m.\u001b[0m\u001b[0mencoding\u001b[0m\u001b[0;34m,\u001b[0m\u001b[0;34m\u001b[0m\u001b[0;34m\u001b[0m\u001b[0m\n\u001b[1;32m    706\u001b[0m                 \u001b[0merrors\u001b[0m\u001b[0;34m=\u001b[0m\u001b[0merrors\u001b[0m\u001b[0;34m,\u001b[0m\u001b[0;34m\u001b[0m\u001b[0;34m\u001b[0m\u001b[0m\n\u001b[0;32m--> 707\u001b[0;31m                 \u001b[0mnewline\u001b[0m\u001b[0;34m=\u001b[0m\u001b[0;34m\"\"\u001b[0m\u001b[0;34m,\u001b[0m\u001b[0;34m\u001b[0m\u001b[0;34m\u001b[0m\u001b[0m\n\u001b[0m\u001b[1;32m    708\u001b[0m             )\n\u001b[1;32m    709\u001b[0m         \u001b[0;32melse\u001b[0m\u001b[0;34m:\u001b[0m\u001b[0;34m\u001b[0m\u001b[0;34m\u001b[0m\u001b[0m\n",
            "\u001b[0;31mFileNotFoundError\u001b[0m: [Errno 2] No such file or directory: 'sample_data/mik_item_07292022.csv'"
          ]
        }
      ]
    },
    {
      "cell_type": "code",
      "source": [
        "df_item.head(2)"
      ],
      "metadata": {
        "colab": {
          "base_uri": "https://localhost:8080/",
          "height": 166
        },
        "id": "vPcVViQgXHbM",
        "outputId": "17a3e4b6-36f6-4592-828d-a0fbcf554528"
      },
      "execution_count": 11,
      "outputs": [
        {
          "output_type": "error",
          "ename": "NameError",
          "evalue": "ignored",
          "traceback": [
            "\u001b[0;31m---------------------------------------------------------------------------\u001b[0m",
            "\u001b[0;31mNameError\u001b[0m                                 Traceback (most recent call last)",
            "\u001b[0;32m<ipython-input-11-02391b88675f>\u001b[0m in \u001b[0;36m<module>\u001b[0;34m\u001b[0m\n\u001b[0;32m----> 1\u001b[0;31m \u001b[0mdf_item\u001b[0m\u001b[0;34m.\u001b[0m\u001b[0mhead\u001b[0m\u001b[0;34m(\u001b[0m\u001b[0;36m2\u001b[0m\u001b[0;34m)\u001b[0m\u001b[0;34m\u001b[0m\u001b[0;34m\u001b[0m\u001b[0m\n\u001b[0m",
            "\u001b[0;31mNameError\u001b[0m: name 'df_item' is not defined"
          ]
        }
      ]
    },
    {
      "cell_type": "code",
      "source": [
        "data['most_recent_view_sku'].apply(lambda x: len(x)).describe()"
      ],
      "metadata": {
        "id": "A4vUvwyon4ZF"
      },
      "execution_count": null,
      "outputs": []
    },
    {
      "cell_type": "markdown",
      "source": [
        "# Feature Engineering"
      ],
      "metadata": {
        "id": "9oeGJOW4REfl"
      }
    },
    {
      "cell_type": "code",
      "source": [
        "sparse_features = ['sku_number', 'category_path',\n",
        "                   'user_id', 'geo_zip','most_frequent_device_class_general']\n",
        "\n",
        "SEQ_LEN = 50\n",
        "NUMBER_NEG_SAMPLE = 1 # used for generate 1:1 positive:negative samples\n"
      ],
      "metadata": {
        "id": "YX0vSmbeQv4i"
      },
      "execution_count": 12,
      "outputs": []
    },
    {
      "cell_type": "code",
      "source": [
        "# view_item_set = list(set(data['most_recent_view_sku'].sum()))\n",
        "# full_item_set = list(set(list(data['sku_number'].unique()) + view_item_set))\n",
        "# len(full_item_set)"
      ],
      "metadata": {
        "id": "ZJJT6PNTew_Y"
      },
      "execution_count": 36,
      "outputs": []
    },
    {
      "cell_type": "code",
      "source": [
        "feature_max_idx = {}\n",
        "for feature in sparse_features:\n",
        "    # if feature == 'sku_number':      \n",
        "    #   lbe_sku = LabelEncoder()\n",
        "    #   lbe_sku.fit(full_item_set)\n",
        "    #   data[feature] = lbe_sku.transform(data[feature]) + 1\n",
        "    #   feature_max_idx[feature] = data[feature].max() + 1\n",
        "    # else:\n",
        "    lbe = LabelEncoder()\n",
        "    data[feature] = lbe.fit_transform(data[feature]) + 1 # add one to all the encoded categories labels\n",
        "    feature_max_idx[feature] = data[feature].max() + 1"
      ],
      "metadata": {
        "id": "XV-0GzPzRIgO"
      },
      "execution_count": 13,
      "outputs": []
    },
    {
      "cell_type": "code",
      "source": [
        "feature_max_idx"
      ],
      "metadata": {
        "colab": {
          "base_uri": "https://localhost:8080/"
        },
        "id": "gwa-Qg4BRQcG",
        "outputId": "8874bc46-2400-4079-c514-0ef7c73ede8c"
      },
      "execution_count": 14,
      "outputs": [
        {
          "output_type": "execute_result",
          "data": {
            "text/plain": [
              "{'sku_number': 8037,\n",
              " 'category_path': 795,\n",
              " 'user_id': 201,\n",
              " 'geo_zip': 186,\n",
              " 'most_frequent_device_class_general': 3}"
            ]
          },
          "metadata": {},
          "execution_count": 14
        }
      ]
    },
    {
      "cell_type": "code",
      "source": [
        "data.head(2)"
      ],
      "metadata": {
        "colab": {
          "base_uri": "https://localhost:8080/",
          "height": 112
        },
        "id": "swhinBDMRWiX",
        "outputId": "bbc5adda-d8fb-47ee-f638-7ed23a182c74"
      },
      "execution_count": 15,
      "outputs": [
        {
          "output_type": "execute_result",
          "data": {
            "text/plain": [
              "  data_source  user_id  sku_number  qty trans_date        created_time  \\\n",
              "0       ADOBE       67        4118    1 2022-07-10 2022-07-10 09:08:18   \n",
              "1       ADOBE       67         749    1 2022-05-27 2022-05-27 12:36:24   \n",
              "\n",
              "       email_address  geo_zip  most_frequent_device_class_general  \\\n",
              "0  jhitzke@yahoo.com      119                                   1   \n",
              "1  jhitzke@yahoo.com      119                                   1   \n",
              "\n",
              "   category_path sku_number_org  \n",
              "0            173       10549096  \n",
              "1            667       10185462  "
            ],
            "text/html": [
              "\n",
              "  <div id=\"df-9b465f2d-a897-46f6-a135-d801590fe460\">\n",
              "    <div class=\"colab-df-container\">\n",
              "      <div>\n",
              "<style scoped>\n",
              "    .dataframe tbody tr th:only-of-type {\n",
              "        vertical-align: middle;\n",
              "    }\n",
              "\n",
              "    .dataframe tbody tr th {\n",
              "        vertical-align: top;\n",
              "    }\n",
              "\n",
              "    .dataframe thead th {\n",
              "        text-align: right;\n",
              "    }\n",
              "</style>\n",
              "<table border=\"1\" class=\"dataframe\">\n",
              "  <thead>\n",
              "    <tr style=\"text-align: right;\">\n",
              "      <th></th>\n",
              "      <th>data_source</th>\n",
              "      <th>user_id</th>\n",
              "      <th>sku_number</th>\n",
              "      <th>qty</th>\n",
              "      <th>trans_date</th>\n",
              "      <th>created_time</th>\n",
              "      <th>email_address</th>\n",
              "      <th>geo_zip</th>\n",
              "      <th>most_frequent_device_class_general</th>\n",
              "      <th>category_path</th>\n",
              "      <th>sku_number_org</th>\n",
              "    </tr>\n",
              "  </thead>\n",
              "  <tbody>\n",
              "    <tr>\n",
              "      <th>0</th>\n",
              "      <td>ADOBE</td>\n",
              "      <td>67</td>\n",
              "      <td>4118</td>\n",
              "      <td>1</td>\n",
              "      <td>2022-07-10</td>\n",
              "      <td>2022-07-10 09:08:18</td>\n",
              "      <td>jhitzke@yahoo.com</td>\n",
              "      <td>119</td>\n",
              "      <td>1</td>\n",
              "      <td>173</td>\n",
              "      <td>10549096</td>\n",
              "    </tr>\n",
              "    <tr>\n",
              "      <th>1</th>\n",
              "      <td>ADOBE</td>\n",
              "      <td>67</td>\n",
              "      <td>749</td>\n",
              "      <td>1</td>\n",
              "      <td>2022-05-27</td>\n",
              "      <td>2022-05-27 12:36:24</td>\n",
              "      <td>jhitzke@yahoo.com</td>\n",
              "      <td>119</td>\n",
              "      <td>1</td>\n",
              "      <td>667</td>\n",
              "      <td>10185462</td>\n",
              "    </tr>\n",
              "  </tbody>\n",
              "</table>\n",
              "</div>\n",
              "      <button class=\"colab-df-convert\" onclick=\"convertToInteractive('df-9b465f2d-a897-46f6-a135-d801590fe460')\"\n",
              "              title=\"Convert this dataframe to an interactive table.\"\n",
              "              style=\"display:none;\">\n",
              "        \n",
              "  <svg xmlns=\"http://www.w3.org/2000/svg\" height=\"24px\"viewBox=\"0 0 24 24\"\n",
              "       width=\"24px\">\n",
              "    <path d=\"M0 0h24v24H0V0z\" fill=\"none\"/>\n",
              "    <path d=\"M18.56 5.44l.94 2.06.94-2.06 2.06-.94-2.06-.94-.94-2.06-.94 2.06-2.06.94zm-11 1L8.5 8.5l.94-2.06 2.06-.94-2.06-.94L8.5 2.5l-.94 2.06-2.06.94zm10 10l.94 2.06.94-2.06 2.06-.94-2.06-.94-.94-2.06-.94 2.06-2.06.94z\"/><path d=\"M17.41 7.96l-1.37-1.37c-.4-.4-.92-.59-1.43-.59-.52 0-1.04.2-1.43.59L10.3 9.45l-7.72 7.72c-.78.78-.78 2.05 0 2.83L4 21.41c.39.39.9.59 1.41.59.51 0 1.02-.2 1.41-.59l7.78-7.78 2.81-2.81c.8-.78.8-2.07 0-2.86zM5.41 20L4 18.59l7.72-7.72 1.47 1.35L5.41 20z\"/>\n",
              "  </svg>\n",
              "      </button>\n",
              "      \n",
              "  <style>\n",
              "    .colab-df-container {\n",
              "      display:flex;\n",
              "      flex-wrap:wrap;\n",
              "      gap: 12px;\n",
              "    }\n",
              "\n",
              "    .colab-df-convert {\n",
              "      background-color: #E8F0FE;\n",
              "      border: none;\n",
              "      border-radius: 50%;\n",
              "      cursor: pointer;\n",
              "      display: none;\n",
              "      fill: #1967D2;\n",
              "      height: 32px;\n",
              "      padding: 0 0 0 0;\n",
              "      width: 32px;\n",
              "    }\n",
              "\n",
              "    .colab-df-convert:hover {\n",
              "      background-color: #E2EBFA;\n",
              "      box-shadow: 0px 1px 2px rgba(60, 64, 67, 0.3), 0px 1px 3px 1px rgba(60, 64, 67, 0.15);\n",
              "      fill: #174EA6;\n",
              "    }\n",
              "\n",
              "    [theme=dark] .colab-df-convert {\n",
              "      background-color: #3B4455;\n",
              "      fill: #D2E3FC;\n",
              "    }\n",
              "\n",
              "    [theme=dark] .colab-df-convert:hover {\n",
              "      background-color: #434B5C;\n",
              "      box-shadow: 0px 1px 3px 1px rgba(0, 0, 0, 0.15);\n",
              "      filter: drop-shadow(0px 1px 2px rgba(0, 0, 0, 0.3));\n",
              "      fill: #FFFFFF;\n",
              "    }\n",
              "  </style>\n",
              "\n",
              "      <script>\n",
              "        const buttonEl =\n",
              "          document.querySelector('#df-9b465f2d-a897-46f6-a135-d801590fe460 button.colab-df-convert');\n",
              "        buttonEl.style.display =\n",
              "          google.colab.kernel.accessAllowed ? 'block' : 'none';\n",
              "\n",
              "        async function convertToInteractive(key) {\n",
              "          const element = document.querySelector('#df-9b465f2d-a897-46f6-a135-d801590fe460');\n",
              "          const dataTable =\n",
              "            await google.colab.kernel.invokeFunction('convertToInteractive',\n",
              "                                                     [key], {});\n",
              "          if (!dataTable) return;\n",
              "\n",
              "          const docLinkHtml = 'Like what you see? Visit the ' +\n",
              "            '<a target=\"_blank\" href=https://colab.research.google.com/notebooks/data_table.ipynb>data table notebook</a>'\n",
              "            + ' to learn more about interactive tables.';\n",
              "          element.innerHTML = '';\n",
              "          dataTable['output_type'] = 'display_data';\n",
              "          await google.colab.output.renderOutput(dataTable, element);\n",
              "          const docLink = document.createElement('div');\n",
              "          docLink.innerHTML = docLinkHtml;\n",
              "          element.appendChild(docLink);\n",
              "        }\n",
              "      </script>\n",
              "    </div>\n",
              "  </div>\n",
              "  "
            ]
          },
          "metadata": {},
          "execution_count": 15
        }
      ]
    },
    {
      "cell_type": "code",
      "source": [
        "user_profile = data[['user_id', 'geo_zip', 'most_frequent_device_class_general']].drop_duplicates('user_id')\n",
        "user_profile.set_index(\"user_id\", inplace=True)\n",
        "item_profile = data[[\"sku_number\"]].drop_duplicates('sku_number')\n",
        "user_profile.shape, item_profile.shape"
      ],
      "metadata": {
        "colab": {
          "base_uri": "https://localhost:8080/"
        },
        "id": "a3bUcH_vRvRW",
        "outputId": "f781748b-758e-4eb7-de12-d3901ea6ab78"
      },
      "execution_count": 16,
      "outputs": [
        {
          "output_type": "execute_result",
          "data": {
            "text/plain": [
              "((200, 2), (8036, 1))"
            ]
          },
          "metadata": {},
          "execution_count": 16
        }
      ]
    },
    {
      "cell_type": "code",
      "source": [
        "# user_item_list = data.groupby(\"user_id\")['sku_number'].apply(list)\n",
        "user_item_list = data.groupby(\"user_id\")['sku_number'].apply(list)\n",
        "\n",
        "user_item_list.head()"
      ],
      "metadata": {
        "colab": {
          "base_uri": "https://localhost:8080/"
        },
        "id": "ASZeh8yrR1Ld",
        "outputId": "03508b95-e910-489f-f41d-9b4ccc560f92"
      },
      "execution_count": 17,
      "outputs": [
        {
          "output_type": "execute_result",
          "data": {
            "text/plain": [
              "user_id\n",
              "1    [2738, 5785, 4318, 6007, 5783, 2337, 4455, 444...\n",
              "2    [3720, 1912, 3726, 3719, 3726, 3731, 1888, 370...\n",
              "3    [6729, 6001, 6730, 6727, 6728, 3726, 6730, 672...\n",
              "4    [3721, 3719, 3708, 4678, 4679, 3721, 3512, 370...\n",
              "5    [4397, 4965, 4233, 1654, 4241, 374, 6251, 4963...\n",
              "Name: sku_number, dtype: object"
            ]
          },
          "metadata": {},
          "execution_count": 17
        }
      ]
    },
    {
      "cell_type": "code",
      "source": [
        "train_set, test_set = gen_data_set_timesplit(data, test_start_date, SEQ_LEN, NUMBER_NEG_SAMPLE)"
      ],
      "metadata": {
        "colab": {
          "base_uri": "https://localhost:8080/"
        },
        "id": "Rl8ECM3r0StD",
        "outputId": "b52b3a60-c9bf-4e11-9078-be3d2fa4493d"
      },
      "execution_count": 18,
      "outputs": [
        {
          "output_type": "stream",
          "name": "stderr",
          "text": [
            "100%|██████████| 200/200 [00:01<00:00, 120.23it/s]"
          ]
        },
        {
          "output_type": "stream",
          "name": "stdout",
          "text": [
            "7 7\n"
          ]
        },
        {
          "output_type": "stream",
          "name": "stderr",
          "text": [
            "\n"
          ]
        }
      ]
    },
    {
      "cell_type": "code",
      "source": [
        "\"# reviewerID,  - user id\n",
        "# pos_list[i], - movie id\n",
        "# 1, - label y\n",
        "# hist[::-1][:seq_len], - most recent watched movie id list before watching this movie, up to 50\n",
        "# seq_len\n",
        "# genres_hist[::-1][:seq_len], - most recent watched movie's genres list before watching this movie, up to 50\n",
        "# genres_list[i], - this movie's genre\n",
        "# rating_list[i] - this movie's rating\n",
        "# train_set[12]"
      ],
      "metadata": {
        "id": "CwikHNU0Vyof"
      },
      "execution_count": null,
      "outputs": []
    },
    {
      "cell_type": "code",
      "source": [
        "train_model_input, train_label = gen_model_input(train_set, user_profile, SEQ_LEN)\n",
        "test_model_input, test_label = gen_model_input(test_set, user_profile, SEQ_LEN)\n",
        "train_label.shape, train_model_input['user_id'].shape, test_model_input['user_id'].shape, test_label.shape"
      ],
      "metadata": {
        "colab": {
          "base_uri": "https://localhost:8080/"
        },
        "id": "mMKXnWBnYtFE",
        "outputId": "5b20e908-fa2e-471c-9a47-af91c842527c"
      },
      "execution_count": 19,
      "outputs": [
        {
          "output_type": "stream",
          "name": "stderr",
          "text": [
            "/content/preprocess_sku.py:97: VisibleDeprecationWarning: Creating an ndarray from ragged nested sequences (which is a list-or-tuple of lists-or-tuples-or ndarrays with different lengths or shapes) is deprecated. If you meant to do this, you must specify 'dtype=object' when creating the ndarray.\n",
            "  train_seq_genres = np.array([line[5] for line in train_set])\n"
          ]
        },
        {
          "output_type": "execute_result",
          "data": {
            "text/plain": [
              "((44840,), (44840,), (586,), (586,))"
            ]
          },
          "metadata": {},
          "execution_count": 19
        }
      ]
    },
    {
      "cell_type": "code",
      "source": [
        "train_model_input['user_id'].shape"
      ],
      "metadata": {
        "colab": {
          "base_uri": "https://localhost:8080/"
        },
        "id": "V0Ys07CoFX_z",
        "outputId": "5f813076-e0d4-401b-efcb-8ff43b192fdd"
      },
      "execution_count": 20,
      "outputs": [
        {
          "output_type": "execute_result",
          "data": {
            "text/plain": [
              "(44840,)"
            ]
          },
          "metadata": {},
          "execution_count": 20
        }
      ]
    },
    {
      "cell_type": "markdown",
      "source": [
        "# Create Embeddings"
      ],
      "metadata": {
        "id": "MmNE8kuEfXRE"
      }
    },
    {
      "cell_type": "code",
      "source": [
        "from collections import Counter\n",
        "train_counter = Counter(train_model_input['sku_number'])\n",
        "item_count = [train_counter.get(i,0) for i in range(feature_max_idx['sku_number'])]\n",
        "len(train_counter), type(train_counter), len(item_count)"
      ],
      "metadata": {
        "colab": {
          "base_uri": "https://localhost:8080/"
        },
        "id": "ljKC65_PzHRU",
        "outputId": "ecd3bf0a-4029-42ba-db7d-5370276f64f6"
      },
      "execution_count": 21,
      "outputs": [
        {
          "output_type": "execute_result",
          "data": {
            "text/plain": [
              "(8019, collections.Counter, 8037)"
            ]
          },
          "metadata": {},
          "execution_count": 21
        }
      ]
    },
    {
      "cell_type": "code",
      "source": [
        "import tensorflow as tf\n",
        "from tensorflow.python.keras.initializers import RandomNormal, Zeros\n",
        "from tensorflow.python.keras.layers import Embedding, Input, Lambda\n",
        "from tensorflow.python.keras.regularizers import l2\n",
        "if tf.__version__ >= '2.0.0':\n",
        "    tf.compat.v1.disable_eager_execution()\n",
        "else:\n",
        "    K.set_learning_phase(True)"
      ],
      "metadata": {
        "id": "yV1mZ6yt6c0K"
      },
      "execution_count": 22,
      "outputs": []
    },
    {
      "cell_type": "markdown",
      "source": [
        "### Create Feature Embeddings\n",
        "\n"
      ],
      "metadata": {
        "id": "RFusDxnPixY4"
      }
    },
    {
      "cell_type": "code",
      "source": [
        "# item features\n",
        "item_feature_columns = ['sku_number']\n",
        "# User features\n",
        "user_feature_columns = ['user_id', 'geo_zip', 'most_frequent_device_class_general',                        \n",
        "                        'hist_sku_number',\n",
        "                        'hist_category_path',\n",
        "                        'hist_len'\n",
        "                        ]\n"
      ],
      "metadata": {
        "id": "gVDJOjXTrNT-"
      },
      "execution_count": 23,
      "outputs": []
    },
    {
      "cell_type": "code",
      "source": [
        "feature_max_idx"
      ],
      "metadata": {
        "colab": {
          "base_uri": "https://localhost:8080/"
        },
        "id": "xUPZ56aqrWpa",
        "outputId": "dd2fb4ed-bc74-4850-a16c-fc061162317f"
      },
      "execution_count": 24,
      "outputs": [
        {
          "output_type": "execute_result",
          "data": {
            "text/plain": [
              "{'sku_number': 8037,\n",
              " 'category_path': 795,\n",
              " 'user_id': 201,\n",
              " 'geo_zip': 186,\n",
              " 'most_frequent_device_class_general': 3}"
            ]
          },
          "metadata": {},
          "execution_count": 24
        }
      ]
    },
    {
      "cell_type": "code",
      "source": [
        "user_sparse_feature_columns = user_feature_columns[0:3]\n",
        "user_sparse_feature_columns"
      ],
      "metadata": {
        "colab": {
          "base_uri": "https://localhost:8080/"
        },
        "id": "OdMHOjpeqvHT",
        "outputId": "b38da610-e4c0-4f9d-a88e-9ebd650dff6b"
      },
      "execution_count": 25,
      "outputs": [
        {
          "output_type": "execute_result",
          "data": {
            "text/plain": [
              "['user_id', 'geo_zip', 'most_frequent_device_class_general']"
            ]
          },
          "metadata": {},
          "execution_count": 25
        }
      ]
    },
    {
      "cell_type": "code",
      "source": [
        "user_seq_sparse_feature_columns = user_feature_columns[3:-1]\n",
        "user_seq_sparse_feature_columns "
      ],
      "metadata": {
        "colab": {
          "base_uri": "https://localhost:8080/"
        },
        "id": "6kvCDMmvrAOC",
        "outputId": "4501c4d1-59e9-4d14-b0c1-3dda189d5d53"
      },
      "execution_count": 26,
      "outputs": [
        {
          "output_type": "execute_result",
          "data": {
            "text/plain": [
              "['hist_sku_number', 'hist_category_path']"
            ]
          },
          "metadata": {},
          "execution_count": 26
        }
      ]
    },
    {
      "cell_type": "code",
      "source": [
        "# embedding input and output specification\n",
        "embeddings_initializer = RandomNormal(mean=0.0, stddev=0.0001, seed=2020)\n",
        "embedding_dim = 32\n",
        "l2_reg = 1e-6\n",
        "# use a dict to collect embeddings\n",
        "sparse_embedding = {}"
      ],
      "metadata": {
        "id": "WzDyy6iNlYef",
        "colab": {
          "base_uri": "https://localhost:8080/"
        },
        "outputId": "503ebee8-fe93-4839-c8d6-3f9b75c7e869"
      },
      "execution_count": 27,
      "outputs": [
        {
          "output_type": "stream",
          "name": "stderr",
          "text": [
            "WARNING:tensorflow:From /usr/local/lib/python3.7/dist-packages/tensorflow/python/keras/initializers/initializers_v1.py:56: calling RandomNormal.__init__ (from tensorflow.python.ops.init_ops) with dtype is deprecated and will be removed in a future version.\n",
            "Instructions for updating:\n",
            "Call initializer instance with the dtype argument instead of passing it to the constructor\n"
          ]
        }
      ]
    },
    {
      "cell_type": "code",
      "source": [
        "# user embeddings\n",
        "for name in user_sparse_feature_columns: \n",
        "  emb = Embedding(\n",
        "      input_dim = feature_max_idx[name], \n",
        "      output_dim = 16,\n",
        "      embeddings_initializer=embeddings_initializer,\n",
        "      embeddings_regularizer=l2(l2_reg),\n",
        "      name='sparse_' + 'emb_' + name\n",
        "  )\n",
        "  emb.trainable = True\n",
        "  sparse_embedding[name] = emb\n",
        "for name in user_seq_sparse_feature_columns: \n",
        "   emb = Embedding(feature_max_idx[name[5:]], embedding_dim,\n",
        "                            embeddings_initializer=embeddings_initializer,\n",
        "                            embeddings_regularizer=l2(\n",
        "                                l2_reg),\n",
        "                            name='sparse_' + 'seq_emb_'  + name,\n",
        "                            mask_zero=False) # True\n",
        "   emb.trainable = True\n",
        "   sparse_embedding[name] = emb"
      ],
      "metadata": {
        "id": "zrIjOw2-lZ2P"
      },
      "execution_count": 28,
      "outputs": []
    },
    {
      "cell_type": "code",
      "source": [
        "# item embeddings\n",
        "item_feature_name = item_feature_columns[0] # only include item id \n",
        "emb = Embedding(\n",
        "      input_dim = feature_max_idx[item_feature_name], \n",
        "      output_dim = embedding_dim,\n",
        "      embeddings_initializer=embeddings_initializer,\n",
        "      embeddings_regularizer=l2(l2_reg),\n",
        "      name='sparse_' + 'emb_' + item_feature_name\n",
        "  )\n",
        "sparse_embedding[item_feature_name] = emb"
      ],
      "metadata": {
        "id": "5aJDL4b-r475"
      },
      "execution_count": 29,
      "outputs": []
    },
    {
      "cell_type": "code",
      "source": [
        "sparse_embedding # include both user and item embedding layers"
      ],
      "metadata": {
        "colab": {
          "base_uri": "https://localhost:8080/"
        },
        "id": "9Ydd0xItnuZJ",
        "outputId": "12b1f367-d862-4b82-9f04-4caab5b8a10d"
      },
      "execution_count": 30,
      "outputs": [
        {
          "output_type": "execute_result",
          "data": {
            "text/plain": [
              "{'user_id': <tensorflow.python.keras.layers.embeddings.Embedding at 0x7fc9498511d0>,\n",
              " 'geo_zip': <tensorflow.python.keras.layers.embeddings.Embedding at 0x7fc94c9685d0>,\n",
              " 'most_frequent_device_class_general': <tensorflow.python.keras.layers.embeddings.Embedding at 0x7fc948eba850>,\n",
              " 'hist_sku_number': <tensorflow.python.keras.layers.embeddings.Embedding at 0x7fc9bf488310>,\n",
              " 'hist_category_path': <tensorflow.python.keras.layers.embeddings.Embedding at 0x7fc948ebac50>,\n",
              " 'sku_number': <tensorflow.python.keras.layers.embeddings.Embedding at 0x7fc94cb98190>}"
            ]
          },
          "metadata": {},
          "execution_count": 30
        }
      ]
    },
    {
      "cell_type": "markdown",
      "source": [
        "# Create User Inputs\n"
      ],
      "metadata": {
        "id": "__RCtmE768yP"
      }
    },
    {
      "cell_type": "markdown",
      "source": [
        "## Create Inputs Tensor"
      ],
      "metadata": {
        "id": "yM6mg7fw-yZc"
      }
    },
    {
      "cell_type": "code",
      "source": [
        "# user features inputs\n",
        "from collections import OrderedDict\n",
        "user_features = OrderedDict()\n",
        "for name in user_sparse_feature_columns:\n",
        "  user_features[name] = Input(\n",
        "                shape=(1,), \n",
        "                name=name, \n",
        "                dtype=\"int32\"\n",
        "                )\n",
        "for name in user_seq_sparse_feature_columns:\n",
        "  user_features[name] = Input(\n",
        "                shape=(SEQ_LEN,), \n",
        "                name=name, \n",
        "                dtype=\"int32\"\n",
        "                )\n",
        "length_name = 'hist_len'\n",
        "if length_name in user_feature_columns:\n",
        "  user_features[length_name] = Input((1,), name=length_name, dtype='int32')"
      ],
      "metadata": {
        "id": "ntvMR9x5BtjF"
      },
      "execution_count": 31,
      "outputs": []
    },
    {
      "cell_type": "code",
      "source": [
        "user_inputs_list = list(user_features.values())\n",
        "user_inputs_list"
      ],
      "metadata": {
        "colab": {
          "base_uri": "https://localhost:8080/"
        },
        "id": "ZsM6mPDJkqVR",
        "outputId": "d5d16a0e-10a3-4010-e903-ea3fc2fb88bb"
      },
      "execution_count": 32,
      "outputs": [
        {
          "output_type": "execute_result",
          "data": {
            "text/plain": [
              "[<tf.Tensor 'user_id:0' shape=(None, 1) dtype=int32>,\n",
              " <tf.Tensor 'geo_zip:0' shape=(None, 1) dtype=int32>,\n",
              " <tf.Tensor 'most_frequent_device_class_general:0' shape=(None, 1) dtype=int32>,\n",
              " <tf.Tensor 'hist_sku_number:0' shape=(None, 50) dtype=int32>,\n",
              " <tf.Tensor 'hist_category_path:0' shape=(None, 50) dtype=int32>,\n",
              " <tf.Tensor 'hist_len:0' shape=(None, 1) dtype=int32>]"
            ]
          },
          "metadata": {},
          "execution_count": 32
        }
      ]
    },
    {
      "cell_type": "code",
      "source": [
        "# item feature inputs\n",
        "item_features = OrderedDict()\n",
        "for name in item_feature_columns:\n",
        "  item_features[name] = Input(\n",
        "                shape=(1,), \n",
        "                name=name, \n",
        "                dtype=\"int32\"\n",
        "                )\n",
        "item_inputs_list = list(item_features.values())\n"
      ],
      "metadata": {
        "id": "at2VIiBv02WB"
      },
      "execution_count": 33,
      "outputs": []
    },
    {
      "cell_type": "code",
      "source": [
        "item_inputs_list"
      ],
      "metadata": {
        "colab": {
          "base_uri": "https://localhost:8080/"
        },
        "id": "w7BeQhIW1ZHB",
        "outputId": "2e17fe23-b0d9-4aef-a8de-aad1ff86616d"
      },
      "execution_count": 34,
      "outputs": [
        {
          "output_type": "execute_result",
          "data": {
            "text/plain": [
              "[<tf.Tensor 'sku_number:0' shape=(None, 1) dtype=int32>]"
            ]
          },
          "metadata": {},
          "execution_count": 34
        }
      ]
    },
    {
      "cell_type": "markdown",
      "source": [
        "## Embed Inputs"
      ],
      "metadata": {
        "id": "rkJg1GNFkJPD"
      }
    },
    {
      "cell_type": "code",
      "source": [
        "# Embed sparse inputs\n",
        "from collections import defaultdict\n",
        "user_sparse_embeded_input = defaultdict(list)\n",
        "\n",
        "for name in user_sparse_feature_columns:\n",
        "  user_sparse_embeded_input[name] = sparse_embedding[name](user_features[name])"
      ],
      "metadata": {
        "id": "gtkBZ6HLkHAf"
      },
      "execution_count": 35,
      "outputs": []
    },
    {
      "cell_type": "code",
      "source": [
        "# Embed the sequence sparse inputs, need to add pooling layer to it\n",
        "seq_embeded_dict = defaultdict(list)\n",
        "\n",
        "for name in user_seq_sparse_feature_columns:\n",
        "  seq_embeded_dict[name] = sparse_embedding[name](user_features[name])\n",
        "\n",
        "# from deepctr.layers.sequence import SequencePoolingLayer\n",
        "# for name in user_seq_sparse_feature_columns:\n",
        "#   user_seq_sparse_embeded_input[name] = SequencePoolingLayer('mean', supports_masking=False)([seq_embeded_dict[name], user_features[length_name]])\n",
        "\n",
        "from tensorflow.keras.layers import AveragePooling1D\n",
        "user_seq_sparse_embeded_input = defaultdict(list)\n",
        "for name in user_seq_sparse_feature_columns:\n",
        "  user_seq_sparse_embeded_input[name] = AveragePooling1D(pool_size=50, padding='valid')(seq_embeded_dict[name])"
      ],
      "metadata": {
        "id": "BgZyHLfAySUq"
      },
      "execution_count": 36,
      "outputs": []
    },
    {
      "cell_type": "code",
      "source": [
        "# vec = AveragePooling1D(pool_size=50, strides = 50, padding='valid')\n",
        "# vec(seq_embeded_dict[name])"
      ],
      "metadata": {
        "id": "dGJ-aWJCeAyX"
      },
      "execution_count": 37,
      "outputs": []
    },
    {
      "cell_type": "code",
      "source": [
        "# from deepctr.layers.sequence import SequencePoolingLayer\n",
        "# vec2 = SequencePoolingLayer('mean', supports_masking=False)\n",
        "# vec2([seq_embeded_dict[name], 35])"
      ],
      "metadata": {
        "id": "LAWoVKoueGNl"
      },
      "execution_count": 38,
      "outputs": []
    },
    {
      "cell_type": "code",
      "source": [
        "# combine embeded inputs into a list\n",
        "user_sparse_embedding_list = list(user_sparse_embeded_input.values()) + list(user_seq_sparse_embeded_input.values())\n",
        "user_sparse_embedding_list"
      ],
      "metadata": {
        "colab": {
          "base_uri": "https://localhost:8080/"
        },
        "id": "OIgRP5lyXbPZ",
        "outputId": "5d27bf0f-6356-4ec1-81cf-cf4adadfb35f"
      },
      "execution_count": 39,
      "outputs": [
        {
          "output_type": "execute_result",
          "data": {
            "text/plain": [
              "[<tf.Tensor 'sparse_emb_user_id/embedding_lookup/Identity_1:0' shape=(None, 1, 16) dtype=float32>,\n",
              " <tf.Tensor 'sparse_emb_geo_zip/embedding_lookup/Identity_1:0' shape=(None, 1, 16) dtype=float32>,\n",
              " <tf.Tensor 'sparse_emb_most_frequent_device_class_general/embedding_lookup/Identity_1:0' shape=(None, 1, 16) dtype=float32>,\n",
              " <tf.Tensor 'average_pooling1d/Squeeze:0' shape=(None, 1, 32) dtype=float32>,\n",
              " <tf.Tensor 'average_pooling1d_1/Squeeze:0' shape=(None, 1, 32) dtype=float32>]"
            ]
          },
          "metadata": {},
          "execution_count": 39
        }
      ]
    },
    {
      "cell_type": "markdown",
      "source": [
        "## Combine Embeded Input (User only)"
      ],
      "metadata": {
        "id": "6nIWKAyXpmRX"
      }
    },
    {
      "cell_type": "code",
      "source": [
        "from tensorflow.python.keras.layers import Flatten, Concatenate, Layer, Add"
      ],
      "metadata": {
        "id": "Gw7pkzWzppJ4"
      },
      "execution_count": 40,
      "outputs": []
    },
    {
      "cell_type": "code",
      "source": [
        "user_dnn_input = Flatten()(Concatenate(axis=2)(user_sparse_embedding_list))\n",
        "user_dnn_input"
      ],
      "metadata": {
        "id": "0ruiNeGZBOEy",
        "colab": {
          "base_uri": "https://localhost:8080/"
        },
        "outputId": "896afc17-cbca-41d0-d47d-cef3b56b0f34"
      },
      "execution_count": 41,
      "outputs": [
        {
          "output_type": "execute_result",
          "data": {
            "text/plain": [
              "<tf.Tensor 'flatten/Reshape:0' shape=(None, 112) dtype=float32>"
            ]
          },
          "metadata": {},
          "execution_count": 41
        }
      ]
    },
    {
      "cell_type": "markdown",
      "source": [
        "# Sepecify Model Layers"
      ],
      "metadata": {
        "id": "00EvAK7d7v8H"
      }
    },
    {
      "cell_type": "markdown",
      "source": [
        "### User Layers"
      ],
      "metadata": {
        "id": "Nyz2GRXstx1u"
      }
    },
    {
      "cell_type": "code",
      "source": [
        "from tensorflow.keras import layers"
      ],
      "metadata": {
        "id": "5XEX8w1qfiWY"
      },
      "execution_count": 42,
      "outputs": []
    },
    {
      "cell_type": "code",
      "source": [
        "user_dnn_hidden_units = (128,64, embedding_dim)\n",
        "dnn_activation='relu'\n",
        "dnn_use_bn=False\n",
        "l2_reg_dnn=0\n",
        "l2_reg_embedding=1e-6\n",
        "dnn_dropout=0\n",
        "output_activation='linear'\n",
        "temperature=0.05,\n",
        "# sampler_config=sampler_config\n",
        "seed=1024"
      ],
      "metadata": {
        "id": "jxUktp9cysj_"
      },
      "execution_count": 43,
      "outputs": []
    },
    {
      "cell_type": "code",
      "source": [
        "# from deepctr.layers import DNN\n",
        "from model_utils import DNN"
      ],
      "metadata": {
        "id": "iLbtmoH17KAU"
      },
      "execution_count": 44,
      "outputs": []
    },
    {
      "cell_type": "code",
      "source": [
        "dnn_layers = DNN(hidden_units = user_dnn_hidden_units, \n",
        "                  activation='relu', \n",
        "                  l2_reg=0, \n",
        "                  dropout_rate=0, \n",
        "                  use_bn=False, \n",
        "                  output_activation='linear',\n",
        "                  seed=1024\n",
        "                  )\n",
        "\n"
      ],
      "metadata": {
        "id": "9S6JndR3KFx1"
      },
      "execution_count": 45,
      "outputs": []
    },
    {
      "cell_type": "code",
      "source": [
        "user_dnn_output = dnn_layers(user_dnn_input)\n",
        "user_dnn_output = l2_normalize(user_dnn_output)\n",
        "user_dnn_output"
      ],
      "metadata": {
        "colab": {
          "base_uri": "https://localhost:8080/"
        },
        "id": "ZlEfVc4dLS0l",
        "outputId": "09e01573-c1e5-44aa-d72f-3a3c39031090"
      },
      "execution_count": 46,
      "outputs": [
        {
          "output_type": "execute_result",
          "data": {
            "text/plain": [
              "<tf.Tensor 'lambda/l2_normalize:0' shape=(None, 32) dtype=float32>"
            ]
          },
          "metadata": {},
          "execution_count": 46
        }
      ]
    },
    {
      "cell_type": "markdown",
      "source": [
        "### Item Layer"
      ],
      "metadata": {
        "id": "ae2bSV0TtnvG"
      }
    },
    {
      "cell_type": "code",
      "source": [
        "# Create item index tensor\n",
        "item_vocabulary_size = feature_max_idx[item_feature_name]\n",
        "item_index = EmbeddingIndex(list(range(item_vocabulary_size)))(item_features[item_feature_name])\n",
        "\n",
        "# embed the item index input\n",
        "item_embeding = sparse_embedding[item_feature_name]\n",
        "item_embedding_weight = NoMask()(item_embeding(item_index))\n",
        "pooling_item_embedding_weight = PoolingLayer()([item_embedding_weight])\n",
        "pooling_item_embedding_weight = l2_normalize(pooling_item_embedding_weight)\n",
        "pooling_item_embedding_weight\n"
      ],
      "metadata": {
        "id": "xdKJ9VEfCyXL",
        "colab": {
          "base_uri": "https://localhost:8080/"
        },
        "outputId": "76499afe-b914-40c5-e6ac-115a39b8aae6"
      },
      "execution_count": 47,
      "outputs": [
        {
          "output_type": "execute_result",
          "data": {
            "text/plain": [
              "<tf.Tensor 'lambda_1/l2_normalize:0' shape=(8037, 32) dtype=float32>"
            ]
          },
          "metadata": {},
          "execution_count": 47
        }
      ]
    },
    {
      "cell_type": "code",
      "source": [
        "pooling_item_embedding_weight.eval(session=K.get_session()).shape"
      ],
      "metadata": {
        "colab": {
          "base_uri": "https://localhost:8080/"
        },
        "id": "OjQ88lPaprh2",
        "outputId": "6607362a-2a3c-4b86-fccf-03a15135a64a"
      },
      "execution_count": 48,
      "outputs": [
        {
          "output_type": "execute_result",
          "data": {
            "text/plain": [
              "(8037, 32)"
            ]
          },
          "metadata": {},
          "execution_count": 48
        }
      ]
    },
    {
      "cell_type": "code",
      "source": [
        "# .eval(session=K.get_session())"
      ],
      "metadata": {
        "id": "dR7Lsgh0qy20"
      },
      "execution_count": 49,
      "outputs": []
    },
    {
      "cell_type": "markdown",
      "source": [
        "### Output Layer"
      ],
      "metadata": {
        "id": "NaZ1ifdZ_LM5"
      }
    },
    {
      "cell_type": "code",
      "source": [
        "output = SampledSoftmaxLayer()(\n",
        "    [pooling_item_embedding_weight, user_dnn_output, item_features[item_feature_name]])\n",
        "output"
      ],
      "metadata": {
        "colab": {
          "base_uri": "https://localhost:8080/"
        },
        "id": "p_hbelWEowl8",
        "outputId": "0f207e9f-a3fc-49e6-940c-4225625cc9f5"
      },
      "execution_count": 50,
      "outputs": [
        {
          "output_type": "execute_result",
          "data": {
            "text/plain": [
              "<tf.Tensor 'sampled_softmax_layer/ExpandDims:0' shape=(None, 1) dtype=float32>"
            ]
          },
          "metadata": {},
          "execution_count": 50
        }
      ]
    },
    {
      "cell_type": "code",
      "source": [
        "# from model_utils import SampledSoftmaxLayer\n",
        "# sf = SampledSoftmaxLayer()"
      ],
      "metadata": {
        "id": "4JSxRTWtFAnG"
      },
      "execution_count": 51,
      "outputs": []
    },
    {
      "cell_type": "code",
      "source": [
        "# from tensorflow.keras.layers import Softmax\n",
        "# sf2 = Softmax()\n",
        "# import numpy as np\n",
        "# x = np.asarray([[1., 2., 1.]])\n",
        "# x\n",
        "# sf2(x).eval(session=K.get_session())"
      ],
      "metadata": {
        "id": "5AFUGxVwFA--"
      },
      "execution_count": 52,
      "outputs": []
    },
    {
      "cell_type": "code",
      "source": [
        "pooling_item_embedding_weight"
      ],
      "metadata": {
        "colab": {
          "base_uri": "https://localhost:8080/"
        },
        "id": "sWLljvPiA8rI",
        "outputId": "19a839b3-888c-452c-e29b-bd04fcc457dc"
      },
      "execution_count": 53,
      "outputs": [
        {
          "output_type": "execute_result",
          "data": {
            "text/plain": [
              "<tf.Tensor 'lambda_1/l2_normalize:0' shape=(8037, 32) dtype=float32>"
            ]
          },
          "metadata": {},
          "execution_count": 53
        }
      ]
    },
    {
      "cell_type": "code",
      "source": [
        "user_dnn_output"
      ],
      "metadata": {
        "colab": {
          "base_uri": "https://localhost:8080/"
        },
        "id": "uNGi4K9YAwcw",
        "outputId": "3f246def-455d-492d-8aec-c8a0d39b924a"
      },
      "execution_count": 54,
      "outputs": [
        {
          "output_type": "execute_result",
          "data": {
            "text/plain": [
              "<tf.Tensor 'lambda/l2_normalize:0' shape=(None, 32) dtype=float32>"
            ]
          },
          "metadata": {},
          "execution_count": 54
        }
      ]
    },
    {
      "cell_type": "code",
      "source": [
        "item_features[item_feature_name]"
      ],
      "metadata": {
        "colab": {
          "base_uri": "https://localhost:8080/"
        },
        "id": "xZdpyC-JA-NH",
        "outputId": "44f2b7b4-b56c-48f6-ebf6-13c0f926bf79"
      },
      "execution_count": 55,
      "outputs": [
        {
          "output_type": "execute_result",
          "data": {
            "text/plain": [
              "<tf.Tensor 'sku_number:0' shape=(None, 1) dtype=int32>"
            ]
          },
          "metadata": {},
          "execution_count": 55
        }
      ]
    },
    {
      "cell_type": "markdown",
      "source": [
        "## Build Model"
      ],
      "metadata": {
        "id": "7pxt5AhhABQv"
      }
    },
    {
      "cell_type": "code",
      "source": [
        "from tensorflow.python.keras.models import Model"
      ],
      "metadata": {
        "id": "NxwwfP8M_c-X"
      },
      "execution_count": 56,
      "outputs": []
    },
    {
      "cell_type": "code",
      "source": [
        "model = Model(inputs=user_inputs_list + item_inputs_list, outputs=output)\n",
        "\n",
        "model.__setattr__(\"user_input\", user_inputs_list)\n",
        "model.__setattr__(\"user_embedding\", user_dnn_output)\n",
        "\n",
        "model.__setattr__(\"item_input\", item_inputs_list)\n",
        "model.__setattr__(\"item_embedding\",\n",
        "                  get_item_embedding(pooling_item_embedding_weight, item_features[item_feature_name]))\n"
      ],
      "metadata": {
        "id": "05qTGyqg_HYD"
      },
      "execution_count": 57,
      "outputs": []
    },
    {
      "cell_type": "markdown",
      "source": [
        "# Model Compile and Training"
      ],
      "metadata": {
        "id": "iZTKXy9MsFGM"
      }
    },
    {
      "cell_type": "code",
      "source": [
        "model.compile(optimizer=\"adam\", loss=sampledsoftmaxloss)"
      ],
      "metadata": {
        "id": "LN4h_A0-BcE7"
      },
      "execution_count": 58,
      "outputs": []
    },
    {
      "cell_type": "code",
      "source": [
        "history = model.fit(train_model_input, train_label,\n",
        "                    batch_size=512, epochs=20, verbose=1, validation_split=0.0, )"
      ],
      "metadata": {
        "colab": {
          "base_uri": "https://localhost:8080/"
        },
        "id": "UNzun5zFpqZi",
        "outputId": "296f504b-9816-450e-ca73-00a353fbbd6c"
      },
      "execution_count": 59,
      "outputs": [
        {
          "output_type": "stream",
          "name": "stdout",
          "text": [
            "Train on 44840 samples\n",
            "Epoch 1/20\n",
            "44840/44840 [==============================] - 4s 99us/sample - loss: 4.8563\n",
            "Epoch 2/20\n",
            "44840/44840 [==============================] - 4s 86us/sample - loss: 4.7753\n",
            "Epoch 3/20\n",
            "44840/44840 [==============================] - 4s 84us/sample - loss: 4.7012\n",
            "Epoch 4/20\n",
            "44840/44840 [==============================] - 4s 85us/sample - loss: 4.6048\n",
            "Epoch 5/20\n",
            "44840/44840 [==============================] - 4s 83us/sample - loss: 4.5576\n",
            "Epoch 6/20\n",
            "44840/44840 [==============================] - 4s 84us/sample - loss: 4.5283\n",
            "Epoch 7/20\n",
            "44840/44840 [==============================] - 4s 87us/sample - loss: 4.4885\n",
            "Epoch 8/20\n",
            "44840/44840 [==============================] - 4s 87us/sample - loss: 4.4774\n",
            "Epoch 9/20\n",
            "44840/44840 [==============================] - 4s 86us/sample - loss: 4.4545\n",
            "Epoch 10/20\n",
            "44840/44840 [==============================] - 4s 86us/sample - loss: 4.4389\n",
            "Epoch 11/20\n",
            "44840/44840 [==============================] - 4s 85us/sample - loss: 4.4267\n",
            "Epoch 12/20\n",
            "44840/44840 [==============================] - 5s 101us/sample - loss: 4.4216\n",
            "Epoch 13/20\n",
            "44840/44840 [==============================] - 4s 99us/sample - loss: 4.4033\n",
            "Epoch 14/20\n",
            "44840/44840 [==============================] - 4s 86us/sample - loss: 4.3938\n",
            "Epoch 15/20\n",
            "44840/44840 [==============================] - 4s 85us/sample - loss: 4.3856\n",
            "Epoch 16/20\n",
            "44840/44840 [==============================] - 4s 85us/sample - loss: 4.3847\n",
            "Epoch 17/20\n",
            "44840/44840 [==============================] - 4s 85us/sample - loss: 4.3882\n",
            "Epoch 18/20\n",
            "44840/44840 [==============================] - 4s 85us/sample - loss: 4.3837\n",
            "Epoch 19/20\n",
            "44840/44840 [==============================] - 4s 86us/sample - loss: 4.3733\n",
            "Epoch 20/20\n",
            "44840/44840 [==============================] - 4s 85us/sample - loss: 4.3719\n"
          ]
        }
      ]
    },
    {
      "cell_type": "code",
      "source": [
        "res = model.predict(test_model_input)"
      ],
      "metadata": {
        "colab": {
          "base_uri": "https://localhost:8080/"
        },
        "id": "OjNP2MhJB9l4",
        "outputId": "85471c25-70e4-4752-8753-c00c156e1868"
      },
      "execution_count": 60,
      "outputs": [
        {
          "output_type": "stream",
          "name": "stderr",
          "text": [
            "/usr/local/lib/python3.7/dist-packages/tensorflow/python/keras/engine/training.py:2458: UserWarning: `Model.state_updates` will be removed in a future version. This property should not be used in TensorFlow 2.0, as `updates` are applied automatically.\n",
            "  warnings.warn('`Model.state_updates` will be removed in a future version. '\n"
          ]
        }
      ]
    },
    {
      "cell_type": "code",
      "source": [
        "res.shape"
      ],
      "metadata": {
        "colab": {
          "base_uri": "https://localhost:8080/"
        },
        "id": "S2PyKJLnE-Hs",
        "outputId": "ef4c926a-eb19-4aea-de24-9ed73297984d"
      },
      "execution_count": 61,
      "outputs": [
        {
          "output_type": "execute_result",
          "data": {
            "text/plain": [
              "(586, 1)"
            ]
          },
          "metadata": {},
          "execution_count": 61
        }
      ]
    },
    {
      "cell_type": "markdown",
      "source": [
        "# Predict: Generate Item and User Embeddings"
      ],
      "metadata": {
        "id": "lMvl2SKUATXr"
      }
    },
    {
      "cell_type": "code",
      "source": [
        "# 4. Generate user features for testing and full item features for retrieval\n",
        "test_user_model_input = test_model_input\n",
        "all_item_model_input = {\"sku_number\": item_profile['sku_number'].values,}\n",
        "\n",
        "user_embedding_model = Model(inputs=model.user_input, outputs=model.user_embedding)\n",
        "item_embedding_model = Model(inputs=model.item_input, outputs=model.item_embedding)\n",
        "\n",
        "user_embs = user_embedding_model.predict(test_user_model_input, batch_size=2 ** 12)\n",
        "# user_embs = user_embs[:, i, :]  # i in [0,k_max) if MIND\n",
        "item_embs = item_embedding_model.predict(all_item_model_input, batch_size=2 ** 12)\n",
        "\n",
        "print(user_embs.shape)\n",
        "print(item_embs.shape)"
      ],
      "metadata": {
        "colab": {
          "base_uri": "https://localhost:8080/"
        },
        "id": "Xdc56egCskOs",
        "outputId": "fa4ae189-9135-4626-9dfd-05a6e72b1ddd"
      },
      "execution_count": 62,
      "outputs": [
        {
          "output_type": "stream",
          "name": "stdout",
          "text": [
            "(586, 32)\n",
            "(8036, 32)\n"
          ]
        }
      ]
    },
    {
      "cell_type": "code",
      "source": [
        "prob_matrix = user_embs.dot(item_embs.T)\n",
        "prob_matrix.shape"
      ],
      "metadata": {
        "id": "vl-obJoXsHb_",
        "colab": {
          "base_uri": "https://localhost:8080/"
        },
        "outputId": "2a48092e-b532-414d-b614-afbf607f5efe"
      },
      "execution_count": 63,
      "outputs": [
        {
          "output_type": "execute_result",
          "data": {
            "text/plain": [
              "(586, 8036)"
            ]
          },
          "metadata": {},
          "execution_count": 63
        }
      ]
    },
    {
      "cell_type": "markdown",
      "source": [
        "# Recommendation"
      ],
      "metadata": {
        "id": "o4CKmfGRZN1U"
      }
    },
    {
      "cell_type": "code",
      "source": [
        "! pip install faiss-cpu"
      ],
      "metadata": {
        "colab": {
          "base_uri": "https://localhost:8080/"
        },
        "id": "Qmd7zOfPZKYm",
        "outputId": "46cbd1a8-829f-4d03-c9fa-17b6447fb2c4"
      },
      "execution_count": 64,
      "outputs": [
        {
          "output_type": "stream",
          "name": "stdout",
          "text": [
            "Looking in indexes: https://pypi.org/simple, https://us-python.pkg.dev/colab-wheels/public/simple/\n",
            "Collecting faiss-cpu\n",
            "  Downloading faiss_cpu-1.7.2-cp37-cp37m-manylinux_2_17_x86_64.manylinux2014_x86_64.whl (8.6 MB)\n",
            "\u001b[K     |████████████████████████████████| 8.6 MB 4.2 MB/s \n",
            "\u001b[?25hInstalling collected packages: faiss-cpu\n",
            "Successfully installed faiss-cpu-1.7.2\n"
          ]
        }
      ]
    },
    {
      "cell_type": "code",
      "source": [
        "import numpy as np\n",
        "import faiss\n",
        "from tqdm import tqdm\n",
        "# from deepmatch.utils import recall_N"
      ],
      "metadata": {
        "id": "WFcrO0yfZR7N"
      },
      "execution_count": 65,
      "outputs": []
    },
    {
      "cell_type": "code",
      "source": [
        "def recall_N(y_true, y_pred, N=50):\n",
        "    return len(set(y_pred[:N]) & set(y_true)) * 1.0 / len(y_true)"
      ],
      "metadata": {
        "id": "BA0XGxZeZSc-"
      },
      "execution_count": 66,
      "outputs": []
    },
    {
      "cell_type": "code",
      "source": [
        "test_true_label = {line[0]:[line[1]] for line in test_set}\n",
        "\n",
        "import numpy as np\n",
        "import faiss\n",
        "from tqdm import tqdm\n",
        "# from deepmatch.utils import recall_N\n",
        "\n",
        "index = faiss.IndexFlatIP(embedding_dim)\n",
        "# faiss.normalize_L2(item_embs)\n",
        "index.add(item_embs)\n",
        "# faiss.normalize_L2(user_embs)\n",
        "D, I = index.search(np.ascontiguousarray(user_embs), 50)\n",
        "s = []\n",
        "hit = 0\n",
        "pred_label = {}\n",
        "for i, uid in tqdm(enumerate(test_user_model_input['user_id'])):\n",
        "    try:\n",
        "        pred = [item_profile['sku_number'].values[x] for x in I[i]]\n",
        "        filter_item = None\n",
        "        recall_score = recall_N(test_true_label[uid], pred, N=50)\n",
        "        s.append(recall_score)\n",
        "        pred_label[uid] = pred\n",
        "        if test_true_label[uid] in pred:\n",
        "            hit += 1\n",
        "    except:\n",
        "        print(i)\n",
        "print(\"\")\n",
        "print(\"recall\", np.mean(s))\n",
        "print(\"hit rate\", hit / len(test_user_model_input['user_id']))"
      ],
      "metadata": {
        "colab": {
          "base_uri": "https://localhost:8080/"
        },
        "id": "SIkX1VFcZljX",
        "outputId": "3ca1518c-58c3-4141-ddfb-e527d06fb741"
      },
      "execution_count": 67,
      "outputs": [
        {
          "output_type": "stream",
          "name": "stderr",
          "text": [
            "586it [00:00, 3071.83it/s]"
          ]
        },
        {
          "output_type": "stream",
          "name": "stdout",
          "text": [
            "\n",
            "recall 0.09556313993174062\n",
            "hit rate 0.09556313993174062\n"
          ]
        },
        {
          "output_type": "stream",
          "name": "stderr",
          "text": [
            "\n"
          ]
        }
      ]
    },
    {
      "cell_type": "code",
      "source": [
        "len(pred_label[160])"
      ],
      "metadata": {
        "colab": {
          "base_uri": "https://localhost:8080/"
        },
        "id": "ClkiqMjwZp83",
        "outputId": "8ebbb8ad-ab66-4df7-84c8-d0cebe545a2f"
      },
      "execution_count": 68,
      "outputs": [
        {
          "output_type": "execute_result",
          "data": {
            "text/plain": [
              "50"
            ]
          },
          "metadata": {},
          "execution_count": 68
        }
      ]
    },
    {
      "cell_type": "markdown",
      "source": [
        "# Validation"
      ],
      "metadata": {
        "id": "TuPNR-NMekj8"
      }
    },
    {
      "cell_type": "code",
      "source": [
        "df_train = pd.DataFrame(train_set)"
      ],
      "metadata": {
        "id": "z03lXn0_ej1F"
      },
      "execution_count": 69,
      "outputs": []
    },
    {
      "cell_type": "code",
      "source": [
        "test_user_model_input['user_id'][0:10]"
      ],
      "metadata": {
        "colab": {
          "base_uri": "https://localhost:8080/"
        },
        "id": "pF-pD6-Uetr7",
        "outputId": "9df51ca1-32d2-42e2-fc42-29da64bc967f"
      },
      "execution_count": 81,
      "outputs": [
        {
          "output_type": "execute_result",
          "data": {
            "text/plain": [
              "array([ 78,  58, 158,  79,  20,  89,  78, 164,  64,  51])"
            ]
          },
          "metadata": {},
          "execution_count": 81
        }
      ]
    },
    {
      "cell_type": "code",
      "source": [
        "user_idx = 0\n",
        "uid = 78"
      ],
      "metadata": {
        "id": "diVIJiHYemTu"
      },
      "execution_count": 85,
      "outputs": []
    },
    {
      "cell_type": "code",
      "source": [
        "D[user_idx]"
      ],
      "metadata": {
        "colab": {
          "base_uri": "https://localhost:8080/"
        },
        "id": "pri8VJaUezq9",
        "outputId": "f8cf5e2d-6bd2-4368-8c46-3e012d4b64ac"
      },
      "execution_count": 86,
      "outputs": [
        {
          "output_type": "execute_result",
          "data": {
            "text/plain": [
              "array([0.9612281 , 0.9417473 , 0.9397803 , 0.93913186, 0.9276499 ,\n",
              "       0.9266509 , 0.92628735, 0.9223522 , 0.9212135 , 0.91644645,\n",
              "       0.91586614, 0.91485965, 0.913774  , 0.91183794, 0.9116538 ,\n",
              "       0.901401  , 0.8980908 , 0.8811122 , 0.87330663, 0.8731355 ,\n",
              "       0.8720013 , 0.87110955, 0.86865544, 0.86742294, 0.86515105,\n",
              "       0.8645307 , 0.8638684 , 0.85951537, 0.8585889 , 0.85515654,\n",
              "       0.8491323 , 0.84098256, 0.83728874, 0.8360081 , 0.82600945,\n",
              "       0.8246573 , 0.8219001 , 0.82165897, 0.8215759 , 0.81991285,\n",
              "       0.8181087 , 0.8176801 , 0.81616014, 0.81459105, 0.81248516,\n",
              "       0.80685866, 0.8052764 , 0.8040533 , 0.8011446 , 0.7972148 ],\n",
              "      dtype=float32)"
            ]
          },
          "metadata": {},
          "execution_count": 86
        }
      ]
    },
    {
      "cell_type": "code",
      "source": [
        "sorted_index = prob_matrix.argsort()[:,-50:]\n",
        "-np.sort(-prob_matrix[user_idx][sorted_index[user_idx]])"
      ],
      "metadata": {
        "colab": {
          "base_uri": "https://localhost:8080/"
        },
        "id": "bWbv8B4Be2rD",
        "outputId": "3974dc9a-f038-4382-a5b2-4470044475d5"
      },
      "execution_count": 87,
      "outputs": [
        {
          "output_type": "execute_result",
          "data": {
            "text/plain": [
              "array([0.9612281 , 0.9417473 , 0.9397803 , 0.93913186, 0.9276499 ,\n",
              "       0.9266509 , 0.92628735, 0.9223522 , 0.9212135 , 0.91644645,\n",
              "       0.91586614, 0.91485965, 0.913774  , 0.91183794, 0.9116538 ,\n",
              "       0.901401  , 0.8980908 , 0.8811122 , 0.87330663, 0.8731355 ,\n",
              "       0.8720013 , 0.87110955, 0.86865544, 0.86742294, 0.86515105,\n",
              "       0.8645307 , 0.8638684 , 0.85951537, 0.8585889 , 0.85515654,\n",
              "       0.8491323 , 0.84098256, 0.83728874, 0.8360081 , 0.82600945,\n",
              "       0.8246573 , 0.8219001 , 0.82165897, 0.8215759 , 0.81991285,\n",
              "       0.8181087 , 0.8176801 , 0.81616014, 0.81459105, 0.81248516,\n",
              "       0.80685866, 0.8052764 , 0.8040533 , 0.8011446 , 0.7972148 ],\n",
              "      dtype=float32)"
            ]
          },
          "metadata": {},
          "execution_count": 87
        }
      ]
    },
    {
      "cell_type": "code",
      "source": [
        "I[user_idx]"
      ],
      "metadata": {
        "colab": {
          "base_uri": "https://localhost:8080/"
        },
        "id": "LCUtQYKVe9bb",
        "outputId": "2ad51262-3d4a-4780-f069-922b8caaec00"
      },
      "execution_count": 88,
      "outputs": [
        {
          "output_type": "execute_result",
          "data": {
            "text/plain": [
              "array([2726,  999, 1064, 1843, 1851, 1074,  446,  541, 2732, 1072,  881,\n",
              "       1071, 1854, 1066, 3006, 1849, 1068, 1070, 4488, 1003, 3745, 1848,\n",
              "       1001,  995,  928, 5080, 1842, 1738, 2733, 1006, 3007,  553, 1004,\n",
              "       6938, 1442, 4293, 5016, 4012, 2769, 6593, 7413, 7276, 1445,  549,\n",
              "        597,  993, 4512, 1850, 1508, 7144])"
            ]
          },
          "metadata": {},
          "execution_count": 88
        }
      ]
    },
    {
      "cell_type": "code",
      "source": [
        "(sorted_index[user_idx])[::-1]"
      ],
      "metadata": {
        "colab": {
          "base_uri": "https://localhost:8080/"
        },
        "id": "jF-Z8Pxwe-5D",
        "outputId": "b2bff3a0-eb01-45e3-ddfe-b164d7195d80"
      },
      "execution_count": 89,
      "outputs": [
        {
          "output_type": "execute_result",
          "data": {
            "text/plain": [
              "array([2726,  999, 1064, 1843, 1851, 1074,  446,  541, 2732, 1072,  881,\n",
              "       1071, 1854, 1066, 3006, 1849, 1068, 1070, 4488, 1003, 3745, 1848,\n",
              "       1001,  995,  928, 5080, 1842, 1738, 2733, 1006, 3007,  553, 1004,\n",
              "       6938, 1442, 4293, 5016, 4012, 2769, 6593, 7413, 7276, 1445,  549,\n",
              "        597,  993, 4512, 1850, 1508, 7144])"
            ]
          },
          "metadata": {},
          "execution_count": 89
        }
      ]
    },
    {
      "cell_type": "code",
      "source": [
        "np.array([item_profile['sku_number'].values[x] for x in I[user_idx]])"
      ],
      "metadata": {
        "colab": {
          "base_uri": "https://localhost:8080/"
        },
        "id": "NOKNNh77fUgs",
        "outputId": "8eb5a662-b4f6-42b2-c243-50d26df0b5f1"
      },
      "execution_count": 90,
      "outputs": [
        {
          "output_type": "execute_result",
          "data": {
            "text/plain": [
              "array([4711, 4715, 5050, 5049, 4710, 5051, 3130, 5304, 4716, 5043, 3122,\n",
              "       5061, 5045, 5041, 6322, 5052, 5057, 4396, 5058, 4721, 5047, 5053,\n",
              "       5062, 5048,  776, 4719, 5044, 5288, 4724, 4720, 5056, 5088, 5087,\n",
              "       3753, 1346, 5296,  134, 7576, 2666, 7529, 1017, 5060, 5287, 1339,\n",
              "       1344, 4395, 1340, 5055,  742, 5103])"
            ]
          },
          "metadata": {},
          "execution_count": 90
        }
      ]
    },
    {
      "cell_type": "code",
      "source": [
        "len(set(df_train[df_train[0]==uid][1].unique()) & set([item_profile['sku_number'].values[x] for x in I[user_idx]]))"
      ],
      "metadata": {
        "colab": {
          "base_uri": "https://localhost:8080/"
        },
        "id": "QBAYyM5IfCHF",
        "outputId": "2832cfc6-a48e-4947-a568-b6d64713d546"
      },
      "execution_count": 91,
      "outputs": [
        {
          "output_type": "execute_result",
          "data": {
            "text/plain": [
              "17"
            ]
          },
          "metadata": {},
          "execution_count": 91
        }
      ]
    },
    {
      "cell_type": "code",
      "source": [
        "len(set(df_train[df_train[0]==uid][1].unique()) & set(sorted_index[user_idx]))"
      ],
      "metadata": {
        "colab": {
          "base_uri": "https://localhost:8080/"
        },
        "id": "ej88yFHrfV50",
        "outputId": "5ff6ba05-c0fb-44cc-f58d-aaae0d62cae3"
      },
      "execution_count": 92,
      "outputs": [
        {
          "output_type": "execute_result",
          "data": {
            "text/plain": [
              "1"
            ]
          },
          "metadata": {},
          "execution_count": 92
        }
      ]
    },
    {
      "cell_type": "code",
      "source": [
        "item_profile['sku_number']"
      ],
      "metadata": {
        "colab": {
          "base_uri": "https://localhost:8080/"
        },
        "id": "rBul1ltqfjN9",
        "outputId": "baa4db6e-b1b8-467e-90fe-1561d141b8bd"
      },
      "execution_count": 93,
      "outputs": [
        {
          "output_type": "execute_result",
          "data": {
            "text/plain": [
              "0        4118\n",
              "1         749\n",
              "2         753\n",
              "3        7976\n",
              "4        4599\n",
              "         ... \n",
              "23177     674\n",
              "23181    1700\n",
              "23182    3286\n",
              "23193    5297\n",
              "23195    5298\n",
              "Name: sku_number, Length: 8036, dtype: int64"
            ]
          },
          "metadata": {},
          "execution_count": 93
        }
      ]
    },
    {
      "cell_type": "code",
      "source": [
        "all_item_model_input"
      ],
      "metadata": {
        "colab": {
          "base_uri": "https://localhost:8080/"
        },
        "id": "vLF8AHwjfogU",
        "outputId": "304e8b5f-39df-4479-8848-b1c2f39eee4f"
      },
      "execution_count": 94,
      "outputs": [
        {
          "output_type": "execute_result",
          "data": {
            "text/plain": [
              "{'sku_number': array([4118,  749,  753, ..., 3286, 5297, 5298])}"
            ]
          },
          "metadata": {},
          "execution_count": 94
        }
      ]
    },
    {
      "cell_type": "code",
      "source": [],
      "metadata": {
        "id": "TBAsHn9J9uXI"
      },
      "execution_count": null,
      "outputs": []
    }
  ]
}