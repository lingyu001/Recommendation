{
  "nbformat": 4,
  "nbformat_minor": 0,
  "metadata": {
    "colab": {
      "provenance": [],
      "collapsed_sections": [
        "SOWZDxQGaOS8"
      ],
      "authorship_tag": "ABX9TyMYA7anpcf3Nib61vhYHdQJ",
      "include_colab_link": true
    },
    "kernelspec": {
      "name": "python3",
      "display_name": "Python 3"
    },
    "language_info": {
      "name": "python"
    }
  },
  "cells": [
    {
      "cell_type": "markdown",
      "metadata": {
        "id": "view-in-github",
        "colab_type": "text"
      },
      "source": [
        "<a href=\"https://colab.research.google.com/github/lingyu001/Recommendation/blob/master/DNN_script.ipynb\" target=\"_parent\"><img src=\"https://colab.research.google.com/assets/colab-badge.svg\" alt=\"Open In Colab\"/></a>"
      ]
    },
    {
      "cell_type": "code",
      "execution_count": null,
      "metadata": {
        "colab": {
          "base_uri": "https://localhost:8080/"
        },
        "id": "8qgIPmHNLkS-",
        "outputId": "4a3cc83e-6c1d-4752-dbcc-4ea0d60a10c3"
      },
      "outputs": [
        {
          "output_type": "stream",
          "name": "stdout",
          "text": [
            "--2023-03-23 16:11:06--  http://files.grouplens.org/datasets/movielens/ml-1m.zip\n",
            "Resolving files.grouplens.org (files.grouplens.org)... 128.101.65.152\n",
            "Connecting to files.grouplens.org (files.grouplens.org)|128.101.65.152|:80... connected.\n",
            "HTTP request sent, awaiting response... 200 OK\n",
            "Length: 5917549 (5.6M) [application/zip]\n",
            "Saving to: ‘./ml-1m.zip’\n",
            "\n",
            "./ml-1m.zip         100%[===================>]   5.64M  18.9MB/s    in 0.3s    \n",
            "\n",
            "2023-03-23 16:11:06 (18.9 MB/s) - ‘./ml-1m.zip’ saved [5917549/5917549]\n",
            "\n",
            "--2023-03-23 16:11:06--  https://raw.githubusercontent.com/lingyu001/Recommendation/master/preprocess_sku.py\n",
            "Resolving raw.githubusercontent.com (raw.githubusercontent.com)... 185.199.109.133, 185.199.110.133, 185.199.108.133, ...\n",
            "Connecting to raw.githubusercontent.com (raw.githubusercontent.com)|185.199.109.133|:443... connected.\n",
            "HTTP request sent, awaiting response... 200 OK\n",
            "Length: 5052 (4.9K) [text/plain]\n",
            "Saving to: ‘preprocess_sku.py’\n",
            "\n",
            "preprocess_sku.py   100%[===================>]   4.93K  --.-KB/s    in 0s      \n",
            "\n",
            "2023-03-23 16:11:06 (46.7 MB/s) - ‘preprocess_sku.py’ saved [5052/5052]\n",
            "\n",
            "--2023-03-23 16:11:06--  https://raw.githubusercontent.com/lingyu001/Recommendation/master/model_utils.py\n",
            "Resolving raw.githubusercontent.com (raw.githubusercontent.com)... 185.199.111.133, 185.199.110.133, 185.199.109.133, ...\n",
            "Connecting to raw.githubusercontent.com (raw.githubusercontent.com)|185.199.111.133|:443... connected.\n",
            "HTTP request sent, awaiting response... 200 OK\n",
            "Length: 17409 (17K) [text/plain]\n",
            "Saving to: ‘model_utils.py’\n",
            "\n",
            "model_utils.py      100%[===================>]  17.00K  --.-KB/s    in 0s      \n",
            "\n",
            "2023-03-23 16:11:07 (53.3 MB/s) - ‘model_utils.py’ saved [17409/17409]\n",
            "\n",
            "Archive:  ml-1m.zip\n",
            "  inflating: ml-1m/movies.dat        \n",
            "  inflating: ml-1m/ratings.dat       \n",
            "  inflating: ml-1m/README            \n",
            "  inflating: ml-1m/users.dat         \n"
          ]
        }
      ],
      "source": [
        "! wget http://files.grouplens.org/datasets/movielens/ml-1m.zip -O ./ml-1m.zip\n",
        "! wget https://raw.githubusercontent.com/lingyu001/Recommendation/master/preprocess_sku.py -O preprocess_sku.py\n",
        "! wget https://raw.githubusercontent.com/lingyu001/Recommendation/master/model_utils.py -O model_utils.py\n",
        "! unzip -o ml-1m.zip "
      ]
    },
    {
      "cell_type": "code",
      "source": [
        "# ! pip install -q deepmatch\n",
        "! pip install Keras-Preprocessing "
      ],
      "metadata": {
        "id": "1MMP7wa9N4t6",
        "colab": {
          "base_uri": "https://localhost:8080/"
        },
        "outputId": "c552b73b-0257-47e4-baf1-fbcea5402175"
      },
      "execution_count": null,
      "outputs": [
        {
          "output_type": "stream",
          "name": "stdout",
          "text": [
            "Looking in indexes: https://pypi.org/simple, https://us-python.pkg.dev/colab-wheels/public/simple/\n",
            "Requirement already satisfied: Keras-Preprocessing in /usr/local/lib/python3.9/dist-packages (1.1.2)\n",
            "Requirement already satisfied: six>=1.9.0 in /usr/local/lib/python3.9/dist-packages (from Keras-Preprocessing) (1.16.0)\n",
            "Requirement already satisfied: numpy>=1.9.1 in /usr/local/lib/python3.9/dist-packages (from Keras-Preprocessing) (1.22.4)\n"
          ]
        }
      ]
    },
    {
      "cell_type": "code",
      "source": [
        "import pandas as pd\n",
        "import numpy as np\n",
        "import datetime\n",
        "from ast import literal_eval\n",
        "# from preprocess_sku import gen_data_set, gen_model_input, gen_data_set_timesplit\n",
        "from sklearn.preprocessing import LabelEncoder\n",
        "from tensorflow.python.keras import backend as K\n",
        "from tensorflow.python.keras.models import Model\n",
        "from model_utils import DNN, EmbeddingIndex, NoMask, PoolingLayer, l2_normalize,\\\n",
        " reduce_mean, SampledSoftmaxLayer, get_item_embedding, sampledsoftmaxloss\n",
        "from keras_preprocessing.sequence import pad_sequences\n"
      ],
      "metadata": {
        "id": "gABip0B7LsHJ",
        "colab": {
          "base_uri": "https://localhost:8080/"
        },
        "outputId": "43e8aca6-a497-4e81-941f-23194ef48a2b"
      },
      "execution_count": null,
      "outputs": [
        {
          "output_type": "stream",
          "name": "stdout",
          "text": [
            "time: 2.86 ms (started: 2023-03-23 19:27:23 +00:00)\n"
          ]
        }
      ]
    },
    {
      "cell_type": "code",
      "source": [
        "%load_ext autoreload\n",
        "%autoreload 2"
      ],
      "metadata": {
        "id": "DDQ87v8WA94s",
        "colab": {
          "base_uri": "https://localhost:8080/"
        },
        "outputId": "2389e5a3-6109-4bda-a269-3138935980dc"
      },
      "execution_count": null,
      "outputs": [
        {
          "output_type": "stream",
          "name": "stdout",
          "text": [
            "The autoreload extension is already loaded. To reload it, use:\n",
            "  %reload_ext autoreload\n",
            "time: 3.11 ms (started: 2023-03-23 19:27:25 +00:00)\n"
          ]
        }
      ]
    },
    {
      "cell_type": "code",
      "source": [
        "!pip install ipython-autotime\n",
        "%load_ext autotime"
      ],
      "metadata": {
        "colab": {
          "base_uri": "https://localhost:8080/"
        },
        "id": "liYn3o9iR00x",
        "outputId": "d26cdb46-d42c-4cf3-8d79-59dbee18d504"
      },
      "execution_count": null,
      "outputs": [
        {
          "output_type": "stream",
          "name": "stdout",
          "text": [
            "Looking in indexes: https://pypi.org/simple, https://us-python.pkg.dev/colab-wheels/public/simple/\n",
            "Requirement already satisfied: ipython-autotime in /usr/local/lib/python3.9/dist-packages (0.3.1)\n",
            "Requirement already satisfied: ipython in /usr/local/lib/python3.9/dist-packages (from ipython-autotime) (7.9.0)\n",
            "Requirement already satisfied: prompt-toolkit<2.1.0,>=2.0.0 in /usr/local/lib/python3.9/dist-packages (from ipython->ipython-autotime) (2.0.10)\n",
            "Requirement already satisfied: pexpect in /usr/local/lib/python3.9/dist-packages (from ipython->ipython-autotime) (4.8.0)\n",
            "Requirement already satisfied: setuptools>=18.5 in /usr/local/lib/python3.9/dist-packages (from ipython->ipython-autotime) (67.6.0)\n",
            "Requirement already satisfied: decorator in /usr/local/lib/python3.9/dist-packages (from ipython->ipython-autotime) (4.4.2)\n",
            "Requirement already satisfied: traitlets>=4.2 in /usr/local/lib/python3.9/dist-packages (from ipython->ipython-autotime) (5.7.1)\n",
            "Requirement already satisfied: backcall in /usr/local/lib/python3.9/dist-packages (from ipython->ipython-autotime) (0.2.0)\n",
            "Requirement already satisfied: pygments in /usr/local/lib/python3.9/dist-packages (from ipython->ipython-autotime) (2.6.1)\n",
            "Requirement already satisfied: jedi>=0.10 in /usr/local/lib/python3.9/dist-packages (from ipython->ipython-autotime) (0.18.2)\n",
            "Requirement already satisfied: pickleshare in /usr/local/lib/python3.9/dist-packages (from ipython->ipython-autotime) (0.7.5)\n",
            "Requirement already satisfied: parso<0.9.0,>=0.8.0 in /usr/local/lib/python3.9/dist-packages (from jedi>=0.10->ipython->ipython-autotime) (0.8.3)\n",
            "Requirement already satisfied: wcwidth in /usr/local/lib/python3.9/dist-packages (from prompt-toolkit<2.1.0,>=2.0.0->ipython->ipython-autotime) (0.2.6)\n",
            "Requirement already satisfied: six>=1.9.0 in /usr/local/lib/python3.9/dist-packages (from prompt-toolkit<2.1.0,>=2.0.0->ipython->ipython-autotime) (1.16.0)\n",
            "Requirement already satisfied: ptyprocess>=0.5 in /usr/local/lib/python3.9/dist-packages (from pexpect->ipython->ipython-autotime) (0.7.0)\n",
            "The autotime extension is already loaded. To reload it, use:\n",
            "  %reload_ext autotime\n",
            "time: 5.51 s (started: 2023-03-23 19:27:25 +00:00)\n"
          ]
        }
      ]
    },
    {
      "cell_type": "code",
      "source": [
        "import gc\n",
        "gc.collect()"
      ],
      "metadata": {
        "colab": {
          "base_uri": "https://localhost:8080/"
        },
        "id": "iNrBg8FgIG4I",
        "outputId": "2c2e0ec3-a761-4eed-970c-b16859baaf28"
      },
      "execution_count": null,
      "outputs": [
        {
          "output_type": "execute_result",
          "data": {
            "text/plain": [
              "90"
            ]
          },
          "metadata": {},
          "execution_count": 16
        },
        {
          "output_type": "stream",
          "name": "stdout",
          "text": [
            "time: 2.59 s (started: 2023-03-23 19:27:30 +00:00)\n"
          ]
        }
      ]
    },
    {
      "cell_type": "markdown",
      "source": [
        "GPU Configuration"
      ],
      "metadata": {
        "id": "5H06ExNr8gVh"
      }
    },
    {
      "cell_type": "code",
      "source": [
        "import tensorflow as tf\n",
        "print(tf.config.list_physical_devices())"
      ],
      "metadata": {
        "colab": {
          "base_uri": "https://localhost:8080/"
        },
        "id": "0GkUI8dD8j68",
        "outputId": "95d22e6f-ac46-40cb-ed5a-66ffff27f9c0"
      },
      "execution_count": null,
      "outputs": [
        {
          "output_type": "stream",
          "name": "stdout",
          "text": [
            "[PhysicalDevice(name='/physical_device:CPU:0', device_type='CPU')]\n",
            "time: 131 ms (started: 2023-03-23 16:11:57 +00:00)\n"
          ]
        }
      ]
    },
    {
      "cell_type": "code",
      "source": [
        "gpu_devices = tf.config.list_physical_devices('GPU')\n",
        "gpu_devices"
      ],
      "metadata": {
        "colab": {
          "base_uri": "https://localhost:8080/"
        },
        "id": "CGk2cDuL8pDy",
        "outputId": "e131286c-09bc-4a81-daab-2787ac200ba4"
      },
      "execution_count": null,
      "outputs": [
        {
          "output_type": "execute_result",
          "data": {
            "text/plain": [
              "[]"
            ]
          },
          "metadata": {},
          "execution_count": 8
        },
        {
          "output_type": "stream",
          "name": "stdout",
          "text": [
            "time: 10.3 ms (started: 2023-03-23 16:11:57 +00:00)\n"
          ]
        }
      ]
    },
    {
      "cell_type": "markdown",
      "source": [
        "# Data"
      ],
      "metadata": {
        "id": "xCJLpR8EQoBm"
      }
    },
    {
      "cell_type": "code",
      "source": [
        "data = pd.read_csv('sample_data/mik_sales_sp_10052022.csv', index_col = False, \n",
        "                   parse_dates = ['trans_date','created_time']\n",
        "                   )\n",
        "# 'sku_purchase_seq', 'category_path_purchase_seq', 'sku_view_sequence'\n",
        "# data['hist_item_id'] = data['sku_purchase_seq'].apply(literal_eval)\n",
        "# data['hist_category'] = data['most_recent_view_sku'].apply(literal_eval)\n",
        "data.shape"
      ],
      "metadata": {
        "colab": {
          "base_uri": "https://localhost:8080/"
        },
        "id": "F1hiTW4Iyn0m",
        "outputId": "19b8b5d2-13e1-42c6-9b42-db45ac4347c9"
      },
      "execution_count": null,
      "outputs": [
        {
          "output_type": "execute_result",
          "data": {
            "text/plain": [
              "(23206, 14)"
            ]
          },
          "metadata": {},
          "execution_count": 9
        },
        {
          "output_type": "stream",
          "name": "stdout",
          "text": [
            "time: 168 ms (started: 2023-02-24 15:41:38 +00:00)\n"
          ]
        }
      ]
    },
    {
      "cell_type": "code",
      "source": [
        "data.info()"
      ],
      "metadata": {
        "colab": {
          "base_uri": "https://localhost:8080/"
        },
        "id": "wMShUDJhFWD4",
        "outputId": "4141a6c5-ffee-4dcd-87de-ae4a2a68ee15"
      },
      "execution_count": null,
      "outputs": [
        {
          "output_type": "stream",
          "name": "stdout",
          "text": [
            "<class 'pandas.core.frame.DataFrame'>\n",
            "RangeIndex: 23206 entries, 0 to 23205\n",
            "Data columns (total 14 columns):\n",
            " #   Column                              Non-Null Count  Dtype         \n",
            "---  ------                              --------------  -----         \n",
            " 0   data_source                         23206 non-null  object        \n",
            " 1   user_id                             23206 non-null  int64         \n",
            " 2   sku_number                          23206 non-null  object        \n",
            " 3   qty                                 23206 non-null  int64         \n",
            " 4   trans_date                          23206 non-null  datetime64[ns]\n",
            " 5   created_time                        23206 non-null  datetime64[ns]\n",
            " 6   email_address                       23206 non-null  object        \n",
            " 7   geo_zip                             23086 non-null  object        \n",
            " 8   most_frequent_device_class_general  23206 non-null  object        \n",
            " 9   total_order_value                   17645 non-null  float64       \n",
            " 10  total_coupon_value                  17645 non-null  float64       \n",
            " 11  most_recent_purchased_sku           23206 non-null  object        \n",
            " 12  most_recent_view_sku                23206 non-null  object        \n",
            " 13  category_path                       23206 non-null  object        \n",
            "dtypes: datetime64[ns](2), float64(2), int64(2), object(8)\n",
            "memory usage: 2.5+ MB\n",
            "time: 36.2 ms (started: 2023-02-24 15:41:42 +00:00)\n"
          ]
        }
      ]
    },
    {
      "cell_type": "code",
      "source": [
        "data.shape, data['user_id'].nunique(), data['sku_number'].nunique()"
      ],
      "metadata": {
        "colab": {
          "base_uri": "https://localhost:8080/"
        },
        "id": "vO3mrEwF1jNr",
        "outputId": "3758c3c2-0146-4bdc-8972-d221c581cee2"
      },
      "execution_count": null,
      "outputs": [
        {
          "output_type": "execute_result",
          "data": {
            "text/plain": [
              "((23206, 14), 200, 8036)"
            ]
          },
          "metadata": {},
          "execution_count": 11
        },
        {
          "output_type": "stream",
          "name": "stdout",
          "text": [
            "time: 6.06 ms (started: 2023-02-24 15:41:51 +00:00)\n"
          ]
        }
      ]
    },
    {
      "cell_type": "markdown",
      "source": [
        "# New Data"
      ],
      "metadata": {
        "id": "Bcy9cO6LYgsx"
      }
    },
    {
      "cell_type": "code",
      "source": [
        "# ! pip3 install --upgrade pandas==1.4.2\n",
        "# ! pip list"
      ],
      "metadata": {
        "colab": {
          "base_uri": "https://localhost:8080/"
        },
        "id": "sO8QGUS6pPrA",
        "outputId": "58dad0d7-9a01-4258-9660-84b7f238a8f2"
      },
      "execution_count": null,
      "outputs": [
        {
          "output_type": "stream",
          "name": "stdout",
          "text": [
            "time: 1.71 ms (started: 2023-03-16 21:15:01 +00:00)\n"
          ]
        }
      ]
    },
    {
      "cell_type": "code",
      "source": [
        "data = pd.read_pickle('sample_data/df_input_2000_20230227.sav')\n",
        "data.shape"
      ],
      "metadata": {
        "colab": {
          "base_uri": "https://localhost:8080/"
        },
        "id": "WiXj6Z1sYeLu",
        "outputId": "a131d4ad-f4b8-4c0f-e581-f0d0c060578d"
      },
      "execution_count": null,
      "outputs": [
        {
          "output_type": "execute_result",
          "data": {
            "text/plain": [
              "(507896, 17)"
            ]
          },
          "metadata": {},
          "execution_count": 9
        },
        {
          "output_type": "stream",
          "name": "stdout",
          "text": [
            "time: 14.6 s (started: 2023-03-23 17:27:31 +00:00)\n"
          ]
        }
      ]
    },
    {
      "cell_type": "code",
      "source": [
        "data.user_id.nunique(), data.sku_number.nunique(), data.trans_date.min(), data.trans_date.max()"
      ],
      "metadata": {
        "colab": {
          "base_uri": "https://localhost:8080/"
        },
        "id": "Ux9S9BPC8QsG",
        "outputId": "da03f81e-a7e5-46c9-a281-90b40bda82af"
      },
      "execution_count": null,
      "outputs": [
        {
          "output_type": "execute_result",
          "data": {
            "text/plain": [
              "(1717,\n",
              " 22854,\n",
              " Timestamp('2023-01-24 00:00:00'),\n",
              " Timestamp('2023-02-27 00:00:00'))"
            ]
          },
          "metadata": {},
          "execution_count": 18
        },
        {
          "output_type": "stream",
          "name": "stdout",
          "text": [
            "time: 351 ms (started: 2023-03-23 19:28:10 +00:00)\n"
          ]
        }
      ]
    },
    {
      "cell_type": "markdown",
      "source": [
        "# Feature Engineering"
      ],
      "metadata": {
        "id": "9oeGJOW4REfl"
      }
    },
    {
      "cell_type": "code",
      "source": [
        "data.columns"
      ],
      "metadata": {
        "colab": {
          "base_uri": "https://localhost:8080/"
        },
        "id": "5TVvBarg2bTp",
        "outputId": "8af44d72-b3e7-41ba-e3e2-84da4682ab5e"
      },
      "execution_count": null,
      "outputs": [
        {
          "output_type": "execute_result",
          "data": {
            "text/plain": [
              "Index(['user_id', 'sku_number', 'category_path', 'trans_date', 'created_time',\n",
              "       'sku_purchase_seq', 'category_path_purchase_seq', 'sku_view_sequence',\n",
              "       'seq_len', 'geo_country', 'geo_region', 'geo_city', 'geo_zipcode',\n",
              "       'platform', 'label', 'sku_number_org', 'user_id_org'],\n",
              "      dtype='object')"
            ]
          },
          "metadata": {},
          "execution_count": 17
        },
        {
          "output_type": "stream",
          "name": "stdout",
          "text": [
            "time: 12.1 ms (started: 2023-03-23 19:27:39 +00:00)\n"
          ]
        }
      ]
    },
    {
      "cell_type": "code",
      "source": [
        "sparse_features = ['sku_number', 'category_path',\n",
        "                   'user_id',\n",
        "                   'geo_country', 'geo_region', 'geo_city', 'geo_zipcode','platform'\n",
        "                   ]\n",
        "\n",
        "SEQ_LEN = 50\n",
        "NUMBER_NEG_SAMPLE = 1 # used for generate 1:1 positive:negative samples\n"
      ],
      "metadata": {
        "id": "YX0vSmbeQv4i",
        "colab": {
          "base_uri": "https://localhost:8080/"
        },
        "outputId": "25746a35-2f9a-493b-a2fe-8d0baf29cc90"
      },
      "execution_count": null,
      "outputs": [
        {
          "output_type": "stream",
          "name": "stdout",
          "text": [
            "time: 2.94 ms (started: 2023-03-23 17:29:46 +00:00)\n"
          ]
        }
      ]
    },
    {
      "cell_type": "code",
      "source": [
        "feature_max_idx = {}\n",
        "for feature in sparse_features:\n",
        "    if feature == 'sku_number':\n",
        "        feature_max_idx[feature] = max(data[feature].max(), data['sku_view_sequence'].explode().max()) + 1\n",
        "    else:\n",
        "        feature_max_idx[feature] = data[feature].max() + 1"
      ],
      "metadata": {
        "id": "XV-0GzPzRIgO",
        "colab": {
          "base_uri": "https://localhost:8080/"
        },
        "outputId": "a1413e88-a030-4f77-d4e4-84c8c031d2e6"
      },
      "execution_count": null,
      "outputs": [
        {
          "output_type": "stream",
          "name": "stdout",
          "text": [
            "time: 3.2 s (started: 2023-03-23 19:28:27 +00:00)\n"
          ]
        }
      ]
    },
    {
      "cell_type": "code",
      "source": [
        "user_profile = data[['user_id', 'user_id_org']].drop_duplicates('user_id')\n",
        "user_profile.set_index(\"user_id\", inplace=True)\n",
        "item_profile = data[[\"sku_number\", 'sku_number_org']].drop_duplicates('sku_number')\n",
        "user_profile.shape, item_profile.shape"
      ],
      "metadata": {
        "colab": {
          "base_uri": "https://localhost:8080/"
        },
        "id": "a3bUcH_vRvRW",
        "outputId": "3e476592-d147-41f2-8dda-94d6c4ec26e2"
      },
      "execution_count": null,
      "outputs": [
        {
          "output_type": "execute_result",
          "data": {
            "text/plain": [
              "((1717, 1), (22854, 2))"
            ]
          },
          "metadata": {},
          "execution_count": 20
        },
        {
          "output_type": "stream",
          "name": "stdout",
          "text": [
            "time: 394 ms (started: 2023-03-23 19:28:31 +00:00)\n"
          ]
        }
      ]
    },
    {
      "cell_type": "markdown",
      "source": [
        "# Train Test Split"
      ],
      "metadata": {
        "id": "UCtR8P123cZy"
      }
    },
    {
      "cell_type": "code",
      "source": [
        "test_start_date = data['trans_date'].max() - datetime.timedelta(7)\n",
        "test_start_date"
      ],
      "metadata": {
        "colab": {
          "base_uri": "https://localhost:8080/"
        },
        "id": "ASZeh8yrR1Ld",
        "outputId": "e6948c48-01d9-4c2d-8908-cc600c3dd32f"
      },
      "execution_count": null,
      "outputs": [
        {
          "output_type": "execute_result",
          "data": {
            "text/plain": [
              "Timestamp('2023-02-20 00:00:00')"
            ]
          },
          "metadata": {},
          "execution_count": 28
        },
        {
          "output_type": "stream",
          "name": "stdout",
          "text": [
            "time: 6.57 ms (started: 2023-03-23 19:31:20 +00:00)\n"
          ]
        }
      ]
    },
    {
      "cell_type": "code",
      "source": [
        "feature_cols = ['user_id', 'geo_country', 'geo_region', 'geo_city', 'geo_zipcode','platform',\n",
        "                'sku_number', 'category_path',\n",
        "                'sku_purchase_seq', 'category_path_purchase_seq', 'sku_view_sequence',\n",
        "                'seq_len']\n",
        "train_data, train_label = data[data['trans_date'] < test_start_date][feature_cols], data[data['trans_date'] < test_start_date][['label']]\n",
        "test_data, test_label = data[data['trans_date'] >= test_start_date][feature_cols], data[data['trans_date'] >= test_start_date][['label']]\n",
        "train_data.shape, train_label.shape, test_data.shape, test_label.shape"
      ],
      "metadata": {
        "colab": {
          "base_uri": "https://localhost:8080/"
        },
        "id": "2Atbk9gR4fLE",
        "outputId": "129415c0-ae55-47b5-8860-5b30ea7b69ba"
      },
      "execution_count": null,
      "outputs": [
        {
          "output_type": "execute_result",
          "data": {
            "text/plain": [
              "((355938, 12), (355938, 1), (151958, 12), (151958, 1))"
            ]
          },
          "metadata": {},
          "execution_count": 29
        },
        {
          "output_type": "stream",
          "name": "stdout",
          "text": [
            "time: 366 ms (started: 2023-03-23 19:31:20 +00:00)\n"
          ]
        }
      ]
    },
    {
      "cell_type": "code",
      "source": [
        "train_data.columns"
      ],
      "metadata": {
        "colab": {
          "base_uri": "https://localhost:8080/"
        },
        "id": "b7up7iPr882d",
        "outputId": "0cbe20d8-c4e3-4ff5-d471-26bba68bbd6d"
      },
      "execution_count": null,
      "outputs": [
        {
          "output_type": "execute_result",
          "data": {
            "text/plain": [
              "Index(['user_id', 'geo_country', 'geo_region', 'geo_city', 'geo_zipcode',\n",
              "       'platform', 'sku_number', 'category_path', 'sku_purchase_seq',\n",
              "       'category_path_purchase_seq', 'sku_view_sequence', 'seq_len'],\n",
              "      dtype='object')"
            ]
          },
          "metadata": {},
          "execution_count": 83
        },
        {
          "output_type": "stream",
          "name": "stdout",
          "text": [
            "time: 4.27 ms (started: 2023-03-23 20:58:12 +00:00)\n"
          ]
        }
      ]
    },
    {
      "cell_type": "markdown",
      "source": [
        "### take overlap user in test data"
      ],
      "metadata": {
        "id": "FGkZ31Twg4ww"
      }
    },
    {
      "cell_type": "code",
      "source": [
        "len(set(train_data['user_id'].unique()) & set(test_data['user_id'].unique()))"
      ],
      "metadata": {
        "colab": {
          "base_uri": "https://localhost:8080/"
        },
        "id": "KusnPFDX8oNA",
        "outputId": "0134ecd1-41c4-4a6a-d55e-49f8d4debee9"
      },
      "execution_count": null,
      "outputs": [
        {
          "output_type": "execute_result",
          "data": {
            "text/plain": [
              "848"
            ]
          },
          "metadata": {},
          "execution_count": 32
        },
        {
          "output_type": "stream",
          "name": "stdout",
          "text": [
            "time: 10.3 ms (started: 2023-03-23 19:42:53 +00:00)\n"
          ]
        }
      ]
    },
    {
      "cell_type": "code",
      "source": [
        "test_data = test_data[test_data['user_id'].isin(train_data['user_id'].unique())]\n",
        "test_data.shape, test_data.user_id.nunique()"
      ],
      "metadata": {
        "colab": {
          "base_uri": "https://localhost:8080/"
        },
        "id": "wnkvb_A5g1Ee",
        "outputId": "ddea3fd2-2efc-43e0-9fc1-2908284a4a20"
      },
      "execution_count": null,
      "outputs": [
        {
          "output_type": "execute_result",
          "data": {
            "text/plain": [
              "((118286, 12), 848)"
            ]
          },
          "metadata": {},
          "execution_count": 33
        },
        {
          "output_type": "stream",
          "name": "stdout",
          "text": [
            "time: 67.3 ms (started: 2023-03-23 19:42:53 +00:00)\n"
          ]
        }
      ]
    },
    {
      "cell_type": "code",
      "source": [
        "train_model_input = train_data.to_dict(\"list\")\n",
        "test_model_input = test_data.to_dict(\"list\")\n",
        "\n",
        "train_label = train_label.to_numpy().ravel()\n",
        "test_label = test_label.to_numpy().ravel()"
      ],
      "metadata": {
        "colab": {
          "base_uri": "https://localhost:8080/"
        },
        "id": "eoi1NbKh4p7b",
        "outputId": "0ed93d7e-09a7-4ba5-fc96-b9c895476cdb"
      },
      "execution_count": null,
      "outputs": [
        {
          "output_type": "stream",
          "name": "stdout",
          "text": [
            "time: 226 ms (started: 2023-03-23 19:42:58 +00:00)\n"
          ]
        }
      ]
    },
    {
      "cell_type": "code",
      "source": [
        "for feature in ['sku_number', 'category_path','user_id','geo_country', 'geo_region', 'geo_city', 'geo_zipcode','platform',]:\n",
        "  train_model_input[feature] = np.array(train_model_input[feature])\n",
        "  test_model_input[feature] = np.array(test_model_input[feature])\n",
        "for feature in ['sku_purchase_seq', 'category_path_purchase_seq', 'sku_view_sequence']:\n",
        "  train_model_input[feature] = pad_sequences(train_model_input[feature], maxlen=SEQ_LEN, padding='post', truncating='post', value=0)\n",
        "  test_model_input[feature] = pad_sequences(test_model_input[feature], maxlen=SEQ_LEN, padding='post', truncating='post', value=0)"
      ],
      "metadata": {
        "colab": {
          "base_uri": "https://localhost:8080/"
        },
        "id": "PIkqOmdP5UNr",
        "outputId": "afdb58e9-2ec4-44c4-bbad-50403a3e9555"
      },
      "execution_count": null,
      "outputs": [
        {
          "output_type": "stream",
          "name": "stdout",
          "text": [
            "time: 5.11 s (started: 2023-03-23 19:43:30 +00:00)\n"
          ]
        }
      ]
    },
    {
      "cell_type": "markdown",
      "source": [
        "# Create Embeddings"
      ],
      "metadata": {
        "id": "MmNE8kuEfXRE"
      }
    },
    {
      "cell_type": "code",
      "source": [
        "from collections import Counter\n",
        "train_counter = Counter(train_model_input['sku_number'])\n",
        "item_count = [train_counter.get(i,0) for i in range(feature_max_idx['sku_number'])]\n",
        "len(train_counter), type(train_counter), len(item_count)"
      ],
      "metadata": {
        "colab": {
          "base_uri": "https://localhost:8080/"
        },
        "id": "ljKC65_PzHRU",
        "outputId": "ef921d89-d77a-4a1d-ca09-217353568f8c"
      },
      "execution_count": null,
      "outputs": [
        {
          "output_type": "execute_result",
          "data": {
            "text/plain": [
              "(22854, collections.Counter, 38660)"
            ]
          },
          "metadata": {},
          "execution_count": 39
        },
        {
          "output_type": "stream",
          "name": "stdout",
          "text": [
            "time: 83.2 ms (started: 2023-03-23 19:44:42 +00:00)\n"
          ]
        }
      ]
    },
    {
      "cell_type": "code",
      "source": [
        "import tensorflow as tf\n",
        "from tensorflow.python.keras.initializers import RandomNormal, Zeros\n",
        "from tensorflow.python.keras.layers import Embedding, Input, Lambda\n",
        "from tensorflow.python.keras.regularizers import l2\n",
        "if tf.__version__ >= '2.0.0':\n",
        "    tf.compat.v1.disable_eager_execution()\n",
        "else:\n",
        "    K.set_learning_phase(True)"
      ],
      "metadata": {
        "id": "yV1mZ6yt6c0K",
        "colab": {
          "base_uri": "https://localhost:8080/"
        },
        "outputId": "ab9f7658-6264-4108-b355-6354317d8d4b"
      },
      "execution_count": null,
      "outputs": [
        {
          "output_type": "stream",
          "name": "stdout",
          "text": [
            "time: 3.64 ms (started: 2023-03-23 19:44:43 +00:00)\n"
          ]
        }
      ]
    },
    {
      "cell_type": "markdown",
      "source": [
        "### Create Feature Embeddings\n",
        "\n"
      ],
      "metadata": {
        "id": "RFusDxnPixY4"
      }
    },
    {
      "cell_type": "code",
      "source": [
        "# item features\n",
        "item_feature_columns = ['sku_number']\n",
        "# User features\n",
        "user_feature_columns = ['user_id',\n",
        "                        'category_path',\n",
        "                        'geo_country', 'geo_region', 'geo_city', 'geo_zipcode','platform',\n",
        "                        'sku_purchase_seq',\n",
        "                        'category_path_purchase_seq',\n",
        "                        'sku_view_sequence',\n",
        "                        'seq_len']"
      ],
      "metadata": {
        "id": "gVDJOjXTrNT-",
        "colab": {
          "base_uri": "https://localhost:8080/"
        },
        "outputId": "955a3912-2d04-4bc4-c240-6b265f37aecb"
      },
      "execution_count": null,
      "outputs": [
        {
          "output_type": "stream",
          "name": "stdout",
          "text": [
            "time: 2.53 ms (started: 2023-03-23 19:43:57 +00:00)\n"
          ]
        }
      ]
    },
    {
      "cell_type": "code",
      "source": [
        "user_sparse_feature_columns = ['user_id','category_path','geo_country', 'geo_region', 'geo_city', 'geo_zipcode','platform']\n",
        "user_seq_sparse_feature_columns = [\n",
        "    'sku_purchase_seq',\n",
        "    'category_path_purchase_seq',\n",
        "    'sku_view_sequence'\n",
        "]"
      ],
      "metadata": {
        "colab": {
          "base_uri": "https://localhost:8080/"
        },
        "id": "OdMHOjpeqvHT",
        "outputId": "2c8ceb6a-38b2-4fdf-999e-f0d6468247b3"
      },
      "execution_count": null,
      "outputs": [
        {
          "output_type": "stream",
          "name": "stdout",
          "text": [
            "time: 2.4 ms (started: 2023-03-23 19:44:06 +00:00)\n"
          ]
        }
      ]
    },
    {
      "cell_type": "code",
      "source": [
        "# embedding input and output specification\n",
        "embeddings_initializer = RandomNormal(mean=0.0, stddev=0.0001, seed=2020)\n",
        "embedding_dim = 32\n",
        "l2_reg = 1e-6\n",
        "# use a dict to collect embeddings\n",
        "sparse_embedding = {}"
      ],
      "metadata": {
        "id": "WzDyy6iNlYef",
        "colab": {
          "base_uri": "https://localhost:8080/"
        },
        "outputId": "0dc74bcc-c814-4e80-8c89-f0cf7b46e601"
      },
      "execution_count": null,
      "outputs": [
        {
          "output_type": "stream",
          "name": "stderr",
          "text": [
            "WARNING:tensorflow:From /usr/local/lib/python3.9/dist-packages/tensorflow/python/keras/initializers/initializers_v1.py:55: calling RandomNormal.__init__ (from tensorflow.python.ops.init_ops) with dtype is deprecated and will be removed in a future version.\n",
            "Instructions for updating:\n",
            "Call initializer instance with the dtype argument instead of passing it to the constructor\n"
          ]
        },
        {
          "output_type": "stream",
          "name": "stdout",
          "text": [
            "time: 5.22 ms (started: 2023-03-23 19:44:46 +00:00)\n"
          ]
        }
      ]
    },
    {
      "cell_type": "code",
      "source": [
        "# user embeddings\n",
        "for name in user_sparse_feature_columns: \n",
        "  emb = Embedding(\n",
        "      input_dim = feature_max_idx[name], \n",
        "      output_dim = 16,\n",
        "      embeddings_initializer=embeddings_initializer,\n",
        "      embeddings_regularizer=l2(l2_reg),\n",
        "      name='sparse_' + 'emb_' + name\n",
        "  )\n",
        "  emb.trainable = True\n",
        "  sparse_embedding[name] = emb\n",
        "for name in user_seq_sparse_feature_columns:\n",
        "  if name[0:3] == 'sku':\n",
        "    emb = Embedding(feature_max_idx['sku_number'], embedding_dim,\n",
        "                            embeddings_initializer=embeddings_initializer,\n",
        "                            embeddings_regularizer=l2(\n",
        "                                l2_reg),\n",
        "                            name='sparse_' + 'seq_emb_'  + name,\n",
        "                            mask_zero=False) # True\n",
        "    emb.trainable = True\n",
        "    sparse_embedding[name] = emb\n",
        "  else:\n",
        "    emb = Embedding(feature_max_idx['category_path'], embedding_dim,\n",
        "                        embeddings_initializer=embeddings_initializer,\n",
        "                        embeddings_regularizer=l2(\n",
        "                            l2_reg),\n",
        "                        name='sparse_' + 'seq_emb_'  + name,\n",
        "                        mask_zero=False) # True\n",
        "    emb.trainable = True\n",
        "    sparse_embedding[name] = emb"
      ],
      "metadata": {
        "id": "zrIjOw2-lZ2P",
        "colab": {
          "base_uri": "https://localhost:8080/"
        },
        "outputId": "86532fdd-143f-4a23-f145-bad2ed1f7648"
      },
      "execution_count": null,
      "outputs": [
        {
          "output_type": "stream",
          "name": "stdout",
          "text": [
            "time: 102 ms (started: 2023-03-23 19:46:22 +00:00)\n"
          ]
        }
      ]
    },
    {
      "cell_type": "code",
      "source": [
        "sparse_embedding"
      ],
      "metadata": {
        "colab": {
          "base_uri": "https://localhost:8080/"
        },
        "id": "fD67RMjWAjvh",
        "outputId": "7e9bde02-5b6a-4b59-f895-61518b0f6ded"
      },
      "execution_count": null,
      "outputs": [
        {
          "output_type": "execute_result",
          "data": {
            "text/plain": [
              "{'user_id': <tensorflow.python.keras.layers.embeddings.Embedding at 0x7f28f3c70370>,\n",
              " 'category_path': <tensorflow.python.keras.layers.embeddings.Embedding at 0x7f28f3ce28b0>,\n",
              " 'geo_country': <tensorflow.python.keras.layers.embeddings.Embedding at 0x7f28f3ce25b0>,\n",
              " 'geo_region': <tensorflow.python.keras.layers.embeddings.Embedding at 0x7f28f3ce21f0>,\n",
              " 'geo_city': <tensorflow.python.keras.layers.embeddings.Embedding at 0x7f28f3d8eeb0>,\n",
              " 'geo_zipcode': <tensorflow.python.keras.layers.embeddings.Embedding at 0x7f28f3d8e160>,\n",
              " 'platform': <tensorflow.python.keras.layers.embeddings.Embedding at 0x7f28f3d8e940>,\n",
              " 'sku_purchase_seq': <tensorflow.python.keras.layers.embeddings.Embedding at 0x7f28f3d8ed90>,\n",
              " 'category_path_purchase_seq': <tensorflow.python.keras.layers.embeddings.Embedding at 0x7f28f3d8e3a0>,\n",
              " 'sku_view_sequence': <tensorflow.python.keras.layers.embeddings.Embedding at 0x7f28f3d8ec10>}"
            ]
          },
          "metadata": {},
          "execution_count": 43
        },
        {
          "output_type": "stream",
          "name": "stdout",
          "text": [
            "time: 6.64 ms (started: 2023-03-23 19:46:35 +00:00)\n"
          ]
        }
      ]
    },
    {
      "cell_type": "code",
      "source": [
        "# item embeddings\n",
        "item_feature_name = item_feature_columns[0] # only include item id \n",
        "emb = Embedding(\n",
        "      input_dim = feature_max_idx[item_feature_name], \n",
        "      output_dim = embedding_dim,\n",
        "      embeddings_initializer=embeddings_initializer,\n",
        "      embeddings_regularizer=l2(l2_reg),\n",
        "      name='sparse_' + 'emb_' + item_feature_name\n",
        "  )\n",
        "sparse_embedding[item_feature_name] = emb"
      ],
      "metadata": {
        "id": "5aJDL4b-r475",
        "colab": {
          "base_uri": "https://localhost:8080/"
        },
        "outputId": "439d9a2d-1e3c-44bb-b0ee-e15551986f3b"
      },
      "execution_count": null,
      "outputs": [
        {
          "output_type": "stream",
          "name": "stdout",
          "text": [
            "time: 3.42 ms (started: 2023-03-23 19:46:49 +00:00)\n"
          ]
        }
      ]
    },
    {
      "cell_type": "code",
      "source": [
        "sparse_embedding # include both user and item embedding layers"
      ],
      "metadata": {
        "colab": {
          "base_uri": "https://localhost:8080/"
        },
        "id": "9Ydd0xItnuZJ",
        "outputId": "b16ef401-430b-4346-ccdb-7fb66077ad89"
      },
      "execution_count": null,
      "outputs": [
        {
          "output_type": "execute_result",
          "data": {
            "text/plain": [
              "{'user_id': <tensorflow.python.keras.layers.embeddings.Embedding at 0x7f28f3c70370>,\n",
              " 'category_path': <tensorflow.python.keras.layers.embeddings.Embedding at 0x7f28f3ce28b0>,\n",
              " 'geo_country': <tensorflow.python.keras.layers.embeddings.Embedding at 0x7f28f3ce25b0>,\n",
              " 'geo_region': <tensorflow.python.keras.layers.embeddings.Embedding at 0x7f28f3ce21f0>,\n",
              " 'geo_city': <tensorflow.python.keras.layers.embeddings.Embedding at 0x7f28f3d8eeb0>,\n",
              " 'geo_zipcode': <tensorflow.python.keras.layers.embeddings.Embedding at 0x7f28f3d8e160>,\n",
              " 'platform': <tensorflow.python.keras.layers.embeddings.Embedding at 0x7f28f3d8e940>,\n",
              " 'sku_purchase_seq': <tensorflow.python.keras.layers.embeddings.Embedding at 0x7f28f3d8ed90>,\n",
              " 'category_path_purchase_seq': <tensorflow.python.keras.layers.embeddings.Embedding at 0x7f28f3d8e3a0>,\n",
              " 'sku_view_sequence': <tensorflow.python.keras.layers.embeddings.Embedding at 0x7f28f3d8ec10>,\n",
              " 'sku_number': <tensorflow.python.keras.layers.embeddings.Embedding at 0x7f28f3c5f940>}"
            ]
          },
          "metadata": {},
          "execution_count": 45
        },
        {
          "output_type": "stream",
          "name": "stdout",
          "text": [
            "time: 3.8 ms (started: 2023-03-23 19:47:05 +00:00)\n"
          ]
        }
      ]
    },
    {
      "cell_type": "markdown",
      "source": [
        "# Create User Inputs\n"
      ],
      "metadata": {
        "id": "__RCtmE768yP"
      }
    },
    {
      "cell_type": "markdown",
      "source": [
        "## Create Inputs Tensor"
      ],
      "metadata": {
        "id": "yM6mg7fw-yZc"
      }
    },
    {
      "cell_type": "code",
      "source": [
        "# user features inputs\n",
        "from collections import OrderedDict\n",
        "user_features = OrderedDict()\n",
        "for name in user_sparse_feature_columns:\n",
        "  user_features[name] = Input(\n",
        "                shape=(1,), \n",
        "                name=name, \n",
        "                dtype=\"int32\"\n",
        "                )\n",
        "for name in user_seq_sparse_feature_columns:\n",
        "  user_features[name] = Input(\n",
        "                shape=(SEQ_LEN,), \n",
        "                name=name, \n",
        "                dtype=\"int32\"\n",
        "                )\n",
        "length_name = 'hist_len'\n",
        "if length_name in user_feature_columns:\n",
        "  user_features[length_name] = Input((1,), name=length_name, dtype='int32')"
      ],
      "metadata": {
        "id": "ntvMR9x5BtjF",
        "colab": {
          "base_uri": "https://localhost:8080/"
        },
        "outputId": "4073fd08-50d5-4bd5-e38a-76c2a47be114"
      },
      "execution_count": null,
      "outputs": [
        {
          "output_type": "stream",
          "name": "stdout",
          "text": [
            "time: 71.8 ms (started: 2023-03-23 19:47:12 +00:00)\n"
          ]
        }
      ]
    },
    {
      "cell_type": "code",
      "source": [
        "user_inputs_list = list(user_features.values())\n",
        "user_inputs_list"
      ],
      "metadata": {
        "colab": {
          "base_uri": "https://localhost:8080/"
        },
        "id": "ZsM6mPDJkqVR",
        "outputId": "9e6abfc5-2a43-4ddc-e4ce-8d3c199560ab"
      },
      "execution_count": null,
      "outputs": [
        {
          "output_type": "execute_result",
          "data": {
            "text/plain": [
              "[<tf.Tensor 'user_id:0' shape=(None, 1) dtype=int32>,\n",
              " <tf.Tensor 'category_path:0' shape=(None, 1) dtype=int32>,\n",
              " <tf.Tensor 'geo_country:0' shape=(None, 1) dtype=int32>,\n",
              " <tf.Tensor 'geo_region:0' shape=(None, 1) dtype=int32>,\n",
              " <tf.Tensor 'geo_city:0' shape=(None, 1) dtype=int32>,\n",
              " <tf.Tensor 'geo_zipcode:0' shape=(None, 1) dtype=int32>,\n",
              " <tf.Tensor 'platform:0' shape=(None, 1) dtype=int32>,\n",
              " <tf.Tensor 'sku_purchase_seq:0' shape=(None, 50) dtype=int32>,\n",
              " <tf.Tensor 'category_path_purchase_seq:0' shape=(None, 50) dtype=int32>,\n",
              " <tf.Tensor 'sku_view_sequence:0' shape=(None, 50) dtype=int32>]"
            ]
          },
          "metadata": {},
          "execution_count": 47
        },
        {
          "output_type": "stream",
          "name": "stdout",
          "text": [
            "time: 4.89 ms (started: 2023-03-23 19:47:15 +00:00)\n"
          ]
        }
      ]
    },
    {
      "cell_type": "code",
      "source": [
        "# item feature inputs\n",
        "item_features = OrderedDict()\n",
        "for name in item_feature_columns:\n",
        "  item_features[name] = Input(\n",
        "                shape=(1,), \n",
        "                name=name, \n",
        "                dtype=\"int32\"\n",
        "                )\n",
        "item_inputs_list = list(item_features.values())\n"
      ],
      "metadata": {
        "id": "at2VIiBv02WB",
        "colab": {
          "base_uri": "https://localhost:8080/"
        },
        "outputId": "e72ca8fb-7512-4613-878b-6e7776ad9d9b"
      },
      "execution_count": null,
      "outputs": [
        {
          "output_type": "stream",
          "name": "stdout",
          "text": [
            "time: 4.35 ms (started: 2023-03-23 19:47:20 +00:00)\n"
          ]
        }
      ]
    },
    {
      "cell_type": "code",
      "source": [
        "item_inputs_list"
      ],
      "metadata": {
        "colab": {
          "base_uri": "https://localhost:8080/"
        },
        "id": "w7BeQhIW1ZHB",
        "outputId": "fd6ac2d2-c6ff-4d09-ceb2-7fe77bf6fec2"
      },
      "execution_count": null,
      "outputs": [
        {
          "output_type": "execute_result",
          "data": {
            "text/plain": [
              "[<tf.Tensor 'sku_number:0' shape=(None, 1) dtype=int32>]"
            ]
          },
          "metadata": {},
          "execution_count": 49
        },
        {
          "output_type": "stream",
          "name": "stdout",
          "text": [
            "time: 4.9 ms (started: 2023-03-23 19:47:20 +00:00)\n"
          ]
        }
      ]
    },
    {
      "cell_type": "markdown",
      "source": [
        "## Embed Inputs"
      ],
      "metadata": {
        "id": "rkJg1GNFkJPD"
      }
    },
    {
      "cell_type": "code",
      "source": [
        "# Embed sparse inputs\n",
        "from collections import defaultdict\n",
        "user_sparse_embeded_input = defaultdict(list)\n",
        "\n",
        "for name in user_sparse_feature_columns:\n",
        "  user_sparse_embeded_input[name] = sparse_embedding[name](user_features[name])"
      ],
      "metadata": {
        "id": "gtkBZ6HLkHAf",
        "colab": {
          "base_uri": "https://localhost:8080/"
        },
        "outputId": "162196ef-ede7-472b-d58d-05cfdd6d8830"
      },
      "execution_count": null,
      "outputs": [
        {
          "output_type": "stream",
          "name": "stdout",
          "text": [
            "time: 135 ms (started: 2023-03-23 19:47:22 +00:00)\n"
          ]
        }
      ]
    },
    {
      "cell_type": "code",
      "source": [
        "# Embed the sequence sparse inputs, need to add pooling layer to it\n",
        "seq_embeded_dict = defaultdict(list)\n",
        "\n",
        "for name in user_seq_sparse_feature_columns:\n",
        "  seq_embeded_dict[name] = sparse_embedding[name](user_features[name])\n",
        "\n",
        "# from deepctr.layers.sequence import SequencePoolingLayer\n",
        "# for name in user_seq_sparse_feature_columns:\n",
        "#   user_seq_sparse_embeded_input[name] = SequencePoolingLayer('mean', supports_masking=False)([seq_embeded_dict[name], user_features[length_name]])\n",
        "\n",
        "from tensorflow.keras.layers import AveragePooling1D\n",
        "user_seq_sparse_embeded_input = defaultdict(list)\n",
        "for name in user_seq_sparse_feature_columns:\n",
        "  user_seq_sparse_embeded_input[name] = AveragePooling1D(pool_size=50, padding='valid')(seq_embeded_dict[name])"
      ],
      "metadata": {
        "id": "BgZyHLfAySUq",
        "colab": {
          "base_uri": "https://localhost:8080/"
        },
        "outputId": "c277a8cf-ea30-449a-888a-70dc86b1e5c5"
      },
      "execution_count": null,
      "outputs": [
        {
          "output_type": "stream",
          "name": "stdout",
          "text": [
            "time: 55.3 ms (started: 2023-03-23 19:47:23 +00:00)\n"
          ]
        }
      ]
    },
    {
      "cell_type": "code",
      "source": [
        "# combine embeded inputs into a list\n",
        "user_sparse_embedding_list = list(user_sparse_embeded_input.values()) + list(user_seq_sparse_embeded_input.values())\n",
        "user_sparse_embedding_list"
      ],
      "metadata": {
        "colab": {
          "base_uri": "https://localhost:8080/"
        },
        "id": "OIgRP5lyXbPZ",
        "outputId": "edbc64e0-2804-4a52-d9b1-9ae5832fe222"
      },
      "execution_count": null,
      "outputs": [
        {
          "output_type": "execute_result",
          "data": {
            "text/plain": [
              "[<tf.Tensor 'sparse_emb_user_id/embedding_lookup/Identity_1:0' shape=(None, 1, 16) dtype=float32>,\n",
              " <tf.Tensor 'sparse_emb_category_path/embedding_lookup/Identity_1:0' shape=(None, 1, 16) dtype=float32>,\n",
              " <tf.Tensor 'sparse_emb_geo_country/embedding_lookup/Identity_1:0' shape=(None, 1, 16) dtype=float32>,\n",
              " <tf.Tensor 'sparse_emb_geo_region/embedding_lookup/Identity_1:0' shape=(None, 1, 16) dtype=float32>,\n",
              " <tf.Tensor 'sparse_emb_geo_city/embedding_lookup/Identity_1:0' shape=(None, 1, 16) dtype=float32>,\n",
              " <tf.Tensor 'sparse_emb_geo_zipcode/embedding_lookup/Identity_1:0' shape=(None, 1, 16) dtype=float32>,\n",
              " <tf.Tensor 'sparse_emb_platform/embedding_lookup/Identity_1:0' shape=(None, 1, 16) dtype=float32>,\n",
              " <tf.Tensor 'average_pooling1d/Squeeze:0' shape=(None, 1, 32) dtype=float32>,\n",
              " <tf.Tensor 'average_pooling1d_1/Squeeze:0' shape=(None, 1, 32) dtype=float32>,\n",
              " <tf.Tensor 'average_pooling1d_2/Squeeze:0' shape=(None, 1, 32) dtype=float32>]"
            ]
          },
          "metadata": {},
          "execution_count": 52
        },
        {
          "output_type": "stream",
          "name": "stdout",
          "text": [
            "time: 7.13 ms (started: 2023-03-23 19:47:26 +00:00)\n"
          ]
        }
      ]
    },
    {
      "cell_type": "markdown",
      "source": [
        "## Combine Embeded Input (User only)"
      ],
      "metadata": {
        "id": "6nIWKAyXpmRX"
      }
    },
    {
      "cell_type": "code",
      "source": [
        "from tensorflow.python.keras.layers import Flatten, Concatenate, Layer, Add"
      ],
      "metadata": {
        "id": "Gw7pkzWzppJ4",
        "colab": {
          "base_uri": "https://localhost:8080/"
        },
        "outputId": "2563100f-8ce6-4a78-af36-539df6567c2f"
      },
      "execution_count": null,
      "outputs": [
        {
          "output_type": "stream",
          "name": "stdout",
          "text": [
            "time: 2.46 ms (started: 2023-03-23 19:47:31 +00:00)\n"
          ]
        }
      ]
    },
    {
      "cell_type": "code",
      "source": [
        "user_dnn_input = Flatten()(Concatenate(axis=2)(user_sparse_embedding_list))\n",
        "user_dnn_input"
      ],
      "metadata": {
        "id": "0ruiNeGZBOEy",
        "colab": {
          "base_uri": "https://localhost:8080/"
        },
        "outputId": "be4c92ec-fa0e-40b6-8505-5cc46c8de435"
      },
      "execution_count": null,
      "outputs": [
        {
          "output_type": "execute_result",
          "data": {
            "text/plain": [
              "<tf.Tensor 'flatten/Reshape:0' shape=(None, 208) dtype=float32>"
            ]
          },
          "metadata": {},
          "execution_count": 54
        },
        {
          "output_type": "stream",
          "name": "stdout",
          "text": [
            "time: 14.3 ms (started: 2023-03-23 19:47:32 +00:00)\n"
          ]
        }
      ]
    },
    {
      "cell_type": "markdown",
      "source": [
        "# Sepecify Model Layers"
      ],
      "metadata": {
        "id": "00EvAK7d7v8H"
      }
    },
    {
      "cell_type": "markdown",
      "source": [
        "### User Layers"
      ],
      "metadata": {
        "id": "Nyz2GRXstx1u"
      }
    },
    {
      "cell_type": "code",
      "source": [
        "from tensorflow.keras import layers"
      ],
      "metadata": {
        "id": "5XEX8w1qfiWY",
        "colab": {
          "base_uri": "https://localhost:8080/"
        },
        "outputId": "e31fdce2-cd33-4ed0-b214-10c47cb698dd"
      },
      "execution_count": null,
      "outputs": [
        {
          "output_type": "stream",
          "name": "stdout",
          "text": [
            "time: 1.66 ms (started: 2023-03-23 19:47:34 +00:00)\n"
          ]
        }
      ]
    },
    {
      "cell_type": "code",
      "source": [
        "user_dnn_hidden_units = (128,64, embedding_dim)\n",
        "dnn_activation='relu'\n",
        "dnn_use_bn=False\n",
        "l2_reg_dnn=0\n",
        "l2_reg_embedding=1e-6\n",
        "dnn_dropout=0\n",
        "output_activation='linear'\n",
        "temperature=0.05,\n",
        "# sampler_config=sampler_config\n",
        "seed=1024"
      ],
      "metadata": {
        "id": "jxUktp9cysj_",
        "colab": {
          "base_uri": "https://localhost:8080/"
        },
        "outputId": "2d59ad90-db15-4da9-e561-c9f3659a630c"
      },
      "execution_count": null,
      "outputs": [
        {
          "output_type": "stream",
          "name": "stdout",
          "text": [
            "time: 1.93 ms (started: 2023-03-23 19:47:36 +00:00)\n"
          ]
        }
      ]
    },
    {
      "cell_type": "code",
      "source": [
        "# from deepctr.layers import DNN\n",
        "from model_utils import DNN"
      ],
      "metadata": {
        "id": "iLbtmoH17KAU",
        "colab": {
          "base_uri": "https://localhost:8080/"
        },
        "outputId": "c9618ca5-6ec9-4d18-e961-364bfebaba6f"
      },
      "execution_count": null,
      "outputs": [
        {
          "output_type": "stream",
          "name": "stdout",
          "text": [
            "time: 1.38 ms (started: 2023-03-23 19:47:36 +00:00)\n"
          ]
        }
      ]
    },
    {
      "cell_type": "code",
      "source": [
        "dnn_layers = DNN(hidden_units=user_dnn_hidden_units, \n",
        "                  activation='relu', \n",
        "                  l2_reg=0, \n",
        "                  dropout_rate=0, \n",
        "                  use_bn=False, \n",
        "                  output_activation='linear',\n",
        "                  seed=1024\n",
        "                  )\n",
        "\n"
      ],
      "metadata": {
        "id": "9S6JndR3KFx1",
        "colab": {
          "base_uri": "https://localhost:8080/"
        },
        "outputId": "a863fa55-10d3-43d6-f691-7868b7cbab6c"
      },
      "execution_count": null,
      "outputs": [
        {
          "output_type": "stream",
          "name": "stdout",
          "text": [
            "time: 2.43 ms (started: 2023-03-23 19:47:45 +00:00)\n"
          ]
        }
      ]
    },
    {
      "cell_type": "code",
      "source": [
        "user_dnn_output = dnn_layers(user_dnn_input)\n",
        "user_dnn_output = l2_normalize(user_dnn_output)\n",
        "user_dnn_output"
      ],
      "metadata": {
        "colab": {
          "base_uri": "https://localhost:8080/"
        },
        "id": "ZlEfVc4dLS0l",
        "outputId": "c166e7d9-e0b6-4c37-c211-f5f01cebf9ed"
      },
      "execution_count": null,
      "outputs": [
        {
          "output_type": "execute_result",
          "data": {
            "text/plain": [
              "<tf.Tensor 'lambda/l2_normalize:0' shape=(None, 32) dtype=float32>"
            ]
          },
          "metadata": {},
          "execution_count": 59
        },
        {
          "output_type": "stream",
          "name": "stdout",
          "text": [
            "time: 483 ms (started: 2023-03-23 19:47:46 +00:00)\n"
          ]
        }
      ]
    },
    {
      "cell_type": "markdown",
      "source": [
        "### Item Layer"
      ],
      "metadata": {
        "id": "ae2bSV0TtnvG"
      }
    },
    {
      "cell_type": "code",
      "source": [
        "# Create item index tensor\n",
        "item_vocabulary_size = feature_max_idx[item_feature_name]\n",
        "item_index = EmbeddingIndex(list(range(item_vocabulary_size)))(item_features[item_feature_name])\n",
        "\n",
        "# embed the item index input\n",
        "item_embeding = sparse_embedding[item_feature_name]\n",
        "item_embedding_weight = NoMask()(item_embeding(item_index))\n",
        "pooling_item_embedding_weight = PoolingLayer()([item_embedding_weight])\n",
        "pooling_item_embedding_weight = l2_normalize(pooling_item_embedding_weight)\n",
        "pooling_item_embedding_weight\n"
      ],
      "metadata": {
        "id": "xdKJ9VEfCyXL",
        "colab": {
          "base_uri": "https://localhost:8080/"
        },
        "outputId": "7bd353c1-a3fb-4179-fa9d-9f6e8821c32e"
      },
      "execution_count": null,
      "outputs": [
        {
          "output_type": "stream",
          "name": "stderr",
          "text": [
            "WARNING:tensorflow:From /usr/local/lib/python3.9/dist-packages/tensorflow/python/autograph/pyct/static_analysis/liveness.py:83: Analyzer.lamba_check (from tensorflow.python.autograph.pyct.static_analysis.liveness) is deprecated and will be removed after 2023-09-23.\n",
            "Instructions for updating:\n",
            "Lambda fuctions will be no more assumed to be used in the statement where they are used, or at least in the same block. https://github.com/tensorflow/tensorflow/issues/56089\n"
          ]
        },
        {
          "output_type": "execute_result",
          "data": {
            "text/plain": [
              "<tf.Tensor 'lambda_1/l2_normalize:0' shape=(38660, 32) dtype=float32>"
            ]
          },
          "metadata": {},
          "execution_count": 60
        },
        {
          "output_type": "stream",
          "name": "stdout",
          "text": [
            "time: 846 ms (started: 2023-03-23 19:47:50 +00:00)\n"
          ]
        }
      ]
    },
    {
      "cell_type": "code",
      "source": [
        "pooling_item_embedding_weight.eval(session=K.get_session()).shape"
      ],
      "metadata": {
        "colab": {
          "base_uri": "https://localhost:8080/"
        },
        "id": "OjQ88lPaprh2",
        "outputId": "5216613b-6571-4950-c68d-f2338cb3d5a9"
      },
      "execution_count": null,
      "outputs": [
        {
          "output_type": "execute_result",
          "data": {
            "text/plain": [
              "(38660, 32)"
            ]
          },
          "metadata": {},
          "execution_count": 61
        },
        {
          "output_type": "stream",
          "name": "stdout",
          "text": [
            "time: 539 ms (started: 2023-03-23 19:47:51 +00:00)\n"
          ]
        }
      ]
    },
    {
      "cell_type": "markdown",
      "source": [
        "### Output Layer"
      ],
      "metadata": {
        "id": "NaZ1ifdZ_LM5"
      }
    },
    {
      "cell_type": "code",
      "source": [
        "output = SampledSoftmaxLayer()(\n",
        "    [pooling_item_embedding_weight, user_dnn_output, item_features[item_feature_name]])\n",
        "output"
      ],
      "metadata": {
        "colab": {
          "base_uri": "https://localhost:8080/"
        },
        "id": "p_hbelWEowl8",
        "outputId": "59c83393-74d7-4044-f841-9e92938ce502"
      },
      "execution_count": null,
      "outputs": [
        {
          "output_type": "execute_result",
          "data": {
            "text/plain": [
              "<tf.Tensor 'sampled_softmax_layer/ExpandDims:0' shape=(None, 1) dtype=float32>"
            ]
          },
          "metadata": {},
          "execution_count": 63
        },
        {
          "output_type": "stream",
          "name": "stdout",
          "text": [
            "time: 180 ms (started: 2023-03-23 19:49:59 +00:00)\n"
          ]
        }
      ]
    },
    {
      "cell_type": "code",
      "source": [
        "pooling_item_embedding_weight"
      ],
      "metadata": {
        "colab": {
          "base_uri": "https://localhost:8080/"
        },
        "id": "sWLljvPiA8rI",
        "outputId": "9789a882-34ed-4e10-91d4-f5a107af5eda"
      },
      "execution_count": null,
      "outputs": [
        {
          "output_type": "execute_result",
          "data": {
            "text/plain": [
              "<tf.Tensor 'lambda_1/l2_normalize:0' shape=(38660, 32) dtype=float32>"
            ]
          },
          "metadata": {},
          "execution_count": 64
        },
        {
          "output_type": "stream",
          "name": "stdout",
          "text": [
            "time: 3.65 ms (started: 2023-03-23 19:50:07 +00:00)\n"
          ]
        }
      ]
    },
    {
      "cell_type": "code",
      "source": [
        "user_dnn_output"
      ],
      "metadata": {
        "colab": {
          "base_uri": "https://localhost:8080/"
        },
        "id": "uNGi4K9YAwcw",
        "outputId": "574716f5-9e52-453f-c4fe-5e6417e5d035"
      },
      "execution_count": null,
      "outputs": [
        {
          "output_type": "execute_result",
          "data": {
            "text/plain": [
              "<tf.Tensor 'lambda/l2_normalize:0' shape=(None, 32) dtype=float32>"
            ]
          },
          "metadata": {},
          "execution_count": 65
        },
        {
          "output_type": "stream",
          "name": "stdout",
          "text": [
            "time: 3.95 ms (started: 2023-03-23 19:50:10 +00:00)\n"
          ]
        }
      ]
    },
    {
      "cell_type": "code",
      "source": [
        "item_features[item_feature_name]"
      ],
      "metadata": {
        "colab": {
          "base_uri": "https://localhost:8080/"
        },
        "id": "xZdpyC-JA-NH",
        "outputId": "e3e49667-6475-4655-a2bc-36e2490cf2cc"
      },
      "execution_count": null,
      "outputs": [
        {
          "output_type": "execute_result",
          "data": {
            "text/plain": [
              "<tf.Tensor 'sku_number:0' shape=(None, 1) dtype=int32>"
            ]
          },
          "metadata": {},
          "execution_count": 66
        },
        {
          "output_type": "stream",
          "name": "stdout",
          "text": [
            "time: 7.45 ms (started: 2023-03-23 19:50:12 +00:00)\n"
          ]
        }
      ]
    },
    {
      "cell_type": "markdown",
      "source": [
        "## Build Model"
      ],
      "metadata": {
        "id": "7pxt5AhhABQv"
      }
    },
    {
      "cell_type": "code",
      "source": [
        "from tensorflow.python.keras.models import Model"
      ],
      "metadata": {
        "id": "NxwwfP8M_c-X",
        "colab": {
          "base_uri": "https://localhost:8080/"
        },
        "outputId": "d631969e-cf07-4356-8edc-f4fa361c27d0"
      },
      "execution_count": null,
      "outputs": [
        {
          "output_type": "stream",
          "name": "stdout",
          "text": [
            "time: 1.67 ms (started: 2023-03-23 19:50:17 +00:00)\n"
          ]
        }
      ]
    },
    {
      "cell_type": "code",
      "source": [
        "model = Model(inputs=user_inputs_list + item_inputs_list, outputs=output)\n",
        "\n",
        "model.__setattr__(\"user_input\", user_inputs_list)\n",
        "model.__setattr__(\"user_embedding\", user_dnn_output)\n",
        "\n",
        "model.__setattr__(\"item_input\", item_inputs_list)\n",
        "model.__setattr__(\"item_embedding\",\n",
        "                  get_item_embedding(pooling_item_embedding_weight, item_features[item_feature_name]))\n"
      ],
      "metadata": {
        "id": "05qTGyqg_HYD",
        "colab": {
          "base_uri": "https://localhost:8080/"
        },
        "outputId": "a35715a1-8576-4f9d-b2a6-319823f642aa"
      },
      "execution_count": null,
      "outputs": [
        {
          "output_type": "stream",
          "name": "stdout",
          "text": [
            "time: 121 ms (started: 2023-03-23 19:50:18 +00:00)\n"
          ]
        }
      ]
    },
    {
      "cell_type": "markdown",
      "source": [
        "# Model Compile and Training"
      ],
      "metadata": {
        "id": "iZTKXy9MsFGM"
      }
    },
    {
      "cell_type": "code",
      "source": [
        "model.compile(optimizer=\"adam\", loss=sampledsoftmaxloss)"
      ],
      "metadata": {
        "id": "LN4h_A0-BcE7",
        "colab": {
          "base_uri": "https://localhost:8080/"
        },
        "outputId": "81cbe908-b83f-4880-e1aa-1dd06a6a8b91"
      },
      "execution_count": null,
      "outputs": [
        {
          "output_type": "stream",
          "name": "stdout",
          "text": [
            "time: 548 ms (started: 2023-03-23 19:50:21 +00:00)\n"
          ]
        }
      ]
    },
    {
      "cell_type": "code",
      "source": [
        "history = model.fit(train_model_input, train_label,\n",
        "                    batch_size=512, epochs=20, verbose=1, validation_split=0.0, )"
      ],
      "metadata": {
        "colab": {
          "base_uri": "https://localhost:8080/"
        },
        "id": "UNzun5zFpqZi",
        "outputId": "1864df9c-7a14-41e1-edc4-69b54ac635eb"
      },
      "execution_count": null,
      "outputs": [
        {
          "output_type": "stream",
          "name": "stdout",
          "text": [
            "Train on 355938 samples\n",
            "Epoch 1/20\n",
            "355938/355938 [==============================] - 93s 262us/sample - loss: 4.4615\n",
            "Epoch 2/20\n",
            "355938/355938 [==============================] - 90s 253us/sample - loss: 4.1196\n",
            "Epoch 3/20\n",
            "355938/355938 [==============================] - 89s 249us/sample - loss: 4.0455\n",
            "Epoch 4/20\n",
            "355938/355938 [==============================] - 89s 251us/sample - loss: 3.9950\n",
            "Epoch 5/20\n",
            "355938/355938 [==============================] - 91s 256us/sample - loss: 3.9773\n",
            "Epoch 6/20\n",
            "355938/355938 [==============================] - 89s 251us/sample - loss: 3.9588\n",
            "Epoch 7/20\n",
            "355938/355938 [==============================] - 89s 251us/sample - loss: 3.9523\n",
            "Epoch 8/20\n",
            "355938/355938 [==============================] - 89s 251us/sample - loss: 3.9511\n",
            "Epoch 9/20\n",
            "355938/355938 [==============================] - 89s 249us/sample - loss: 3.9441\n",
            "Epoch 10/20\n",
            "355938/355938 [==============================] - 89s 250us/sample - loss: 3.9405\n",
            "Epoch 11/20\n",
            "355938/355938 [==============================] - 89s 250us/sample - loss: 3.9434\n",
            "Epoch 12/20\n",
            "355938/355938 [==============================] - 90s 254us/sample - loss: 3.9370\n",
            "Epoch 13/20\n",
            "355938/355938 [==============================] - 89s 251us/sample - loss: 3.9331\n",
            "Epoch 14/20\n",
            "355938/355938 [==============================] - 89s 251us/sample - loss: 3.9316\n",
            "Epoch 15/20\n",
            "355938/355938 [==============================] - 89s 249us/sample - loss: 3.9320\n",
            "Epoch 16/20\n",
            "355938/355938 [==============================] - 90s 254us/sample - loss: 3.9374\n",
            "Epoch 17/20\n",
            "355938/355938 [==============================] - 91s 255us/sample - loss: 3.9320\n",
            "Epoch 18/20\n",
            "355938/355938 [==============================] - 90s 254us/sample - loss: 3.9279\n",
            "Epoch 19/20\n",
            "355938/355938 [==============================] - 91s 254us/sample - loss: 3.9306\n",
            "Epoch 20/20\n",
            "355938/355938 [==============================] - 90s 253us/sample - loss: 3.9230\n",
            "time: 29min 59s (started: 2023-03-23 19:50:24 +00:00)\n"
          ]
        }
      ]
    },
    {
      "cell_type": "code",
      "source": [
        "import sys\n",
        "sys.getsizeof(4)"
      ],
      "metadata": {
        "colab": {
          "base_uri": "https://localhost:8080/"
        },
        "id": "_wOfodDZCTDa",
        "outputId": "8e4bdc6b-26c7-4ad6-94b4-4e074c1f0a8e"
      },
      "execution_count": null,
      "outputs": [
        {
          "output_type": "execute_result",
          "data": {
            "text/plain": [
              "28"
            ]
          },
          "metadata": {},
          "execution_count": 89
        },
        {
          "output_type": "stream",
          "name": "stdout",
          "text": [
            "time: 5.17 ms (started: 2023-03-23 21:11:17 +00:00)\n"
          ]
        }
      ]
    },
    {
      "cell_type": "markdown",
      "source": [
        "# Predict: Generate Item and User Embeddings"
      ],
      "metadata": {
        "id": "lMvl2SKUATXr"
      }
    },
    {
      "cell_type": "code",
      "source": [
        "# 4. Generate user features for testing and full item features for retrieval\n",
        "test_user_model_input = test_model_input\n",
        "all_item_model_input = {\"sku_number\": item_profile['sku_number'].values,}\n",
        "\n",
        "user_embedding_model = Model(inputs=model.user_input, outputs=model.user_embedding)\n",
        "item_embedding_model = Model(inputs=model.item_input, outputs=model.item_embedding)\n",
        "\n",
        "user_embs = user_embedding_model.predict(test_user_model_input, batch_size=2 ** 12)\n",
        "item_embs = item_embedding_model.predict(all_item_model_input, batch_size=2 ** 12)\n",
        "\n",
        "print(user_embs.shape)\n",
        "print(item_embs.shape)"
      ],
      "metadata": {
        "colab": {
          "base_uri": "https://localhost:8080/"
        },
        "id": "Xdc56egCskOs",
        "outputId": "beefd43c-d0b2-41ef-8ab9-a2f99dea4a91"
      },
      "execution_count": null,
      "outputs": [
        {
          "output_type": "stream",
          "name": "stderr",
          "text": [
            "/usr/local/lib/python3.9/dist-packages/tensorflow/python/keras/engine/training.py:2455: UserWarning: `Model.state_updates` will be removed in a future version. This property should not be used in TensorFlow 2.0, as `updates` are applied automatically.\n",
            "  warnings.warn('`Model.state_updates` will be removed in a future version. '\n"
          ]
        },
        {
          "output_type": "stream",
          "name": "stdout",
          "text": [
            "(118286, 32)\n",
            "(22854, 32)\n",
            "time: 1.46 s (started: 2023-03-23 20:25:42 +00:00)\n"
          ]
        }
      ]
    },
    {
      "cell_type": "markdown",
      "source": [
        "# Recommendation"
      ],
      "metadata": {
        "id": "o4CKmfGRZN1U"
      }
    },
    {
      "cell_type": "code",
      "source": [
        "! pip install faiss-cpu"
      ],
      "metadata": {
        "colab": {
          "base_uri": "https://localhost:8080/"
        },
        "id": "Qmd7zOfPZKYm",
        "outputId": "91440e0e-4354-41b3-9ae3-fe8b371ed331"
      },
      "execution_count": null,
      "outputs": [
        {
          "output_type": "stream",
          "name": "stdout",
          "text": [
            "Looking in indexes: https://pypi.org/simple, https://us-python.pkg.dev/colab-wheels/public/simple/\n",
            "Collecting faiss-cpu\n",
            "  Downloading faiss_cpu-1.7.3-cp39-cp39-manylinux_2_17_x86_64.manylinux2014_x86_64.whl (17.0 MB)\n",
            "\u001b[2K     \u001b[90m━━━━━━━━━━━━━━━━━━━━━━━━━━━━━━━━━━━━━━━━\u001b[0m \u001b[32m17.0/17.0 MB\u001b[0m \u001b[31m45.9 MB/s\u001b[0m eta \u001b[36m0:00:00\u001b[0m\n",
            "\u001b[?25hInstalling collected packages: faiss-cpu\n",
            "Successfully installed faiss-cpu-1.7.3\n",
            "time: 7.02 s (started: 2023-03-23 20:26:07 +00:00)\n"
          ]
        }
      ]
    },
    {
      "cell_type": "code",
      "source": [
        "import numpy as np\n",
        "import faiss\n",
        "from tqdm import tqdm\n",
        "# from deepmatch.utils import recall_N"
      ],
      "metadata": {
        "id": "WFcrO0yfZR7N",
        "colab": {
          "base_uri": "https://localhost:8080/"
        },
        "outputId": "6dd4fcba-1374-4b17-de74-611f57af145a"
      },
      "execution_count": null,
      "outputs": [
        {
          "output_type": "stream",
          "name": "stdout",
          "text": [
            "time: 64.7 ms (started: 2023-03-23 20:26:14 +00:00)\n"
          ]
        }
      ]
    },
    {
      "cell_type": "code",
      "source": [
        "def recall_N(y_true, y_pred, N=30):\n",
        "    return len(set(y_pred[:N]) & set(y_true)) * 1.0 / len(y_true)"
      ],
      "metadata": {
        "id": "BA0XGxZeZSc-",
        "colab": {
          "base_uri": "https://localhost:8080/"
        },
        "outputId": "5ebdf495-e3d0-4938-bafb-0c9efdd3221b"
      },
      "execution_count": null,
      "outputs": [
        {
          "output_type": "stream",
          "name": "stdout",
          "text": [
            "time: 1.83 ms (started: 2023-03-23 20:26:14 +00:00)\n"
          ]
        }
      ]
    },
    {
      "cell_type": "code",
      "source": [
        "def precision_N(y_true, y_pred, N=30):\n",
        "    return len(set(y_pred[:N]) & set(y_true)) * 1.0 / N"
      ],
      "metadata": {
        "id": "gFZpJlLfQLAE",
        "colab": {
          "base_uri": "https://localhost:8080/"
        },
        "outputId": "3a23334a-f3c1-4710-9bec-93f9ade01036"
      },
      "execution_count": null,
      "outputs": [
        {
          "output_type": "stream",
          "name": "stdout",
          "text": [
            "time: 2.81 ms (started: 2023-03-23 20:26:14 +00:00)\n"
          ]
        }
      ]
    },
    {
      "cell_type": "code",
      "source": [
        "test_user_model_input['user_id']"
      ],
      "metadata": {
        "colab": {
          "base_uri": "https://localhost:8080/"
        },
        "id": "nGEnDZMrVp_L",
        "outputId": "bce6c0bd-65b0-4374-fa9e-c36b0fec4821"
      },
      "execution_count": null,
      "outputs": [
        {
          "output_type": "execute_result",
          "data": {
            "text/plain": [
              "array([   1,    1,    1, ..., 1716, 1716, 1716])"
            ]
          },
          "metadata": {},
          "execution_count": 76
        },
        {
          "output_type": "stream",
          "name": "stdout",
          "text": [
            "time: 19.8 ms (started: 2023-03-23 20:26:14 +00:00)\n"
          ]
        }
      ]
    },
    {
      "cell_type": "code",
      "source": [
        "for i, uid in tqdm(enumerate(test_user_model_input['user_id'])):\n",
        "  print(i,uid)\n",
        "  if i >2:\n",
        "    break\n"
      ],
      "metadata": {
        "colab": {
          "base_uri": "https://localhost:8080/"
        },
        "id": "q6Wly_-dYmR8",
        "outputId": "a4ba79cf-2ea0-48bd-d1ab-46275f331ebb"
      },
      "execution_count": null,
      "outputs": [
        {
          "output_type": "stream",
          "name": "stderr",
          "text": [
            "3it [00:00, 700.69it/s]"
          ]
        },
        {
          "output_type": "stream",
          "name": "stdout",
          "text": [
            "0 1\n",
            "1 1\n",
            "2 1\n",
            "3 1\n",
            "time: 14 ms (started: 2023-03-23 20:26:14 +00:00)\n"
          ]
        },
        {
          "output_type": "stream",
          "name": "stderr",
          "text": [
            "\n"
          ]
        }
      ]
    },
    {
      "cell_type": "code",
      "source": [
        "test_true_label = test_data.groupby('user_id')['sku_number'].apply(list).to_dict()"
      ],
      "metadata": {
        "colab": {
          "base_uri": "https://localhost:8080/"
        },
        "id": "tBnWSOL9aMoN",
        "outputId": "aade3df6-9179-4453-bd59-a257c22b84b0"
      },
      "execution_count": null,
      "outputs": [
        {
          "output_type": "stream",
          "name": "stdout",
          "text": [
            "time: 14.9 ms (started: 2023-03-16 21:55:47 +00:00)\n"
          ]
        }
      ]
    },
    {
      "cell_type": "code",
      "source": [
        "test_true_label = test_data.groupby('user_id')['sku_number'].apply(list).to_dict()\n",
        "\n",
        "import numpy as np\n",
        "import faiss\n",
        "from tqdm import tqdm\n",
        "\n",
        "index = faiss.IndexFlatIP(embedding_dim)\n",
        "index.add(item_embs)\n",
        "D, I = index.search(np.ascontiguousarray(user_embs), 50)\n",
        "recall = []\n",
        "precision = []\n",
        "f1 = []\n",
        "hit = 0\n",
        "pred_label = {}\n",
        "for i, uid in tqdm(enumerate(test_user_model_input['user_id'])):\n",
        "    try:\n",
        "        pred = [item_profile['sku_number'].values[x] for x in I[i]]\n",
        "        filter_item = None\n",
        "        recall_score = recall_N(test_true_label[uid], pred, N=30)\n",
        "        precision_score = precision_N(test_true_label[uid], pred, N=30)\n",
        "\n",
        "        recall.append(recall_score)\n",
        "        precision.append(precision_score)\n",
        "        f1_score = 2 * (precision_score * recall_score) /(precision_score + recall_score)\n",
        "        f1.append(f1_score)\n",
        "        pred_label[uid] = pred\n",
        "        if test_true_label[uid] in pred:\n",
        "            hit += 1\n",
        "    except:\n",
        "        pass\n",
        "print(\"\")\n",
        "print(\"recall\", np.mean(recall))\n",
        "print(\"precision\", np.mean(precision))\n",
        "print(\"f1\", np.mean(f1))\n",
        "print(\"hit rate\", hit / len(test_user_model_input['user_id']))"
      ],
      "metadata": {
        "colab": {
          "base_uri": "https://localhost:8080/"
        },
        "id": "SIkX1VFcZljX",
        "outputId": "115711a1-0715-443e-ae89-e04b72138f23"
      },
      "execution_count": null,
      "outputs": [
        {
          "output_type": "stream",
          "name": "stderr",
          "text": [
            "118286it [00:37, 3116.98it/s]"
          ]
        },
        {
          "output_type": "stream",
          "name": "stdout",
          "text": [
            "\n",
            "recall 0.009098230904047728\n",
            "precision 0.05322382474116408\n",
            "f1 0.01988723167568915\n",
            "hit rate 0.0\n",
            "time: 52.4 s (started: 2023-03-23 20:26:35 +00:00)\n"
          ]
        },
        {
          "output_type": "stream",
          "name": "stderr",
          "text": [
            "\n"
          ]
        }
      ]
    },
    {
      "cell_type": "code",
      "source": [
        "print(\"recall\", np.mean(recall)*100)\n",
        "print(\"precision\", np.mean(precision)*100)\n",
        "print(\"f1\", np.mean(f1)*100)"
      ],
      "metadata": {
        "colab": {
          "base_uri": "https://localhost:8080/"
        },
        "id": "9k38oH4BKvA-",
        "outputId": "aa465b91-1bfd-4966-9dd7-1fd5046304cb"
      },
      "execution_count": null,
      "outputs": [
        {
          "output_type": "stream",
          "name": "stdout",
          "text": [
            "recall 0.9098230904047728\n",
            "precision 5.322382474116408\n",
            "f1 1.988723167568915\n",
            "time: 46.2 ms (started: 2023-03-23 20:31:15 +00:00)\n"
          ]
        }
      ]
    },
    {
      "cell_type": "code",
      "source": [
        "item_profile['sku_number'].max()"
      ],
      "metadata": {
        "colab": {
          "base_uri": "https://localhost:8080/"
        },
        "id": "9esEr90GUI6F",
        "outputId": "480a6451-b0ff-467c-d455-f2fbbc15558f"
      },
      "execution_count": null,
      "outputs": [
        {
          "output_type": "execute_result",
          "data": {
            "text/plain": [
              "10692"
            ]
          },
          "metadata": {},
          "execution_count": 63
        },
        {
          "output_type": "stream",
          "name": "stdout",
          "text": [
            "time: 15 ms (started: 2023-03-16 21:25:55 +00:00)\n"
          ]
        }
      ]
    },
    {
      "cell_type": "code",
      "source": [
        "max(list(test_true_label.values()))"
      ],
      "metadata": {
        "id": "rlA_vI3I5uUs",
        "colab": {
          "base_uri": "https://localhost:8080/"
        },
        "outputId": "16dc6b0d-f597-4bca-b261-a2de19d3a392"
      },
      "execution_count": null,
      "outputs": [
        {
          "output_type": "execute_result",
          "data": {
            "text/plain": [
              "10362"
            ]
          },
          "metadata": {},
          "execution_count": 70
        },
        {
          "output_type": "stream",
          "name": "stdout",
          "text": [
            "time: 9.05 ms (started: 2023-03-16 21:28:38 +00:00)\n"
          ]
        }
      ]
    },
    {
      "cell_type": "code",
      "source": [
        "test_user_model_input['user_id'].max()"
      ],
      "metadata": {
        "colab": {
          "base_uri": "https://localhost:8080/"
        },
        "id": "Vn_MaesUU-7H",
        "outputId": "9c9bd4d8-58e1-43e0-8c64-dcb5a35baee4"
      },
      "execution_count": null,
      "outputs": [
        {
          "output_type": "execute_result",
          "data": {
            "text/plain": [
              "174"
            ]
          },
          "metadata": {},
          "execution_count": 72
        },
        {
          "output_type": "stream",
          "name": "stdout",
          "text": [
            "time: 6.86 ms (started: 2023-03-16 21:29:39 +00:00)\n"
          ]
        }
      ]
    },
    {
      "cell_type": "code",
      "source": [
        "train_model_input['user_id'].max()"
      ],
      "metadata": {
        "colab": {
          "base_uri": "https://localhost:8080/"
        },
        "id": "qp6W8qX_VBc5",
        "outputId": "dd3eec6c-8e50-4a90-b180-735f7f486e48"
      },
      "execution_count": null,
      "outputs": [
        {
          "output_type": "execute_result",
          "data": {
            "text/plain": [
              "177"
            ]
          },
          "metadata": {},
          "execution_count": 77
        },
        {
          "output_type": "stream",
          "name": "stdout",
          "text": [
            "time: 9.08 ms (started: 2023-03-16 21:30:09 +00:00)\n"
          ]
        }
      ]
    }
  ]
}