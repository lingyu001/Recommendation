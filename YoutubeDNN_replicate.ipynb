{
  "nbformat": 4,
  "nbformat_minor": 0,
  "metadata": {
    "colab": {
      "provenance": [],
      "collapsed_sections": [],
      "mount_file_id": "1EluNEy3xPx1C-to8gPO0iRo1hv6oggYS",
      "authorship_tag": "ABX9TyPuSLzbMfOjNQbEdw43l8kt",
      "include_colab_link": true
    },
    "kernelspec": {
      "name": "python3",
      "display_name": "Python 3"
    },
    "language_info": {
      "name": "python"
    }
  },
  "cells": [
    {
      "cell_type": "markdown",
      "metadata": {
        "id": "view-in-github",
        "colab_type": "text"
      },
      "source": [
        "<a href=\"https://colab.research.google.com/github/lingyu001/Recommendation/blob/master/YoutubeDNN_replicate.ipynb\" target=\"_parent\"><img src=\"https://colab.research.google.com/assets/colab-badge.svg\" alt=\"Open In Colab\"/></a>"
      ]
    },
    {
      "cell_type": "code",
      "source": [
        "! wget http://files.grouplens.org/datasets/movielens/ml-1m.zip -O ./ml-1m.zip \n",
        "# ! wget https://raw.githubusercontent.com/shenweichen/DeepMatch/master/examples/preprocess.py -O preprocess.py\n",
        "! wget https://raw.githubusercontent.com/lingyu001/Recommendation/master/preprocess.py -O preprocess.py\n",
        "! unzip -o ml-1m.zip \n",
        "! pip install -q deepmatch"
      ],
      "metadata": {
        "colab": {
          "base_uri": "https://localhost:8080/"
        },
        "id": "i7pEZIErCy6m",
        "outputId": "f2f3ca73-8c53-4fce-84c4-5e3dc6d285b2"
      },
      "execution_count": 1,
      "outputs": [
        {
          "output_type": "stream",
          "name": "stdout",
          "text": [
            "--2022-09-27 15:09:27--  http://files.grouplens.org/datasets/movielens/ml-1m.zip\n",
            "Resolving files.grouplens.org (files.grouplens.org)... 128.101.65.152\n",
            "Connecting to files.grouplens.org (files.grouplens.org)|128.101.65.152|:80... connected.\n",
            "HTTP request sent, awaiting response... 200 OK\n",
            "Length: 5917549 (5.6M) [application/zip]\n",
            "Saving to: ‘./ml-1m.zip’\n",
            "\n",
            "./ml-1m.zip         100%[===================>]   5.64M  27.5MB/s    in 0.2s    \n",
            "\n",
            "2022-09-27 15:09:27 (27.5 MB/s) - ‘./ml-1m.zip’ saved [5917549/5917549]\n",
            "\n",
            "--2022-09-27 15:09:27--  https://raw.githubusercontent.com/lingyu001/Recommendation/master/preprocess.py\n",
            "Resolving raw.githubusercontent.com (raw.githubusercontent.com)... 185.199.110.133, 185.199.109.133, 185.199.108.133, ...\n",
            "Connecting to raw.githubusercontent.com (raw.githubusercontent.com)|185.199.110.133|:443... connected.\n",
            "HTTP request sent, awaiting response... 200 OK\n",
            "Length: 6687 (6.5K) [text/plain]\n",
            "Saving to: ‘preprocess.py’\n",
            "\n",
            "preprocess.py       100%[===================>]   6.53K  --.-KB/s    in 0s      \n",
            "\n",
            "2022-09-27 15:09:27 (73.1 MB/s) - ‘preprocess.py’ saved [6687/6687]\n",
            "\n",
            "Archive:  ml-1m.zip\n",
            "   creating: ml-1m/\n",
            "  inflating: ml-1m/movies.dat        \n",
            "  inflating: ml-1m/ratings.dat       \n",
            "  inflating: ml-1m/README            \n",
            "  inflating: ml-1m/users.dat         \n",
            "\u001b[K     |████████████████████████████████| 147 kB 37.2 MB/s \n",
            "\u001b[K     |████████████████████████████████| 2.9 MB 43.1 MB/s \n",
            "\u001b[?25h"
          ]
        }
      ]
    },
    {
      "cell_type": "code",
      "execution_count": 2,
      "metadata": {
        "id": "ez3U2tvxCPHC"
      },
      "outputs": [],
      "source": [
        "import pandas as pd\n",
        "from deepctr.feature_column import SparseFeat, VarLenSparseFeat\n",
        "from preprocess import gen_data_set, gen_model_input\n",
        "from sklearn.preprocessing import LabelEncoder\n",
        "from tensorflow.python.keras import backend as K\n",
        "from tensorflow.python.keras.models import Model\n",
        "\n",
        "from deepmatch.models import YoutubeDNN\n",
        "from deepmatch.utils import sampledsoftmaxloss, NegativeSampler"
      ]
    },
    {
      "cell_type": "markdown",
      "source": [
        "# Data "
      ],
      "metadata": {
        "id": "79OvJtfADhLt"
      }
    },
    {
      "cell_type": "code",
      "source": [
        "data_path = \"./\"\n",
        "\n",
        "unames = ['user_id','gender','age','occupation','zip']\n",
        "user = pd.read_csv(data_path+'ml-1m/users.dat',sep='::',header=None,names=unames)\n",
        "rnames = ['user_id','movie_id','rating','timestamp']\n",
        "ratings = pd.read_csv(data_path+'ml-1m/ratings.dat',sep='::',header=None,names=rnames)\n",
        "mnames = ['movie_id','title','genres']\n",
        "movies = pd.read_csv(data_path+'ml-1m/movies.dat',sep='::',header=None,names=mnames,encoding=\"unicode_escape\")\n",
        "movies['genres'] = list(map(lambda x: x.split('|')[0], movies['genres'].values))\n",
        "\n",
        "data = pd.merge(pd.merge(ratings,movies),user).iloc[:10000] # taking 1w"
      ],
      "metadata": {
        "colab": {
          "base_uri": "https://localhost:8080/"
        },
        "id": "ii0j_rPuCyaL",
        "outputId": "672984c3-a612-4b56-dd2e-6d9b2bf74a05"
      },
      "execution_count": 3,
      "outputs": [
        {
          "output_type": "stream",
          "name": "stderr",
          "text": [
            "/usr/local/lib/python3.7/dist-packages/pandas/util/_decorators.py:311: ParserWarning: Falling back to the 'python' engine because the 'c' engine does not support regex separators (separators > 1 char and different from '\\s+' are interpreted as regex); you can avoid this warning by specifying engine='python'.\n",
            "  return func(*args, **kwargs)\n"
          ]
        }
      ]
    },
    {
      "cell_type": "code",
      "source": [
        "data.user_id.nunique(), data.movie_id.nunique(), data.head(2)"
      ],
      "metadata": {
        "colab": {
          "base_uri": "https://localhost:8080/"
        },
        "id": "AryugZtaCwsG",
        "outputId": "30a6cf0f-3932-4388-e58a-7444f6cf04ac"
      },
      "execution_count": 4,
      "outputs": [
        {
          "output_type": "execute_result",
          "data": {
            "text/plain": [
              "(46, 2175,    user_id  movie_id  rating  timestamp  \\\n",
              " 0        1      1193       5  978300760   \n",
              " 1        1       661       3  978302109   \n",
              " \n",
              "                                     title     genres gender  age  occupation  \\\n",
              " 0  One Flew Over the Cuckoo's Nest (1975)      Drama      F    1          10   \n",
              " 1        James and the Giant Peach (1996)  Animation      F    1          10   \n",
              " \n",
              "      zip  \n",
              " 0  48067  \n",
              " 1  48067  )"
            ]
          },
          "metadata": {},
          "execution_count": 4
        }
      ]
    },
    {
      "cell_type": "markdown",
      "source": [
        "# Feature Engineering"
      ],
      "metadata": {
        "id": "hxhv5MulET7a"
      }
    },
    {
      "cell_type": "code",
      "source": [
        "sparse_features = [\"movie_id\", \"user_id\",\n",
        "                    \"gender\", \"age\", \"occupation\", \"zip\", \"genres\"]\n",
        "\n",
        "SEQ_LEN = 50\n",
        "negsample = 1\n"
      ],
      "metadata": {
        "id": "BefCj-R5D_8O"
      },
      "execution_count": 5,
      "outputs": []
    },
    {
      "cell_type": "code",
      "source": [
        "feature_max_idx = {}\n",
        "for feature in sparse_features:\n",
        "    lbe = LabelEncoder()\n",
        "    data[feature] = lbe.fit_transform(data[feature]) + 1\n",
        "    feature_max_idx[feature] = data[feature].max() + 1\n",
        "feature_max_idx "
      ],
      "metadata": {
        "colab": {
          "base_uri": "https://localhost:8080/"
        },
        "id": "nXznUx9VEvCH",
        "outputId": "a5c9e78f-291d-4236-918b-d3c558e74ffa"
      },
      "execution_count": 6,
      "outputs": [
        {
          "output_type": "execute_result",
          "data": {
            "text/plain": [
              "{'movie_id': 2176,\n",
              " 'user_id': 47,\n",
              " 'gender': 3,\n",
              " 'age': 8,\n",
              " 'occupation': 18,\n",
              " 'zip': 47,\n",
              " 'genres': 19}"
            ]
          },
          "metadata": {},
          "execution_count": 6
        }
      ]
    },
    {
      "cell_type": "code",
      "source": [
        "data.head()"
      ],
      "metadata": {
        "colab": {
          "base_uri": "https://localhost:8080/",
          "height": 206
        },
        "id": "xkxNt_xfE4Zo",
        "outputId": "8caf47bc-01b9-4fa3-b140-30c24c7737d3"
      },
      "execution_count": 7,
      "outputs": [
        {
          "output_type": "execute_result",
          "data": {
            "text/plain": [
              "   user_id  movie_id  rating  timestamp  \\\n",
              "0        1       644       5  978300760   \n",
              "1        1       385       3  978302109   \n",
              "2        1       483       3  978301968   \n",
              "3        1      1881       4  978300275   \n",
              "4        1      1306       5  978824291   \n",
              "\n",
              "                                    title  genres  gender  age  occupation  \\\n",
              "0  One Flew Over the Cuckoo's Nest (1975)       8       1    1           9   \n",
              "1        James and the Giant Peach (1996)       3       1    1           9   \n",
              "2                     My Fair Lady (1964)      12       1    1           9   \n",
              "3                  Erin Brockovich (2000)       8       1    1           9   \n",
              "4                    Bug's Life, A (1998)       3       1    1           9   \n",
              "\n",
              "   zip  \n",
              "0   18  \n",
              "1   18  \n",
              "2   18  \n",
              "3   18  \n",
              "4   18  "
            ],
            "text/html": [
              "\n",
              "  <div id=\"df-1c741b85-53b3-4a53-95b0-b8fc7aa259c6\">\n",
              "    <div class=\"colab-df-container\">\n",
              "      <div>\n",
              "<style scoped>\n",
              "    .dataframe tbody tr th:only-of-type {\n",
              "        vertical-align: middle;\n",
              "    }\n",
              "\n",
              "    .dataframe tbody tr th {\n",
              "        vertical-align: top;\n",
              "    }\n",
              "\n",
              "    .dataframe thead th {\n",
              "        text-align: right;\n",
              "    }\n",
              "</style>\n",
              "<table border=\"1\" class=\"dataframe\">\n",
              "  <thead>\n",
              "    <tr style=\"text-align: right;\">\n",
              "      <th></th>\n",
              "      <th>user_id</th>\n",
              "      <th>movie_id</th>\n",
              "      <th>rating</th>\n",
              "      <th>timestamp</th>\n",
              "      <th>title</th>\n",
              "      <th>genres</th>\n",
              "      <th>gender</th>\n",
              "      <th>age</th>\n",
              "      <th>occupation</th>\n",
              "      <th>zip</th>\n",
              "    </tr>\n",
              "  </thead>\n",
              "  <tbody>\n",
              "    <tr>\n",
              "      <th>0</th>\n",
              "      <td>1</td>\n",
              "      <td>644</td>\n",
              "      <td>5</td>\n",
              "      <td>978300760</td>\n",
              "      <td>One Flew Over the Cuckoo's Nest (1975)</td>\n",
              "      <td>8</td>\n",
              "      <td>1</td>\n",
              "      <td>1</td>\n",
              "      <td>9</td>\n",
              "      <td>18</td>\n",
              "    </tr>\n",
              "    <tr>\n",
              "      <th>1</th>\n",
              "      <td>1</td>\n",
              "      <td>385</td>\n",
              "      <td>3</td>\n",
              "      <td>978302109</td>\n",
              "      <td>James and the Giant Peach (1996)</td>\n",
              "      <td>3</td>\n",
              "      <td>1</td>\n",
              "      <td>1</td>\n",
              "      <td>9</td>\n",
              "      <td>18</td>\n",
              "    </tr>\n",
              "    <tr>\n",
              "      <th>2</th>\n",
              "      <td>1</td>\n",
              "      <td>483</td>\n",
              "      <td>3</td>\n",
              "      <td>978301968</td>\n",
              "      <td>My Fair Lady (1964)</td>\n",
              "      <td>12</td>\n",
              "      <td>1</td>\n",
              "      <td>1</td>\n",
              "      <td>9</td>\n",
              "      <td>18</td>\n",
              "    </tr>\n",
              "    <tr>\n",
              "      <th>3</th>\n",
              "      <td>1</td>\n",
              "      <td>1881</td>\n",
              "      <td>4</td>\n",
              "      <td>978300275</td>\n",
              "      <td>Erin Brockovich (2000)</td>\n",
              "      <td>8</td>\n",
              "      <td>1</td>\n",
              "      <td>1</td>\n",
              "      <td>9</td>\n",
              "      <td>18</td>\n",
              "    </tr>\n",
              "    <tr>\n",
              "      <th>4</th>\n",
              "      <td>1</td>\n",
              "      <td>1306</td>\n",
              "      <td>5</td>\n",
              "      <td>978824291</td>\n",
              "      <td>Bug's Life, A (1998)</td>\n",
              "      <td>3</td>\n",
              "      <td>1</td>\n",
              "      <td>1</td>\n",
              "      <td>9</td>\n",
              "      <td>18</td>\n",
              "    </tr>\n",
              "  </tbody>\n",
              "</table>\n",
              "</div>\n",
              "      <button class=\"colab-df-convert\" onclick=\"convertToInteractive('df-1c741b85-53b3-4a53-95b0-b8fc7aa259c6')\"\n",
              "              title=\"Convert this dataframe to an interactive table.\"\n",
              "              style=\"display:none;\">\n",
              "        \n",
              "  <svg xmlns=\"http://www.w3.org/2000/svg\" height=\"24px\"viewBox=\"0 0 24 24\"\n",
              "       width=\"24px\">\n",
              "    <path d=\"M0 0h24v24H0V0z\" fill=\"none\"/>\n",
              "    <path d=\"M18.56 5.44l.94 2.06.94-2.06 2.06-.94-2.06-.94-.94-2.06-.94 2.06-2.06.94zm-11 1L8.5 8.5l.94-2.06 2.06-.94-2.06-.94L8.5 2.5l-.94 2.06-2.06.94zm10 10l.94 2.06.94-2.06 2.06-.94-2.06-.94-.94-2.06-.94 2.06-2.06.94z\"/><path d=\"M17.41 7.96l-1.37-1.37c-.4-.4-.92-.59-1.43-.59-.52 0-1.04.2-1.43.59L10.3 9.45l-7.72 7.72c-.78.78-.78 2.05 0 2.83L4 21.41c.39.39.9.59 1.41.59.51 0 1.02-.2 1.41-.59l7.78-7.78 2.81-2.81c.8-.78.8-2.07 0-2.86zM5.41 20L4 18.59l7.72-7.72 1.47 1.35L5.41 20z\"/>\n",
              "  </svg>\n",
              "      </button>\n",
              "      \n",
              "  <style>\n",
              "    .colab-df-container {\n",
              "      display:flex;\n",
              "      flex-wrap:wrap;\n",
              "      gap: 12px;\n",
              "    }\n",
              "\n",
              "    .colab-df-convert {\n",
              "      background-color: #E8F0FE;\n",
              "      border: none;\n",
              "      border-radius: 50%;\n",
              "      cursor: pointer;\n",
              "      display: none;\n",
              "      fill: #1967D2;\n",
              "      height: 32px;\n",
              "      padding: 0 0 0 0;\n",
              "      width: 32px;\n",
              "    }\n",
              "\n",
              "    .colab-df-convert:hover {\n",
              "      background-color: #E2EBFA;\n",
              "      box-shadow: 0px 1px 2px rgba(60, 64, 67, 0.3), 0px 1px 3px 1px rgba(60, 64, 67, 0.15);\n",
              "      fill: #174EA6;\n",
              "    }\n",
              "\n",
              "    [theme=dark] .colab-df-convert {\n",
              "      background-color: #3B4455;\n",
              "      fill: #D2E3FC;\n",
              "    }\n",
              "\n",
              "    [theme=dark] .colab-df-convert:hover {\n",
              "      background-color: #434B5C;\n",
              "      box-shadow: 0px 1px 3px 1px rgba(0, 0, 0, 0.15);\n",
              "      filter: drop-shadow(0px 1px 2px rgba(0, 0, 0, 0.3));\n",
              "      fill: #FFFFFF;\n",
              "    }\n",
              "  </style>\n",
              "\n",
              "      <script>\n",
              "        const buttonEl =\n",
              "          document.querySelector('#df-1c741b85-53b3-4a53-95b0-b8fc7aa259c6 button.colab-df-convert');\n",
              "        buttonEl.style.display =\n",
              "          google.colab.kernel.accessAllowed ? 'block' : 'none';\n",
              "\n",
              "        async function convertToInteractive(key) {\n",
              "          const element = document.querySelector('#df-1c741b85-53b3-4a53-95b0-b8fc7aa259c6');\n",
              "          const dataTable =\n",
              "            await google.colab.kernel.invokeFunction('convertToInteractive',\n",
              "                                                     [key], {});\n",
              "          if (!dataTable) return;\n",
              "\n",
              "          const docLinkHtml = 'Like what you see? Visit the ' +\n",
              "            '<a target=\"_blank\" href=https://colab.research.google.com/notebooks/data_table.ipynb>data table notebook</a>'\n",
              "            + ' to learn more about interactive tables.';\n",
              "          element.innerHTML = '';\n",
              "          dataTable['output_type'] = 'display_data';\n",
              "          await google.colab.output.renderOutput(dataTable, element);\n",
              "          const docLink = document.createElement('div');\n",
              "          docLink.innerHTML = docLinkHtml;\n",
              "          element.appendChild(docLink);\n",
              "        }\n",
              "      </script>\n",
              "    </div>\n",
              "  </div>\n",
              "  "
            ]
          },
          "metadata": {},
          "execution_count": 7
        }
      ]
    },
    {
      "cell_type": "code",
      "source": [
        "user_profile = data[[\"user_id\", \"gender\", \"age\", \"occupation\", \"zip\"]].drop_duplicates('user_id')\n",
        "user_profile.set_index(\"user_id\", inplace=True)\n",
        "item_profile = data[[\"movie_id\"]].drop_duplicates('movie_id')"
      ],
      "metadata": {
        "id": "pnCiH0OyFVkw"
      },
      "execution_count": 8,
      "outputs": []
    },
    {
      "cell_type": "code",
      "source": [
        "user_item_list = data.groupby(\"user_id\")['movie_id'].apply(list)"
      ],
      "metadata": {
        "id": "zHk-7-KaFXAU"
      },
      "execution_count": 9,
      "outputs": []
    },
    {
      "cell_type": "code",
      "source": [
        "train_set, test_set = gen_data_set(data, SEQ_LEN, negsample)\n",
        "len(train_set), len(test_set)"
      ],
      "metadata": {
        "colab": {
          "base_uri": "https://localhost:8080/"
        },
        "id": "VoyNUIh4IN5T",
        "outputId": "1d55137a-0a2f-4096-a8f4-446efe048ed0"
      },
      "execution_count": 10,
      "outputs": [
        {
          "output_type": "stream",
          "name": "stderr",
          "text": [
            "100%|██████████| 46/46 [00:00<00:00, 145.59it/s]"
          ]
        },
        {
          "output_type": "stream",
          "name": "stdout",
          "text": [
            "7 8\n"
          ]
        },
        {
          "output_type": "stream",
          "name": "stderr",
          "text": [
            "\n"
          ]
        },
        {
          "output_type": "execute_result",
          "data": {
            "text/plain": [
              "(19816, 46)"
            ]
          },
          "metadata": {},
          "execution_count": 10
        }
      ]
    },
    {
      "cell_type": "code",
      "source": [
        "data.loc[2]"
      ],
      "metadata": {
        "colab": {
          "base_uri": "https://localhost:8080/"
        },
        "id": "Y91gAPJIKvYf",
        "outputId": "0a563631-7adb-451e-e648-f05ad809dbac"
      },
      "execution_count": 11,
      "outputs": [
        {
          "output_type": "execute_result",
          "data": {
            "text/plain": [
              "user_id                         1\n",
              "movie_id                      483\n",
              "rating                          3\n",
              "timestamp               978301968\n",
              "title         My Fair Lady (1964)\n",
              "genres                         12\n",
              "gender                          1\n",
              "age                             1\n",
              "occupation                      9\n",
              "zip                            18\n",
              "Name: 2, dtype: object"
            ]
          },
          "metadata": {},
          "execution_count": 11
        }
      ]
    },
    {
      "cell_type": "code",
      "source": [
        "print(train_set[0])\n",
        "\n",
        "# reviewerID,  - user id\n",
        "# pos_list[i], - movie id\n",
        "# 1, - constant\n",
        "# hist[::-1][:seq_len], - most recent watched movie id list before watching this movie, up to 50\n",
        "# seq_len,  - 50\n",
        "# genres_hist[::-1][:seq_len], - most recent watched movie's genres list before watching this movie, up to 50\n",
        "# genres_list[i], - this movie's genre\n",
        "# rating_list[i] - this movie's rating"
      ],
      "metadata": {
        "colab": {
          "base_uri": "https://localhost:8080/"
        },
        "id": "D-8D45dpNGLb",
        "outputId": "fa5a11c5-2195-4bc4-95de-ddd2bceaf5f1"
      },
      "execution_count": 12,
      "outputs": [
        {
          "output_type": "stream",
          "name": "stdout",
          "text": [
            "(12, 987, 0, [2095, 1039, 1852, 260, 2047, 781, 265, 1421, 21, 430, 801, 782, 1197, 869, 1663, 1482, 550, 872, 616, 1921, 645, 492, 663, 686, 2108, 411, 463, 996, 1382, 1352, 104, 1469, 103, 2086, 877, 117, 878, 1664, 783, 231, 754, 1161, 185, 1123, 566, 112, 2169, 976, 860, 46], 50, [15, 11, 15, 5, 1, 1, 1, 1, 8, 5, 6, 1, 4, 1, 1, 1, 2, 8, 1, 8, 1, 8, 1, 1, 1, 1, 15, 1, 11, 5, 1, 1, 1, 8, 1, 11, 1, 1, 1, 1, 1, 1, 1, 15, 1, 15, 15, 2, 1, 15], 6)\n"
          ]
        }
      ]
    },
    {
      "cell_type": "code",
      "source": [
        "train_model_input, train_label = gen_model_input(train_set, user_profile, SEQ_LEN)\n",
        "test_model_input, test_label = gen_model_input(test_set, user_profile, SEQ_LEN)\n",
        "train_label.shape, train_model_input['user_id'].shape, test_model_input['user_id'].shape, test_label.shape"
      ],
      "metadata": {
        "colab": {
          "base_uri": "https://localhost:8080/"
        },
        "id": "piWg0bmJP-Ng",
        "outputId": "54c634fc-1244-4953-8ecd-960d795c6fb8"
      },
      "execution_count": 13,
      "outputs": [
        {
          "output_type": "stream",
          "name": "stderr",
          "text": [
            "/content/preprocess.py:86: VisibleDeprecationWarning: Creating an ndarray from ragged nested sequences (which is a list-or-tuple of lists-or-tuples-or ndarrays with different lengths or shapes) is deprecated. If you meant to do this, you must specify 'dtype=object' when creating the ndarray.\n",
            "  train_seq_genres = np.array([line[5] for line in train_set])\n"
          ]
        },
        {
          "output_type": "execute_result",
          "data": {
            "text/plain": [
              "((19816,), (19816,), (46,), (46,))"
            ]
          },
          "metadata": {},
          "execution_count": 13
        }
      ]
    },
    {
      "cell_type": "code",
      "source": [
        "train_model_input"
      ],
      "metadata": {
        "colab": {
          "base_uri": "https://localhost:8080/"
        },
        "id": "vzrVnrilRXnI",
        "outputId": "6247d2af-9d11-43a9-8e3e-190c1c986334"
      },
      "execution_count": 14,
      "outputs": [
        {
          "output_type": "execute_result",
          "data": {
            "text/plain": [
              "{'user_id': array([12, 34, 40, ..., 19, 43, 35]),\n",
              " 'movie_id': array([ 987,  837,  330, ...,  872, 1756,   96]),\n",
              " 'hist_movie_id': array([[2095, 1039, 1852, ...,  976,  860,   46],\n",
              "        [1904, 1649, 2047, ...,  715, 1619,  704],\n",
              "        [  27,  354,   25, ...,    0,    0,    0],\n",
              "        ...,\n",
              "        [1179, 1197,  492, ..., 1196, 1597, 2062],\n",
              "        [ 209, 1701, 1617, ...,  720,  663,  735],\n",
              "        [1014, 1443,  365, ...,    0,    0,    0]], dtype=int32),\n",
              " 'hist_genres': array([[15, 11, 15, ...,  2,  1, 15],\n",
              "        [ 1,  1,  1, ...,  5,  5,  2],\n",
              "        [ 8,  1,  2, ...,  0,  0,  0],\n",
              "        ...,\n",
              "        [ 8,  4,  8, ...,  3,  5,  8],\n",
              "        [ 1,  5,  1, ...,  5,  1,  1],\n",
              "        [ 1,  6,  6, ...,  0,  0,  0]], dtype=int32),\n",
              " 'hist_len': array([50, 50, 13, ..., 50, 50, 33]),\n",
              " 'genres': array([6, 8, 5, ..., 8, 1, 7]),\n",
              " 'gender': array([2, 2, 1, ..., 2, 2, 2]),\n",
              " 'age': array([3, 4, 3, ..., 3, 3, 2]),\n",
              " 'occupation': array([ 7,  8, 17, ...,  3,  6,  5]),\n",
              " 'zip': array([13, 29, 33, ..., 15, 24,  4])}"
            ]
          },
          "metadata": {},
          "execution_count": 14
        }
      ]
    },
    {
      "cell_type": "markdown",
      "source": [
        "# Aggregate Feature and create Embeddings"
      ],
      "metadata": {
        "id": "BnzfOQ_8nsj2"
      }
    },
    {
      "cell_type": "code",
      "source": [
        "embedding_dim = 32"
      ],
      "metadata": {
        "id": "F1in3qmAnqEv"
      },
      "execution_count": 15,
      "outputs": []
    },
    {
      "cell_type": "code",
      "source": [
        "user_feature_columns = [SparseFeat('user_id', feature_max_idx['user_id'], 16),\n",
        "                        SparseFeat(\"gender\", feature_max_idx['gender'], 16),\n",
        "                        SparseFeat(\"age\", feature_max_idx['age'], 16),\n",
        "                        SparseFeat(\"occupation\", feature_max_idx['occupation'], 16),\n",
        "                        SparseFeat(\"zip\", feature_max_idx['zip'], 16),\n",
        "                        VarLenSparseFeat(SparseFeat('hist_movie_id', feature_max_idx['movie_id'], embedding_dim,\n",
        "                                                    embedding_name=\"movie_id\"), SEQ_LEN, 'mean', 'hist_len'),\n",
        "                        VarLenSparseFeat(SparseFeat('hist_genres', feature_max_idx['genres'], embedding_dim,\n",
        "                                                   embedding_name=\"genres\"), SEQ_LEN, 'mean', 'hist_len'),\n",
        "                        ]"
      ],
      "metadata": {
        "id": "DODu8FEwn4Fi"
      },
      "execution_count": 16,
      "outputs": []
    },
    {
      "cell_type": "code",
      "source": [
        "item_feature_columns = [SparseFeat('movie_id', feature_max_idx['movie_id'], embedding_dim)]\n"
      ],
      "metadata": {
        "id": "dfSb8kUDn4lI"
      },
      "execution_count": 17,
      "outputs": []
    },
    {
      "cell_type": "code",
      "source": [
        "from collections import Counter\n",
        "train_counter = Counter(train_model_input['movie_id'])\n",
        "item_count = [train_counter.get(i,0) for i in range(item_feature_columns[0].vocabulary_size)]\n",
        "sampler_config = NegativeSampler('frequency',num_sampled=255,item_name=\"movie_id\",item_count=item_count)\n"
      ],
      "metadata": {
        "id": "VJvmJ1lfoc7u"
      },
      "execution_count": 18,
      "outputs": []
    },
    {
      "cell_type": "code",
      "source": [
        "len(sampler_config.item_count)"
      ],
      "metadata": {
        "colab": {
          "base_uri": "https://localhost:8080/"
        },
        "id": "7mfPGrwRqSqW",
        "outputId": "184eb423-6110-4aac-f6db-f40aef6637c2"
      },
      "execution_count": 19,
      "outputs": [
        {
          "output_type": "execute_result",
          "data": {
            "text/plain": [
              "2176"
            ]
          },
          "metadata": {},
          "execution_count": 19
        }
      ]
    },
    {
      "cell_type": "code",
      "source": [
        "item_feature_columns[0].vocabulary_size"
      ],
      "metadata": {
        "colab": {
          "base_uri": "https://localhost:8080/"
        },
        "id": "wKRkvgGEiCpI",
        "outputId": "9b81c77d-7d57-4077-f251-691cbb5c3a41"
      },
      "execution_count": 20,
      "outputs": [
        {
          "output_type": "execute_result",
          "data": {
            "text/plain": [
              "2176"
            ]
          },
          "metadata": {},
          "execution_count": 20
        }
      ]
    },
    {
      "cell_type": "markdown",
      "source": [
        "# Model Training"
      ],
      "metadata": {
        "id": "mVwYwZRZKmGp"
      }
    },
    {
      "cell_type": "code",
      "source": [
        "import tensorflow as tf\n",
        "if tf.__version__ >= '2.0.0':\n",
        "    tf.compat.v1.disable_eager_execution()\n",
        "else:\n",
        "    K.set_learning_phase(True)"
      ],
      "metadata": {
        "id": "SmJ-yvg30lnS"
      },
      "execution_count": 21,
      "outputs": []
    },
    {
      "cell_type": "code",
      "source": [
        "from deepctr.feature_column import build_input_features\n",
        "from deepctr.layers import DNN\n",
        "from deepctr.layers.utils import NoMask, combined_dnn_input\n",
        "from tensorflow.python.keras.models import Model\n",
        "\n",
        "from deepmatch.inputs import input_from_feature_columns, create_embedding_matrix\n",
        "from deepmatch.layers.core import SampledSoftmaxLayer, EmbeddingIndex, PoolingLayer\n",
        "from deepmatch.utils import get_item_embedding, l2_normalize\n",
        "\n",
        "user_dnn_hidden_units=(128,64, embedding_dim)\n",
        "dnn_activation='relu'\n",
        "dnn_use_bn=False\n",
        "l2_reg_dnn=0\n",
        "l2_reg_embedding=1e-6\n",
        "dnn_dropout=0\n",
        "output_activation='linear'\n",
        "temperature=0.05,\n",
        "sampler_config=sampler_config\n",
        "seed=1024"
      ],
      "metadata": {
        "id": "iTI6wJXWzrCN"
      },
      "execution_count": 22,
      "outputs": []
    },
    {
      "cell_type": "code",
      "source": [
        "user_features"
      ],
      "metadata": {
        "colab": {
          "base_uri": "https://localhost:8080/"
        },
        "id": "Mmu-65WiPAWQ",
        "outputId": "22988a0f-fc61-4ea0-e22d-22aa9731403b"
      },
      "execution_count": 35,
      "outputs": [
        {
          "output_type": "execute_result",
          "data": {
            "text/plain": [
              "OrderedDict([('user_id', <tf.Tensor 'user_id:0' shape=(None, 1) dtype=int32>),\n",
              "             ('gender', <tf.Tensor 'gender:0' shape=(None, 1) dtype=int32>),\n",
              "             ('age', <tf.Tensor 'age:0' shape=(None, 1) dtype=int32>),\n",
              "             ('occupation',\n",
              "              <tf.Tensor 'occupation:0' shape=(None, 1) dtype=int32>),\n",
              "             ('zip', <tf.Tensor 'zip:0' shape=(None, 1) dtype=int32>),\n",
              "             ('hist_movie_id',\n",
              "              <tf.Tensor 'hist_movie_id:0' shape=(None, 50) dtype=int32>),\n",
              "             ('hist_len',\n",
              "              <tf.Tensor 'hist_len_1:0' shape=(None, 1) dtype=int32>),\n",
              "             ('hist_genres',\n",
              "              <tf.Tensor 'hist_genres:0' shape=(None, 50) dtype=int32>)])"
            ]
          },
          "metadata": {},
          "execution_count": 35
        }
      ]
    },
    {
      "cell_type": "code",
      "source": [
        "user_inputs_list"
      ],
      "metadata": {
        "colab": {
          "base_uri": "https://localhost:8080/"
        },
        "id": "-rIUnyRuvgdG",
        "outputId": "a9fcb64e-86fd-41f0-c2e6-86e478fec9af"
      },
      "execution_count": 47,
      "outputs": [
        {
          "output_type": "execute_result",
          "data": {
            "text/plain": [
              "[<tf.Tensor 'user_id:0' shape=(None, 1) dtype=int32>,\n",
              " <tf.Tensor 'gender:0' shape=(None, 1) dtype=int32>,\n",
              " <tf.Tensor 'age:0' shape=(None, 1) dtype=int32>,\n",
              " <tf.Tensor 'occupation:0' shape=(None, 1) dtype=int32>,\n",
              " <tf.Tensor 'zip:0' shape=(None, 1) dtype=int32>,\n",
              " <tf.Tensor 'hist_movie_id:0' shape=(None, 50) dtype=int32>,\n",
              " <tf.Tensor 'hist_len_1:0' shape=(None, 1) dtype=int32>,\n",
              " <tf.Tensor 'hist_genres:0' shape=(None, 50) dtype=int32>]"
            ]
          },
          "metadata": {},
          "execution_count": 47
        }
      ]
    },
    {
      "cell_type": "code",
      "source": [
        "user_dnn_input"
      ],
      "metadata": {
        "colab": {
          "base_uri": "https://localhost:8080/"
        },
        "id": "HA5_PV_5ZFhx",
        "outputId": "e4d0fdab-980a-4fe1-e21f-65c521626e9e"
      },
      "execution_count": 55,
      "outputs": [
        {
          "output_type": "execute_result",
          "data": {
            "text/plain": [
              "<tf.Tensor 'flatten/Reshape:0' shape=(None, 144) dtype=float32>"
            ]
          },
          "metadata": {},
          "execution_count": 55
        }
      ]
    },
    {
      "cell_type": "code",
      "source": [
        "if len(item_feature_columns) > 1:\n",
        "  raise ValueError(\"Now YoutubeNN only support 1 item feature like item_id\")\n",
        "item_feature_name = item_feature_columns[0].name\n",
        "item_vocabulary_size = item_feature_columns[0].vocabulary_size\n",
        "\n",
        "embedding_matrix_dict = create_embedding_matrix(user_feature_columns + item_feature_columns, l2_reg_embedding,\n",
        "                                                seed=seed)\n",
        "\n",
        "user_features = build_input_features(user_feature_columns)\n",
        "user_inputs_list = list(user_features.values())\n",
        "user_sparse_embedding_list, user_dense_value_list = input_from_feature_columns(user_features, user_feature_columns,\n",
        "                                                                                l2_reg_embedding, seed=seed,\n",
        "                                                                                embedding_matrix_dict=embedding_matrix_dict)\n",
        "user_dnn_input = combined_dnn_input(user_sparse_embedding_list, user_dense_value_list)\n",
        "\n",
        "item_features = build_input_features(item_feature_columns)\n",
        "item_inputs_list = list(item_features.values())\n",
        "\n",
        "user_dnn_out = DNN(user_dnn_hidden_units, dnn_activation, l2_reg_dnn, dnn_dropout,\n",
        "                    dnn_use_bn, output_activation=output_activation, seed=seed)(user_dnn_input)\n",
        "user_dnn_out = l2_normalize(user_dnn_out)\n",
        "\n",
        "item_index = EmbeddingIndex(list(range(item_vocabulary_size)))(item_features[item_feature_name])\n",
        "\n",
        "item_embedding_matrix = embedding_matrix_dict[\n",
        "    item_feature_name]\n",
        "item_embedding_weight = NoMask()(item_embedding_matrix(item_index))\n",
        "\n",
        "pooling_item_embedding_weight = PoolingLayer()([item_embedding_weight])\n",
        "\n",
        "pooling_item_embedding_weight = l2_normalize(pooling_item_embedding_weight)\n",
        "# output = SampledSoftmaxLayer(sampler_config._asdict(), temperature)(\n",
        "#     [pooling_item_embedding_weight, user_dnn_out, item_features[item_feature_name]])\n",
        "# model = Model(inputs=user_inputs_list + item_inputs_list, outputs=output)\n",
        "\n",
        "# model.__setattr__(\"user_input\", user_inputs_list)\n",
        "# model.__setattr__(\"user_embedding\", user_dnn_out)\n",
        "\n",
        "# model.__setattr__(\"item_input\", item_inputs_list)\n",
        "# model.__setattr__(\"item_embedding\",\n",
        "#                   get_item_embedding(pooling_item_embedding_weight, item_features[item_feature_name]))"
      ],
      "metadata": {
        "id": "E669ItGLy4s0"
      },
      "execution_count": 65,
      "outputs": []
    },
    {
      "cell_type": "code",
      "source": [
        "embedding_matrix_dict"
      ],
      "metadata": {
        "colab": {
          "base_uri": "https://localhost:8080/"
        },
        "id": "4uCEH5ETu9eQ",
        "outputId": "b77150f3-13da-43bc-a3d5-0454f20767fb"
      },
      "execution_count": 67,
      "outputs": [
        {
          "output_type": "execute_result",
          "data": {
            "text/plain": [
              "{'user_id': <tensorflow.python.keras.layers.embeddings.Embedding at 0x7f95f1dfe950>,\n",
              " 'gender': <tensorflow.python.keras.layers.embeddings.Embedding at 0x7f95f1e5cb50>,\n",
              " 'age': <tensorflow.python.keras.layers.embeddings.Embedding at 0x7f95f1dfed90>,\n",
              " 'occupation': <tensorflow.python.keras.layers.embeddings.Embedding at 0x7f95f1dfee10>,\n",
              " 'zip': <tensorflow.python.keras.layers.embeddings.Embedding at 0x7f95f1e19210>,\n",
              " 'movie_id': <tensorflow.python.keras.layers.embeddings.Embedding at 0x7f95f1f6a950>,\n",
              " 'genres': <tensorflow.python.keras.layers.embeddings.Embedding at 0x7f95f1e9ff10>}"
            ]
          },
          "metadata": {},
          "execution_count": 67
        }
      ]
    },
    {
      "cell_type": "code",
      "source": [
        "item_index"
      ],
      "metadata": {
        "colab": {
          "base_uri": "https://localhost:8080/"
        },
        "id": "5q44fCopt-OP",
        "outputId": "952caa89-b03e-41c9-b6e3-55f9f1e62140"
      },
      "execution_count": 57,
      "outputs": [
        {
          "output_type": "execute_result",
          "data": {
            "text/plain": [
              "<tf.Tensor 'embedding_index/Const:0' shape=(2176,) dtype=int32>"
            ]
          },
          "metadata": {},
          "execution_count": 57
        }
      ]
    },
    {
      "cell_type": "code",
      "source": [
        "item_embedding_matrix"
      ],
      "metadata": {
        "colab": {
          "base_uri": "https://localhost:8080/"
        },
        "id": "NwAGqE9qKnYx",
        "outputId": "e05d5cdb-f264-4183-fd8f-679b3f9bc20d"
      },
      "execution_count": 59,
      "outputs": [
        {
          "output_type": "execute_result",
          "data": {
            "text/plain": [
              "<tensorflow.python.keras.layers.embeddings.Embedding at 0x7f95f6738e50>"
            ]
          },
          "metadata": {},
          "execution_count": 59
        }
      ]
    },
    {
      "cell_type": "code",
      "source": [
        "item_embedding_weight"
      ],
      "metadata": {
        "colab": {
          "base_uri": "https://localhost:8080/"
        },
        "id": "l5CZBu1guPCW",
        "outputId": "f27f8ab0-8290-4d18-b7ed-9fb3740c643c"
      },
      "execution_count": 60,
      "outputs": [
        {
          "output_type": "execute_result",
          "data": {
            "text/plain": [
              "<tf.Tensor 'no_mask_3_1/no_mask_3/Identity:0' shape=(2176, 32) dtype=float32>"
            ]
          },
          "metadata": {},
          "execution_count": 60
        }
      ]
    },
    {
      "cell_type": "code",
      "source": [
        "pooling_item_embedding_weight"
      ],
      "metadata": {
        "colab": {
          "base_uri": "https://localhost:8080/"
        },
        "id": "olLefWs5uV18",
        "outputId": "4c6c2d0b-bf3c-412b-8b47-fb328aa4fe49"
      },
      "execution_count": 66,
      "outputs": [
        {
          "output_type": "execute_result",
          "data": {
            "text/plain": [
              "<tf.Tensor 'lambda_6/l2_normalize:0' shape=(2176, 32) dtype=float32>"
            ]
          },
          "metadata": {},
          "execution_count": 66
        }
      ]
    },
    {
      "cell_type": "code",
      "source": [],
      "metadata": {
        "id": "P1YSDllMuZdt"
      },
      "execution_count": null,
      "outputs": []
    },
    {
      "cell_type": "code",
      "source": [
        "model = YoutubeDNN(user_feature_columns, item_feature_columns, user_dnn_hidden_units=(128,64, embedding_dim), sampler_config=sampler_config)\n",
        "\n",
        "model.compile(optimizer=\"adam\", loss=sampledsoftmaxloss)"
      ],
      "metadata": {
        "id": "z0Zr-vKKKout"
      },
      "execution_count": null,
      "outputs": []
    },
    {
      "cell_type": "code",
      "source": [
        "model.user_input_list"
      ],
      "metadata": {
        "id": "yiO-xyeUjDSL"
      },
      "execution_count": null,
      "outputs": []
    },
    {
      "cell_type": "code",
      "source": [
        "history = model.fit(train_model_input, train_label,  # train_label,\n",
        "                    batch_size=512, epochs=20, verbose=1, validation_split=0.0, )\n"
      ],
      "metadata": {
        "id": "dXRBK1DQKwlV"
      },
      "execution_count": null,
      "outputs": []
    },
    {
      "cell_type": "code",
      "source": [
        "# 4. Generate user features for testing and full item features for retrieval\n",
        "test_user_model_input = test_model_input\n",
        "all_item_model_input = {\"movie_id\": item_profile['movie_id'].values,}\n",
        "\n",
        "user_embedding_model = Model(inputs=model.user_input, outputs=model.user_embedding)\n",
        "item_embedding_model = Model(inputs=model.item_input, outputs=model.item_embedding)\n",
        "\n",
        "user_embs = user_embedding_model.predict(test_user_model_input, batch_size=2 ** 12)\n",
        "# user_embs = user_embs[:, i, :]  # i in [0,k_max) if MIND\n",
        "item_embs = item_embedding_model.predict(all_item_model_input, batch_size=2 ** 12)\n",
        "\n",
        "print(user_embs.shape)\n",
        "print(item_embs.shape)"
      ],
      "metadata": {
        "id": "ezGFPQggLAOA"
      },
      "execution_count": null,
      "outputs": []
    },
    {
      "cell_type": "code",
      "source": [
        "user_embs"
      ],
      "metadata": {
        "id": "Q0Mr7jjtLEqo"
      },
      "execution_count": null,
      "outputs": []
    }
  ]
}