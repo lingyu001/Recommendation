{
  "nbformat": 4,
  "nbformat_minor": 0,
  "metadata": {
    "colab": {
      "provenance": [],
      "collapsed_sections": [
        "79OvJtfADhLt"
      ],
      "mount_file_id": "1EluNEy3xPx1C-to8gPO0iRo1hv6oggYS",
      "authorship_tag": "ABX9TyP2ysAgK/Ah0yBUItbqARVs",
      "include_colab_link": true
    },
    "kernelspec": {
      "name": "python3",
      "display_name": "Python 3"
    },
    "language_info": {
      "name": "python"
    }
  },
  "cells": [
    {
      "cell_type": "markdown",
      "metadata": {
        "id": "view-in-github",
        "colab_type": "text"
      },
      "source": [
        "<a href=\"https://colab.research.google.com/github/lingyu001/Recommendation/blob/master/YoutubeDNN_replicate.ipynb\" target=\"_parent\"><img src=\"https://colab.research.google.com/assets/colab-badge.svg\" alt=\"Open In Colab\"/></a>"
      ]
    },
    {
      "cell_type": "code",
      "source": [
        "! wget http://files.grouplens.org/datasets/movielens/ml-1m.zip -O ./ml-1m.zip \n",
        "! wget https://raw.githubusercontent.com/shenweichen/DeepMatch/master/examples/preprocess.py -O preprocess.py\n",
        "! unzip -o ml-1m.zip \n",
        "! pip install -q deepmatch"
      ],
      "metadata": {
        "colab": {
          "base_uri": "https://localhost:8080/"
        },
        "id": "i7pEZIErCy6m",
        "outputId": "df36c878-09b7-4502-ecf3-ed4f15d9e4ac"
      },
      "execution_count": 1,
      "outputs": [
        {
          "output_type": "stream",
          "name": "stdout",
          "text": [
            "--2022-09-14 18:30:55--  http://files.grouplens.org/datasets/movielens/ml-1m.zip\n",
            "Resolving files.grouplens.org (files.grouplens.org)... 128.101.65.152\n",
            "Connecting to files.grouplens.org (files.grouplens.org)|128.101.65.152|:80... connected.\n",
            "HTTP request sent, awaiting response... 200 OK\n",
            "Length: 5917549 (5.6M) [application/zip]\n",
            "Saving to: ‘./ml-1m.zip’\n",
            "\n",
            "./ml-1m.zip         100%[===================>]   5.64M  27.7MB/s    in 0.2s    \n",
            "\n",
            "2022-09-14 18:30:55 (27.7 MB/s) - ‘./ml-1m.zip’ saved [5917549/5917549]\n",
            "\n",
            "--2022-09-14 18:30:55--  https://raw.githubusercontent.com/shenweichen/DeepMatch/master/examples/preprocess.py\n",
            "Resolving raw.githubusercontent.com (raw.githubusercontent.com)... 185.199.108.133, 185.199.109.133, 185.199.110.133, ...\n",
            "Connecting to raw.githubusercontent.com (raw.githubusercontent.com)|185.199.108.133|:443... connected.\n",
            "HTTP request sent, awaiting response... 200 OK\n",
            "Length: 6705 (6.5K) [text/plain]\n",
            "Saving to: ‘preprocess.py’\n",
            "\n",
            "preprocess.py       100%[===================>]   6.55K  --.-KB/s    in 0s      \n",
            "\n",
            "2022-09-14 18:30:55 (43.3 MB/s) - ‘preprocess.py’ saved [6705/6705]\n",
            "\n",
            "Archive:  ml-1m.zip\n",
            "   creating: ml-1m/\n",
            "  inflating: ml-1m/movies.dat        \n",
            "  inflating: ml-1m/ratings.dat       \n",
            "  inflating: ml-1m/README            \n",
            "  inflating: ml-1m/users.dat         \n",
            "\u001b[K     |████████████████████████████████| 147 kB 40.9 MB/s \n",
            "\u001b[K     |████████████████████████████████| 2.9 MB 64.6 MB/s \n",
            "\u001b[?25h"
          ]
        }
      ]
    },
    {
      "cell_type": "code",
      "execution_count": 33,
      "metadata": {
        "id": "ez3U2tvxCPHC"
      },
      "outputs": [],
      "source": [
        "import pandas as pd\n",
        "from deepctr.feature_column import SparseFeat, VarLenSparseFeat\n",
        "from preprocess import gen_data_set, gen_model_input\n",
        "from sklearn.preprocessing import LabelEncoder\n",
        "from tensorflow.python.keras import backend as K\n",
        "from tensorflow.python.keras.models import Model\n",
        "\n",
        "from deepmatch.models import YoutubeDNN\n",
        "from deepmatch.utils import sampledsoftmaxloss, NegativeSampler"
      ]
    },
    {
      "cell_type": "markdown",
      "source": [
        "# Data "
      ],
      "metadata": {
        "id": "79OvJtfADhLt"
      }
    },
    {
      "cell_type": "code",
      "source": [
        "data_path = \"./\"\n",
        "\n",
        "unames = ['user_id','gender','age','occupation','zip']\n",
        "user = pd.read_csv(data_path+'ml-1m/users.dat',sep='::',header=None,names=unames)\n",
        "rnames = ['user_id','movie_id','rating','timestamp']\n",
        "ratings = pd.read_csv(data_path+'ml-1m/ratings.dat',sep='::',header=None,names=rnames)\n",
        "mnames = ['movie_id','title','genres']\n",
        "movies = pd.read_csv(data_path+'ml-1m/movies.dat',sep='::',header=None,names=mnames,encoding=\"unicode_escape\")\n",
        "movies['genres'] = list(map(lambda x: x.split('|')[0], movies['genres'].values))\n",
        "\n",
        "data = pd.merge(pd.merge(ratings,movies),user).iloc[:10000] # taking 1w"
      ],
      "metadata": {
        "colab": {
          "base_uri": "https://localhost:8080/"
        },
        "id": "ii0j_rPuCyaL",
        "outputId": "e1f79570-50cd-4456-a3ea-712f568cbf72"
      },
      "execution_count": 4,
      "outputs": [
        {
          "output_type": "stream",
          "name": "stderr",
          "text": [
            "/usr/local/lib/python3.7/dist-packages/pandas/util/_decorators.py:311: ParserWarning: Falling back to the 'python' engine because the 'c' engine does not support regex separators (separators > 1 char and different from '\\s+' are interpreted as regex); you can avoid this warning by specifying engine='python'.\n",
            "  return func(*args, **kwargs)\n"
          ]
        }
      ]
    },
    {
      "cell_type": "code",
      "source": [
        "data.user_id.nunique(), data.movie_id.nunique(), data.head(2)"
      ],
      "metadata": {
        "colab": {
          "base_uri": "https://localhost:8080/"
        },
        "id": "AryugZtaCwsG",
        "outputId": "98368bb9-85ca-479b-a1ba-552e8220ebff"
      },
      "execution_count": 55,
      "outputs": [
        {
          "output_type": "execute_result",
          "data": {
            "text/plain": [
              "(46, 2175,       user_id  movie_id  rating  timestamp  \\\n",
              " 9995       46       644       5  977089623   \n",
              " 9998       46      1709       4  977089820   \n",
              " \n",
              "                                        title  genres  gender  age  occupation  \\\n",
              " 9995  One Flew Over the Cuckoo's Nest (1975)       8       2    5          11   \n",
              " 9998                     Verdict, The (1982)       8       2    5          11   \n",
              " \n",
              "       zip  \n",
              " 9995    2  \n",
              " 9998    2  )"
            ]
          },
          "metadata": {},
          "execution_count": 55
        }
      ]
    },
    {
      "cell_type": "markdown",
      "source": [
        "# Feature Engineering"
      ],
      "metadata": {
        "id": "hxhv5MulET7a"
      }
    },
    {
      "cell_type": "code",
      "source": [
        "sparse_features = [\"movie_id\", \"user_id\",\n",
        "                    \"gender\", \"age\", \"occupation\", \"zip\", \"genres\"]\n",
        "\n",
        "SEQ_LEN = 50\n",
        "negsample = 0\n"
      ],
      "metadata": {
        "id": "BefCj-R5D_8O"
      },
      "execution_count": 6,
      "outputs": []
    },
    {
      "cell_type": "code",
      "source": [
        "feature_max_idx = {}\n",
        "for feature in sparse_features:\n",
        "    lbe = LabelEncoder()\n",
        "    data[feature] = lbe.fit_transform(data[feature]) + 1\n",
        "    feature_max_idx[feature] = data[feature].max() + 1"
      ],
      "metadata": {
        "id": "nXznUx9VEvCH"
      },
      "execution_count": 7,
      "outputs": []
    },
    {
      "cell_type": "code",
      "source": [
        "data.head()"
      ],
      "metadata": {
        "colab": {
          "base_uri": "https://localhost:8080/",
          "height": 206
        },
        "id": "xkxNt_xfE4Zo",
        "outputId": "db023980-146c-4b04-844a-57590e89ca06"
      },
      "execution_count": 8,
      "outputs": [
        {
          "output_type": "execute_result",
          "data": {
            "text/plain": [
              "   user_id  movie_id  rating  timestamp  \\\n",
              "0        1       644       5  978300760   \n",
              "1        1       385       3  978302109   \n",
              "2        1       483       3  978301968   \n",
              "3        1      1881       4  978300275   \n",
              "4        1      1306       5  978824291   \n",
              "\n",
              "                                    title  genres  gender  age  occupation  \\\n",
              "0  One Flew Over the Cuckoo's Nest (1975)       8       1    1           9   \n",
              "1        James and the Giant Peach (1996)       3       1    1           9   \n",
              "2                     My Fair Lady (1964)      12       1    1           9   \n",
              "3                  Erin Brockovich (2000)       8       1    1           9   \n",
              "4                    Bug's Life, A (1998)       3       1    1           9   \n",
              "\n",
              "   zip  \n",
              "0   18  \n",
              "1   18  \n",
              "2   18  \n",
              "3   18  \n",
              "4   18  "
            ],
            "text/html": [
              "\n",
              "  <div id=\"df-5964fe98-9612-4a21-8b36-2e2601ffc41c\">\n",
              "    <div class=\"colab-df-container\">\n",
              "      <div>\n",
              "<style scoped>\n",
              "    .dataframe tbody tr th:only-of-type {\n",
              "        vertical-align: middle;\n",
              "    }\n",
              "\n",
              "    .dataframe tbody tr th {\n",
              "        vertical-align: top;\n",
              "    }\n",
              "\n",
              "    .dataframe thead th {\n",
              "        text-align: right;\n",
              "    }\n",
              "</style>\n",
              "<table border=\"1\" class=\"dataframe\">\n",
              "  <thead>\n",
              "    <tr style=\"text-align: right;\">\n",
              "      <th></th>\n",
              "      <th>user_id</th>\n",
              "      <th>movie_id</th>\n",
              "      <th>rating</th>\n",
              "      <th>timestamp</th>\n",
              "      <th>title</th>\n",
              "      <th>genres</th>\n",
              "      <th>gender</th>\n",
              "      <th>age</th>\n",
              "      <th>occupation</th>\n",
              "      <th>zip</th>\n",
              "    </tr>\n",
              "  </thead>\n",
              "  <tbody>\n",
              "    <tr>\n",
              "      <th>0</th>\n",
              "      <td>1</td>\n",
              "      <td>644</td>\n",
              "      <td>5</td>\n",
              "      <td>978300760</td>\n",
              "      <td>One Flew Over the Cuckoo's Nest (1975)</td>\n",
              "      <td>8</td>\n",
              "      <td>1</td>\n",
              "      <td>1</td>\n",
              "      <td>9</td>\n",
              "      <td>18</td>\n",
              "    </tr>\n",
              "    <tr>\n",
              "      <th>1</th>\n",
              "      <td>1</td>\n",
              "      <td>385</td>\n",
              "      <td>3</td>\n",
              "      <td>978302109</td>\n",
              "      <td>James and the Giant Peach (1996)</td>\n",
              "      <td>3</td>\n",
              "      <td>1</td>\n",
              "      <td>1</td>\n",
              "      <td>9</td>\n",
              "      <td>18</td>\n",
              "    </tr>\n",
              "    <tr>\n",
              "      <th>2</th>\n",
              "      <td>1</td>\n",
              "      <td>483</td>\n",
              "      <td>3</td>\n",
              "      <td>978301968</td>\n",
              "      <td>My Fair Lady (1964)</td>\n",
              "      <td>12</td>\n",
              "      <td>1</td>\n",
              "      <td>1</td>\n",
              "      <td>9</td>\n",
              "      <td>18</td>\n",
              "    </tr>\n",
              "    <tr>\n",
              "      <th>3</th>\n",
              "      <td>1</td>\n",
              "      <td>1881</td>\n",
              "      <td>4</td>\n",
              "      <td>978300275</td>\n",
              "      <td>Erin Brockovich (2000)</td>\n",
              "      <td>8</td>\n",
              "      <td>1</td>\n",
              "      <td>1</td>\n",
              "      <td>9</td>\n",
              "      <td>18</td>\n",
              "    </tr>\n",
              "    <tr>\n",
              "      <th>4</th>\n",
              "      <td>1</td>\n",
              "      <td>1306</td>\n",
              "      <td>5</td>\n",
              "      <td>978824291</td>\n",
              "      <td>Bug's Life, A (1998)</td>\n",
              "      <td>3</td>\n",
              "      <td>1</td>\n",
              "      <td>1</td>\n",
              "      <td>9</td>\n",
              "      <td>18</td>\n",
              "    </tr>\n",
              "  </tbody>\n",
              "</table>\n",
              "</div>\n",
              "      <button class=\"colab-df-convert\" onclick=\"convertToInteractive('df-5964fe98-9612-4a21-8b36-2e2601ffc41c')\"\n",
              "              title=\"Convert this dataframe to an interactive table.\"\n",
              "              style=\"display:none;\">\n",
              "        \n",
              "  <svg xmlns=\"http://www.w3.org/2000/svg\" height=\"24px\"viewBox=\"0 0 24 24\"\n",
              "       width=\"24px\">\n",
              "    <path d=\"M0 0h24v24H0V0z\" fill=\"none\"/>\n",
              "    <path d=\"M18.56 5.44l.94 2.06.94-2.06 2.06-.94-2.06-.94-.94-2.06-.94 2.06-2.06.94zm-11 1L8.5 8.5l.94-2.06 2.06-.94-2.06-.94L8.5 2.5l-.94 2.06-2.06.94zm10 10l.94 2.06.94-2.06 2.06-.94-2.06-.94-.94-2.06-.94 2.06-2.06.94z\"/><path d=\"M17.41 7.96l-1.37-1.37c-.4-.4-.92-.59-1.43-.59-.52 0-1.04.2-1.43.59L10.3 9.45l-7.72 7.72c-.78.78-.78 2.05 0 2.83L4 21.41c.39.39.9.59 1.41.59.51 0 1.02-.2 1.41-.59l7.78-7.78 2.81-2.81c.8-.78.8-2.07 0-2.86zM5.41 20L4 18.59l7.72-7.72 1.47 1.35L5.41 20z\"/>\n",
              "  </svg>\n",
              "      </button>\n",
              "      \n",
              "  <style>\n",
              "    .colab-df-container {\n",
              "      display:flex;\n",
              "      flex-wrap:wrap;\n",
              "      gap: 12px;\n",
              "    }\n",
              "\n",
              "    .colab-df-convert {\n",
              "      background-color: #E8F0FE;\n",
              "      border: none;\n",
              "      border-radius: 50%;\n",
              "      cursor: pointer;\n",
              "      display: none;\n",
              "      fill: #1967D2;\n",
              "      height: 32px;\n",
              "      padding: 0 0 0 0;\n",
              "      width: 32px;\n",
              "    }\n",
              "\n",
              "    .colab-df-convert:hover {\n",
              "      background-color: #E2EBFA;\n",
              "      box-shadow: 0px 1px 2px rgba(60, 64, 67, 0.3), 0px 1px 3px 1px rgba(60, 64, 67, 0.15);\n",
              "      fill: #174EA6;\n",
              "    }\n",
              "\n",
              "    [theme=dark] .colab-df-convert {\n",
              "      background-color: #3B4455;\n",
              "      fill: #D2E3FC;\n",
              "    }\n",
              "\n",
              "    [theme=dark] .colab-df-convert:hover {\n",
              "      background-color: #434B5C;\n",
              "      box-shadow: 0px 1px 3px 1px rgba(0, 0, 0, 0.15);\n",
              "      filter: drop-shadow(0px 1px 2px rgba(0, 0, 0, 0.3));\n",
              "      fill: #FFFFFF;\n",
              "    }\n",
              "  </style>\n",
              "\n",
              "      <script>\n",
              "        const buttonEl =\n",
              "          document.querySelector('#df-5964fe98-9612-4a21-8b36-2e2601ffc41c button.colab-df-convert');\n",
              "        buttonEl.style.display =\n",
              "          google.colab.kernel.accessAllowed ? 'block' : 'none';\n",
              "\n",
              "        async function convertToInteractive(key) {\n",
              "          const element = document.querySelector('#df-5964fe98-9612-4a21-8b36-2e2601ffc41c');\n",
              "          const dataTable =\n",
              "            await google.colab.kernel.invokeFunction('convertToInteractive',\n",
              "                                                     [key], {});\n",
              "          if (!dataTable) return;\n",
              "\n",
              "          const docLinkHtml = 'Like what you see? Visit the ' +\n",
              "            '<a target=\"_blank\" href=https://colab.research.google.com/notebooks/data_table.ipynb>data table notebook</a>'\n",
              "            + ' to learn more about interactive tables.';\n",
              "          element.innerHTML = '';\n",
              "          dataTable['output_type'] = 'display_data';\n",
              "          await google.colab.output.renderOutput(dataTable, element);\n",
              "          const docLink = document.createElement('div');\n",
              "          docLink.innerHTML = docLinkHtml;\n",
              "          element.appendChild(docLink);\n",
              "        }\n",
              "      </script>\n",
              "    </div>\n",
              "  </div>\n",
              "  "
            ]
          },
          "metadata": {},
          "execution_count": 8
        }
      ]
    },
    {
      "cell_type": "code",
      "source": [
        "user_profile = data[[\"user_id\", \"gender\", \"age\", \"occupation\", \"zip\"]].drop_duplicates('user_id')\n",
        "user_profile.set_index(\"user_id\", inplace=True)\n",
        "item_profile = data[[\"movie_id\"]].drop_duplicates('movie_id')"
      ],
      "metadata": {
        "id": "pnCiH0OyFVkw"
      },
      "execution_count": 9,
      "outputs": []
    },
    {
      "cell_type": "code",
      "source": [
        "user_item_list = data.groupby(\"user_id\")['movie_id'].apply(list)"
      ],
      "metadata": {
        "id": "zHk-7-KaFXAU"
      },
      "execution_count": 10,
      "outputs": []
    },
    {
      "cell_type": "code",
      "source": [
        "train_set, test_set = gen_data_set(data, SEQ_LEN, negsample)"
      ],
      "metadata": {
        "colab": {
          "base_uri": "https://localhost:8080/"
        },
        "id": "VoyNUIh4IN5T",
        "outputId": "e549c936-58e2-481a-9f30-bf029447808d"
      },
      "execution_count": 11,
      "outputs": [
        {
          "output_type": "stream",
          "name": "stderr",
          "text": [
            "100%|██████████| 46/46 [00:00<00:00, 966.13it/s]"
          ]
        },
        {
          "output_type": "stream",
          "name": "stdout",
          "text": [
            "8 8\n"
          ]
        },
        {
          "output_type": "stream",
          "name": "stderr",
          "text": [
            "\n"
          ]
        }
      ]
    },
    {
      "cell_type": "code",
      "source": [
        "data.loc[2]"
      ],
      "metadata": {
        "colab": {
          "base_uri": "https://localhost:8080/"
        },
        "id": "Y91gAPJIKvYf",
        "outputId": "cb860f62-b152-4789-948c-5ed8a25b9588"
      },
      "execution_count": 12,
      "outputs": [
        {
          "output_type": "execute_result",
          "data": {
            "text/plain": [
              "user_id                         1\n",
              "movie_id                      483\n",
              "rating                          3\n",
              "timestamp               978301968\n",
              "title         My Fair Lady (1964)\n",
              "genres                         12\n",
              "gender                          1\n",
              "age                             1\n",
              "occupation                      9\n",
              "zip                            18\n",
              "Name: 2, dtype: object"
            ]
          },
          "metadata": {},
          "execution_count": 12
        }
      ]
    },
    {
      "cell_type": "code",
      "source": [
        "print(train_set[0])\n",
        "\n",
        "# reviewerID,  - user id\n",
        "# pos_list[i], - movie id\n",
        "# 1, - constant\n",
        "# hist[::-1][:seq_len], - most recent watched movie id list before watching this movie, up to 50\n",
        "# seq_len,  - 50\n",
        "# genres_hist[::-1][:seq_len], - most recent watched movie's genres list before watching this movie, up to 50\n",
        "# genres_list[i], - this movie's genre\n",
        "# rating_list[i] - this movie's rating"
      ],
      "metadata": {
        "colab": {
          "base_uri": "https://localhost:8080/"
        },
        "id": "D-8D45dpNGLb",
        "outputId": "add89b77-15ff-4998-f639-7d95ccb939db"
      },
      "execution_count": 41,
      "outputs": [
        {
          "output_type": "stream",
          "name": "stdout",
          "text": [
            "(27, 939, 1, [355, 215, 721, 86, 1404, 15, 1342, 1671, 1545, 1069, 565, 325, 679, 1114, 715, 1956, 1076, 71, 1, 276, 1438, 1148, 558, 30, 487, 1735, 1599, 1742, 704, 1255, 1011, 1890, 365, 1285, 174, 1121, 646, 799, 688, 152, 656, 897, 645, 357, 674, 662, 187, 320, 1570, 953], 50, [2, 5, 1, 8, 8, 8, 5, 5, 16, 1, 1, 8, 8, 8, 5, 5, 8, 1, 3, 1, 1, 3, 4, 8, 2, 8, 2, 3, 2, 6, 8, 5, 6, 5, 6, 1, 1, 5, 1, 1, 8, 6, 1, 8, 8, 6, 8, 8, 5, 8], 8, 2)\n"
          ]
        }
      ]
    },
    {
      "cell_type": "code",
      "source": [
        "train_model_input, train_label = gen_model_input(train_set, user_profile, SEQ_LEN)\n",
        "test_model_input, test_label = gen_model_input(test_set, user_profile, SEQ_LEN)\n",
        "train_label.shape, train_model_input['user_id'].shape, test_model_input['user_id'].shape, test_label.shape"
      ],
      "metadata": {
        "colab": {
          "base_uri": "https://localhost:8080/"
        },
        "id": "piWg0bmJP-Ng",
        "outputId": "6c9524b4-b514-4e58-a8f0-b1add3a59962"
      },
      "execution_count": 47,
      "outputs": [
        {
          "output_type": "stream",
          "name": "stderr",
          "text": [
            "/content/preprocess.py:86: VisibleDeprecationWarning: Creating an ndarray from ragged nested sequences (which is a list-or-tuple of lists-or-tuples-or ndarrays with different lengths or shapes) is deprecated. If you meant to do this, you must specify 'dtype=object' when creating the ndarray.\n",
            "  train_seq_genres = np.array([line[5] for line in train_set])\n"
          ]
        },
        {
          "output_type": "execute_result",
          "data": {
            "text/plain": [
              "((9908,), (9908,), (46,), (46,))"
            ]
          },
          "metadata": {},
          "execution_count": 47
        }
      ]
    },
    {
      "cell_type": "code",
      "source": [
        "train_model_input"
      ],
      "metadata": {
        "colab": {
          "base_uri": "https://localhost:8080/"
        },
        "id": "vzrVnrilRXnI",
        "outputId": "1518a056-1fc8-4782-d2fb-170f505b602f"
      },
      "execution_count": 59,
      "outputs": [
        {
          "output_type": "execute_result",
          "data": {
            "text/plain": [
              "{'user_id': array([27,  5, 40, ...,  4, 19, 10]),\n",
              " 'movie_id': array([ 939,  176, 1399, ..., 1545, 1087, 1859]),\n",
              " 'hist_movie_id': array([[ 355,  215,  721, ...,  320, 1570,  953],\n",
              "        [1404,  710,  255, ..., 1931, 1911, 2137],\n",
              "        [ 339, 1812,  306, ..., 1772, 1495, 1591],\n",
              "        ...,\n",
              "        [1449, 1340, 2083, ...,    0,    0,    0],\n",
              "        [ 584,  137, 1619, ...,  939, 1921,  757],\n",
              "        [1662, 2126, 1941, ...,  485,  693,  604]], dtype=int32),\n",
              " 'hist_genres': array([[ 2,  5,  1, ...,  8,  5,  8],\n",
              "        [ 8,  5,  8, ..., 16,  8, 15],\n",
              "        [ 1,  5,  8, ...,  8,  5,  5],\n",
              "        ...,\n",
              "        [ 5,  3,  1, ...,  0,  0,  0],\n",
              "        [ 2,  5,  5, ...,  8,  8, 11],\n",
              "        [16,  1, 16, ...,  5,  8,  4]], dtype=int32),\n",
              " 'hist_len': array([50, 50, 50, ..., 40, 50, 50]),\n",
              " 'genres': array([ 8,  8,  5, ..., 16, 11,  5]),\n",
              " 'gender': array([1, 2, 1, ..., 2, 2, 2]),\n",
              " 'age': array([3, 6, 3, ..., 3, 3, 5]),\n",
              " 'occupation': array([13,  2, 17, ...,  6,  3,  4]),\n",
              " 'zip': array([32, 40, 33, ..., 12, 15, 23])}"
            ]
          },
          "metadata": {},
          "execution_count": 59
        }
      ]
    },
    {
      "cell_type": "markdown",
      "source": [
        "# Aggregate Feature and create Embeddings"
      ],
      "metadata": {
        "id": "BnzfOQ_8nsj2"
      }
    },
    {
      "cell_type": "code",
      "source": [
        "embedding_dim = 32"
      ],
      "metadata": {
        "id": "F1in3qmAnqEv"
      },
      "execution_count": 50,
      "outputs": []
    },
    {
      "cell_type": "code",
      "source": [
        "user_feature_columns = [SparseFeat('user_id', feature_max_idx['user_id'], 16),\n",
        "                        SparseFeat(\"gender\", feature_max_idx['gender'], 16),\n",
        "                        SparseFeat(\"age\", feature_max_idx['age'], 16),\n",
        "                        SparseFeat(\"occupation\", feature_max_idx['occupation'], 16),\n",
        "                        SparseFeat(\"zip\", feature_max_idx['zip'], 16),\n",
        "                        VarLenSparseFeat(SparseFeat('hist_movie_id', feature_max_idx['movie_id'], embedding_dim,\n",
        "                                                    embedding_name=\"movie_id\"), SEQ_LEN, 'mean', 'hist_len'),\n",
        "                        VarLenSparseFeat(SparseFeat('hist_genres', feature_max_idx['genres'], embedding_dim,\n",
        "                                                   embedding_name=\"genres\"), SEQ_LEN, 'mean', 'hist_len'),\n",
        "                        ]"
      ],
      "metadata": {
        "id": "DODu8FEwn4Fi"
      },
      "execution_count": 51,
      "outputs": []
    },
    {
      "cell_type": "code",
      "source": [
        "item_feature_columns = [SparseFeat('movie_id', feature_max_idx['movie_id'], embedding_dim)]\n"
      ],
      "metadata": {
        "id": "dfSb8kUDn4lI"
      },
      "execution_count": 53,
      "outputs": []
    },
    {
      "cell_type": "markdown",
      "source": [
        "# Negative Sampling"
      ],
      "metadata": {
        "id": "kjoMvwDxw9PC"
      }
    },
    {
      "cell_type": "code",
      "source": [
        "from collections import Counter\n",
        "train_counter = Counter(train_model_input['movie_id'])\n",
        "item_count = [train_counter.get(i,0) for i in range(item_feature_columns[0].vocabulary_size)]\n",
        "sampler_config = NegativeSampler('frequency',num_sampled=255,item_name=\"movie_id\",item_count=item_count)"
      ],
      "metadata": {
        "id": "VJvmJ1lfoc7u"
      },
      "execution_count": 67,
      "outputs": []
    },
    {
      "cell_type": "code",
      "source": [
        "sampler_config"
      ],
      "metadata": {
        "colab": {
          "base_uri": "https://localhost:8080/"
        },
        "id": "7mfPGrwRqSqW",
        "outputId": "8dcc499c-ede9-415c-9f8a-ae6b295637df"
      },
      "execution_count": 70,
      "outputs": [
        {
          "output_type": "execute_result",
          "data": {
            "text/plain": [
              "NegativeSampler(sampler='frequency', num_sampled=255, item_name='movie_id', item_count=[0, 20, 8, 3, 1, 3, 7, 3, 1, 9, 9, 1, 2, 1, 6, 13, 2, 4, 1, 10, 3, 8, 10, 1, 2, 6, 2, 17, 19, 2, 11, 8, 2, 1, 1, 6, 15, 8, 17, 2, 1, 1, 4, 1, 3, 1, 4, 1, 1, 4, 1, 1, 3, 1, 3, 2, 2, 4, 1, 3, 1, 2, 2, 2, 5, 1, 3, 3, 6, 2, 3, 22, 17, 3, 1, 1, 1, 1, 1, 1, 1, 8, 5, 1, 1, 1, 9, 4, 7, 1, 1, 2, 2, 2, 5, 4, 6, 7, 4, 6, 3, 3, 2, 5, 5, 4, 1, 1, 1, 4, 3, 1, 5, 1, 4, 3, 2, 4, 6, 3, 2, 2, 1, 1, 1, 4, 1, 1, 4, 17, 6, 2, 3, 7, 3, 2, 1, 12, 4, 2, 1, 2, 2, 5, 5, 1, 4, 1, 1, 3, 1, 2, 30, 4, 1, 11, 7, 1, 1, 3, 3, 1, 1, 2, 2, 3, 2, 2, 9, 1, 3, 1, 4, 8, 25, 2, 8, 4, 3, 1, 1, 1, 1, 1, 2, 11, 4, 31, 5, 1, 2, 1, 1, 5, 7, 3, 3, 1, 1, 9, 1, 4, 2, 1, 4, 4, 6, 2, 2, 10, 3, 1, 1, 8, 2, 19, 12, 1, 2, 1, 20, 1, 12, 11, 5, 1, 7, 1, 1, 2, 16, 4, 13, 2, 2, 3, 1, 1, 1, 2, 1, 6, 3, 2, 2, 1, 2, 1, 1, 4, 1, 1, 2, 1, 3, 2, 1, 4, 3, 5, 4, 2, 1, 5, 7, 6, 1, 4, 1, 1, 3, 2, 1, 9, 1, 1, 20, 1, 2, 2, 1, 2, 3, 6, 1, 8, 2, 27, 1, 2, 2, 1, 2, 4, 2, 5, 1, 7, 2, 1, 8, 2, 1, 4, 1, 4, 12, 1, 1, 2, 1, 6, 1, 3, 1, 2, 2, 2, 2, 2, 28, 4, 4, 3, 1, 2, 2, 5, 8, 15, 1, 6, 1, 2, 1, 1, 13, 4, 6, 8, 1, 1, 5, 2, 2, 1, 3, 1, 1, 3, 4, 6, 10, 13, 20, 16, 17, 29, 17, 16, 7, 10, 3, 1, 1, 27, 1, 6, 3, 1, 2, 2, 1, 6, 1, 1, 1, 1, 1, 1, 3, 17, 1, 3, 9, 8, 3, 1, 1, 1, 4, 2, 5, 1, 1, 1, 1, 1, 1, 3, 7, 1, 1, 1, 1, 5, 3, 2, 14, 2, 10, 5, 7, 1, 5, 4, 16, 2, 1, 3, 1, 4, 10, 18, 1, 1, 10, 1, 5, 1, 8, 1, 1, 1, 1, 6, 1, 4, 1, 1, 3, 1, 2, 2, 1, 6, 1, 1, 5, 1, 1, 3, 2, 4, 2, 2, 22, 2, 6, 1, 1, 1, 2, 4, 1, 1, 1, 8, 10, 5, 6, 14, 14, 14, 6, 4, 1, 11, 5, 9, 2, 20, 12, 10, 5, 8, 2, 27, 22, 1, 6, 15, 24, 10, 2, 7, 2, 9, 4, 4, 4, 6, 1, 1, 5, 3, 3, 2, 3, 1, 4, 4, 5, 5, 2, 10, 7, 7, 1, 1, 2, 2, 1, 5, 6, 14, 4, 2, 1, 1, 4, 2, 1, 1, 1, 5, 2, 2, 1, 2, 1, 3, 3, 1, 3, 5, 3, 2, 3, 1, 6, 1, 2, 10, 1, 1, 3, 4, 14, 12, 4, 5, 6, 4, 16, 14, 3, 3, 2, 2, 1, 3, 3, 3, 1, 2, 1, 4, 6, 10, 2, 3, 1, 1, 18, 8, 4, 14, 8, 6, 2, 2, 11, 2, 6, 9, 13, 14, 4, 7, 4, 15, 6, 5, 26, 3, 2, 9, 11, 8, 1, 1, 2, 8, 4, 3, 15, 7, 2, 3, 16, 2, 7, 1, 2, 1, 2, 5, 3, 8, 3, 1, 9, 1, 8, 1, 5, 7, 1, 6, 2, 3, 2, 2, 38, 31, 19, 27, 11, 17, 10, 1, 8, 8, 4, 14, 17, 16, 1, 28, 3, 7, 20, 20, 9, 1, 4, 4, 16, 11, 18, 10, 3, 6, 21, 3, 4, 9, 17, 11, 8, 14, 11, 1, 4, 1, 17, 1, 12, 3, 8, 6, 14, 21, 5, 9, 9, 4, 13, 9, 6, 5, 5, 15, 22, 1, 5, 4, 7, 1, 25, 12, 10, 5, 9, 21, 8, 7, 9, 10, 11, 5, 11, 2, 4, 2, 17, 8, 7, 9, 5, 7, 10, 1, 4, 21, 4, 10, 15, 5, 7, 5, 5, 8, 7, 6, 8, 5, 17, 1, 1, 20, 2, 1, 10, 6, 1, 5, 3, 9, 3, 1, 9, 7, 10, 3, 2, 7, 1, 1, 2, 1, 14, 9, 13, 2, 1, 1, 3, 4, 14, 8, 8, 8, 15, 11, 10, 10, 6, 3, 9, 1, 2, 14, 1, 1, 7, 1, 12, 17, 4, 10, 1, 2, 3, 6, 12, 3, 7, 1, 5, 1, 2, 2, 1, 1, 3, 3, 1, 1, 4, 1, 2, 5, 1, 2, 2, 3, 2, 1, 3, 9, 2, 3, 1, 3, 1, 1, 6, 2, 3, 1, 2, 9, 1, 1, 5, 1, 9, 2, 1, 1, 17, 2, 2, 6, 1, 2, 2, 1, 8, 2, 11, 6, 2, 4, 1, 7, 6, 12, 21, 1, 19, 4, 5, 1, 3, 3, 4, 1, 5, 1, 9, 0, 1, 3, 1, 1, 9, 1, 16, 3, 1, 1, 4, 3, 3, 22, 5, 4, 2, 1, 1, 11, 2, 2, 5, 9, 13, 11, 5, 4, 5, 2, 2, 2, 12, 2, 1, 2, 2, 2, 9, 1, 2, 9, 12, 9, 6, 5, 11, 1, 1, 1, 2, 3, 2, 6, 3, 6, 2, 3, 4, 1, 16, 5, 1, 2, 2, 1, 16, 5, 1, 3, 1, 6, 1, 1, 10, 1, 3, 3, 1, 6, 11, 1, 2, 2, 1, 1, 3, 1, 1, 1, 4, 6, 8, 1, 3, 17, 2, 1, 5, 1, 2, 1, 6, 3, 5, 1, 3, 1, 2, 3, 1, 2, 5, 1, 3, 2, 3, 3, 1, 2, 1, 4, 2, 1, 1, 1, 1, 7, 9, 1, 5, 5, 3, 9, 1, 3, 1, 5, 2, 1, 1, 1, 1, 6, 11, 4, 3, 1, 3, 3, 9, 4, 3, 7, 15, 3, 2, 2, 2, 1, 2, 1, 4, 2, 1, 3, 2, 1, 2, 3, 3, 1, 1, 2, 1, 4, 11, 5, 10, 2, 4, 4, 3, 13, 9, 14, 8, 10, 7, 7, 9, 9, 16, 10, 1, 1, 3, 1, 8, 17, 4, 1, 1, 7, 2, 2, 1, 1, 1, 3, 11, 14, 14, 12, 9, 10, 5, 9, 9, 5, 7, 15, 11, 3, 2, 5, 1, 2, 11, 6, 14, 12, 1, 8, 2, 1, 1, 29, 1, 4, 4, 1, 3, 2, 2, 6, 2, 1, 2, 14, 1, 8, 3, 1, 12, 4, 1, 9, 1, 5, 1, 2, 7, 1, 10, 1, 14, 10, 2, 5, 5, 6, 3, 5, 3, 2, 6, 6, 7, 4, 1, 13, 2, 1, 12, 2, 2, 6, 7, 2, 3, 3, 3, 17, 7, 5, 5, 1, 1, 1, 1, 7, 2, 3, 1, 4, 3, 5, 4, 4, 7, 3, 7, 12, 5, 1, 7, 10, 8, 4, 3, 2, 7, 1, 2, 3, 1, 2, 8, 13, 1, 1, 2, 5, 2, 1, 18, 6, 2, 4, 4, 5, 1, 7, 1, 11, 15, 1, 3, 1, 4, 1, 5, 1, 1, 2, 2, 1, 6, 7, 1, 10, 1, 4, 3, 1, 4, 2, 1, 1, 1, 14, 1, 1, 4, 5, 11, 4, 1, 2, 7, 4, 2, 14, 6, 1, 2, 8, 5, 7, 4, 1, 9, 5, 7, 2, 1, 4, 2, 15, 2, 15, 1, 2, 5, 2, 5, 2, 2, 9, 3, 1, 2, 2, 1, 2, 4, 1, 4, 1, 8, 8, 19, 1, 1, 5, 1, 3, 3, 1, 1, 11, 3, 1, 10, 2, 2, 1, 1, 1, 2, 3, 2, 4, 3, 2, 2, 1, 2, 8, 2, 3, 2, 6, 2, 7, 6, 12, 24, 6, 4, 2, 4, 3, 2, 10, 17, 15, 5, 4, 4, 4, 2, 6, 6, 1, 5, 1, 7, 4, 3, 8, 9, 6, 1, 2, 1, 2, 1, 4, 1, 1, 1, 1, 1, 7, 3, 11, 3, 3, 4, 1, 2, 1, 7, 6, 4, 3, 10, 3, 2, 1, 3, 1, 6, 1, 3, 6, 1, 4, 6, 7, 2, 2, 1, 3, 3, 1, 1, 1, 2, 7, 6, 13, 3, 3, 3, 6, 1, 3, 3, 8, 2, 1, 4, 2, 2, 2, 2, 2, 5, 3, 2, 1, 24, 5, 1, 4, 3, 9, 4, 1, 1, 1, 1, 3, 13, 5, 5, 1, 1, 2, 4, 2, 5, 11, 6, 17, 2, 2, 1, 2, 2, 19, 9, 6, 2, 6, 2, 2, 2, 6, 2, 1, 1, 13, 3, 2, 8, 1, 7, 1, 1, 3, 1, 4, 1, 1, 3, 3, 1, 13, 5, 5, 3, 1, 13, 1, 3, 1, 2, 9, 8, 5, 3, 11, 4, 2, 12, 11, 2, 1, 21, 11, 5, 2, 3, 4, 10, 4, 2, 8, 1, 2, 6, 3, 2, 2, 7, 1, 1, 3, 11, 5, 1, 2, 3, 1, 2, 4, 7, 25, 8, 2, 6, 1, 2, 1, 3, 1, 2, 1, 3, 3, 1, 17, 6, 1, 5, 7, 1, 21, 1, 1, 4, 1, 14, 2, 2, 2, 3, 1, 2, 3, 2, 2, 5, 1, 1, 1, 2, 3, 6, 3, 1, 4, 7, 31, 3, 2, 1, 6, 2, 4, 1, 9, 9, 1, 4, 1, 0, 4, 1, 1, 1, 9, 1, 1, 2, 2, 12, 3, 12, 18, 4, 17, 5, 1, 3, 1, 2, 1, 5, 1, 1, 1, 2, 2, 2, 1, 1, 0, 2, 5, 4, 3, 5, 3, 16, 9, 9, 5, 4, 3, 4, 2, 14, 1, 1, 1, 5, 8, 1, 4, 2, 1, 3, 1, 1, 12, 5, 19, 6, 5, 6, 8, 1, 21, 5, 1, 4, 6, 8, 2, 2, 1, 2, 4, 4, 6, 6, 1, 5, 1, 2, 4, 12, 3, 1, 2, 7, 1, 8, 1, 1, 1, 1, 4, 3, 1, 3, 5, 2, 1, 4, 5, 8, 5, 12, 2, 1, 2, 9, 5, 5, 3, 4, 2, 2, 1, 2, 1, 10, 3, 5, 3, 6, 7, 3, 2, 6, 10, 7, 14, 2, 3, 3, 2, 17, 1, 1, 2, 1, 3, 1, 2, 3, 1, 3, 10, 5, 3, 5, 3, 3, 9, 4, 9, 2, 2, 8, 3, 2, 4, 18, 9, 1, 1, 3, 1, 2, 3, 2, 2, 3, 2, 4, 2, 6, 3, 2, 2, 7, 2, 3, 1, 3, 1, 1, 2, 1, 3, 4, 8, 5, 1, 4, 5, 4, 7, 7, 3, 8, 10, 3, 2, 4, 10, 5, 1, 4, 4, 5, 2, 6, 6, 3, 4, 3, 3, 1, 1, 2, 1, 0, 3, 5, 1, 2, 3, 1, 1, 5, 2, 1, 4, 1, 4, 2, 1, 3, 1, 2, 11, 2, 1, 2, 2, 6, 1, 1, 8, 2, 13, 11, 10, 2, 3, 1, 1, 1, 1, 11, 1, 4, 1, 2, 1, 1, 7, 8, 8, 2, 1, 1, 4, 2, 12, 2, 3, 2, 1, 1, 1, 15, 2, 13, 2, 2, 7, 1, 2, 2, 2, 7, 1, 1, 6, 2, 1, 3, 13, 5, 4, 3, 1, 1, 1, 4, 3, 1, 1, 1, 3, 8, 4, 1, 22, 1, 1, 8, 3, 5, 7, 3, 9, 3, 4, 7, 4, 2, 4, 13, 2, 2, 1, 6, 3, 5, 2, 2, 5, 1, 4, 1, 2, 3, 1, 1, 1, 4, 3, 13, 13, 1, 2, 3, 5, 4, 1, 1, 1, 5, 7, 2, 3, 3, 2, 3, 11, 1, 1, 5, 2, 3, 1, 2, 1, 3, 19, 1, 1, 1, 1, 6, 1, 2, 2, 1, 2, 2, 1, 1, 1, 1, 8, 1, 1, 4, 3, 2, 3, 3, 1, 1, 11, 5, 1, 5, 5, 1, 7, 7, 7, 2, 2, 4, 1, 2, 3, 1, 1, 1, 6, 14, 1, 1, 1, 5, 3, 1, 1, 2, 1, 6, 4, 8, 3, 4, 1, 3, 1, 5, 6, 12, 4, 5, 8, 10, 9, 4, 4, 3, 2, 1, 2, 2, 6, 5, 2, 1, 2, 1, 1, 3, 2, 6, 1, 8, 3, 2, 1, 4, 8, 1, 1, 1, 15, 5, 9, 1, 13, 3, 2, 5, 1, 1, 1, 4, 1, 1, 1, 1, 2, 5, 2, 1, 2, 1, 6, 1, 15, 1, 6, 4, 1, 1, 8, 3, 2, 1, 1, 1, 1, 3, 2, 2, 3, 3, 2, 1, 2, 3, 1, 3, 2, 1, 1, 1, 1, 1, 1, 3, 8, 1, 11, 5, 5, 1, 2, 3, 1, 2, 1, 2, 2, 2, 8, 2, 4, 8, 1, 3, 4, 2, 2, 1, 1, 2, 5, 2, 3, 3, 2, 1, 3, 1, 1, 10, 3, 1, 3], distortion=1.0)"
            ]
          },
          "metadata": {},
          "execution_count": 70
        }
      ]
    },
    {
      "cell_type": "code",
      "source": [],
      "metadata": {
        "id": "SmJ-yvg30lnS"
      },
      "execution_count": null,
      "outputs": []
    }
  ]
}