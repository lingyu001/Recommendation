{
 "cells": [
  {
   "cell_type": "code",
   "execution_count": 31,
   "metadata": {
    "ExecuteTime": {
     "end_time": "2023-03-13T19:28:57.360508Z",
     "start_time": "2023-03-13T19:28:57.270505Z"
    },
    "pycharm": {
     "is_executing": true
    }
   },
   "outputs": [],
   "source": [
    "%load_ext autoreload\n",
    "%autoreload 2"
   ]
  },
  {
   "cell_type": "code",
   "execution_count": 32,
   "metadata": {
    "ExecuteTime": {
     "end_time": "2023-03-13T19:28:58.453085Z",
     "start_time": "2023-03-13T19:28:58.400062Z"
    },
    "pycharm": {
     "is_executing": true,
     "name": "#%%\n"
    }
   },
   "outputs": [],
   "source": [
    "\n",
    "import numpy as np\n",
    "import pandas as pd\n",
    "import datetime\n",
    "from ast import literal_eval\n",
    "\n",
    "from db_connectors.load import bigquery_reader\n",
    "from db_connectors.postprocessing import bigquery_writer\n",
    "\n",
    "# from notebooks.env import *\n",
    "from notebooks.env_prod import *\n"
   ]
  },
  {
   "cell_type": "code",
   "execution_count": 33,
   "metadata": {
    "ExecuteTime": {
     "end_time": "2023-03-13T19:28:58.848283Z",
     "start_time": "2023-03-13T19:28:58.797485Z"
    }
   },
   "outputs": [
    {
     "data": {
      "text/plain": [
       "('mikvpc-prod-service-com',\n",
       " '/Users/LINGYU1/work/repo/recommender/sa-rec-dataproc-2c-prd.json')"
      ]
     },
     "execution_count": 33,
     "metadata": {},
     "output_type": "execute_result"
    }
   ],
   "source": [
    "bq_project_id, json_key_path"
   ]
  },
  {
   "cell_type": "code",
   "execution_count": 34,
   "metadata": {
    "ExecuteTime": {
     "end_time": "2023-03-13T19:29:00.057824Z",
     "start_time": "2023-03-13T19:28:59.317455Z"
    }
   },
   "outputs": [
    {
     "data": {
      "text/plain": [
       "1326"
      ]
     },
     "execution_count": 34,
     "metadata": {},
     "output_type": "execute_result"
    }
   ],
   "source": [
    "import gc\n",
    "gc.collect()"
   ]
  },
  {
   "cell_type": "markdown",
   "metadata": {},
   "source": [
    "# Data"
   ]
  },
  {
   "cell_type": "code",
   "execution_count": 35,
   "metadata": {
    "ExecuteTime": {
     "end_time": "2023-03-13T19:29:01.910012Z",
     "start_time": "2023-03-13T19:29:01.852303Z"
    }
   },
   "outputs": [],
   "source": [
    "def get_sale_view_data(days, top_user_num):\n",
    "    query = f\"\"\"\n",
    "\n",
    "    -- combine mik_sales with view data\n",
    "    -- just pick top 200 user first\n",
    "    WITH cte1 AS (\n",
    "      SELECT\n",
    "        user_id,\n",
    "        COUNT(trans_date) AS num_trans\n",
    "      FROM `Data_Infra_Eng.mik_sales`\n",
    "      WHERE data_source = \"MIK\"\n",
    "        AND DATE_DIFF(CURRENT_DATE(), trans_date, DAY) < {days}\n",
    "      GROUP BY user_id\n",
    "      ORDER BY num_trans DESC\n",
    "      LIMIT {top_user_num}\n",
    "    ), cte2 AS (\n",
    "\n",
    "      SELECT \n",
    "        t1.user_id, \n",
    "        t1.sku_number, \n",
    "        t1.qty, \n",
    "        t1.trans_date,\n",
    "        t1.created_time,\n",
    "        t1.data_source,\n",
    "        t2.full_taxonomy_path as category_path,\n",
    "        ARRAY_AGG(t1.sku_number) --IFNULL(t2.sku_number, \"na\")\n",
    "          OVER (\n",
    "            PARTITION BY t1.user_id \n",
    "            ORDER BY t1.trans_date, t1.created_time ASC\n",
    "            ROWS BETWEEN UNBOUNDED PRECEDING AND 1 PRECEDING\n",
    "          ) AS sku_purchase_seq,\n",
    "        ARRAY_AGG(IFNULL(t2.full_taxonomy_path, \"na\")) \n",
    "          OVER (\n",
    "            PARTITION BY t1.user_id \n",
    "            ORDER BY t1.trans_date, t1.created_time ASC\n",
    "            ROWS BETWEEN UNBOUNDED PRECEDING AND 1 PRECEDING\n",
    "          ) AS category_path_purchase_seq\n",
    "      FROM `Data_Infra_Eng.mik_sales` t1\n",
    "      LEFT JOIN `Data_Infra_Eng.mik_item` t2\n",
    "        ON t1.sku_number = t2.sku_number\n",
    "      WHERE data_source = \"MIK\"\n",
    "        AND DATE_DIFF(CURRENT_DATE(), trans_date, DAY) < {days} \n",
    "        AND t1.user_id IN (SELECT user_id FROM cte1)\n",
    "      ORDER BY user_id, trans_date, created_time ASC\n",
    "    )\n",
    "    SELECT\n",
    "      *\n",
    "    FROM cte2 t1\n",
    "    LEFT JOIN `Data_Infra_Eng.user_behavior` t2\n",
    "      ON CAST(t1.user_id AS STRING) = t2.user_id\n",
    "    ;\n",
    "    \"\"\"\n",
    "    df = bigquery_reader(\n",
    "            project_id=bq_project_id, json_credentials_path=json_key_path,\n",
    "            query_string=query\n",
    "        )\n",
    "    df = df[df['user_id_1'].notna()].reset_index(drop=True)\n",
    "    df['sku_view_sequence'] = df['user_behavior'].apply(lambda x: np.array([y['item'] for y in x]))\n",
    "    print(f\"\"\"\n",
    "            df shape: {df.shape}, user number: {df['user_id'].nunique()}, \n",
    "            avg trans per user: {df.groupby('user_id').size().mean()}, \n",
    "            item number: {df['sku_number'].nunique()}\n",
    "            \"\"\")\n",
    "    return df"
   ]
  },
  {
   "cell_type": "code",
   "execution_count": 6,
   "metadata": {
    "ExecuteTime": {
     "end_time": "2023-03-10T16:10:09.176615Z",
     "start_time": "2023-03-10T16:10:09.127953Z"
    }
   },
   "outputs": [],
   "source": [
    "days = 35\n",
    "query = f\"\"\"\n",
    "\n",
    "-- combine mik_sales with view data\n",
    "-- just pick top 200 user first\n",
    "WITH cte1 AS (\n",
    "  SELECT\n",
    "    user_id,\n",
    "    COUNT(trans_date) AS num_trans\n",
    "  FROM `Data_Infra_Eng.mik_sales`\n",
    "  WHERE data_source = \"MIK\"\n",
    "    AND DATE_DIFF(CURRENT_DATE(), trans_date, DAY) < {days}\n",
    "  GROUP BY user_id\n",
    "  ORDER BY num_trans DESC\n",
    "  LIMIT 200\n",
    "), cte2 AS (\n",
    "\n",
    "  SELECT \n",
    "    t1.user_id, \n",
    "    t1.sku_number, \n",
    "    t1.qty, \n",
    "    t1.trans_date,\n",
    "    t1.created_time,\n",
    "    t1.data_source,\n",
    "    t2.full_taxonomy_path as category_path,\n",
    "    ARRAY_AGG(t1.sku_number) --IFNULL(t2.sku_number, \"na\")\n",
    "      OVER (\n",
    "        PARTITION BY t1.user_id \n",
    "        ORDER BY t1.trans_date, t1.created_time ASC\n",
    "        ROWS BETWEEN UNBOUNDED PRECEDING AND 1 PRECEDING\n",
    "      ) AS sku_purchase_seq,\n",
    "    ARRAY_AGG(IFNULL(t2.full_taxonomy_path, \"na\")) \n",
    "      OVER (\n",
    "        PARTITION BY t1.user_id \n",
    "        ORDER BY t1.trans_date, t1.created_time ASC\n",
    "        ROWS BETWEEN UNBOUNDED PRECEDING AND 1 PRECEDING\n",
    "      ) AS category_path_purchase_seq\n",
    "  FROM `Data_Infra_Eng.mik_sales` t1\n",
    "  LEFT JOIN `Data_Infra_Eng.mik_item` t2\n",
    "    ON t1.sku_number = t2.sku_number\n",
    "  WHERE data_source = \"MIK\"\n",
    "    AND DATE_DIFF(CURRENT_DATE(), trans_date, DAY) < {days} \n",
    "    AND t1.user_id IN (SELECT user_id FROM cte1)\n",
    "  ORDER BY user_id, trans_date, created_time ASC\n",
    ")\n",
    "SELECT\n",
    "  *\n",
    "FROM cte2 t1\n",
    "LEFT JOIN `Data_Infra_Eng.user_behavior` t2\n",
    "  ON CAST(t1.user_id AS STRING) = t2.user_id\n",
    ";\n",
    "\"\"\""
   ]
  },
  {
   "cell_type": "code",
   "execution_count": null,
   "metadata": {},
   "outputs": [],
   "source": [
    "df = bigquery_reader(\n",
    "        project_id=bq_project_id, json_credentials_path=json_key_path,\n",
    "        query_string=query\n",
    "    )\n",
    "df = df[df['user_id_1'].notna()].reset_index(drop=True)\n",
    "df['sku_view_sequence'] = df['user_behavior'].apply(lambda x: np.array([y['item'] for y in x]))"
   ]
  },
  {
   "cell_type": "code",
   "execution_count": 29,
   "metadata": {
    "ExecuteTime": {
     "end_time": "2023-03-10T20:29:16.513669Z",
     "start_time": "2023-03-10T20:29:16.147268Z"
    }
   },
   "outputs": [
    {
     "data": {
      "text/html": [
       "<div>\n",
       "<style scoped>\n",
       "    .dataframe tbody tr th:only-of-type {\n",
       "        vertical-align: middle;\n",
       "    }\n",
       "\n",
       "    .dataframe tbody tr th {\n",
       "        vertical-align: top;\n",
       "    }\n",
       "\n",
       "    .dataframe thead th {\n",
       "        text-align: right;\n",
       "    }\n",
       "</style>\n",
       "<table border=\"1\" class=\"dataframe\">\n",
       "  <thead>\n",
       "    <tr style=\"text-align: right;\">\n",
       "      <th></th>\n",
       "      <th>user_id</th>\n",
       "      <th>sku_number</th>\n",
       "      <th>qty</th>\n",
       "      <th>trans_date</th>\n",
       "      <th>created_time</th>\n",
       "      <th>data_source</th>\n",
       "      <th>category_path</th>\n",
       "      <th>sku_purchase_seq</th>\n",
       "      <th>category_path_purchase_seq</th>\n",
       "      <th>user_id_1</th>\n",
       "      <th>user_behavior</th>\n",
       "      <th>sku_view_sequence</th>\n",
       "    </tr>\n",
       "  </thead>\n",
       "  <tbody>\n",
       "    <tr>\n",
       "      <th>0</th>\n",
       "      <td>59943339</td>\n",
       "      <td>10363580</td>\n",
       "      <td>1</td>\n",
       "      <td>2023-02-25</td>\n",
       "      <td>2023-02-25 01:59:22.574</td>\n",
       "      <td>MIK</td>\n",
       "      <td>root//Shop Categories//Art Supplies//Paint &amp; P...</td>\n",
       "      <td>[]</td>\n",
       "      <td>[]</td>\n",
       "      <td>59943339</td>\n",
       "      <td>[{'behavior': 'item_view', 'item': '10473166',...</td>\n",
       "      <td>[10473166, MP472538, 10542383, 10065111, 10622...</td>\n",
       "    </tr>\n",
       "    <tr>\n",
       "      <th>1</th>\n",
       "      <td>59943339</td>\n",
       "      <td>10363580</td>\n",
       "      <td>1</td>\n",
       "      <td>2023-02-25</td>\n",
       "      <td>2023-02-25 01:59:22.574</td>\n",
       "      <td>MIK</td>\n",
       "      <td>root//Shop Categories//Art Supplies//Paint &amp; P...</td>\n",
       "      <td>[]</td>\n",
       "      <td>[]</td>\n",
       "      <td>59943339</td>\n",
       "      <td>[{'behavior': 'item_view', 'item': '10552981',...</td>\n",
       "      <td>[10552981, 170232377470697496, D045628S, 10648...</td>\n",
       "    </tr>\n",
       "    <tr>\n",
       "      <th>2</th>\n",
       "      <td>59943339</td>\n",
       "      <td>10363580</td>\n",
       "      <td>1</td>\n",
       "      <td>2023-02-25</td>\n",
       "      <td>2023-02-25 01:59:22.574</td>\n",
       "      <td>MIK</td>\n",
       "      <td>root//Shop Categories//Art Supplies//Paint &amp; P...</td>\n",
       "      <td>[]</td>\n",
       "      <td>[]</td>\n",
       "      <td>59943339</td>\n",
       "      <td>[{'behavior': 'item_view', 'item': '10633516',...</td>\n",
       "      <td>[10633516]</td>\n",
       "    </tr>\n",
       "    <tr>\n",
       "      <th>3</th>\n",
       "      <td>59943339</td>\n",
       "      <td>10363582</td>\n",
       "      <td>1</td>\n",
       "      <td>2023-02-25</td>\n",
       "      <td>2023-02-25 01:59:22.574</td>\n",
       "      <td>MIK</td>\n",
       "      <td>root//Shop Categories//Art Supplies//Paint &amp; P...</td>\n",
       "      <td>[10363580]</td>\n",
       "      <td>[root//Shop Categories//Art Supplies//Paint &amp; ...</td>\n",
       "      <td>59943339</td>\n",
       "      <td>[{'behavior': 'item_view', 'item': '10473166',...</td>\n",
       "      <td>[10473166, MP472538, 10542383, 10065111, 10622...</td>\n",
       "    </tr>\n",
       "    <tr>\n",
       "      <th>4</th>\n",
       "      <td>59943339</td>\n",
       "      <td>10363582</td>\n",
       "      <td>1</td>\n",
       "      <td>2023-02-25</td>\n",
       "      <td>2023-02-25 01:59:22.574</td>\n",
       "      <td>MIK</td>\n",
       "      <td>root//Shop Categories//Art Supplies//Paint &amp; P...</td>\n",
       "      <td>[10363580]</td>\n",
       "      <td>[root//Shop Categories//Art Supplies//Paint &amp; ...</td>\n",
       "      <td>59943339</td>\n",
       "      <td>[{'behavior': 'item_view', 'item': '10552981',...</td>\n",
       "      <td>[10552981, 170232377470697496, D045628S, 10648...</td>\n",
       "    </tr>\n",
       "    <tr>\n",
       "      <th>...</th>\n",
       "      <td>...</td>\n",
       "      <td>...</td>\n",
       "      <td>...</td>\n",
       "      <td>...</td>\n",
       "      <td>...</td>\n",
       "      <td>...</td>\n",
       "      <td>...</td>\n",
       "      <td>...</td>\n",
       "      <td>...</td>\n",
       "      <td>...</td>\n",
       "      <td>...</td>\n",
       "      <td>...</td>\n",
       "    </tr>\n",
       "    <tr>\n",
       "      <th>67619</th>\n",
       "      <td>8070610866200922400</td>\n",
       "      <td>D671240S</td>\n",
       "      <td>1</td>\n",
       "      <td>2023-03-05</td>\n",
       "      <td>2023-03-05 03:34:51.792</td>\n",
       "      <td>MIK</td>\n",
       "      <td>root//Shop Categories//Baking &amp; Kitchen//Bakew...</td>\n",
       "      <td>[10707677, 10707678, 10466356, 10706638, 10671...</td>\n",
       "      <td>[root//Shop Categories//Holidays &amp; Occasions//...</td>\n",
       "      <td>8070610866200922400</td>\n",
       "      <td>[{'behavior': 'item_view', 'item': '1089560036...</td>\n",
       "      <td>[108956003695296517, D534830S, 158620787052920...</td>\n",
       "    </tr>\n",
       "    <tr>\n",
       "      <th>67620</th>\n",
       "      <td>8070610866200922400</td>\n",
       "      <td>D671240S</td>\n",
       "      <td>1</td>\n",
       "      <td>2023-03-05</td>\n",
       "      <td>2023-03-05 03:34:51.792</td>\n",
       "      <td>MIK</td>\n",
       "      <td>root//Shop Categories//Baking &amp; Kitchen//Bakew...</td>\n",
       "      <td>[10707677, 10707678, 10466356, 10706638, 10671...</td>\n",
       "      <td>[root//Shop Categories//Holidays &amp; Occasions//...</td>\n",
       "      <td>8070610866200922400</td>\n",
       "      <td>[{'behavior': 'item_view', 'item': '10707973',...</td>\n",
       "      <td>[10707973, 10707688, 10707677, 10706778, 10360...</td>\n",
       "    </tr>\n",
       "    <tr>\n",
       "      <th>67621</th>\n",
       "      <td>8070610866200922400</td>\n",
       "      <td>D671240S</td>\n",
       "      <td>1</td>\n",
       "      <td>2023-03-05</td>\n",
       "      <td>2023-03-05 03:34:51.792</td>\n",
       "      <td>MIK</td>\n",
       "      <td>root//Shop Categories//Baking &amp; Kitchen//Bakew...</td>\n",
       "      <td>[10707677, 10707678, 10466356, 10706638, 10671...</td>\n",
       "      <td>[root//Shop Categories//Holidays &amp; Occasions//...</td>\n",
       "      <td>8070610866200922400</td>\n",
       "      <td>[{'behavior': 'item_view', 'item': '10706430',...</td>\n",
       "      <td>[10706430, D611263S, 10706638, 10627361]</td>\n",
       "    </tr>\n",
       "    <tr>\n",
       "      <th>67622</th>\n",
       "      <td>8070610866200922400</td>\n",
       "      <td>D671240S</td>\n",
       "      <td>1</td>\n",
       "      <td>2023-03-05</td>\n",
       "      <td>2023-03-05 03:34:51.792</td>\n",
       "      <td>MIK</td>\n",
       "      <td>root//Shop Categories//Baking &amp; Kitchen//Bakew...</td>\n",
       "      <td>[10707677, 10707678, 10466356, 10706638, 10671...</td>\n",
       "      <td>[root//Shop Categories//Holidays &amp; Occasions//...</td>\n",
       "      <td>8070610866200922400</td>\n",
       "      <td>[{'behavior': 'item_view', 'item': 'D651817S',...</td>\n",
       "      <td>[D651817S, 171186061250314253, D651573S, D5113...</td>\n",
       "    </tr>\n",
       "    <tr>\n",
       "      <th>67623</th>\n",
       "      <td>8070610866200922400</td>\n",
       "      <td>D671240S</td>\n",
       "      <td>1</td>\n",
       "      <td>2023-03-05</td>\n",
       "      <td>2023-03-05 03:34:51.792</td>\n",
       "      <td>MIK</td>\n",
       "      <td>root//Shop Categories//Baking &amp; Kitchen//Bakew...</td>\n",
       "      <td>[10707677, 10707678, 10466356, 10706638, 10671...</td>\n",
       "      <td>[root//Shop Categories//Holidays &amp; Occasions//...</td>\n",
       "      <td>8070610866200922400</td>\n",
       "      <td>[{'behavior': 'item_view', 'item': 'D671240S',...</td>\n",
       "      <td>[D671240S, D651447S, D671322S, D590178S, D3088...</td>\n",
       "    </tr>\n",
       "  </tbody>\n",
       "</table>\n",
       "<p>67624 rows × 12 columns</p>\n",
       "</div>"
      ],
      "text/plain": [
       "                   user_id sku_number  qty trans_date            created_time  \\\n",
       "0                 59943339   10363580    1 2023-02-25 2023-02-25 01:59:22.574   \n",
       "1                 59943339   10363580    1 2023-02-25 2023-02-25 01:59:22.574   \n",
       "2                 59943339   10363580    1 2023-02-25 2023-02-25 01:59:22.574   \n",
       "3                 59943339   10363582    1 2023-02-25 2023-02-25 01:59:22.574   \n",
       "4                 59943339   10363582    1 2023-02-25 2023-02-25 01:59:22.574   \n",
       "...                    ...        ...  ...        ...                     ...   \n",
       "67619  8070610866200922400   D671240S    1 2023-03-05 2023-03-05 03:34:51.792   \n",
       "67620  8070610866200922400   D671240S    1 2023-03-05 2023-03-05 03:34:51.792   \n",
       "67621  8070610866200922400   D671240S    1 2023-03-05 2023-03-05 03:34:51.792   \n",
       "67622  8070610866200922400   D671240S    1 2023-03-05 2023-03-05 03:34:51.792   \n",
       "67623  8070610866200922400   D671240S    1 2023-03-05 2023-03-05 03:34:51.792   \n",
       "\n",
       "      data_source                                      category_path  \\\n",
       "0             MIK  root//Shop Categories//Art Supplies//Paint & P...   \n",
       "1             MIK  root//Shop Categories//Art Supplies//Paint & P...   \n",
       "2             MIK  root//Shop Categories//Art Supplies//Paint & P...   \n",
       "3             MIK  root//Shop Categories//Art Supplies//Paint & P...   \n",
       "4             MIK  root//Shop Categories//Art Supplies//Paint & P...   \n",
       "...           ...                                                ...   \n",
       "67619         MIK  root//Shop Categories//Baking & Kitchen//Bakew...   \n",
       "67620         MIK  root//Shop Categories//Baking & Kitchen//Bakew...   \n",
       "67621         MIK  root//Shop Categories//Baking & Kitchen//Bakew...   \n",
       "67622         MIK  root//Shop Categories//Baking & Kitchen//Bakew...   \n",
       "67623         MIK  root//Shop Categories//Baking & Kitchen//Bakew...   \n",
       "\n",
       "                                        sku_purchase_seq  \\\n",
       "0                                                     []   \n",
       "1                                                     []   \n",
       "2                                                     []   \n",
       "3                                             [10363580]   \n",
       "4                                             [10363580]   \n",
       "...                                                  ...   \n",
       "67619  [10707677, 10707678, 10466356, 10706638, 10671...   \n",
       "67620  [10707677, 10707678, 10466356, 10706638, 10671...   \n",
       "67621  [10707677, 10707678, 10466356, 10706638, 10671...   \n",
       "67622  [10707677, 10707678, 10466356, 10706638, 10671...   \n",
       "67623  [10707677, 10707678, 10466356, 10706638, 10671...   \n",
       "\n",
       "                              category_path_purchase_seq            user_id_1  \\\n",
       "0                                                     []             59943339   \n",
       "1                                                     []             59943339   \n",
       "2                                                     []             59943339   \n",
       "3      [root//Shop Categories//Art Supplies//Paint & ...             59943339   \n",
       "4      [root//Shop Categories//Art Supplies//Paint & ...             59943339   \n",
       "...                                                  ...                  ...   \n",
       "67619  [root//Shop Categories//Holidays & Occasions//...  8070610866200922400   \n",
       "67620  [root//Shop Categories//Holidays & Occasions//...  8070610866200922400   \n",
       "67621  [root//Shop Categories//Holidays & Occasions//...  8070610866200922400   \n",
       "67622  [root//Shop Categories//Holidays & Occasions//...  8070610866200922400   \n",
       "67623  [root//Shop Categories//Holidays & Occasions//...  8070610866200922400   \n",
       "\n",
       "                                           user_behavior  \\\n",
       "0      [{'behavior': 'item_view', 'item': '10473166',...   \n",
       "1      [{'behavior': 'item_view', 'item': '10552981',...   \n",
       "2      [{'behavior': 'item_view', 'item': '10633516',...   \n",
       "3      [{'behavior': 'item_view', 'item': '10473166',...   \n",
       "4      [{'behavior': 'item_view', 'item': '10552981',...   \n",
       "...                                                  ...   \n",
       "67619  [{'behavior': 'item_view', 'item': '1089560036...   \n",
       "67620  [{'behavior': 'item_view', 'item': '10707973',...   \n",
       "67621  [{'behavior': 'item_view', 'item': '10706430',...   \n",
       "67622  [{'behavior': 'item_view', 'item': 'D651817S',...   \n",
       "67623  [{'behavior': 'item_view', 'item': 'D671240S',...   \n",
       "\n",
       "                                       sku_view_sequence  \n",
       "0      [10473166, MP472538, 10542383, 10065111, 10622...  \n",
       "1      [10552981, 170232377470697496, D045628S, 10648...  \n",
       "2                                             [10633516]  \n",
       "3      [10473166, MP472538, 10542383, 10065111, 10622...  \n",
       "4      [10552981, 170232377470697496, D045628S, 10648...  \n",
       "...                                                  ...  \n",
       "67619  [108956003695296517, D534830S, 158620787052920...  \n",
       "67620  [10707973, 10707688, 10707677, 10706778, 10360...  \n",
       "67621           [10706430, D611263S, 10706638, 10627361]  \n",
       "67622  [D651817S, 171186061250314253, D651573S, D5113...  \n",
       "67623  [D671240S, D651447S, D671322S, D590178S, D3088...  \n",
       "\n",
       "[67624 rows x 12 columns]"
      ]
     },
     "execution_count": 29,
     "metadata": {},
     "output_type": "execute_result"
    }
   ],
   "source": [
    "df"
   ]
  },
  {
   "cell_type": "code",
   "execution_count": 9,
   "metadata": {
    "ExecuteTime": {
     "end_time": "2023-03-10T16:26:30.808426Z",
     "start_time": "2023-03-10T16:26:17.168053Z"
    }
   },
   "outputs": [],
   "source": [
    "df = get_sale_view_data(35, 200)"
   ]
  },
  {
   "cell_type": "code",
   "execution_count": 10,
   "metadata": {
    "ExecuteTime": {
     "end_time": "2023-03-10T16:26:30.862509Z",
     "start_time": "2023-03-10T16:26:30.809985Z"
    }
   },
   "outputs": [
    {
     "data": {
      "text/plain": [
       "((67624, 12), 179, 377.7877094972067, 8183)"
      ]
     },
     "execution_count": 10,
     "metadata": {},
     "output_type": "execute_result"
    }
   ],
   "source": [
    "df.shape, df['user_id'].nunique(), df.groupby('user_id').size().mean(), df['sku_number'].nunique()"
   ]
  },
  {
   "cell_type": "code",
   "execution_count": 73,
   "metadata": {
    "ExecuteTime": {
     "end_time": "2023-02-27T17:01:39.683541Z",
     "start_time": "2023-02-27T17:01:38.626359Z"
    }
   },
   "outputs": [],
   "source": [
    "import pickle\n",
    "with open(\"/Users/LINGYU1/work/localspace/data/mik_dnn_model_02222023/df_sales_raw_20230310.pickle\", \"wb\") as f: \n",
    "    pickle.dump(df, f) "
   ]
  },
  {
   "cell_type": "code",
   "execution_count": 46,
   "metadata": {
    "ExecuteTime": {
     "end_time": "2023-02-27T16:16:49.426392Z",
     "start_time": "2023-02-27T16:16:36.994724Z"
    }
   },
   "outputs": [],
   "source": [
    "df[['user_id', 'sku_number', 'trans_date', 'created_time',\n",
    "    'category_path', \n",
    "    'sku_purchase_seq', 'category_path_purchase_seq', 'sku_view_sequence']]\\\n",
    "    .to_csv(\"/Users/LINGYU1/work/localspace/data/mik_dnn_model_02222023/mik_sales_views_20230227.csv\", index=False)"
   ]
  },
  {
   "cell_type": "code",
   "execution_count": 7,
   "metadata": {
    "ExecuteTime": {
     "end_time": "2023-02-27T15:30:36.377702Z",
     "start_time": "2023-02-27T15:30:35.497523Z"
    }
   },
   "outputs": [],
   "source": [
    "df_sp = pd.read_csv(\"/Users/LINGYU1/work/localspace/data/model_comparison_10172022/train_set_28_7.csv\")"
   ]
  },
  {
   "cell_type": "code",
   "execution_count": 8,
   "metadata": {
    "ExecuteTime": {
     "end_time": "2023-02-27T15:30:36.442474Z",
     "start_time": "2023-02-27T15:30:36.381355Z"
    }
   },
   "outputs": [
    {
     "data": {
      "text/html": [
       "<div>\n",
       "<style scoped>\n",
       "    .dataframe tbody tr th:only-of-type {\n",
       "        vertical-align: middle;\n",
       "    }\n",
       "\n",
       "    .dataframe tbody tr th {\n",
       "        vertical-align: top;\n",
       "    }\n",
       "\n",
       "    .dataframe thead th {\n",
       "        text-align: right;\n",
       "    }\n",
       "</style>\n",
       "<table border=\"1\" class=\"dataframe\">\n",
       "  <thead>\n",
       "    <tr style=\"text-align: right;\">\n",
       "      <th></th>\n",
       "      <th>Unnamed: 0</th>\n",
       "      <th>user_id</th>\n",
       "      <th>item_id</th>\n",
       "      <th>label</th>\n",
       "      <th>hist_item_id</th>\n",
       "      <th>seq_len</th>\n",
       "      <th>hist_genres</th>\n",
       "      <th>genres</th>\n",
       "    </tr>\n",
       "  </thead>\n",
       "  <tbody>\n",
       "    <tr>\n",
       "      <th>0</th>\n",
       "      <td>0</td>\n",
       "      <td>88165</td>\n",
       "      <td>12388</td>\n",
       "      <td>1</td>\n",
       "      <td>[1716, 1633, 40349, 40317, 40351, 40091, 1634,...</td>\n",
       "      <td>8</td>\n",
       "      <td>[1456, 1471, 1359, 1463, 1359, 1468, 1471, 1359]</td>\n",
       "      <td>1469</td>\n",
       "    </tr>\n",
       "    <tr>\n",
       "      <th>1</th>\n",
       "      <td>1</td>\n",
       "      <td>200652</td>\n",
       "      <td>25138</td>\n",
       "      <td>0</td>\n",
       "      <td>[4050]</td>\n",
       "      <td>1</td>\n",
       "      <td>[295]</td>\n",
       "      <td>891</td>\n",
       "    </tr>\n",
       "    <tr>\n",
       "      <th>2</th>\n",
       "      <td>2</td>\n",
       "      <td>226591</td>\n",
       "      <td>15856</td>\n",
       "      <td>1</td>\n",
       "      <td>[9620]</td>\n",
       "      <td>1</td>\n",
       "      <td>[325]</td>\n",
       "      <td>323</td>\n",
       "    </tr>\n",
       "    <tr>\n",
       "      <th>3</th>\n",
       "      <td>3</td>\n",
       "      <td>156799</td>\n",
       "      <td>3923</td>\n",
       "      <td>1</td>\n",
       "      <td>[3924]</td>\n",
       "      <td>1</td>\n",
       "      <td>[877]</td>\n",
       "      <td>877</td>\n",
       "    </tr>\n",
       "    <tr>\n",
       "      <th>4</th>\n",
       "      <td>4</td>\n",
       "      <td>39784</td>\n",
       "      <td>7190</td>\n",
       "      <td>1</td>\n",
       "      <td>[17880, 7662, 22924, 34779, 10925, 22918, 6894...</td>\n",
       "      <td>10</td>\n",
       "      <td>[1398, 1404, 421, 1265, 1444, 421, 1367, 1398,...</td>\n",
       "      <td>1486</td>\n",
       "    </tr>\n",
       "  </tbody>\n",
       "</table>\n",
       "</div>"
      ],
      "text/plain": [
       "   Unnamed: 0  user_id  item_id  label  \\\n",
       "0           0    88165    12388      1   \n",
       "1           1   200652    25138      0   \n",
       "2           2   226591    15856      1   \n",
       "3           3   156799     3923      1   \n",
       "4           4    39784     7190      1   \n",
       "\n",
       "                                        hist_item_id  seq_len  \\\n",
       "0  [1716, 1633, 40349, 40317, 40351, 40091, 1634,...        8   \n",
       "1                                             [4050]        1   \n",
       "2                                             [9620]        1   \n",
       "3                                             [3924]        1   \n",
       "4  [17880, 7662, 22924, 34779, 10925, 22918, 6894...       10   \n",
       "\n",
       "                                         hist_genres  genres  \n",
       "0   [1456, 1471, 1359, 1463, 1359, 1468, 1471, 1359]    1469  \n",
       "1                                              [295]     891  \n",
       "2                                              [325]     323  \n",
       "3                                              [877]     877  \n",
       "4  [1398, 1404, 421, 1265, 1444, 421, 1367, 1398,...    1486  "
      ]
     },
     "execution_count": 8,
     "metadata": {},
     "output_type": "execute_result"
    }
   ],
   "source": [
    "df_sp.head()"
   ]
  },
  {
   "cell_type": "markdown",
   "metadata": {},
   "source": [
    "# Negative Sampling"
   ]
  },
  {
   "cell_type": "code",
   "execution_count": 9,
   "metadata": {
    "ExecuteTime": {
     "end_time": "2023-02-27T21:35:17.279479Z",
     "start_time": "2023-02-27T21:35:17.174244Z"
    }
   },
   "outputs": [
    {
     "data": {
      "text/plain": [
       "155"
      ]
     },
     "execution_count": 9,
     "metadata": {},
     "output_type": "execute_result"
    }
   ],
   "source": [
    "import gc\n",
    "gc.collect()"
   ]
  },
  {
   "cell_type": "code",
   "execution_count": 10,
   "metadata": {
    "ExecuteTime": {
     "end_time": "2023-02-27T21:35:17.531622Z",
     "start_time": "2023-02-27T21:35:17.472695Z"
    }
   },
   "outputs": [],
   "source": [
    "candidate_sku = df[['sku_number','category_path']].drop_duplicates()\n",
    "negsample_ratio = 1\n",
    "SEQ_LEN = 50\n",
    "# neg_list = np.random.choice(candidate_set, size=df.shape[0] * negsample_ratio, replace=True)\n"
   ]
  },
  {
   "cell_type": "code",
   "execution_count": 14,
   "metadata": {
    "ExecuteTime": {
     "end_time": "2023-03-10T16:44:32.458549Z",
     "start_time": "2023-03-10T16:44:32.410420Z"
    }
   },
   "outputs": [],
   "source": [
    "def create_negative_sample(data, candidate_item, negsample_ratio):\n",
    "    # get positive sample data\n",
    "    df_pos = data.copy()\n",
    "    df_pos['label'] = 1\n",
    "    \n",
    "    # create negative data\n",
    "    df_neg = pd.concat([df_pos.copy()] * negsample_ratio, ignore_index=True)\n",
    "    df_neg['label'] = 0\n",
    "    # negative sampling\n",
    "    neg_sku = candidate_item[~candidate_item['sku_number'].isin(df_pos['sku_number'])]\\\n",
    "                .sample(df_pos.shape[0] * negsample_ratio)\n",
    "    df_neg['sku_number'] = neg_sku['sku_number'].values\n",
    "    df_neg['category_path'] = neg_sku['category_path'].values\n",
    "    \n",
    "    return pd.concat([df_pos, df_neg], axis=0).reset_index(drop=True)"
   ]
  },
  {
   "cell_type": "code",
   "execution_count": 15,
   "metadata": {
    "ExecuteTime": {
     "end_time": "2023-03-10T16:44:33.220766Z",
     "start_time": "2023-03-10T16:44:33.173571Z"
    }
   },
   "outputs": [],
   "source": [
    "def gen_input_data(df, negsample_ratio, seq_len):\n",
    "    # get candidate items and categories\n",
    "    candidate_sku = df[['sku_number','category_path']].drop_duplicates()\n",
    "    # group by user_id\n",
    "    user_group = df.groupby('user_id')\n",
    "    # negative sampling for each user group\n",
    "    df_res = []\n",
    "    for user_id, data in user_group:\n",
    "        # first refine sequence len to < seq_len\n",
    "        for col in ['sku_purchase_seq','category_path_purchase_seq','sku_view_sequence']:\n",
    "            data[col] =  data[col].apply(lambda x: x[0:seq_len])\n",
    "#             data[col] = data[col].apply(lambda x: np.lib.pad(x, \n",
    "#                                                              (seq_len - x.shape[0],0), \n",
    "#                                                              'constant', \n",
    "#                                                              constant_values=('na')))        \n",
    "        # create negative sample and combine with positive sample        \n",
    "        df_sp = create_negative_sample(data = data, candidate_item = candidate_sku, negsample_ratio = negsample_ratio)\n",
    "        df_res.append(df_sp)\n",
    "    df_res = pd.concat(df_res).reset_index(drop=True)\n",
    "    df_res['seq_len'] = seq_len\n",
    "    return df_res[[\n",
    "        'user_id', 'sku_number','category_path', 'trans_date', 'created_time',\n",
    "        'sku_purchase_seq','category_path_purchase_seq','sku_view_sequence', 'seq_len',\n",
    "        'label'\n",
    "    ]]"
   ]
  },
  {
   "cell_type": "code",
   "execution_count": 21,
   "metadata": {
    "ExecuteTime": {
     "end_time": "2023-03-10T16:51:51.247302Z",
     "start_time": "2023-03-10T16:51:51.197965Z"
    }
   },
   "outputs": [
    {
     "data": {
      "text/plain": [
       "(135248, 10)"
      ]
     },
     "execution_count": 21,
     "metadata": {},
     "output_type": "execute_result"
    }
   ],
   "source": [
    "df_input = gen_input_data(df, 1, 50)\n",
    "df_input.shape"
   ]
  },
  {
   "cell_type": "code",
   "execution_count": 17,
   "metadata": {
    "ExecuteTime": {
     "end_time": "2023-03-10T16:44:54.825322Z",
     "start_time": "2023-03-10T16:44:54.776389Z"
    }
   },
   "outputs": [],
   "source": [
    "import multiprocessing as mp\n",
    "\n",
    "def process_chunk(chunk, candidate_sku, negsample_ratio, seq_len):\n",
    "    # group by user_id\n",
    "    user_group = chunk.groupby('user_id')\n",
    "    # negative sampling for each user group\n",
    "    df_res = []\n",
    "    for user_id, data in user_group:\n",
    "        # first refine sequence len to < seq_len\n",
    "        for col in ['sku_purchase_seq','category_path_purchase_seq','sku_view_sequence']:\n",
    "            data[col] =  data[col].apply(lambda x: x[0:seq_len])\n",
    "        # create negative sample and combine with positive sample        \n",
    "        df_sp = create_negative_sample(data = data, candidate_item = candidate_sku, negsample_ratio = negsample_ratio)\n",
    "        df_res.append(df_sp)\n",
    "    df_res = pd.concat(df_res)\n",
    "    df_res['seq_len'] = seq_len\n",
    "    return df_res\n",
    "\n",
    "def gen_input_data_parallel(df, negsample_ratio, seq_len, num_processes=mp.cpu_count()):\n",
    "    # get candidate items and categories\n",
    "    candidate_sku = df[['sku_number','category_path']].drop_duplicates()\n",
    "    \n",
    "    # split data into chunks\n",
    "    chunks = np.array_split(df, num_processes)\n",
    "    \n",
    "    # create pool of processes\n",
    "    with mp.Pool(processes=num_processes) as pool:\n",
    "        # process each chunk using a separate process\n",
    "        results = [pool.apply_async(process_chunk, args=(chunk, candidate_sku, negsample_ratio, seq_len)) for chunk in chunks]\n",
    "        # collect the results from all processes\n",
    "        df_res = pd.concat([result.get() for result in results]).reset_index(drop=True)\n",
    "    \n",
    "    return df_res[[\n",
    "        'user_id', 'sku_number','category_path', 'trans_date', 'created_time',\n",
    "        'sku_purchase_seq','category_path_purchase_seq','sku_view_sequence', 'seq_len',\n",
    "        'label'\n",
    "    ]]\n"
   ]
  },
  {
   "cell_type": "code",
   "execution_count": null,
   "metadata": {},
   "outputs": [],
   "source": [
    "df_input = gen_input_data_parallel(df, 1, 50)\n",
    "df_input.shape"
   ]
  },
  {
   "cell_type": "code",
   "execution_count": 14,
   "metadata": {
    "ExecuteTime": {
     "end_time": "2023-02-27T21:35:28.967129Z",
     "start_time": "2023-02-27T21:35:28.919008Z"
    }
   },
   "outputs": [],
   "source": [
    "df_input_copy = df_input.copy()"
   ]
  },
  {
   "cell_type": "code",
   "execution_count": 15,
   "metadata": {
    "ExecuteTime": {
     "end_time": "2023-02-27T21:35:29.146077Z",
     "start_time": "2023-02-27T21:35:29.098906Z"
    }
   },
   "outputs": [],
   "source": [
    "df_input = df_input_copy.copy()"
   ]
  },
  {
   "cell_type": "markdown",
   "metadata": {},
   "source": [
    "# label encoding"
   ]
  },
  {
   "cell_type": "code",
   "execution_count": 16,
   "metadata": {
    "ExecuteTime": {
     "end_time": "2023-02-27T21:35:30.784495Z",
     "start_time": "2023-02-27T21:35:30.732751Z"
    }
   },
   "outputs": [
    {
     "data": {
      "text/plain": [
       "Index(['user_id', 'sku_number', 'category_path', 'trans_date', 'created_time',\n",
       "       'sku_purchase_seq', 'category_path_purchase_seq', 'sku_view_sequence',\n",
       "       'seq_len', 'label'],\n",
       "      dtype='object')"
      ]
     },
     "execution_count": 16,
     "metadata": {},
     "output_type": "execute_result"
    }
   ],
   "source": [
    "df_input.columns"
   ]
  },
  {
   "cell_type": "code",
   "execution_count": 24,
   "metadata": {
    "ExecuteTime": {
     "end_time": "2023-03-10T16:53:20.580371Z",
     "start_time": "2023-03-10T16:53:19.829919Z"
    }
   },
   "outputs": [],
   "source": [
    "from sklearn.preprocessing import LabelEncoder"
   ]
  },
  {
   "cell_type": "code",
   "execution_count": 26,
   "metadata": {
    "ExecuteTime": {
     "end_time": "2023-03-10T16:53:24.621170Z",
     "start_time": "2023-03-10T16:53:24.564535Z"
    }
   },
   "outputs": [],
   "source": [
    "def label_transform(lbe, x):\n",
    "    try:\n",
    "        return lbe.transform(x) + 1 # add one to all the encoded categories labels\n",
    "    except:\n",
    "        return np.array([])\n",
    "    \n",
    "def encode_features(df_input):\n",
    "    # store original item id and user id\n",
    "    df_input['sku_number_org'] = df_input['sku_number']\n",
    "    df_input['user_id_org'] = df_input['user_id']\n",
    "    \n",
    "    # specify features and sequence features\n",
    "    sparse_features = ['sku_number', 'category_path',\n",
    "                       'user_id']\n",
    "    seq_sparse_feature = ['sku_purchase_seq','category_path_purchase_seq','sku_view_sequence']\n",
    "    \n",
    "    # get full set of item and category\n",
    "    full_item_set = np.append(\n",
    "        np.unique(\n",
    "            np.concatenate(\n",
    "                (\n",
    "                    df_input['sku_number'].values,  # all sku in sales\n",
    "                    df_input['sku_view_sequence'].explode().values # all sku in views\n",
    "                )\n",
    "            )\n",
    "        )\n",
    "        , 'na')\n",
    "    full_cat_set = np.append(df_input['category_path'].unique(), 'na')\n",
    "    \n",
    "    # fit and transform features\n",
    "    for feature in sparse_features:\n",
    "        # need to store sku encoder\n",
    "        if feature == 'sku_number':\n",
    "            lbe_sku = LabelEncoder()\n",
    "            lbe_sku.fit(full_item_set)\n",
    "            df_input[feature] = lbe_sku.transform(df_input[feature]) + 1 # add one to all the encoded categories labels\n",
    "        # need to store\n",
    "        elif feature == 'category_path':\n",
    "            lbe_cat = LabelEncoder()\n",
    "            lbe_cat.fit(full_cat_set)\n",
    "            df_input[feature] = lbe_cat.transform(df_input[feature]) + 1 # add one to all the encoded categories labels\n",
    "        else:\n",
    "            lbe = LabelEncoder()\n",
    "            df_input[feature] = lbe.fit_transform(df_input[feature]) + 1 # add one to all the encoded categories labels \n",
    "    # trasnform sequence features\n",
    "    for feature in seq_sparse_feature:\n",
    "        if feature == 'sku_purchase_seq' or feature == 'sku_view_sequence':\n",
    "            df_input[feature] = df_input[feature].apply(lambda x: label_transform(lbe_sku, x))\n",
    "\n",
    "        elif feature == 'category_path_purchase_seq':\n",
    "            df_input[feature] = df_input[feature].apply(lambda x: label_transform(lbe_cat, x))\n",
    "    \n",
    "    # get feature index table\n",
    "    feature_max_idx = {}\n",
    "    for feature in sparse_features:\n",
    "        feature_max_idx[feature] = df_input[feature].max() + 1\n",
    "    \n",
    "    return df_input, feature_max_idx"
   ]
  },
  {
   "cell_type": "code",
   "execution_count": 19,
   "metadata": {
    "ExecuteTime": {
     "end_time": "2023-02-27T21:35:35.016823Z",
     "start_time": "2023-02-27T21:35:34.968232Z"
    }
   },
   "outputs": [],
   "source": [
    "df_input['sku_number_org'] = df_input['sku_number']\n",
    "df_input['user_id_org'] = df_input['user_id']"
   ]
  },
  {
   "cell_type": "code",
   "execution_count": 20,
   "metadata": {
    "ExecuteTime": {
     "end_time": "2023-02-27T21:49:05.882228Z",
     "start_time": "2023-02-27T21:35:36.466612Z"
    }
   },
   "outputs": [],
   "source": [
    "df_input, feature_max_idx = encode_features(df_input)"
   ]
  },
  {
   "cell_type": "code",
   "execution_count": 27,
   "metadata": {
    "ExecuteTime": {
     "end_time": "2023-03-10T16:53:26.586732Z",
     "start_time": "2023-03-10T16:53:26.534039Z"
    }
   },
   "outputs": [],
   "source": [
    "import concurrent.futures\n",
    "\n",
    "def encode_features(df_input):\n",
    "    # store original item id and user id\n",
    "    df_input['sku_number_org'] = df_input['sku_number']\n",
    "    df_input['user_id_org'] = df_input['user_id']\n",
    "\n",
    "    # specify features and sequence features\n",
    "    sparse_features = ['sku_number', 'category_path', 'user_id']\n",
    "    seq_sparse_feature = ['sku_purchase_seq','category_path_purchase_seq','sku_view_sequence']\n",
    "\n",
    "    # get full set of item and category\n",
    "    full_item_set = np.append(\n",
    "        np.unique(\n",
    "            np.concatenate(\n",
    "                (\n",
    "                    df_input['sku_number'].values,  # all sku in sales\n",
    "                    df_input['sku_view_sequence'].explode().values # all sku in views\n",
    "                )\n",
    "            )\n",
    "        )\n",
    "        , 'na')\n",
    "    full_cat_set = np.append(df_input['category_path'].unique(), 'na')\n",
    "\n",
    "    # fit and transform features\n",
    "    with concurrent.futures.ThreadPoolExecutor() as executor:\n",
    "        futures = []\n",
    "        encoders = {}\n",
    "        for feature in sparse_features:\n",
    "            # need to store sku encoder\n",
    "            if feature == 'sku_number':\n",
    "                encoders[feature] = LabelEncoder()\n",
    "                encoders[feature].fit(full_item_set)\n",
    "            # need to store\n",
    "            elif feature == 'category_path':\n",
    "                encoders[feature] = LabelEncoder()\n",
    "                encoders[feature].fit(full_cat_set)\n",
    "            else:\n",
    "                encoders[feature] = LabelEncoder()\n",
    "            futures.append(executor.submit(lambda feature: (feature, encoders[feature].fit_transform(df_input[feature]) + 1), feature))\n",
    "        for future in concurrent.futures.as_completed(futures):\n",
    "            feature, transformed = future.result()\n",
    "            df_input[feature] = transformed\n",
    "\n",
    "    # transform sequence features\n",
    "    for feature in seq_sparse_feature:\n",
    "        if feature == 'sku_purchase_seq' or feature == 'sku_view_sequence':\n",
    "            df_input[feature] = df_input[feature].apply(lambda x: label_transform(encoders['sku_number'], x))\n",
    "\n",
    "        elif feature == 'category_path_purchase_seq':\n",
    "            df_input[feature] = df_input[feature].apply(lambda x: label_transform(encoders['category_path'], x))\n",
    "\n",
    "    # get feature index table\n",
    "    feature_max_idx = {}\n",
    "    for feature in sparse_features:\n",
    "        feature_max_idx[feature] = df_input[feature].max() + 1\n",
    "\n",
    "    return df_input, feature_max_idx\n"
   ]
  },
  {
   "cell_type": "code",
   "execution_count": 28,
   "metadata": {
    "ExecuteTime": {
     "end_time": "2023-03-10T17:12:16.405095Z",
     "start_time": "2023-03-10T16:53:28.971162Z"
    }
   },
   "outputs": [
    {
     "data": {
      "text/plain": [
       "(135248, 12)"
      ]
     },
     "execution_count": 28,
     "metadata": {},
     "output_type": "execute_result"
    }
   ],
   "source": [
    "df_input, feature_max_idx = encode_features(df_input)\n",
    "df_input.shape"
   ]
  },
  {
   "cell_type": "code",
   "execution_count": null,
   "metadata": {
    "ExecuteTime": {
     "end_time": "2023-03-10T16:52:17.666432Z",
     "start_time": "2023-03-10T16:52:17.666420Z"
    }
   },
   "outputs": [],
   "source": [
    "feature_max_idx"
   ]
  },
  {
   "cell_type": "code",
   "execution_count": 21,
   "metadata": {
    "ExecuteTime": {
     "end_time": "2023-02-27T21:49:07.390409Z",
     "start_time": "2023-02-27T21:49:05.885834Z"
    }
   },
   "outputs": [],
   "source": [
    "df_input.to_pickle('/Users/LINGYU1/work/localspace/data/mik_dnn_model_02222023/df_input_20230227.sav')\n"
   ]
  },
  {
   "cell_type": "code",
   "execution_count": 73,
   "metadata": {
    "ExecuteTime": {
     "end_time": "2023-02-27T17:01:39.683541Z",
     "start_time": "2023-02-27T17:01:38.626359Z"
    }
   },
   "outputs": [],
   "source": [
    "import pickle\n",
    "with open(\"/Users/LINGYU1/work/localspace/data/mik_dnn_model_02222023/df_input_20230227.pickle\", \"wb\") as f: \n",
    "    pickle.dump(df_input, f) "
   ]
  },
  {
   "cell_type": "code",
   "execution_count": 71,
   "metadata": {
    "ExecuteTime": {
     "end_time": "2023-02-27T17:01:26.411793Z",
     "start_time": "2023-02-27T17:01:25.657478Z"
    }
   },
   "outputs": [],
   "source": [
    "df_input.to_json('/Users/LINGYU1/work/localspace/data/mik_dnn_model_02222023/df_input_20230227.json')"
   ]
  },
  {
   "cell_type": "code",
   "execution_count": 75,
   "metadata": {
    "ExecuteTime": {
     "end_time": "2023-02-27T17:08:10.946239Z",
     "start_time": "2023-02-27T17:08:08.895537Z"
    }
   },
   "outputs": [],
   "source": [
    "full_item_set = np.append(\n",
    "    np.unique(\n",
    "        np.concatenate(\n",
    "            (\n",
    "                df_input['sku_number'].values,  # all sku in sales\n",
    "                df_input['sku_view_sequence'].explode().values # all sku in views\n",
    "            )\n",
    "        )\n",
    "    )\n",
    "    , 'na')"
   ]
  },
  {
   "cell_type": "code",
   "execution_count": 76,
   "metadata": {
    "ExecuteTime": {
     "end_time": "2023-02-27T17:08:19.624033Z",
     "start_time": "2023-02-27T17:08:19.566217Z"
    }
   },
   "outputs": [
    {
     "data": {
      "text/plain": [
       "array([1, 2, 3, ..., 11035, 11036, 'na'], dtype=object)"
      ]
     },
     "execution_count": 76,
     "metadata": {},
     "output_type": "execute_result"
    }
   ],
   "source": [
    "full_item_set"
   ]
  },
  {
   "cell_type": "code",
   "execution_count": 93,
   "metadata": {
    "ExecuteTime": {
     "end_time": "2023-02-27T18:19:06.329436Z",
     "start_time": "2023-02-27T18:19:06.270556Z"
    }
   },
   "outputs": [
    {
     "data": {
      "text/plain": [
       "(5,)"
      ]
     },
     "execution_count": 93,
     "metadata": {},
     "output_type": "execute_result"
    }
   ],
   "source": [
    "a = df['sku_purchase_seq'][15]\n",
    "a.shape"
   ]
  },
  {
   "cell_type": "code",
   "execution_count": 92,
   "metadata": {
    "ExecuteTime": {
     "end_time": "2023-02-27T18:19:02.604890Z",
     "start_time": "2023-02-27T18:19:02.542060Z"
    }
   },
   "outputs": [
    {
     "data": {
      "text/plain": [
       "array(['10358097', '10683360', '10403125', '10196947', '10228172'],\n",
       "      dtype=object)"
      ]
     },
     "execution_count": 92,
     "metadata": {},
     "output_type": "execute_result"
    }
   ],
   "source": [
    "df['sku_purchase_seq'][15]"
   ]
  },
  {
   "cell_type": "code",
   "execution_count": 83,
   "metadata": {
    "ExecuteTime": {
     "end_time": "2023-02-27T18:13:55.777339Z",
     "start_time": "2023-02-27T18:13:55.699401Z"
    }
   },
   "outputs": [
    {
     "ename": "IndexError",
     "evalue": "tuple index out of range",
     "output_type": "error",
     "traceback": [
      "\u001B[0;31m---------------------------------------------------------------------------\u001B[0m",
      "\u001B[0;31mIndexError\u001B[0m                                Traceback (most recent call last)",
      "Input \u001B[0;32mIn [83]\u001B[0m, in \u001B[0;36m<cell line: 1>\u001B[0;34m()\u001B[0m\n\u001B[0;32m----> 1\u001B[0m np\u001B[38;5;241m.\u001B[39mconcatenate([a, np\u001B[38;5;241m.\u001B[39mzeros((\u001B[38;5;241m13\u001B[39m, \u001B[43ma\u001B[49m\u001B[38;5;241;43m.\u001B[39;49m\u001B[43mshape\u001B[49m\u001B[43m[\u001B[49m\u001B[38;5;241;43m1\u001B[39;49m\u001B[43m]\u001B[49m))], axis\u001B[38;5;241m=\u001B[39m\u001B[38;5;241m0\u001B[39m)\n",
      "\u001B[0;31mIndexError\u001B[0m: tuple index out of range"
     ]
    }
   ],
   "source": [
    "np.concatenate([a, np.zeros((13, a.shape[1]))], axis=0)\n"
   ]
  },
  {
   "cell_type": "code",
   "execution_count": 102,
   "metadata": {
    "ExecuteTime": {
     "end_time": "2023-02-27T18:22:19.668599Z",
     "start_time": "2023-02-27T18:22:19.612796Z"
    }
   },
   "outputs": [
    {
     "data": {
      "text/plain": [
       "array(['na', 'na', 'na', 'na', 'na', 'na', 'na', 'na', 'na', 'na', 'na',\n",
       "       'na', 'na', 'na', 'na', 'na', 'na', 'na', 'na', 'na', 'na', 'na',\n",
       "       'na', 'na', 'na', 'na', 'na', 'na', 'na', 'na', 'na', 'na', 'na',\n",
       "       'na', 'na', 'na', 'na', 'na', 'na', 'na', 'na', 'na', 'na', 'na',\n",
       "       'na', '10358097', '10683360', '10403125', '10196947', '10228172'],\n",
       "      dtype=object)"
      ]
     },
     "execution_count": 102,
     "metadata": {},
     "output_type": "execute_result"
    }
   ],
   "source": [
    "np.lib.pad(a, (50 - a.shape[0],0), 'constant', constant_values=('na'))\n"
   ]
  },
  {
   "cell_type": "code",
   "execution_count": 168,
   "metadata": {
    "ExecuteTime": {
     "end_time": "2023-02-24T23:30:09.414245Z",
     "start_time": "2023-02-24T23:30:08.237288Z"
    }
   },
   "outputs": [],
   "source": [
    "full_item_set = np.append(\n",
    "    np.unique(\n",
    "        np.concatenate(\n",
    "            (\n",
    "                df_input['sku_number'].values,  # all sku in sales\n",
    "                df_input['sku_view_sequence'].explode().values # all sku in views\n",
    "            )\n",
    "        )\n",
    "    )\n",
    "    , 'na')\n",
    "full_cat_set = np.append(df_input['category_path'].unique(), 'na')\n",
    "# fit and transform features\n",
    "for feature in sparse_features:\n",
    "    # need to store sku encoder\n",
    "    if feature == 'sku_number':\n",
    "        lbe_sku = LabelEncoder()\n",
    "        lbe_sku.fit(full_item_set)\n",
    "        df_input[feature] = lbe_sku.transform(df_input[feature]) + 1\n",
    "    # need to store\n",
    "    elif feature == 'category_path':\n",
    "        lbe_cat = LabelEncoder()\n",
    "        lbe_cat.fit(full_cat_set)\n",
    "        df_input[feature] = lbe_cat.transform(df_input[feature]) + 1\n",
    "    else:\n",
    "        lbe = LabelEncoder()\n",
    "        df_input[feature] = lbe.fit_transform(df_input[feature]) + 1 # add one to all the encoded categories labels "
   ]
  },
  {
   "cell_type": "code",
   "execution_count": 171,
   "metadata": {
    "ExecuteTime": {
     "end_time": "2023-02-24T23:30:17.175349Z",
     "start_time": "2023-02-24T23:30:17.125168Z"
    }
   },
   "outputs": [],
   "source": [
    "# df_input_copy['category_path_purchase_seq'][0:10].apply(lambda x: label_transform(lbe_cat, x))"
   ]
  },
  {
   "cell_type": "code",
   "execution_count": 172,
   "metadata": {
    "ExecuteTime": {
     "end_time": "2023-02-24T23:30:20.434416Z",
     "start_time": "2023-02-24T23:30:20.381368Z"
    }
   },
   "outputs": [],
   "source": [
    "# df_input[feature].apply(lambda x: lbe_cat.transform(x) + 1)"
   ]
  },
  {
   "cell_type": "code",
   "execution_count": 174,
   "metadata": {
    "ExecuteTime": {
     "end_time": "2023-02-24T23:40:18.396295Z",
     "start_time": "2023-02-24T23:30:56.782832Z"
    }
   },
   "outputs": [],
   "source": [
    "# trasnform sequence features\n",
    "for feature in seq_sparse_feature:\n",
    "    if feature == 'sku_purchase_seq' or feature == 'sku_view_sequence':\n",
    "        df_input[feature] = df_input[feature].apply(lambda x: label_transform(lbe_sku, x))\n",
    "#         df_input[feature] = df_input[feature].apply(lambda x: lbe_sku.transform(x) + 1)\n",
    "\n",
    "    elif feature == 'category_path_purchase_seq':\n",
    "        df_input[feature] = df_input[feature].apply(lambda x: label_transform(lbe_cat, x))\n"
   ]
  },
  {
   "cell_type": "code",
   "execution_count": 177,
   "metadata": {
    "ExecuteTime": {
     "end_time": "2023-02-24T23:41:39.904267Z",
     "start_time": "2023-02-24T23:41:39.852978Z"
    }
   },
   "outputs": [],
   "source": [
    "# get feature index table\n",
    "feature_max_idx = {}\n",
    "for feature in sparse_features:\n",
    "    feature_max_idx[feature] = df_input[feature].max() + 1\n"
   ]
  },
  {
   "cell_type": "code",
   "execution_count": 181,
   "metadata": {
    "ExecuteTime": {
     "end_time": "2023-02-24T23:43:42.734034Z",
     "start_time": "2023-02-24T23:43:30.045246Z"
    }
   },
   "outputs": [],
   "source": [
    "df_input.to_csv(\"/Users/LINGYU1/work/localspace/data/mik_dnn_model_02222023/df_input_20230224.csv\", index=False)"
   ]
  },
  {
   "cell_type": "code",
   "execution_count": null,
   "metadata": {},
   "outputs": [],
   "source": []
  }
 ],
 "metadata": {
  "kernelspec": {
   "display_name": "Python 3 (ipykernel)",
   "language": "python",
   "name": "python3"
  },
  "language_info": {
   "codemirror_mode": {
    "name": "ipython",
    "version": 3
   },
   "file_extension": ".py",
   "mimetype": "text/x-python",
   "name": "python",
   "nbconvert_exporter": "python",
   "pygments_lexer": "ipython3",
   "version": "3.8.13"
  }
 },
 "nbformat": 4,
 "nbformat_minor": 1
}